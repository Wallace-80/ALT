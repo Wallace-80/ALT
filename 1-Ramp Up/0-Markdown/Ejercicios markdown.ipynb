{
 "cells": [
  {
   "cell_type": "markdown",
   "metadata": {},
   "source": [
    "![imagen](./img/ejercicios.png)\n",
    "# Markdown\n",
    "\n",
    "## Ejercicio 1\n",
    "Vamos a aplicar los conocimientos adquiridos en este notebook, intentando reproducir la siguiente imagen en markdown. En el link va la página: https://www.kaggle.com/\n",
    "\n",
    "**TIP**: en [este enlace](https://www.markdownguide.org/basic-syntax/) tienes más ejemplos, por si te atascas con algo :)\n"
   ]
  },
  {
   "cell_type": "markdown",
   "metadata": {},
   "source": [
    "![imagen](./img/md_ejercicio1.png)"
   ]
  },
  {
   "cell_type": "code",
   "execution_count": 5,
   "metadata": {},
   "outputs": [],
   "source": [
    "## Aptitudes de Data Scientist"
   ]
  },
  {
   "cell_type": "markdown",
   "metadata": {},
   "source": [
    "## Aptitudes de Data Scientist\n",
    "***Lo mas importante***\n",
    "\n",
    "- Matemáticas\n",
    "- Programación\n",
    "- SQL  \n",
    "![imagen](./img/python.png)\n",
    "- Python  \n",
    "\n",
    "Otro tema importante es el bussines intelligence  \n",
    "\n",
    "Si tienes dudas, puedes escribirme a: daniel@thebridgeschool.es  \n",
    "\n",
    "en esta página se aprende mucho de machine learning:[página con ML](https://www.kaggle.com/)\n"
   ]
  },
  {
   "cell_type": "code",
   "execution_count": null,
   "metadata": {},
   "outputs": [],
   "source": []
  },
  {
   "cell_type": "markdown",
   "metadata": {},
   "source": [
    "## Ejercicio 2\n",
    "Para este ejercicio vas a crear dos nuevos elementos que no hemos visto en la teoría: una tabla y una fórmula. Busca en la web la sintaxis y replica ambos elementos. Ojo con los espacios en blanco entre la tabla y la fórmula"
   ]
  },
  {
   "cell_type": "markdown",
   "metadata": {},
   "source": [
    "<div style=\"text-align:center\"><img src=\"./img/md_ejercicio2.png\" /></div>"
   ]
  },
  {
   "cell_type": "markdown",
   "metadata": {},
   "source": [
    "| Ramp up | Data Analiysis | MachineLearning | Data & business | \n",
    "| Python | EDA | Supervised | Productivización | \n",
    "| Estadistica | R | Non Supervised | dsfdf | \n",
    "| Contenido 3-1 | Contenido 3-2 | Contenido 3-3 | fdsdf |\n",
    "\n",
    "\n",
    "\n",
    "| Ramp up | Data Analiysis | MachineLearning | Data & business |\n",
    "| :-- | :-- | :-- | :--|\n",
    "| Python | EDA | Supervised | Productivización |\n",
    "| Estadistica | R | Non Supervised | storytelling |\n",
    "| SQL | Feat. Eng. | Deep Learning | API |\n",
    "\n",
    "$$\\sqrt{3x-1}+{(1 + x)}^2$$"
   ]
  },
  {
   "cell_type": "code",
   "execution_count": null,
   "metadata": {},
   "outputs": [],
   "source": []
  }
 ],
 "metadata": {
  "kernelspec": {
   "display_name": "Python 3 (ipykernel)",
   "language": "python",
   "name": "python3"
  },
  "language_info": {
   "codemirror_mode": {
    "name": "ipython",
    "version": 3
   },
   "file_extension": ".py",
   "mimetype": "text/x-python",
   "name": "python",
   "nbconvert_exporter": "python",
   "pygments_lexer": "ipython3",
   "version": "3.7.4"
  }
 },
 "nbformat": 4,
 "nbformat_minor": 4
}
