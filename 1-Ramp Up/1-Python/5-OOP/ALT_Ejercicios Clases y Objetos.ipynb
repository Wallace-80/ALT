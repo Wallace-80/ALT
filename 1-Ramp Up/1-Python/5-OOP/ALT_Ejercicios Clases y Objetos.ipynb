{
 "cells": [
  {
   "cell_type": "markdown",
   "metadata": {},
   "source": [
    "![imagen](./img/ejercicios.png)\n",
    "\n",
    "# Ejercicios Clases y Objetos"
   ]
  },
  {
   "cell_type": "markdown",
   "metadata": {},
   "source": [
    "## Ejercicio 1\n",
    "Somos una empresa que tiene varias tiendas de electrodomesticos. Necesitamos un programa para manejar las tiendas, ver las ventas que han tenido, cuántos empleados hay, etc... Para ello vamos a modelizar la tienda en una clase, que tendrá las siguientes características:\n",
    "* Nombre clase: \"Tienda\"\n",
    "* Atributos comunes:\n",
    "    * Tipo: \"Electrodomésticos\"\n",
    "    * Abierta: True\n",
    "* Atributos propios de cada tienda:\n",
    "    * Nombre - String\n",
    "    * Dirección - String\n",
    "    * Número de empleados - int\n",
    "    * Ventas ultimos 3 meses - Lista de 3 numeros\n",
    "* Método para calcular las ventas de todos los meses, que devuelva un numero con todas las ventas.\n",
    "* Método que calcula la media de ventas de los ultimos meses, por empleado\n",
    "* Método que devuelve en un string el nombre de la tienda, junto con su dirección.\n",
    "* Método que obtiene las ventas del último mes.\n",
    "* Método para dar una proyección de las ventas en caso de haber invertido X dinero en marketing en esa tienda. Siendo X el parámetro de entrada. Si X es menor de 1000, las ventas de los ultimos 3 meses hubiesen sido de (1.2 x ventas), si es mayor o igual de 1000, las ventas hubiesen sido de (1.5 x venta). El método reescribe el atributo de ventas en los últimos 3 meses, y además devuelve las ventas con el aumento.\n",
    "\n",
    "Se pide:\n",
    "1. Implementar la clase \"Tienda\"\n",
    "2. Crear tres tiendas con datos inventados\n",
    "3. Comprueba en al menos una de ellas, todo lo implementado en la clase tienda (sus atributos, media de ventas, ventas/empleado...)\n",
    "3. Calcular las ventas del último mes de todas las tiendas. Para ello usa el bucle `for`\n",
    "4. Imprime por pantalla los nombres de las tiendas cuya dirección lleve el string \"Avenida\"\n",
    "5. Seguro que ya has hecho este apartado... Documenta la clase :)"
   ]
  },
  {
   "cell_type": "code",
   "execution_count": 120,
   "metadata": {},
   "outputs": [],
   "source": [
    "#1 clase tienda\n",
    "class Tienda:\n",
    "    tipo=\"electrodomesticos\"\n",
    "    abierta=True\n",
    "    ventas_total=0\n",
    "\n",
    "    def __init__(self, nombre, direccion, num_empleados,ventas):\n",
    "        self.nombre=str(nombre)\n",
    "        self.direccion=direccion\n",
    "        self.num_empleados=num_empleados\n",
    "        self.ventas=ventas\n",
    "#ventas de todos los meses\n",
    "    def total(self):\n",
    "        sum_ventas=sum(self.ventas)\n",
    "        return sum_ventas\n",
    "#media ventas mes por empleado\n",
    "    def media(self):\n",
    "        sum_ventas=sum(self.ventas)\n",
    "        sum_media=sum_ventas/self.num_empleados\n",
    "        return sum_media\n",
    " #string nombre + dirccion       \n",
    "    def cadena(self):\n",
    "        palabra=self.nombre +\" \" + self.direccion\n",
    "        return palabra    \n",
    "#ventas ultimo mes\n",
    "    def mes(self):\n",
    "        ventas_mes=self.ventas[2]\n",
    "        return ventas_mes   \n",
    "#proyeccion de ventas\n",
    "    def markt(self,x):\n",
    "        mark_update=[]\n",
    "        for i in self.ventas:\n",
    "            if x<1000:\n",
    "                mark_update.append(i*1.2)\n",
    "            else:\n",
    "                mark_update.append(i*1.5)\n",
    "        self.ventas=mark_update\n",
    "        return mark_update"
   ]
  },
  {
   "cell_type": "code",
   "execution_count": 134,
   "metadata": {},
   "outputs": [
    {
     "name": "stdout",
     "output_type": "stream",
     "text": [
      "600\n",
      "1.5\n",
      "makro avenida de Bormujos\n",
      "300\n",
      "[150.0, 300.0, 450.0]\n",
      "1320.0\n",
      "avenida de Bormujos\n"
     ]
    }
   ],
   "source": [
    "#2\n",
    "tienda1=Tienda(\"makro\",\"avenida de Bormujos\",400,[100,200,300])\n",
    "tienda2=Tienda(\"hipercor\",\"calle de tomares\",2500,[250,350,450])\n",
    "tienda3=Tienda(\"mediamark\",\"paseo de nervion\",1200,[220,320,420])\n",
    "\n",
    "#3\n",
    "print(tienda1.total())\n",
    "print(tienda1.media())\n",
    "print(tienda1.cadena())\n",
    "print(tienda1.mes())\n",
    "print(tienda1.markt(1200))\n",
    "\n",
    "#4\n",
    "total_tiendas=[tienda1,tienda2,tienda3]\n",
    "total_ventas=0\n",
    "\n",
    "for i in total_tiendas:\n",
    "    total_ventas=total_ventas + i.mes()\n",
    "\n",
    "print(total_ventas)\n",
    "\n",
    "#5\n",
    "for i in total_tiendas:\n",
    "    if \"avenida\"in i.direccion:\n",
    "        print(i.direccion)"
   ]
  },
  {
   "cell_type": "markdown",
   "metadata": {},
   "source": [
    "## Ejercicio 2\n",
    "En este ejercicio vamos a implementar una clase *Perro* en Python. La clase tiene las siguientes características:\n",
    "* Cosas que sabemos seguro que tiene un perro\n",
    "    * Tiene 4 patas\n",
    "    * 2 orejas\n",
    "    * 2 ojos\n",
    "    * Una velocidad de 0. Por defecto, el perro está parado\n",
    "* Cuando se inicialice:\n",
    "    * El perro será de una determinada raza\n",
    "    * Por defecto tendrá pelo \"Marrón\", a no ser que se diga lo contrario.\n",
    "    * Por defecto no tendrá dueño, a no ser que se diga lo contrario.\n",
    "    \n",
    "* Dispondrá también de un método llamado andar, que tiene un argumento de entrada (aumento_velocidad). Este valor se le sumará a la velocidad que ya llevaba el perro.\n",
    "* Necesita otro método (parar), donde pondremos la velocidad a 0.\n",
    "* Otro método llamado \"ladrar\", que tendrá un argumento de entrada, y la salida será el siguiente string: \"GUAU!\" + el argumento de entrada.\n",
    "\n",
    "\n",
    "Se pide:\n",
    "* Implementa la clase *Perro*\n",
    "* Crea un objeto de tipo *Perro*, sin dueño\n",
    "* Comprueba que están bien todos sus atributos\n",
    "* Prueba que ande, y comprueba su velocidad\n",
    "* Páralo\n",
    "* Documenta la clase *Perro*"
   ]
  },
  {
   "cell_type": "code",
   "execution_count": 173,
   "metadata": {},
   "outputs": [],
   "source": [
    "class Perro:\n",
    "\n",
    "    num_patas = 4\n",
    "    num_orejas = 2\n",
    "    num_ojos = 2\n",
    "    velocidad = 0\n",
    "\n",
    "    def __init__(self, raza, pelo=\"marron\", duenio=None):\n",
    "        self.raza=raza\n",
    "        self.pelo=pelo\n",
    "        self.duenio=duenio\n",
    "\n",
    "    def andar(self, aumento_velocidad):\n",
    "        self.velocidad=self.velocidad + aumento_velocidad\n",
    "        \n",
    "    def parar(self):\n",
    "        self.velocidad=0\n",
    "\n",
    "    def ladrar(self,mensaje):\n",
    "        salida=\" GUAU \" + mensaje \n",
    "        return salida\n",
    "    "
   ]
  },
  {
   "cell_type": "code",
   "execution_count": 174,
   "metadata": {},
   "outputs": [
    {
     "name": "stdout",
     "output_type": "stream",
     "text": [
      "Caniche\n",
      "marron\n",
      "None\n",
      "5\n",
      "0\n"
     ]
    },
    {
     "data": {
      "text/plain": [
       "' GUAU quiero comer'"
      ]
     },
     "execution_count": 174,
     "metadata": {},
     "output_type": "execute_result"
    }
   ],
   "source": [
    "perro1=Perro(\"Caniche\")\n",
    "print(perro1.raza)\n",
    "print(perro1.pelo)\n",
    "print(perro1.duenio)\n",
    "\n",
    "\n",
    "\n",
    "perro1.andar(5)\n",
    "print(perro1.velocidad) # velociada = 5\n",
    "\n",
    "perro1.parar()\n",
    "print(perro1.velocidad)\n",
    "\n",
    "perro1.ladrar(\"quiero comer\")\n"
   ]
  },
  {
   "cell_type": "code",
   "execution_count": null,
   "metadata": {},
   "outputs": [],
   "source": []
  }
 ],
 "metadata": {
  "kernelspec": {
   "display_name": "Python 3.7.4 64-bit",
   "language": "python",
   "name": "python3"
  },
  "language_info": {
   "codemirror_mode": {
    "name": "ipython",
    "version": 3
   },
   "file_extension": ".py",
   "mimetype": "text/x-python",
   "name": "python",
   "nbconvert_exporter": "python",
   "pygments_lexer": "ipython3",
   "version": "3.7.4"
  },
  "vscode": {
   "interpreter": {
    "hash": "0fb254b22584d4dadf5c129f1fcaee00e0477c453ba46ce68957b1edcd5f7b81"
   }
  }
 },
 "nbformat": 4,
 "nbformat_minor": 4
}
