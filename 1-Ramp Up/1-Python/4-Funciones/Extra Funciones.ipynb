{
 "cells": [
  {
   "cell_type": "markdown",
   "metadata": {},
   "source": [
    "# Ejercicio Extra Funciones"
   ]
  },
  {
   "cell_type": "markdown",
   "metadata": {},
   "source": [
    "#### 1. Write a Python function to find the Max of three numbers"
   ]
  },
  {
   "cell_type": "code",
   "execution_count": 1,
   "metadata": {},
   "outputs": [],
   "source": [
    "def max_3n(x, y, z):\n",
    "    if (x >= z) & (x >= y):\n",
    "        return x\n",
    "    elif (y >= z) & (y >= x):\n",
    "        return y\n",
    "    elif (z >= x) & (z >= y):\n",
    "        return z"
   ]
  },
  {
   "cell_type": "code",
   "execution_count": 2,
   "metadata": {},
   "outputs": [
    {
     "name": "stdout",
     "output_type": "stream",
     "text": [
      "El mayor de los 3 números es 6\n"
     ]
    }
   ],
   "source": [
    "a = max_3n(6, 6, 6)\n",
    "\n",
    "print(f\"El mayor de los 3 números es {a}\")"
   ]
  },
  {
   "cell_type": "code",
   "execution_count": 3,
   "metadata": {},
   "outputs": [
    {
     "data": {
      "text/plain": [
       "7"
      ]
     },
     "execution_count": 3,
     "metadata": {},
     "output_type": "execute_result"
    }
   ],
   "source": [
    "def max_2n(x, y):\n",
    "    if x>=y:\n",
    "        return x\n",
    "    else:\n",
    "        return y\n",
    "\n",
    "def max_3n(x, y, z):\n",
    "    m1 = max_2n(x, y)\n",
    "    return max(m1, z)\n",
    "\n",
    "max_3n(7, 3, 1)"
   ]
  },
  {
   "cell_type": "markdown",
   "metadata": {},
   "source": [
    "#### 2. Write a Python function to sum all the numbers in a list"
   ]
  },
  {
   "cell_type": "code",
   "execution_count": 4,
   "metadata": {},
   "outputs": [],
   "source": [
    "def fun_suma(lista):\n",
    "    \n",
    "    suma=0\n",
    "    for i in lista:\n",
    "        suma=suma + i\n",
    "    return suma  "
   ]
  },
  {
   "cell_type": "code",
   "execution_count": 5,
   "metadata": {},
   "outputs": [
    {
     "name": "stdout",
     "output_type": "stream",
     "text": [
      "La suma de los 3 valores es: 6\n"
     ]
    }
   ],
   "source": [
    "lista=[1,2,3]\n",
    "print(\"La suma de los 3 valores es:\",fun_suma(lista))"
   ]
  },
  {
   "cell_type": "markdown",
   "metadata": {},
   "source": [
    "#### 3. Write a Python function to multiply all the numbers in a list."
   ]
  },
  {
   "cell_type": "code",
   "execution_count": 6,
   "metadata": {},
   "outputs": [],
   "source": [
    "def multiplicar(lista):\n",
    "    \n",
    "    pro=1\n",
    "    for i in lista:\n",
    "        pro = pro * i\n",
    "\n",
    "    return pro"
   ]
  },
  {
   "cell_type": "code",
   "execution_count": 7,
   "metadata": {},
   "outputs": [
    {
     "name": "stdout",
     "output_type": "stream",
     "text": [
      "El producto de los 3 valores es: 12\n"
     ]
    }
   ],
   "source": [
    "lista=[2,2,3]\n",
    "print(\"El producto de los 3 valores es:\",multiplicar(lista))"
   ]
  },
  {
   "cell_type": "markdown",
   "metadata": {},
   "source": [
    "#### 4. Write a Python program to reverse a string"
   ]
  },
  {
   "cell_type": "code",
   "execution_count": 8,
   "metadata": {},
   "outputs": [
    {
     "data": {
      "text/plain": [
       "'e'"
      ]
     },
     "execution_count": 8,
     "metadata": {},
     "output_type": "execute_result"
    }
   ],
   "source": [
    "\n",
    "list(range(4,-1,-1))\n",
    "\n",
    "palabra='perro'\n",
    "palabra[1]"
   ]
  },
  {
   "cell_type": "code",
   "execution_count": 9,
   "metadata": {},
   "outputs": [],
   "source": [
    "def reves(palabra):\n",
    "   \n",
    "    reves=''\n",
    "    for i in (range(len(palabra)-1,-1,-1)):\n",
    "        reves = reves + palabra[i]\n",
    "   \n",
    "    return reves"
   ]
  },
  {
   "cell_type": "code",
   "execution_count": 10,
   "metadata": {},
   "outputs": [
    {
     "name": "stdout",
     "output_type": "stream",
     "text": [
      "4321oorep\n"
     ]
    }
   ],
   "source": [
    "print(reves('peroo1234'))"
   ]
  },
  {
   "cell_type": "markdown",
   "metadata": {},
   "source": [
    "#### 5. Write a Python function to calculate the factorial of a number (a non-negative integer). The function accepts the number as an argument"
   ]
  },
  {
   "cell_type": "markdown",
   "metadata": {},
   "source": [
    "#### 6. Write a Python function to check whether a number falls in a given range"
   ]
  },
  {
   "cell_type": "code",
   "execution_count": 20,
   "metadata": {},
   "outputs": [
    {
     "name": "stdout",
     "output_type": "stream",
     "text": [
      "Valor no existente\n",
      "Valor no existente\n",
      "Valor no existente\n",
      "Encontrado!\n"
     ]
    }
   ],
   "source": [
    "rango=range(5)\n",
    "\n",
    "num=3\n",
    "for i in rango:\n",
    "\n",
    "    if(i==num):\n",
    "        print(\"Encontrado!\")    2   \n",
    "        break\n",
    "    else:\n",
    "        print(\"Valor no existente\")\n",
    "    \n"
   ]
  },
  {
   "cell_type": "markdown",
   "metadata": {},
   "source": [
    "#### 7. Write a Python function that accepts a string and calculate the number of upper case letters and lower case letters"
   ]
  },
  {
   "cell_type": "code",
   "execution_count": 22,
   "metadata": {},
   "outputs": [],
   "source": [
    "import numpy as np\n",
    "\n",
    "def funcion7():\n",
    "    palabra='PerroRE'\n",
    "    isupper()\n",
    "    islower()\n",
    "    return"
   ]
  },
  {
   "cell_type": "code",
   "execution_count": null,
   "metadata": {},
   "outputs": [],
   "source": []
  }
 ],
 "metadata": {
  "kernelspec": {
   "display_name": "Python 3.7.4 64-bit",
   "language": "python",
   "name": "python3"
  },
  "language_info": {
   "codemirror_mode": {
    "name": "ipython",
    "version": 3
   },
   "file_extension": ".py",
   "mimetype": "text/x-python",
   "name": "python",
   "nbconvert_exporter": "python",
   "pygments_lexer": "ipython3",
   "version": "3.7.4"
  },
  "orig_nbformat": 4,
  "vscode": {
   "interpreter": {
    "hash": "0fb254b22584d4dadf5c129f1fcaee00e0477c453ba46ce68957b1edcd5f7b81"
   }
  }
 },
 "nbformat": 4,
 "nbformat_minor": 2
}
