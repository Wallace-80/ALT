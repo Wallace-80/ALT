{
 "cells": [
  {
   "cell_type": "markdown",
   "metadata": {},
   "source": [
    "# Examen Ramp-Up Sevilla Septiembre 2022"
   ]
  },
  {
   "cell_type": "markdown",
   "metadata": {},
   "source": [
    "**Aviso**: En todos los ejercicios se valorarán las buenas prácticas de programación como una parte importante de la calificación (comentarios, nombres de variables autoexplicativas)."
   ]
  },
  {
   "cell_type": "markdown",
   "metadata": {},
   "source": [
    "## Ejercicio 1: Tipos de Datos (4 puntos)"
   ]
  },
  {
   "cell_type": "markdown",
   "metadata": {},
   "source": [
    "En este ejercicio se va a crear una lista con los siguientes elementos. \n",
    "\n",
    "**IMPORTANTE**: En todos los casos, hacer print del resultado y del tipo.\n",
    "\n",
    "Primero, crearemos las variables que luego añadiremos a la lista. Las variables son las siguientes:\n",
    "\n",
    "1. Crea una variable llamada `edad` de tipo Integer que represente tu edad en años. \n",
    "2. Crea una variable llamada `nombre` de tipo String con tu nombre y otra `apellidos` con tus apellidos\n",
    "3. Concatena tu nombre seguido de un espacio en blanco y la inicial de tu primer apellido a partir de `nombre` y `apellidos`. Guárdala en `nombre_y_apellidos`.\n",
    "4. Crea una variable llamada `altura` con el valor de tu altura en metros de tipo float.\n",
    "5. Crea una variable llamada `tipo_ord` de tipo Boolean True si usas Windows y False si usas Mac.\n",
    "6. Crea una variable llamada `nada` de tipo None cuyo valor sea None.\n",
    "\n",
    "#### Listas\n",
    "8. Crea una variable llamada `lista_series` de tipo List que contenga las 5 series de TV que más te gusten. Cada elemento ha de ser de tipo String.\n",
    "9.  Añade todos estos elementos en una lista llamada `lista_examen` en el orden de aparición **usando métodos de lista**. \n",
    "10. Crea `lista_examen_mod_edad` idéntica a `lista_examen` pero sustituyendo la edad por la edad + 10.\n",
    "11. Elimina un elemento de `lista_examen_mod_edad` y guárdalo en una variable.\n",
    "\n",
    "#### Diccionarios\n",
    "11. Crea una variable llamada `dict_info` con dos keys y dos values. Una key es `ciudad`, teniendo como value la ciudad en la que vives. Otra key es `portal`, teniendo como value el número de tu calle.\n",
    "12. Muestra las claves, valores e items de `dict_info`\n",
    "13. Elimina un item usando su clave.\n",
    "\n",
    "#### Tuplas\n",
    "13. Crea una variable llamada `tupla_ropa` de tipo Tuple con la marca de la prenda superior, inferior y calzado que llevas puesto.\n",
    "14. Accede a los elementos de `tupla_ropa` y muéstralos por pantalla\n",
    "15. Convierte `tupla_ropa` en una lista `lista_ropa` usando la función necesaria para ello.\n"
   ]
  },
  {
   "cell_type": "code",
   "execution_count": 110,
   "metadata": {},
   "outputs": [
    {
     "name": "stdout",
     "output_type": "stream",
     "text": [
      "alberto L\n",
      "[42, 'alberto', 'Lazaro troncoso', 1.75, True, None]\n",
      "[52, 'Lazaro troncoso', 1.75, True, None]\n",
      "El elemento eliminado es: alberto\n"
     ]
    }
   ],
   "source": [
    "#creacion de variables\n",
    "edad=42\n",
    "nombre=\"alberto\"\n",
    "apellidos=\"Lazaro troncoso\"\n",
    "nombre_y_apellidos=nombre +\" \"+ apellidos[:1]\n",
    "altura=1.75\n",
    "tipo_ord=True\n",
    "nada=None\n",
    "print(nombre_y_apellidos)\n",
    "# lista\n",
    "lista_series = [\"serie1\",\"serie2\",\"serie3\",\"serie4\",\"serie5\"]\n",
    "lista_examen=[]\n",
    "lista_examen.append(edad)\n",
    "lista_examen.append(nombre)\n",
    "lista_examen.append(apellidos)\n",
    "lista_examen.append(altura)\n",
    "lista_examen.append(tipo_ord)\n",
    "lista_examen.append(nada)\n",
    "\n",
    "print(lista_examen)\n",
    "\n",
    "lista_examen_mod_edad=lista_examen\n",
    "sumaedad=lista_examen_mod_edad[0]+10\n",
    "lista_examen_mod_edad[0]=sumaedad\n",
    "#lista_examen_mod_edad[id]=52\n",
    "\n",
    "elem=lista_examen_mod_edad.pop(1)\n",
    "print(lista_examen_mod_edad)\n",
    "print(\"El elemento eliminado es:\",elem)"
   ]
  },
  {
   "cell_type": "code",
   "execution_count": 60,
   "metadata": {},
   "outputs": [
    {
     "name": "stdout",
     "output_type": "stream",
     "text": [
      "ciudad sevilla\n",
      "portal 27\n",
      "{'portal': 27}\n"
     ]
    }
   ],
   "source": [
    "# diccionario\n",
    "dict_info={\"ciudad\":\"sevilla\",\"portal\":27}\n",
    "    \n",
    "\n",
    "for clave, valor in dict_info.items():\n",
    "    print(clave, valor)\n",
    "\n",
    "dict_info.pop(\"ciudad\")\n",
    "print(dict_info)"
   ]
  },
  {
   "cell_type": "code",
   "execution_count": 61,
   "metadata": {},
   "outputs": [
    {
     "name": "stdout",
     "output_type": "stream",
     "text": [
      "Los elementos de la tupla son: ('sup', 'inf', 'calzado')\n",
      "la lista que antes era tupla es: ['sup', 'inf', 'calzado']\n"
     ]
    }
   ],
   "source": [
    "#tupla\n",
    "tupla_ropa=(\"sup\",\"inf\",\"calzado\")\n",
    "print (\"Los elementos de la tupla son:\", tupla_ropa)\n",
    "lista_nueva=list(tupla_ropa)\n",
    "print(\"la lista que antes era tupla es:\",lista_nueva)"
   ]
  },
  {
   "cell_type": "markdown",
   "metadata": {},
   "source": [
    "## Ejercicio 2: Funciones (1.5 puntos)"
   ]
  },
  {
   "cell_type": "markdown",
   "metadata": {},
   "source": [
    "1. Crea una función que, dado un input `x`, devuelva \n",
    "$$\n",
    "y = 4x + 2\n",
    "$$\n",
    "\n",
    "2. Crea una función que, dado un input `x`, devuelva \n",
    "$$\n",
    "y = 3x^2 + 4x + 2\n",
    "$$\n",
    "\n",
    "3. Dado el polinomio\n",
    "\n",
    "$$\n",
    "a_nx^n + a_{n-1}x^{n-1} + ... + a_1x + a_0\n",
    "$$\n",
    "\n",
    "Crea una función que reciba como input `x` y una lista de `[a_0, ..., a_n]` y devuelva el valor del polinomio en `x`.\n",
    "\n",
    "**Nota**: En caso de no poder con una función, hacerlo como se pueda.\n",
    "\n",
    "**Pista**: El primero cumple `n = 1` y los parámetros son `[2, 4]`. El segundo: `n = 2` y los parámetros `[2, 4, 3]`. Con esta información, intenta generalizar."
   ]
  },
  {
   "cell_type": "code",
   "execution_count": 112,
   "metadata": {},
   "outputs": [
    {
     "name": "stdout",
     "output_type": "stream",
     "text": [
      "7\n",
      "47\n"
     ]
    },
    {
     "ename": "IndexError",
     "evalue": "list index out of range",
     "output_type": "error",
     "traceback": [
      "\u001b[1;31m---------------------------------------------------------------------------\u001b[0m",
      "\u001b[1;31mIndexError\u001b[0m                                Traceback (most recent call last)",
      "\u001b[1;32m~\\AppData\\Local\\Temp\\ipykernel_6016\\4143979514.py\u001b[0m in \u001b[0;36m<module>\u001b[1;34m\u001b[0m\n\u001b[0;32m     18\u001b[0m \u001b[0mx\u001b[0m\u001b[1;33m=\u001b[0m\u001b[0mlen\u001b[0m\u001b[1;33m(\u001b[0m\u001b[0mlista_coef\u001b[0m\u001b[1;33m)\u001b[0m\u001b[1;33m-\u001b[0m\u001b[1;36m1\u001b[0m\u001b[1;33m\u001b[0m\u001b[1;33m\u001b[0m\u001b[0m\n\u001b[0;32m     19\u001b[0m \u001b[1;32mfor\u001b[0m \u001b[0mi\u001b[0m \u001b[1;32min\u001b[0m \u001b[0mlista_coef\u001b[0m \u001b[1;33m:\u001b[0m\u001b[1;33m\u001b[0m\u001b[1;33m\u001b[0m\u001b[0m\n\u001b[1;32m---> 20\u001b[1;33m     \u001b[0mpol\u001b[0m\u001b[1;33m=\u001b[0m\u001b[1;33m(\u001b[0m\u001b[0mlista_coef\u001b[0m\u001b[1;33m[\u001b[0m\u001b[0mi\u001b[0m\u001b[1;33m]\u001b[0m\u001b[1;33m*\u001b[0m\u001b[0mx\u001b[0m\u001b[1;33m)\u001b[0m\u001b[1;33m\u001b[0m\u001b[1;33m\u001b[0m\u001b[0m\n\u001b[0m\u001b[0;32m     21\u001b[0m     \u001b[0mfinn\u001b[0m\u001b[1;33m=\u001b[0m\u001b[0mfinn\u001b[0m\u001b[1;33m+\u001b[0m\u001b[0mpol\u001b[0m\u001b[1;33m\u001b[0m\u001b[1;33m\u001b[0m\u001b[0m\n\u001b[0;32m     22\u001b[0m     \u001b[0mx\u001b[0m\u001b[1;33m=\u001b[0m\u001b[0mx\u001b[0m\u001b[1;33m-\u001b[0m\u001b[1;36m1\u001b[0m\u001b[1;33m\u001b[0m\u001b[1;33m\u001b[0m\u001b[0m\n",
      "\u001b[1;31mIndexError\u001b[0m: list index out of range"
     ]
    }
   ],
   "source": [
    "#funcion 1\n",
    "\n",
    "def fun_1(x):\n",
    "    resultado=x+2\n",
    "    return resultado\n",
    "print(fun_1(5))\n",
    "\n",
    "#funcion 2\n",
    "def fun_2(x):\n",
    "    resultado_2=(3**2)+(4*x)+2\n",
    "    return resultado_2\n",
    "print(fun_2(9))\n",
    "\n",
    "#funcion 3\n",
    "#resultado_3=\n",
    "lista_coef=[7,6,1,0]\n",
    "finn=0\n",
    "x=len(lista_coef)-1\n",
    "for i in lista_coef :\n",
    "    pol=(lista_coef[i]*x**)\n",
    "    finn=finn+pol\n",
    "    x=x-1\n",
    "print(finn)\n",
    "\n",
    "#return resultado"
   ]
  },
  {
   "cell_type": "markdown",
   "metadata": {},
   "source": [
    "## Ejercicio 3: Git (1 punto)"
   ]
  },
  {
   "cell_type": "markdown",
   "metadata": {},
   "source": [
    "Di si las siguientes afirmaciones son verdaderas o falsas. En caso de ser falsa, justifica tu respuesta.\n",
    "\n",
    "1. Git es un sistema de control de versiones\n",
    "2. Con `git pull` subimos los cambios al remoto\n",
    "3. En clase usamos `HTTP` como protocolo para comunicarnos con el remoto\n",
    "4. El README contiene la información resumida del proyecto\n",
    "5. Para trackear los ficheros hacemos `git commit`"
   ]
  },
  {
   "cell_type": "code",
   "execution_count": null,
   "metadata": {},
   "outputs": [],
   "source": [
    "#1.- verdadero. Sirve para subir y descargar los diferentes puntos de control de mi codigo que voy actualizando\n",
    "#2.- falso, descargamos los cambios a nuestro equipo en local\n",
    "#3.- falso, eso seria para maquinas que trabajen en windows. usamos el protocolo de linux SSH\n",
    "#4.- contiene las operaciones de actualizacon,etc sobre dicho proyecto. pero no da infiormacion sobre cambios en el mismo codigo\n",
    "#5.- verddero. voy añadiendo a la caja los cambios con git commit antes de hacer git push"
   ]
  },
  {
   "cell_type": "markdown",
   "metadata": {},
   "source": [
    "## Ejercicio 4: Flujos de Control (1.5 puntos)"
   ]
  },
  {
   "cell_type": "markdown",
   "metadata": {},
   "source": [
    "1. Hacer un programa que permita saber si un año es bisiesto. Para que un año sea bisiesto debe ser divisible por 4 y no debe ser divisible por 100, excepto que también sea divisible por 400.\n",
    "2. Hacer un programa que, dado un número, nos diga si es Real o Entero.\n",
    "3. Declara una variable numérica que será una hora cualquiera del día. Implementa mediante sentencias `if/elif/else` la siguiente casuística:\n",
    "   * Si es entre las 0 y las 8, print \"Durmiendo\"\n",
    "   * Si es entre las 9 y las 18, print \"Trabajando\"\n",
    "   * Si es entre las 19 y las 21, print \"Clase\"\n",
    "   * Si es entre las 22 y las 24, print \"Descanso\"\n",
    "   * En cualquier otro caso, print \"Transporte o error\""
   ]
  },
  {
   "cell_type": "code",
   "execution_count": 64,
   "metadata": {},
   "outputs": [
    {
     "name": "stdout",
     "output_type": "stream",
     "text": [
      "El año 2011 no es bisiesto\n"
     ]
    }
   ],
   "source": [
    "anio=int(input(\"Introduzca año:\"))\n",
    "if(anio%4==0 and anio%100!=0)or (anio%4==0 and anio%100!=0 and anio%400==0):\n",
    "    print(f\"El año {anio} es bisiesto\")\n",
    "else:\n",
    "    print(f\"El año {anio} no es bisiesto\")"
   ]
  },
  {
   "cell_type": "code",
   "execution_count": 90,
   "metadata": {},
   "outputs": [
    {
     "name": "stdout",
     "output_type": "stream",
     "text": [
      "El numero es real\n"
     ]
    }
   ],
   "source": [
    "num=2.5\n",
    "tipo=type(num)\n",
    "\n",
    "#bucle de comprobacion del tipo de la variable predefinida\n",
    "if(tipo is float):\n",
    "    print(\"El numero es real\")\n",
    "else:\n",
    "    print(\"El numero es entero\")"
   ]
  },
  {
   "cell_type": "code",
   "execution_count": 91,
   "metadata": {},
   "outputs": [
    {
     "name": "stdout",
     "output_type": "stream",
     "text": [
      "Clase\n"
     ]
    }
   ],
   "source": [
    "hour=int(input(\"Introduzca hora\"))\n",
    "if (hour >= 1)&(hour<=8):\n",
    "    print(\"Durmiendo\")\n",
    "elif (hour>=9)&(hour<=18):\n",
    "    print(\"Trabajando\")\n",
    "elif (hour>=19)&(hour<=21):\n",
    "    print(\"Clase\")\n",
    "elif (hour>=22)&(hour<=24):\n",
    "    print(\"Descanso\")\n",
    "else:\n",
    "    print(\"Transporte o error\")"
   ]
  },
  {
   "cell_type": "markdown",
   "metadata": {},
   "source": [
    "## Ejercicio 5: Calculadora simple (2 Puntos)"
   ]
  },
  {
   "cell_type": "markdown",
   "metadata": {},
   "source": [
    "Construye un programa que:\n",
    "\n",
    "- Salude al usuario por su nombre\n",
    "- Le pregunte si quiere sumar, restar, multiplicar o dividir\n",
    "- Pida que introduzca 2 números de manera sucesiva\n",
    "- Devuelva el resultado de manera formal con un mensaje apropiado \n",
    "\n",
    "**Ayuda**: No se puede dividir por 0"
   ]
  },
  {
   "cell_type": "code",
   "execution_count": 113,
   "metadata": {},
   "outputs": [
    {
     "name": "stdout",
     "output_type": "stream",
     "text": [
      "Buenos dias alberto\n",
      "Elija opcion:\n",
      " 1.- sumar\n",
      " 2.- restar\n",
      " 3.- Multiplicar\n",
      " 4.- Dividir\n",
      "El resultado de sumar 2.0 y 5.0 es: 7.0\n"
     ]
    }
   ],
   "source": [
    "print(\"Buenos dias alberto\")\n",
    "print(\"Elija opcion:\\n 1.- sumar\\n 2.- restar\\n 3.- Multiplicar\\n 4.- Dividir\")\n",
    "opcion=int(input(\"introduzca opcion:\"))\n",
    "num1=float(input(\"introduzca primer numero:\"))\n",
    "num2=float(input(\"introduzca segundo numero:\"))\n",
    "resultado=0\n",
    "if(opcion==1):\n",
    "    resultado=num1+num2\n",
    "    print(f\"El resultado de sumar {num1} y {num2} es:\",resultado)\n",
    "elif(opcion==2):\n",
    "    resultado=num1-num2\n",
    "    print(f\"El resultado de restar {num1} y {num2} es:\",resultado)\n",
    "elif(opcion==3):\n",
    "    resultado=num1*num2\n",
    "    print(\"El resultado de multiplicar {num1} y {num2} es:\",resultado)\n",
    "else:\n",
    "    resultado=num1/num2\n",
    "    print(\"El resultado dividir {num1} y {num2} es:\",resultado)"
   ]
  },
  {
   "cell_type": "markdown",
   "metadata": {},
   "source": [
    "## Ejercicio 6 (Subir Nota): Text Beautifier"
   ]
  },
  {
   "cell_type": "markdown",
   "metadata": {},
   "source": [
    "Dado el string `\"HeyYy cOmo EstAas\"`:\n",
    "\n",
    "    - Pasa todo a minúsculas con el método adecuado de la clase `str`\n",
    "    - Pon las iniciales de cada palabra en mayúscula\n",
    "    - Convierte el string en una lista de palabras\n",
    "    - Elimina las `y`"
   ]
  },
  {
   "cell_type": "code",
   "execution_count": 114,
   "metadata": {},
   "outputs": [
    {
     "name": "stdout",
     "output_type": "stream",
     "text": [
      "heyyy como estaas\n",
      "Heyyy como estaas\n",
      "['HeyYy', 'COmo', 'EstAas']\n",
      "HeY COmo EstAas\n"
     ]
    }
   ],
   "source": [
    "palabra=\"HeyYy COmo EstAas\"\n",
    "\n",
    "#Pasar a minuscula\n",
    "minus=palabra.lower()\n",
    "print(minus)\n",
    "\n",
    "#Pasar iniciales a mayusculas\n",
    "iniciales=palabra.capitalize()\n",
    "print(iniciales)\n",
    "\n",
    "#lista de palabras\n",
    "lista=palabra.split()\n",
    "print(lista)\n",
    "\n",
    "#elimina las y en minuscula\n",
    "\n",
    "letra = \"y\"\n",
    "\n",
    "for x in range(len(letra)):\n",
    "    string = palabra.replace(letra[x],\"\")\n",
    "\n",
    "print(string)"
   ]
  },
  {
   "cell_type": "markdown",
   "metadata": {},
   "source": [
    "## Ejercicio Extra: Calculadora (Python Badge)"
   ]
  },
  {
   "cell_type": "markdown",
   "metadata": {},
   "source": [
    "Construye una calculadora que sea como la anterior pero:\n",
    "\n",
    "- Acepte tantos valores de entrada como queramos\n",
    "- Devuelva mensajes con las cuentas que se van haciendo.\n",
    "- Permita salir con una palabra clave (exit, quit, ...)"
   ]
  },
  {
   "cell_type": "code",
   "execution_count": 2,
   "metadata": {},
   "outputs": [
    {
     "name": "stdout",
     "output_type": "stream",
     "text": [
      "Ha activado la CALCULADORA\n",
      "Bienvenido Alberto\n",
      "Valor: 6.0\n",
      "Operación: /\n",
      "Valor: 7.0\n",
      "====================================================================================================\n",
      "SUBTOTAL: 0.8571428571428571\n",
      "Operación: +\n",
      "Valor: 9.0\n",
      "====================================================================================================\n",
      "SUBTOTAL: 9.857142857142858\n",
      "Operación: -\n",
      "Valor: 6.0\n",
      "====================================================================================================\n",
      "SUBTOTAL: 3.8571428571428577\n",
      "\n",
      "TOTAL: 3.8571428571428577\n",
      "\n",
      "\n",
      "\n",
      "CERRANDO CALCULADORA...\n",
      "Hasta pronto Alberto\n"
     ]
    }
   ],
   "source": []
  }
 ],
 "metadata": {
  "kernelspec": {
   "display_name": "Python 3.7.4 64-bit",
   "language": "python",
   "name": "python3"
  },
  "language_info": {
   "codemirror_mode": {
    "name": "ipython",
    "version": 3
   },
   "file_extension": ".py",
   "mimetype": "text/x-python",
   "name": "python",
   "nbconvert_exporter": "python",
   "pygments_lexer": "ipython3",
   "version": "3.7.4"
  },
  "orig_nbformat": 4,
  "vscode": {
   "interpreter": {
    "hash": "0fb254b22584d4dadf5c129f1fcaee00e0477c453ba46ce68957b1edcd5f7b81"
   }
  }
 },
 "nbformat": 4,
 "nbformat_minor": 2
}
