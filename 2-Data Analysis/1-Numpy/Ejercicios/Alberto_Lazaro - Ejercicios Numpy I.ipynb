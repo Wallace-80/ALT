{
 "cells": [
  {
   "cell_type": "markdown",
   "metadata": {},
   "source": [
    "![imagen](./img/ejercicios.png)"
   ]
  },
  {
   "cell_type": "markdown",
   "metadata": {},
   "source": [
    "## Ejercicio 1\n",
    "Importa el módulo de `numpy` y obtén su versión."
   ]
  },
  {
   "cell_type": "code",
   "execution_count": 1,
   "metadata": {},
   "outputs": [
    {
     "data": {
      "text/plain": [
       "'1.21.6'"
      ]
     },
     "execution_count": 1,
     "metadata": {},
     "output_type": "execute_result"
    }
   ],
   "source": [
    "import numpy as np\n",
    "np.__version__"
   ]
  },
  {
   "cell_type": "markdown",
   "metadata": {},
   "source": [
    "## Ejercicio 2\n",
    "Crea un array de una dimensión que vaya de 0 a 9. Llamalo `my_array`"
   ]
  },
  {
   "cell_type": "code",
   "execution_count": 145,
   "metadata": {},
   "outputs": [
    {
     "name": "stdout",
     "output_type": "stream",
     "text": [
      "[0 1 2 3 4 5 6 7 8 9]\n"
     ]
    }
   ],
   "source": [
    "import numpy as np\n",
    "my_array=np.arange(0,10)\n",
    "print(my_array)"
   ]
  },
  {
   "cell_type": "markdown",
   "metadata": {},
   "source": [
    "## Ejercicio 3\n",
    "Crea un array 3x3, que sea todo a True"
   ]
  },
  {
   "cell_type": "code",
   "execution_count": 28,
   "metadata": {},
   "outputs": [
    {
     "name": "stdout",
     "output_type": "stream",
     "text": [
      "[[1 2 3]\n",
      " [4 5 6]\n",
      " [7 8 9]]\n",
      "[[False  True False]\n",
      " [False False False]\n",
      " [False False False]]\n"
     ]
    }
   ],
   "source": [
    "x = np.array([[1,2,3], [4,5,6], [7,8,9]])\n",
    "print(x)\n",
    "print(x==2)\n"
   ]
  },
  {
   "cell_type": "markdown",
   "metadata": {},
   "source": [
    "## Ejercicio 4\n",
    "Extrae todos los impares de `my_array`\n"
   ]
  },
  {
   "cell_type": "code",
   "execution_count": 154,
   "metadata": {},
   "outputs": [
    {
     "name": "stdout",
     "output_type": "stream",
     "text": [
      "[1 1 1 3 1 5 1 7 1 9]\n"
     ]
    }
   ],
   "source": [
    "my_array=np.arange(0,10)\n",
    "mask = my_array%2 == 0\n",
    "my_array[mask]=1\n",
    "print(my_array)"
   ]
  },
  {
   "cell_type": "code",
   "execution_count": 152,
   "metadata": {},
   "outputs": [
    {
     "name": "stdout",
     "output_type": "stream",
     "text": [
      "[0 0 2 0 4 0 6 0 8 0]\n"
     ]
    }
   ],
   "source": [
    "my_array=np.arange(0,10)\n",
    "mask = my_array%2 != 0\n",
    "my_array[mask]=0\n",
    "print(my_array)"
   ]
  },
  {
   "cell_type": "markdown",
   "metadata": {},
   "source": [
    "## Ejercicio 5\n",
    "En un nuevo array, sustituye todos los impares de `my_array` por -1"
   ]
  },
  {
   "cell_type": "code",
   "execution_count": 115,
   "metadata": {},
   "outputs": [
    {
     "name": "stdout",
     "output_type": "stream",
     "text": [
      "[[ True False  True]\n",
      " [False  True False]\n",
      " [ True False  True]]\n",
      "[[-1  2 -1]\n",
      " [ 4 -1  6]\n",
      " [-1  8 -1]]\n"
     ]
    }
   ],
   "source": [
    "mask = my_array%2!=0\n",
    "print(mask)\n",
    "\n",
    "my_array[mask]=-1\n",
    "print(my_array)\n"
   ]
  },
  {
   "cell_type": "markdown",
   "metadata": {},
   "source": [
    "## Ejercicio 6\n",
    "En un nuevo array, sustituye todos los impares de `my_array` por -1. Esta vez usa `where`"
   ]
  },
  {
   "cell_type": "code",
   "execution_count": 116,
   "metadata": {},
   "outputs": [
    {
     "name": "stdout",
     "output_type": "stream",
     "text": [
      "[[-1  2 -1]\n",
      " [ 4 -1  6]\n",
      " [-1  8 -1]]\n"
     ]
    }
   ],
   "source": [
    "import numpy as np\n",
    "\n",
    "print(np.where(my_array %2!=0, -1,my_array))\n"
   ]
  },
  {
   "cell_type": "markdown",
   "metadata": {},
   "source": [
    "## Ejercicio 7\n",
    "Convierte `my_array` en un nuevo array de dos dimensiones mediante `reshape`."
   ]
  },
  {
   "cell_type": "code",
   "execution_count": 262,
   "metadata": {},
   "outputs": [
    {
     "name": "stdout",
     "output_type": "stream",
     "text": [
      "[0 1 2 3 4 5 6 7 8 9] \n",
      "\n",
      "[[0 1]\n",
      " [2 3]\n",
      " [4 5]\n",
      " [6 7]\n",
      " [8 9]]\n"
     ]
    }
   ],
   "source": [
    "my_array=np.arange(0,10)\n",
    "print(my_array,\"\\n\")\n",
    "\n",
    "my_array=np.arange(10).reshape(5,2)\n",
    "new=my_array\n",
    "print(new)"
   ]
  },
  {
   "cell_type": "markdown",
   "metadata": {},
   "source": [
    "## Ejercicio 8\n",
    "Concatena los siguientes arrays verticamente\n",
    "\n",
    "```Python\n",
    "a = np.arange(10).reshape(2,-1)\n",
    "b = np.repeat(1, 10).reshape(2,-1)\n",
    "```"
   ]
  },
  {
   "cell_type": "code",
   "execution_count": 253,
   "metadata": {},
   "outputs": [
    {
     "name": "stdout",
     "output_type": "stream",
     "text": [
      "[[0 1 2 3 4]\n",
      " [5 6 7 8 9]]\n",
      "[[1 1 1 1 1]\n",
      " [1 1 1 1 1]]\n"
     ]
    },
    {
     "data": {
      "text/plain": [
       "array([[0, 1, 2, 3, 4],\n",
       "       [5, 6, 7, 8, 9],\n",
       "       [1, 1, 1, 1, 1],\n",
       "       [1, 1, 1, 1, 1]])"
      ]
     },
     "execution_count": 253,
     "metadata": {},
     "output_type": "execute_result"
    }
   ],
   "source": [
    "a=np.arange(10).reshape(2,-1)\n",
    "b=np.repeat(1,10).reshape(2,-1)\n",
    "print(a)\n",
    "print(b)\n",
    "np.vstack([a, b])"
   ]
  },
  {
   "cell_type": "markdown",
   "metadata": {},
   "source": [
    "## Ejercicio 10\n",
    "Encuentra todos los elementos en común entre ambos arrays. [Para ello usa el método `intersect1d`](https://numpy.org/doc/stable/reference/generated/numpy.intersect1d.html)\n",
    "\n",
    "```Python\n",
    "a = np.array([1,2,3,2,3,4,3,4,5,6])\n",
    "b = np.array([7,2,10,2,7,4,9,4,9,8])\n",
    "```"
   ]
  },
  {
   "cell_type": "code",
   "execution_count": 252,
   "metadata": {},
   "outputs": [
    {
     "data": {
      "text/plain": [
       "array([2, 4])"
      ]
     },
     "execution_count": 252,
     "metadata": {},
     "output_type": "execute_result"
    }
   ],
   "source": [
    "from functools import reduce\n",
    "a = np.array([1,2,3,2,3,4,3,4,5,6])\n",
    "b = np.array([7,2,10,2,7,4,9,4,9,8])\n",
    "np.intersect1d(a,b)"
   ]
  },
  {
   "cell_type": "markdown",
   "metadata": {},
   "source": [
    "## Ejercicio 11\n",
    "Obtén la documentación acerca de la función `concatenate`"
   ]
  },
  {
   "cell_type": "code",
   "execution_count": null,
   "metadata": {},
   "outputs": [],
   "source": []
  },
  {
   "cell_type": "markdown",
   "metadata": {},
   "source": [
    "## Ejercicio 12\n",
    "Crea un array unidimensional que vaya del 0 al 9. Llámalo `my_array`. \n",
    "1. Multiplica cada uno de los elementos de `my_array` por 10, en un nuevo array\n",
    "2. Accede al primer elemento del array\n",
    "3. Accede al último elemento del array\n",
    "4. Imprime por pantalla los numeros del 1 al 7"
   ]
  },
  {
   "cell_type": "code",
   "execution_count": 192,
   "metadata": {},
   "outputs": [
    {
     "name": "stdout",
     "output_type": "stream",
     "text": [
      "[0 1 2 3 4 5 6 7 8 9]\n",
      "[ 0 10 20 30 40 50 60 70 80 90]\n",
      "0\n",
      "9\n",
      "[1 2 3 4 5 6 7]\n"
     ]
    }
   ],
   "source": [
    "my_array=np.arange(10)\n",
    "print(my_array)\n",
    "#Punto1\n",
    "print(my_array[::]*10)\n",
    "#Punto 2\n",
    "print(my_array[0])\n",
    "#Punto 3\n",
    "print(my_array[-1])\n",
    "#Punto 4\n",
    "print(my_array[1:8])"
   ]
  },
  {
   "cell_type": "markdown",
   "metadata": {},
   "source": [
    "## Ejercicio 13\n",
    "Crea un array manualmente de tres filas por tres columnas. Llámalo `my_matrix`"
   ]
  },
  {
   "cell_type": "code",
   "execution_count": 201,
   "metadata": {},
   "outputs": [
    {
     "name": "stdout",
     "output_type": "stream",
     "text": [
      "[[1 2 3]\n",
      " [4 5 6]\n",
      " [7 8 9]]\n"
     ]
    }
   ],
   "source": [
    "my_matrix=np.array([[1,2,3],[4,5,6],[7,8,9]])\n",
    "print(my_matrix)"
   ]
  },
  {
   "cell_type": "markdown",
   "metadata": {},
   "source": [
    "## Ejercicio 14\n",
    "Obtén la siguiente secuencia:\n",
    "\n",
    "```Python\n",
    "[ 1,  4,  7, 10, 13, 16, 19, 22, 25, 28, 31, 34, 37, 40, 43, 46, 49]\n",
    "```"
   ]
  },
  {
   "cell_type": "code",
   "execution_count": 213,
   "metadata": {},
   "outputs": [
    {
     "name": "stdout",
     "output_type": "stream",
     "text": [
      "[ 1  4  7 10 13 16 19 22 25 28 31 34 37 40 43 46 49]\n"
     ]
    }
   ],
   "source": [
    "prueba=np.arange(1,50,3)\n",
    "\n",
    "print(prueba)\n"
   ]
  },
  {
   "cell_type": "markdown",
   "metadata": {},
   "source": [
    "## Ejercicio 15\n",
    "Obtén la siguiente secuencia\n",
    "\n",
    "```Python\n",
    "[4., 3.75, 3.5 , 3.25, 3.  , 2.75, 2.5 , 2.25, 2., 1.75, 1.5 ,1.25]\n",
    "```"
   ]
  },
  {
   "cell_type": "code",
   "execution_count": 250,
   "metadata": {},
   "outputs": [
    {
     "name": "stdout",
     "output_type": "stream",
     "text": [
      "[4.   3.75 3.5  3.25 3.   2.75 2.5  2.25 2.   1.75 1.5  1.25]\n"
     ]
    }
   ],
   "source": [
    "prueba2=np.arange(4,1,-0.25)\n",
    "\n",
    "print(prueba2)"
   ]
  },
  {
   "cell_type": "markdown",
   "metadata": {},
   "source": [
    "## Ejercicio 16\n",
    "Lee la imagen \"numpy.png\""
   ]
  },
  {
   "cell_type": "code",
   "execution_count": null,
   "metadata": {},
   "outputs": [],
   "source": []
  },
  {
   "cell_type": "markdown",
   "metadata": {},
   "source": [
    "## Ejercicio 17\n",
    "Crea un array de 4x1. A continuación convierte el array a un 2x2"
   ]
  },
  {
   "cell_type": "code",
   "execution_count": 283,
   "metadata": {},
   "outputs": [
    {
     "name": "stdout",
     "output_type": "stream",
     "text": [
      "[1 2 3 4]\n",
      "[[1 2]\n",
      " [3 4]]\n"
     ]
    }
   ],
   "source": [
    "my_array=np.array([1,2,3,4])\n",
    "print(my_array)\n",
    "new=my_array.reshape(2,2)\n",
    "\n",
    "print(new)"
   ]
  },
  {
   "cell_type": "markdown",
   "metadata": {},
   "source": [
    "## Ejercicio 18\n",
    "Crea una secuencia aleatoria. La secuencia se tiene que componer de 4 matrices de 5x3. Serían 3 dimensiones diferentes."
   ]
  },
  {
   "cell_type": "code",
   "execution_count": 362,
   "metadata": {},
   "outputs": [
    {
     "name": "stdout",
     "output_type": "stream",
     "text": [
      "[[[85 72 55]\n",
      "  [96 89 84]\n",
      "  [26 44 10]\n",
      "  [80 73 70]\n",
      "  [63 87 91]]\n",
      "\n",
      " [[84 30 36]\n",
      "  [53 58 88]\n",
      "  [75 82 84]\n",
      "  [32 93 83]\n",
      "  [68 46 70]]\n",
      "\n",
      " [[65 56 34]\n",
      "  [92 81 14]\n",
      "  [68 36 21]\n",
      "  [15 20  7]\n",
      "  [44 40  7]]\n",
      "\n",
      " [[ 0 32 71]\n",
      "  [46 39 72]\n",
      "  [68  0 78]\n",
      "  [25 68 91]\n",
      "  [91 40 26]]]\n"
     ]
    }
   ],
   "source": [
    "from numpy import array, random\n",
    "\n",
    "x=np.random.randint(99,size = (4,5,3))\n",
    "print(x)\n",
    "\n"
   ]
  },
  {
   "cell_type": "markdown",
   "metadata": {},
   "source": [
    "## Ejercicio 19\n",
    "Crea una matriz de 10x1, toda ella compuesta por `False`. Después transformalo en un 2x5"
   ]
  },
  {
   "cell_type": "code",
   "execution_count": 358,
   "metadata": {},
   "outputs": [
    {
     "name": "stdout",
     "output_type": "stream",
     "text": [
      "[False False False False False False False False False False  True False\n",
      " False False False]\n",
      "[[False False False]\n",
      " [False False False]\n",
      " [False False False]\n",
      " [False  True False]\n",
      " [False False False]]\n"
     ]
    }
   ],
   "source": [
    "x_bools = np.array(x == 2)\n",
    "print(x_bools)\n",
    "\n",
    "y = x_bools.reshape((5,3))\n",
    "print(y)\n"
   ]
  },
  {
   "cell_type": "markdown",
   "metadata": {},
   "source": [
    "## Ejercicio 20\n",
    "Dado el siguiente array\n",
    "\n",
    "```Python\n",
    "x =np.random.randint(10, 20, size = (5,2,6))\n",
    "```\n",
    "\n",
    "1. ¿Cuántos elementos tiene el array?\n",
    "2. ¿Cuántas dimensiones?\n",
    "3. ¿Cuántos elementos tiene cada dimensión?"
   ]
  },
  {
   "cell_type": "code",
   "execution_count": 360,
   "metadata": {},
   "outputs": [
    {
     "name": "stdout",
     "output_type": "stream",
     "text": [
      "[[[12 13 13 18 14 14]\n",
      "  [14 18 19 14 10 10]]\n",
      "\n",
      " [[13 10 17 10 15 17]\n",
      "  [15 13 12 11 17 16]]\n",
      "\n",
      " [[10 15 14 14 12 18]\n",
      "  [15 19 15 14 15 13]]\n",
      "\n",
      " [[10 16 19 13 18 17]\n",
      "  [17 18 19 15 16 13]]\n",
      "\n",
      " [[17 14 18 15 11 19]\n",
      "  [14 16 16 12 16 11]]]\n"
     ]
    }
   ],
   "source": [
    "x =np.random.randint(10, 20, size = (5,2,6))\n",
    "print(x)\n",
    "\n",
    "#5 matrices de 2 x 6"
   ]
  },
  {
   "cell_type": "code",
   "execution_count": null,
   "metadata": {},
   "outputs": [],
   "source": []
  }
 ],
 "metadata": {
  "kernelspec": {
   "display_name": "Python 3.7.4 64-bit",
   "language": "python",
   "name": "python3"
  },
  "language_info": {
   "codemirror_mode": {
    "name": "ipython",
    "version": 3
   },
   "file_extension": ".py",
   "mimetype": "text/x-python",
   "name": "python",
   "nbconvert_exporter": "python",
   "pygments_lexer": "ipython3",
   "version": "3.7.4"
  },
  "vscode": {
   "interpreter": {
    "hash": "0fb254b22584d4dadf5c129f1fcaee00e0477c453ba46ce68957b1edcd5f7b81"
   }
  }
 },
 "nbformat": 4,
 "nbformat_minor": 4
}
