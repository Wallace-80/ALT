{
 "cells": [
  {
   "cell_type": "markdown",
   "metadata": {},
   "source": [
    "# Ejercicio OpenStreetMap\n",
    "Para este ejercicio vas a trabar con Overpass, que es la API que utiliza los datos de OpenStreetMap. Tras obtener datos geográficos mediante la API, tendrás que representarlos con Plotly.\n",
    "\n",
    "Hay que obtener los siguientes datos de cada ubicación conseguida en OpenStreetMap\n",
    "* tipo de amenity\n",
    "* latitud\n",
    "* longitud\n",
    "* nombre\n",
    "* direccion\n",
    "\n",
    "**NOTA**: En este Notebook utilizarás gráficas de Plotly, y JupyterLab de momento no lo soporta, a no ser que instales una extensión. Para solucionar esto, abre el Notebook desde Jupyter normal:\n",
    "\n",
    "![imagen](./img/jupyter.png)\n",
    "\n",
    "Tienes en [este enlace](https://wiki.openstreetmap.org/wiki/Key:amenity#Healthcare) la lista de *amenities* que vas a usar en el notebook."
   ]
  },
  {
   "cell_type": "markdown",
   "metadata": {},
   "source": [
    "## Instalación\n",
    "Si no tienes instalado Plotly, abre un terminal y escribe:\n",
    "```\n",
    "pip install plotly\n",
    "```\n",
    "\n",
    "Importa las librerias que vamos a usar en el Notebook"
   ]
  },
  {
   "cell_type": "code",
   "execution_count": 174,
   "metadata": {},
   "outputs": [],
   "source": [
    "import requests\n",
    "import json\n",
    "import pandas as pd"
   ]
  },
  {
   "cell_type": "markdown",
   "metadata": {},
   "source": [
    "Ataca a la API de OpenStreetmap con el siguiente código de ejemplo"
   ]
  },
  {
   "cell_type": "code",
   "execution_count": 175,
   "metadata": {},
   "outputs": [
    {
     "name": "stdout",
     "output_type": "stream",
     "text": [
      "<Response [200]>\n"
     ]
    }
   ],
   "source": [
    "overpass_url = \"http://overpass-api.de/api/interpreter\"\n",
    "overpass_query = \"\"\"\n",
    "[out:json];\n",
    "node[\"amenity\"=\"ice_cream\"]\n",
    "  (40.420801, -3.694702,40.423754, -3.688167); \n",
    "out;\n",
    "\"\"\"\n",
    "response = requests.get(overpass_url, \n",
    "                        params={'data': overpass_query})\n",
    "print(response)\n",
    "data = response.json()"
   ]
  },
  {
   "cell_type": "markdown",
   "metadata": {},
   "source": [
    "Con el siguiente código podrás adaptar el JSON que devuelve la API, a un formato DataFrame más amigable"
   ]
  },
  {
   "cell_type": "code",
   "execution_count": 176,
   "metadata": {},
   "outputs": [],
   "source": [
    "def json_to_df(data):\n",
    "    elements = data['elements']\n",
    "    places = {'tipo': [], 'lat': [], 'lon': [], 'name': [], 'address': []}\n",
    "    \n",
    "    for i in elements:\n",
    "        \n",
    "        tipo = i.get('tags', None).get('amenity', None)\n",
    "        latitude = i.get('lat', None)\n",
    "        longitude = i.get('lon', None)\n",
    "        name = i.get('tags', {}).get('name', \"NO NAME\")\n",
    "        street = i.get('tags', {}).get('addr:street', \"NO STREET\")\n",
    "        number = i.get('tags', {}).get('addr:housenumber', 9999)\n",
    "\n",
    "        places['tipo'].append(tipo)\n",
    "        places['lat'].append(latitude)\n",
    "        places['lon'].append(longitude)\n",
    "        places['name'].append(name)\n",
    "        places['address'].append(street + ' ' + str(number))\n",
    "\n",
    "            \n",
    "    return pd.DataFrame(places)"
   ]
  },
  {
   "cell_type": "markdown",
   "metadata": {},
   "source": [
    "Utilizarás esta función para representar los datos en un mapa de Matplotlib"
   ]
  },
  {
   "cell_type": "code",
   "execution_count": 177,
   "metadata": {},
   "outputs": [],
   "source": [
    "import plotly.express as px\n",
    "\n",
    "mapbox_access_token = \"pk.eyJ1IjoiZGFvcnRpIiwiYSI6ImNrZnF6M3FlczA3cDEyem16YTNzZmV4M2EifQ.846iF0sMSAXv0kwkwUTYjg\"\n",
    "\n",
    "def pinta_mapa(df):\n",
    "    fig = px.scatter_mapbox(df,\n",
    "                            lat=\"lat\",\n",
    "                            lon=\"lon\",\n",
    "                            color = \"tipo\",\n",
    "                      color_continuous_scale=px.colors.cyclical.IceFire, size_max=15, zoom=11)\n",
    "    fig.update_layout(\n",
    "        mapbox=dict(\n",
    "            accesstoken=mapbox_access_token\n",
    "        )\n",
    "    )\n",
    "\n",
    "    fig.show()"
   ]
  },
  {
   "cell_type": "markdown",
   "metadata": {},
   "source": [
    "Como ejemplo, si quiero ver cuántos restaurantes tengo cerca de The Bridge:"
   ]
  },
  {
   "cell_type": "code",
   "execution_count": 178,
   "metadata": {},
   "outputs": [
    {
     "name": "stdout",
     "output_type": "stream",
     "text": [
      "<Response [200]>\n"
     ]
    },
    {
     "data": {
      "text/html": [
       "<div>\n",
       "<style scoped>\n",
       "    .dataframe tbody tr th:only-of-type {\n",
       "        vertical-align: middle;\n",
       "    }\n",
       "\n",
       "    .dataframe tbody tr th {\n",
       "        vertical-align: top;\n",
       "    }\n",
       "\n",
       "    .dataframe thead th {\n",
       "        text-align: right;\n",
       "    }\n",
       "</style>\n",
       "<table border=\"1\" class=\"dataframe\">\n",
       "  <thead>\n",
       "    <tr style=\"text-align: right;\">\n",
       "      <th></th>\n",
       "      <th>tipo</th>\n",
       "      <th>lat</th>\n",
       "      <th>lon</th>\n",
       "      <th>name</th>\n",
       "      <th>address</th>\n",
       "    </tr>\n",
       "  </thead>\n",
       "  <tbody>\n",
       "    <tr>\n",
       "      <th>0</th>\n",
       "      <td>restaurant</td>\n",
       "      <td>40.423086</td>\n",
       "      <td>-3.693547</td>\n",
       "      <td>La Castafiore</td>\n",
       "      <td>NO STREET 9999</td>\n",
       "    </tr>\n",
       "    <tr>\n",
       "      <th>1</th>\n",
       "      <td>restaurant</td>\n",
       "      <td>40.422607</td>\n",
       "      <td>-3.693256</td>\n",
       "      <td>Sake Dining Himawari</td>\n",
       "      <td>NO STREET 9999</td>\n",
       "    </tr>\n",
       "    <tr>\n",
       "      <th>2</th>\n",
       "      <td>restaurant</td>\n",
       "      <td>40.423315</td>\n",
       "      <td>-3.692506</td>\n",
       "      <td>Ainhoa</td>\n",
       "      <td>Calle de Doña Bárbara de Braganza 12</td>\n",
       "    </tr>\n",
       "    <tr>\n",
       "      <th>3</th>\n",
       "      <td>restaurant</td>\n",
       "      <td>40.421960</td>\n",
       "      <td>-3.694270</td>\n",
       "      <td>La Kitchen</td>\n",
       "      <td>NO STREET 9999</td>\n",
       "    </tr>\n",
       "    <tr>\n",
       "      <th>4</th>\n",
       "      <td>restaurant</td>\n",
       "      <td>40.423695</td>\n",
       "      <td>-3.691651</td>\n",
       "      <td>Café Espejo</td>\n",
       "      <td>NO STREET 9999</td>\n",
       "    </tr>\n",
       "    <tr>\n",
       "      <th>5</th>\n",
       "      <td>restaurant</td>\n",
       "      <td>40.421951</td>\n",
       "      <td>-3.693535</td>\n",
       "      <td>Tampu</td>\n",
       "      <td>Calle de Prim 13</td>\n",
       "    </tr>\n",
       "    <tr>\n",
       "      <th>6</th>\n",
       "      <td>restaurant</td>\n",
       "      <td>40.422266</td>\n",
       "      <td>-3.694097</td>\n",
       "      <td>Casa Gades</td>\n",
       "      <td>Calle del Conde de Xiquena 4</td>\n",
       "    </tr>\n",
       "    <tr>\n",
       "      <th>7</th>\n",
       "      <td>restaurant</td>\n",
       "      <td>40.423151</td>\n",
       "      <td>-3.694062</td>\n",
       "      <td>El Cano de Xiquena</td>\n",
       "      <td>NO STREET 9999</td>\n",
       "    </tr>\n",
       "    <tr>\n",
       "      <th>8</th>\n",
       "      <td>restaurant</td>\n",
       "      <td>40.423345</td>\n",
       "      <td>-3.692632</td>\n",
       "      <td>El Gato Persa</td>\n",
       "      <td>Calle de Doña Bárbara de Braganza 10</td>\n",
       "    </tr>\n",
       "    <tr>\n",
       "      <th>9</th>\n",
       "      <td>restaurant</td>\n",
       "      <td>40.422441</td>\n",
       "      <td>-3.694220</td>\n",
       "      <td>Cannibal Raw Bar</td>\n",
       "      <td>Calle del Almirante 12</td>\n",
       "    </tr>\n",
       "    <tr>\n",
       "      <th>10</th>\n",
       "      <td>restaurant</td>\n",
       "      <td>40.422395</td>\n",
       "      <td>-3.691137</td>\n",
       "      <td>Dingo Restaurant</td>\n",
       "      <td>Paseo Recoletos 14</td>\n",
       "    </tr>\n",
       "    <tr>\n",
       "      <th>11</th>\n",
       "      <td>restaurant</td>\n",
       "      <td>40.421872</td>\n",
       "      <td>-3.690240</td>\n",
       "      <td>Banzai</td>\n",
       "      <td>NO STREET 9999</td>\n",
       "    </tr>\n",
       "    <tr>\n",
       "      <th>12</th>\n",
       "      <td>restaurant</td>\n",
       "      <td>40.421948</td>\n",
       "      <td>-3.690353</td>\n",
       "      <td>mama chico</td>\n",
       "      <td>NO STREET 9999</td>\n",
       "    </tr>\n",
       "    <tr>\n",
       "      <th>13</th>\n",
       "      <td>restaurant</td>\n",
       "      <td>40.421130</td>\n",
       "      <td>-3.689796</td>\n",
       "      <td>dokidoki</td>\n",
       "      <td>NO STREET 9999</td>\n",
       "    </tr>\n",
       "    <tr>\n",
       "      <th>14</th>\n",
       "      <td>restaurant</td>\n",
       "      <td>40.423600</td>\n",
       "      <td>-3.693725</td>\n",
       "      <td>Luke</td>\n",
       "      <td>Calle de Doña Bárbara de Braganza 2</td>\n",
       "    </tr>\n",
       "    <tr>\n",
       "      <th>15</th>\n",
       "      <td>restaurant</td>\n",
       "      <td>40.422141</td>\n",
       "      <td>-3.690864</td>\n",
       "      <td>Taberna Pedraza</td>\n",
       "      <td>Calle de Recoletos 4</td>\n",
       "    </tr>\n",
       "    <tr>\n",
       "      <th>16</th>\n",
       "      <td>restaurant</td>\n",
       "      <td>40.422379</td>\n",
       "      <td>-3.689518</td>\n",
       "      <td>Flavia</td>\n",
       "      <td>Calle de Gil de Santivañes 2</td>\n",
       "    </tr>\n",
       "    <tr>\n",
       "      <th>17</th>\n",
       "      <td>restaurant</td>\n",
       "      <td>40.422151</td>\n",
       "      <td>-3.690570</td>\n",
       "      <td>Al-Mounia</td>\n",
       "      <td>NO STREET 9999</td>\n",
       "    </tr>\n",
       "    <tr>\n",
       "      <th>18</th>\n",
       "      <td>restaurant</td>\n",
       "      <td>40.422777</td>\n",
       "      <td>-3.689781</td>\n",
       "      <td>SQD Meat Point</td>\n",
       "      <td>Calle de Villanueva 2</td>\n",
       "    </tr>\n",
       "    <tr>\n",
       "      <th>19</th>\n",
       "      <td>restaurant</td>\n",
       "      <td>40.422255</td>\n",
       "      <td>-3.694251</td>\n",
       "      <td>Merci</td>\n",
       "      <td>Calle del Conde de Xiquena 3</td>\n",
       "    </tr>\n",
       "    <tr>\n",
       "      <th>20</th>\n",
       "      <td>restaurant</td>\n",
       "      <td>40.422576</td>\n",
       "      <td>-3.694493</td>\n",
       "      <td>Mortadella</td>\n",
       "      <td>Calle del Almirante 11</td>\n",
       "    </tr>\n",
       "    <tr>\n",
       "      <th>21</th>\n",
       "      <td>restaurant</td>\n",
       "      <td>40.422081</td>\n",
       "      <td>-3.690748</td>\n",
       "      <td>New York Burger</td>\n",
       "      <td>Calle de Recoletos 4</td>\n",
       "    </tr>\n",
       "    <tr>\n",
       "      <th>22</th>\n",
       "      <td>restaurant</td>\n",
       "      <td>40.421821</td>\n",
       "      <td>-3.689824</td>\n",
       "      <td>Mestizo</td>\n",
       "      <td>Calle de Recoletos 13</td>\n",
       "    </tr>\n",
       "    <tr>\n",
       "      <th>23</th>\n",
       "      <td>restaurant</td>\n",
       "      <td>40.422941</td>\n",
       "      <td>-3.694051</td>\n",
       "      <td>Restaurante la Buena Vida</td>\n",
       "      <td>NO STREET 9999</td>\n",
       "    </tr>\n",
       "    <tr>\n",
       "      <th>24</th>\n",
       "      <td>restaurant</td>\n",
       "      <td>40.422426</td>\n",
       "      <td>-3.693418</td>\n",
       "      <td>Delirant</td>\n",
       "      <td>Calle del Almirante 20</td>\n",
       "    </tr>\n",
       "    <tr>\n",
       "      <th>25</th>\n",
       "      <td>restaurant</td>\n",
       "      <td>40.422211</td>\n",
       "      <td>-3.690702</td>\n",
       "      <td>Pelotari</td>\n",
       "      <td>NO STREET 9999</td>\n",
       "    </tr>\n",
       "    <tr>\n",
       "      <th>26</th>\n",
       "      <td>restaurant</td>\n",
       "      <td>40.422235</td>\n",
       "      <td>-3.690743</td>\n",
       "      <td>El Pelotari</td>\n",
       "      <td>NO STREET 9999</td>\n",
       "    </tr>\n",
       "    <tr>\n",
       "      <th>27</th>\n",
       "      <td>restaurant</td>\n",
       "      <td>40.422014</td>\n",
       "      <td>-3.690600</td>\n",
       "      <td>NOI</td>\n",
       "      <td>Calle de Recoletos 6</td>\n",
       "    </tr>\n",
       "    <tr>\n",
       "      <th>28</th>\n",
       "      <td>restaurant</td>\n",
       "      <td>40.422405</td>\n",
       "      <td>-3.693045</td>\n",
       "      <td>Regañadientes</td>\n",
       "      <td>NO STREET 9999</td>\n",
       "    </tr>\n",
       "  </tbody>\n",
       "</table>\n",
       "</div>"
      ],
      "text/plain": [
       "          tipo        lat       lon                       name  \\\n",
       "0   restaurant  40.423086 -3.693547              La Castafiore   \n",
       "1   restaurant  40.422607 -3.693256       Sake Dining Himawari   \n",
       "2   restaurant  40.423315 -3.692506                     Ainhoa   \n",
       "3   restaurant  40.421960 -3.694270                 La Kitchen   \n",
       "4   restaurant  40.423695 -3.691651                Café Espejo   \n",
       "5   restaurant  40.421951 -3.693535                      Tampu   \n",
       "6   restaurant  40.422266 -3.694097                 Casa Gades   \n",
       "7   restaurant  40.423151 -3.694062         El Cano de Xiquena   \n",
       "8   restaurant  40.423345 -3.692632              El Gato Persa   \n",
       "9   restaurant  40.422441 -3.694220           Cannibal Raw Bar   \n",
       "10  restaurant  40.422395 -3.691137           Dingo Restaurant   \n",
       "11  restaurant  40.421872 -3.690240                     Banzai   \n",
       "12  restaurant  40.421948 -3.690353                 mama chico   \n",
       "13  restaurant  40.421130 -3.689796                   dokidoki   \n",
       "14  restaurant  40.423600 -3.693725                       Luke   \n",
       "15  restaurant  40.422141 -3.690864            Taberna Pedraza   \n",
       "16  restaurant  40.422379 -3.689518                     Flavia   \n",
       "17  restaurant  40.422151 -3.690570                  Al-Mounia   \n",
       "18  restaurant  40.422777 -3.689781             SQD Meat Point   \n",
       "19  restaurant  40.422255 -3.694251                      Merci   \n",
       "20  restaurant  40.422576 -3.694493                 Mortadella   \n",
       "21  restaurant  40.422081 -3.690748            New York Burger   \n",
       "22  restaurant  40.421821 -3.689824                    Mestizo   \n",
       "23  restaurant  40.422941 -3.694051  Restaurante la Buena Vida   \n",
       "24  restaurant  40.422426 -3.693418                   Delirant   \n",
       "25  restaurant  40.422211 -3.690702                   Pelotari   \n",
       "26  restaurant  40.422235 -3.690743                El Pelotari   \n",
       "27  restaurant  40.422014 -3.690600                        NOI   \n",
       "28  restaurant  40.422405 -3.693045              Regañadientes   \n",
       "\n",
       "                                 address  \n",
       "0                         NO STREET 9999  \n",
       "1                         NO STREET 9999  \n",
       "2   Calle de Doña Bárbara de Braganza 12  \n",
       "3                         NO STREET 9999  \n",
       "4                         NO STREET 9999  \n",
       "5                       Calle de Prim 13  \n",
       "6           Calle del Conde de Xiquena 4  \n",
       "7                         NO STREET 9999  \n",
       "8   Calle de Doña Bárbara de Braganza 10  \n",
       "9                 Calle del Almirante 12  \n",
       "10                    Paseo Recoletos 14  \n",
       "11                        NO STREET 9999  \n",
       "12                        NO STREET 9999  \n",
       "13                        NO STREET 9999  \n",
       "14   Calle de Doña Bárbara de Braganza 2  \n",
       "15                  Calle de Recoletos 4  \n",
       "16          Calle de Gil de Santivañes 2  \n",
       "17                        NO STREET 9999  \n",
       "18                 Calle de Villanueva 2  \n",
       "19          Calle del Conde de Xiquena 3  \n",
       "20                Calle del Almirante 11  \n",
       "21                  Calle de Recoletos 4  \n",
       "22                 Calle de Recoletos 13  \n",
       "23                        NO STREET 9999  \n",
       "24                Calle del Almirante 20  \n",
       "25                        NO STREET 9999  \n",
       "26                        NO STREET 9999  \n",
       "27                  Calle de Recoletos 6  \n",
       "28                        NO STREET 9999  "
      ]
     },
     "execution_count": 178,
     "metadata": {},
     "output_type": "execute_result"
    }
   ],
   "source": [
    "overpass_url = \"http://overpass-api.de/api/interpreter\"\n",
    "overpass_query = \"\"\"\n",
    "[out:json];\n",
    "node[\"amenity\"=\"restaurant\"]\n",
    "  (40.420801, -3.694702,40.423754, -3.688167); \n",
    "out;\n",
    "\"\"\"\n",
    "response = requests.get(overpass_url, \n",
    "                        params={'data': overpass_query})\n",
    "print(response)\n",
    "data = response.json()\n",
    "df = json_to_df(data)\n",
    "df"
   ]
  },
  {
   "cell_type": "code",
   "execution_count": 179,
   "metadata": {},
   "outputs": [
    {
     "data": {
      "application/vnd.plotly.v1+json": {
       "config": {
        "plotlyServerURL": "https://plot.ly"
       },
       "data": [
        {
         "hovertemplate": "tipo=restaurant<br>lat=%{lat}<br>lon=%{lon}<extra></extra>",
         "lat": [
          40.4230858,
          40.4226068,
          40.4233148,
          40.4219603,
          40.4236949,
          40.4219515,
          40.422266,
          40.4231514,
          40.4233452,
          40.4224409,
          40.422395,
          40.4218723,
          40.4219475,
          40.4211297,
          40.4236005,
          40.4221408,
          40.4223791,
          40.4221513,
          40.4227772,
          40.4222548,
          40.422576,
          40.4220813,
          40.4218211,
          40.4229408,
          40.422426,
          40.422211,
          40.4222351,
          40.4220139,
          40.422405
         ],
         "legendgroup": "restaurant",
         "lon": [
          -3.6935468,
          -3.6932565,
          -3.6925055,
          -3.6942702,
          -3.6916509,
          -3.6935347,
          -3.694097,
          -3.6940615,
          -3.6926318,
          -3.6942202,
          -3.6911375,
          -3.6902405,
          -3.6903531,
          -3.6897958,
          -3.6937246,
          -3.6908645,
          -3.6895175,
          -3.6905695,
          -3.6897814,
          -3.6942512,
          -3.694493,
          -3.6907483,
          -3.6898244,
          -3.6940512,
          -3.6934185,
          -3.6907019,
          -3.6907431,
          -3.6906004,
          -3.6930454
         ],
         "marker": {
          "color": "#636efa"
         },
         "mode": "markers",
         "name": "restaurant",
         "showlegend": true,
         "subplot": "mapbox",
         "type": "scattermapbox"
        }
       ],
       "layout": {
        "legend": {
         "title": {
          "text": "tipo"
         },
         "tracegroupgap": 0
        },
        "mapbox": {
         "accesstoken": "pk.eyJ1IjoiZGFvcnRpIiwiYSI6ImNrZnF6M3FlczA3cDEyem16YTNzZmV4M2EifQ.846iF0sMSAXv0kwkwUTYjg",
         "center": {
          "lat": 40.422454344827585,
          "lon": -3.6921254103448273
         },
         "domain": {
          "x": [
           0,
           1
          ],
          "y": [
           0,
           1
          ]
         },
         "zoom": 11
        },
        "margin": {
         "t": 60
        },
        "template": {
         "data": {
          "bar": [
           {
            "error_x": {
             "color": "#2a3f5f"
            },
            "error_y": {
             "color": "#2a3f5f"
            },
            "marker": {
             "line": {
              "color": "#E5ECF6",
              "width": 0.5
             },
             "pattern": {
              "fillmode": "overlay",
              "size": 10,
              "solidity": 0.2
             }
            },
            "type": "bar"
           }
          ],
          "barpolar": [
           {
            "marker": {
             "line": {
              "color": "#E5ECF6",
              "width": 0.5
             },
             "pattern": {
              "fillmode": "overlay",
              "size": 10,
              "solidity": 0.2
             }
            },
            "type": "barpolar"
           }
          ],
          "carpet": [
           {
            "aaxis": {
             "endlinecolor": "#2a3f5f",
             "gridcolor": "white",
             "linecolor": "white",
             "minorgridcolor": "white",
             "startlinecolor": "#2a3f5f"
            },
            "baxis": {
             "endlinecolor": "#2a3f5f",
             "gridcolor": "white",
             "linecolor": "white",
             "minorgridcolor": "white",
             "startlinecolor": "#2a3f5f"
            },
            "type": "carpet"
           }
          ],
          "choropleth": [
           {
            "colorbar": {
             "outlinewidth": 0,
             "ticks": ""
            },
            "type": "choropleth"
           }
          ],
          "contour": [
           {
            "colorbar": {
             "outlinewidth": 0,
             "ticks": ""
            },
            "colorscale": [
             [
              0,
              "#0d0887"
             ],
             [
              0.1111111111111111,
              "#46039f"
             ],
             [
              0.2222222222222222,
              "#7201a8"
             ],
             [
              0.3333333333333333,
              "#9c179e"
             ],
             [
              0.4444444444444444,
              "#bd3786"
             ],
             [
              0.5555555555555556,
              "#d8576b"
             ],
             [
              0.6666666666666666,
              "#ed7953"
             ],
             [
              0.7777777777777778,
              "#fb9f3a"
             ],
             [
              0.8888888888888888,
              "#fdca26"
             ],
             [
              1,
              "#f0f921"
             ]
            ],
            "type": "contour"
           }
          ],
          "contourcarpet": [
           {
            "colorbar": {
             "outlinewidth": 0,
             "ticks": ""
            },
            "type": "contourcarpet"
           }
          ],
          "heatmap": [
           {
            "colorbar": {
             "outlinewidth": 0,
             "ticks": ""
            },
            "colorscale": [
             [
              0,
              "#0d0887"
             ],
             [
              0.1111111111111111,
              "#46039f"
             ],
             [
              0.2222222222222222,
              "#7201a8"
             ],
             [
              0.3333333333333333,
              "#9c179e"
             ],
             [
              0.4444444444444444,
              "#bd3786"
             ],
             [
              0.5555555555555556,
              "#d8576b"
             ],
             [
              0.6666666666666666,
              "#ed7953"
             ],
             [
              0.7777777777777778,
              "#fb9f3a"
             ],
             [
              0.8888888888888888,
              "#fdca26"
             ],
             [
              1,
              "#f0f921"
             ]
            ],
            "type": "heatmap"
           }
          ],
          "heatmapgl": [
           {
            "colorbar": {
             "outlinewidth": 0,
             "ticks": ""
            },
            "colorscale": [
             [
              0,
              "#0d0887"
             ],
             [
              0.1111111111111111,
              "#46039f"
             ],
             [
              0.2222222222222222,
              "#7201a8"
             ],
             [
              0.3333333333333333,
              "#9c179e"
             ],
             [
              0.4444444444444444,
              "#bd3786"
             ],
             [
              0.5555555555555556,
              "#d8576b"
             ],
             [
              0.6666666666666666,
              "#ed7953"
             ],
             [
              0.7777777777777778,
              "#fb9f3a"
             ],
             [
              0.8888888888888888,
              "#fdca26"
             ],
             [
              1,
              "#f0f921"
             ]
            ],
            "type": "heatmapgl"
           }
          ],
          "histogram": [
           {
            "marker": {
             "pattern": {
              "fillmode": "overlay",
              "size": 10,
              "solidity": 0.2
             }
            },
            "type": "histogram"
           }
          ],
          "histogram2d": [
           {
            "colorbar": {
             "outlinewidth": 0,
             "ticks": ""
            },
            "colorscale": [
             [
              0,
              "#0d0887"
             ],
             [
              0.1111111111111111,
              "#46039f"
             ],
             [
              0.2222222222222222,
              "#7201a8"
             ],
             [
              0.3333333333333333,
              "#9c179e"
             ],
             [
              0.4444444444444444,
              "#bd3786"
             ],
             [
              0.5555555555555556,
              "#d8576b"
             ],
             [
              0.6666666666666666,
              "#ed7953"
             ],
             [
              0.7777777777777778,
              "#fb9f3a"
             ],
             [
              0.8888888888888888,
              "#fdca26"
             ],
             [
              1,
              "#f0f921"
             ]
            ],
            "type": "histogram2d"
           }
          ],
          "histogram2dcontour": [
           {
            "colorbar": {
             "outlinewidth": 0,
             "ticks": ""
            },
            "colorscale": [
             [
              0,
              "#0d0887"
             ],
             [
              0.1111111111111111,
              "#46039f"
             ],
             [
              0.2222222222222222,
              "#7201a8"
             ],
             [
              0.3333333333333333,
              "#9c179e"
             ],
             [
              0.4444444444444444,
              "#bd3786"
             ],
             [
              0.5555555555555556,
              "#d8576b"
             ],
             [
              0.6666666666666666,
              "#ed7953"
             ],
             [
              0.7777777777777778,
              "#fb9f3a"
             ],
             [
              0.8888888888888888,
              "#fdca26"
             ],
             [
              1,
              "#f0f921"
             ]
            ],
            "type": "histogram2dcontour"
           }
          ],
          "mesh3d": [
           {
            "colorbar": {
             "outlinewidth": 0,
             "ticks": ""
            },
            "type": "mesh3d"
           }
          ],
          "parcoords": [
           {
            "line": {
             "colorbar": {
              "outlinewidth": 0,
              "ticks": ""
             }
            },
            "type": "parcoords"
           }
          ],
          "pie": [
           {
            "automargin": true,
            "type": "pie"
           }
          ],
          "scatter": [
           {
            "fillpattern": {
             "fillmode": "overlay",
             "size": 10,
             "solidity": 0.2
            },
            "type": "scatter"
           }
          ],
          "scatter3d": [
           {
            "line": {
             "colorbar": {
              "outlinewidth": 0,
              "ticks": ""
             }
            },
            "marker": {
             "colorbar": {
              "outlinewidth": 0,
              "ticks": ""
             }
            },
            "type": "scatter3d"
           }
          ],
          "scattercarpet": [
           {
            "marker": {
             "colorbar": {
              "outlinewidth": 0,
              "ticks": ""
             }
            },
            "type": "scattercarpet"
           }
          ],
          "scattergeo": [
           {
            "marker": {
             "colorbar": {
              "outlinewidth": 0,
              "ticks": ""
             }
            },
            "type": "scattergeo"
           }
          ],
          "scattergl": [
           {
            "marker": {
             "colorbar": {
              "outlinewidth": 0,
              "ticks": ""
             }
            },
            "type": "scattergl"
           }
          ],
          "scattermapbox": [
           {
            "marker": {
             "colorbar": {
              "outlinewidth": 0,
              "ticks": ""
             }
            },
            "type": "scattermapbox"
           }
          ],
          "scatterpolar": [
           {
            "marker": {
             "colorbar": {
              "outlinewidth": 0,
              "ticks": ""
             }
            },
            "type": "scatterpolar"
           }
          ],
          "scatterpolargl": [
           {
            "marker": {
             "colorbar": {
              "outlinewidth": 0,
              "ticks": ""
             }
            },
            "type": "scatterpolargl"
           }
          ],
          "scatterternary": [
           {
            "marker": {
             "colorbar": {
              "outlinewidth": 0,
              "ticks": ""
             }
            },
            "type": "scatterternary"
           }
          ],
          "surface": [
           {
            "colorbar": {
             "outlinewidth": 0,
             "ticks": ""
            },
            "colorscale": [
             [
              0,
              "#0d0887"
             ],
             [
              0.1111111111111111,
              "#46039f"
             ],
             [
              0.2222222222222222,
              "#7201a8"
             ],
             [
              0.3333333333333333,
              "#9c179e"
             ],
             [
              0.4444444444444444,
              "#bd3786"
             ],
             [
              0.5555555555555556,
              "#d8576b"
             ],
             [
              0.6666666666666666,
              "#ed7953"
             ],
             [
              0.7777777777777778,
              "#fb9f3a"
             ],
             [
              0.8888888888888888,
              "#fdca26"
             ],
             [
              1,
              "#f0f921"
             ]
            ],
            "type": "surface"
           }
          ],
          "table": [
           {
            "cells": {
             "fill": {
              "color": "#EBF0F8"
             },
             "line": {
              "color": "white"
             }
            },
            "header": {
             "fill": {
              "color": "#C8D4E3"
             },
             "line": {
              "color": "white"
             }
            },
            "type": "table"
           }
          ]
         },
         "layout": {
          "annotationdefaults": {
           "arrowcolor": "#2a3f5f",
           "arrowhead": 0,
           "arrowwidth": 1
          },
          "autotypenumbers": "strict",
          "coloraxis": {
           "colorbar": {
            "outlinewidth": 0,
            "ticks": ""
           }
          },
          "colorscale": {
           "diverging": [
            [
             0,
             "#8e0152"
            ],
            [
             0.1,
             "#c51b7d"
            ],
            [
             0.2,
             "#de77ae"
            ],
            [
             0.3,
             "#f1b6da"
            ],
            [
             0.4,
             "#fde0ef"
            ],
            [
             0.5,
             "#f7f7f7"
            ],
            [
             0.6,
             "#e6f5d0"
            ],
            [
             0.7,
             "#b8e186"
            ],
            [
             0.8,
             "#7fbc41"
            ],
            [
             0.9,
             "#4d9221"
            ],
            [
             1,
             "#276419"
            ]
           ],
           "sequential": [
            [
             0,
             "#0d0887"
            ],
            [
             0.1111111111111111,
             "#46039f"
            ],
            [
             0.2222222222222222,
             "#7201a8"
            ],
            [
             0.3333333333333333,
             "#9c179e"
            ],
            [
             0.4444444444444444,
             "#bd3786"
            ],
            [
             0.5555555555555556,
             "#d8576b"
            ],
            [
             0.6666666666666666,
             "#ed7953"
            ],
            [
             0.7777777777777778,
             "#fb9f3a"
            ],
            [
             0.8888888888888888,
             "#fdca26"
            ],
            [
             1,
             "#f0f921"
            ]
           ],
           "sequentialminus": [
            [
             0,
             "#0d0887"
            ],
            [
             0.1111111111111111,
             "#46039f"
            ],
            [
             0.2222222222222222,
             "#7201a8"
            ],
            [
             0.3333333333333333,
             "#9c179e"
            ],
            [
             0.4444444444444444,
             "#bd3786"
            ],
            [
             0.5555555555555556,
             "#d8576b"
            ],
            [
             0.6666666666666666,
             "#ed7953"
            ],
            [
             0.7777777777777778,
             "#fb9f3a"
            ],
            [
             0.8888888888888888,
             "#fdca26"
            ],
            [
             1,
             "#f0f921"
            ]
           ]
          },
          "colorway": [
           "#636efa",
           "#EF553B",
           "#00cc96",
           "#ab63fa",
           "#FFA15A",
           "#19d3f3",
           "#FF6692",
           "#B6E880",
           "#FF97FF",
           "#FECB52"
          ],
          "font": {
           "color": "#2a3f5f"
          },
          "geo": {
           "bgcolor": "white",
           "lakecolor": "white",
           "landcolor": "#E5ECF6",
           "showlakes": true,
           "showland": true,
           "subunitcolor": "white"
          },
          "hoverlabel": {
           "align": "left"
          },
          "hovermode": "closest",
          "mapbox": {
           "style": "light"
          },
          "paper_bgcolor": "white",
          "plot_bgcolor": "#E5ECF6",
          "polar": {
           "angularaxis": {
            "gridcolor": "white",
            "linecolor": "white",
            "ticks": ""
           },
           "bgcolor": "#E5ECF6",
           "radialaxis": {
            "gridcolor": "white",
            "linecolor": "white",
            "ticks": ""
           }
          },
          "scene": {
           "xaxis": {
            "backgroundcolor": "#E5ECF6",
            "gridcolor": "white",
            "gridwidth": 2,
            "linecolor": "white",
            "showbackground": true,
            "ticks": "",
            "zerolinecolor": "white"
           },
           "yaxis": {
            "backgroundcolor": "#E5ECF6",
            "gridcolor": "white",
            "gridwidth": 2,
            "linecolor": "white",
            "showbackground": true,
            "ticks": "",
            "zerolinecolor": "white"
           },
           "zaxis": {
            "backgroundcolor": "#E5ECF6",
            "gridcolor": "white",
            "gridwidth": 2,
            "linecolor": "white",
            "showbackground": true,
            "ticks": "",
            "zerolinecolor": "white"
           }
          },
          "shapedefaults": {
           "line": {
            "color": "#2a3f5f"
           }
          },
          "ternary": {
           "aaxis": {
            "gridcolor": "white",
            "linecolor": "white",
            "ticks": ""
           },
           "baxis": {
            "gridcolor": "white",
            "linecolor": "white",
            "ticks": ""
           },
           "bgcolor": "#E5ECF6",
           "caxis": {
            "gridcolor": "white",
            "linecolor": "white",
            "ticks": ""
           }
          },
          "title": {
           "x": 0.05
          },
          "xaxis": {
           "automargin": true,
           "gridcolor": "white",
           "linecolor": "white",
           "ticks": "",
           "title": {
            "standoff": 15
           },
           "zerolinecolor": "white",
           "zerolinewidth": 2
          },
          "yaxis": {
           "automargin": true,
           "gridcolor": "white",
           "linecolor": "white",
           "ticks": "",
           "title": {
            "standoff": 15
           },
           "zerolinecolor": "white",
           "zerolinewidth": 2
          }
         }
        }
       }
      }
     },
     "metadata": {},
     "output_type": "display_data"
    }
   ],
   "source": [
    "pinta_mapa(df)"
   ]
  },
  {
   "cell_type": "markdown",
   "metadata": {},
   "source": [
    "## Ejercicio 1\n",
    "### Búsqueda de aparcamiento\n",
    "Para este caso de uso imagina que vas a Madrid de viaje y estás buscando posibles parkings donde dejar el coche, crea un DataFrame con todos los parkings (de OpenStreetMap) de la ciudad de Madrid. Para ello define una cuadrícula con dos coordenadas sobre Madrid.\n",
    "\n",
    "Representa en un mapa los resultados"
   ]
  },
  {
   "cell_type": "code",
   "execution_count": 180,
   "metadata": {},
   "outputs": [
    {
     "name": "stdout",
     "output_type": "stream",
     "text": [
      "<Response [200]>\n"
     ]
    }
   ],
   "source": [
    "overpass_url = \"http://overpass-api.de/api/interpreter\"\n",
    "overpass_query = \"\"\"\n",
    "[out:json];\n",
    "node[\"amenity\"=\"parking\"]\n",
    "(40.4366, -3.7043, 41.3909, -3.6174); \n",
    "out;\n",
    "\"\"\"\n",
    "response = requests.get(overpass_url, \n",
    "                        params={'data': overpass_query})\n",
    "print(response)\n",
    "data = response.json()"
   ]
  },
  {
   "cell_type": "code",
   "execution_count": 181,
   "metadata": {},
   "outputs": [],
   "source": [
    "def json_to_df(data):\n",
    "    elements = data['elements']\n",
    "    places = {'tipo': [], 'lat': [], 'lon': [], 'name': [], 'address': []}\n",
    "    \n",
    "    for i in elements:\n",
    "        \n",
    "        tipo = i.get('tags', None).get('amenity', None)\n",
    "        latitude = i.get('lat', None)\n",
    "        longitude = i.get('lon', None)\n",
    "        name = i.get('tags', {}).get('name', \"NO NAME\")\n",
    "        street = i.get('tags', {}).get('addr:street', \"NO STREET\")\n",
    "        number = i.get('tags', {}).get('addr:housenumber', 9999)\n",
    "\n",
    "        places['tipo'].append(tipo)\n",
    "        places['lat'].append(latitude)\n",
    "        places['lon'].append(longitude)\n",
    "        places['name'].append(name)\n",
    "        places['address'].append(street + ' ' + str(number))\n",
    "\n",
    "            \n",
    "    return pd.DataFrame(places)"
   ]
  },
  {
   "cell_type": "code",
   "execution_count": 182,
   "metadata": {},
   "outputs": [],
   "source": [
    "import plotly.express as px\n",
    "\n",
    "mapbox_access_token = \"pk.eyJ1IjoiZGFvcnRpIiwiYSI6ImNrZnF6M3FlczA3cDEyem16YTNzZmV4M2EifQ.846iF0sMSAXv0kwkwUTYjg\"\n",
    "\n",
    "def pinta_mapa(df):\n",
    "    fig = px.scatter_mapbox(df,\n",
    "                            lat=\"lat\",\n",
    "                            lon=\"lon\",\n",
    "                            color = \"tipo\",\n",
    "                      color_continuous_scale=px.colors.cyclical.IceFire, size_max=15, zoom=11)\n",
    "    fig.update_layout(\n",
    "        mapbox=dict(\n",
    "            accesstoken=mapbox_access_token\n",
    "        )\n",
    "    )\n",
    "\n",
    "    fig.show()"
   ]
  },
  {
   "cell_type": "code",
   "execution_count": 183,
   "metadata": {},
   "outputs": [
    {
     "data": {
      "application/vnd.plotly.v1+json": {
       "config": {
        "plotlyServerURL": "https://plot.ly"
       },
       "data": [
        {
         "hovertemplate": "tipo=restaurant<br>lat=%{lat}<br>lon=%{lon}<extra></extra>",
         "lat": [
          40.4230858,
          40.4226068,
          40.4233148,
          40.4219603,
          40.4236949,
          40.4219515,
          40.422266,
          40.4231514,
          40.4233452,
          40.4224409,
          40.422395,
          40.4218723,
          40.4219475,
          40.4211297,
          40.4236005,
          40.4221408,
          40.4223791,
          40.4221513,
          40.4227772,
          40.4222548,
          40.422576,
          40.4220813,
          40.4218211,
          40.4229408,
          40.422426,
          40.422211,
          40.4222351,
          40.4220139,
          40.422405
         ],
         "legendgroup": "restaurant",
         "lon": [
          -3.6935468,
          -3.6932565,
          -3.6925055,
          -3.6942702,
          -3.6916509,
          -3.6935347,
          -3.694097,
          -3.6940615,
          -3.6926318,
          -3.6942202,
          -3.6911375,
          -3.6902405,
          -3.6903531,
          -3.6897958,
          -3.6937246,
          -3.6908645,
          -3.6895175,
          -3.6905695,
          -3.6897814,
          -3.6942512,
          -3.694493,
          -3.6907483,
          -3.6898244,
          -3.6940512,
          -3.6934185,
          -3.6907019,
          -3.6907431,
          -3.6906004,
          -3.6930454
         ],
         "marker": {
          "color": "#636efa"
         },
         "mode": "markers",
         "name": "restaurant",
         "showlegend": true,
         "subplot": "mapbox",
         "type": "scattermapbox"
        }
       ],
       "layout": {
        "legend": {
         "title": {
          "text": "tipo"
         },
         "tracegroupgap": 0
        },
        "mapbox": {
         "accesstoken": "pk.eyJ1IjoiZGFvcnRpIiwiYSI6ImNrZnF6M3FlczA3cDEyem16YTNzZmV4M2EifQ.846iF0sMSAXv0kwkwUTYjg",
         "center": {
          "lat": 40.422454344827585,
          "lon": -3.6921254103448273
         },
         "domain": {
          "x": [
           0,
           1
          ],
          "y": [
           0,
           1
          ]
         },
         "zoom": 11
        },
        "margin": {
         "t": 60
        },
        "template": {
         "data": {
          "bar": [
           {
            "error_x": {
             "color": "#2a3f5f"
            },
            "error_y": {
             "color": "#2a3f5f"
            },
            "marker": {
             "line": {
              "color": "#E5ECF6",
              "width": 0.5
             },
             "pattern": {
              "fillmode": "overlay",
              "size": 10,
              "solidity": 0.2
             }
            },
            "type": "bar"
           }
          ],
          "barpolar": [
           {
            "marker": {
             "line": {
              "color": "#E5ECF6",
              "width": 0.5
             },
             "pattern": {
              "fillmode": "overlay",
              "size": 10,
              "solidity": 0.2
             }
            },
            "type": "barpolar"
           }
          ],
          "carpet": [
           {
            "aaxis": {
             "endlinecolor": "#2a3f5f",
             "gridcolor": "white",
             "linecolor": "white",
             "minorgridcolor": "white",
             "startlinecolor": "#2a3f5f"
            },
            "baxis": {
             "endlinecolor": "#2a3f5f",
             "gridcolor": "white",
             "linecolor": "white",
             "minorgridcolor": "white",
             "startlinecolor": "#2a3f5f"
            },
            "type": "carpet"
           }
          ],
          "choropleth": [
           {
            "colorbar": {
             "outlinewidth": 0,
             "ticks": ""
            },
            "type": "choropleth"
           }
          ],
          "contour": [
           {
            "colorbar": {
             "outlinewidth": 0,
             "ticks": ""
            },
            "colorscale": [
             [
              0,
              "#0d0887"
             ],
             [
              0.1111111111111111,
              "#46039f"
             ],
             [
              0.2222222222222222,
              "#7201a8"
             ],
             [
              0.3333333333333333,
              "#9c179e"
             ],
             [
              0.4444444444444444,
              "#bd3786"
             ],
             [
              0.5555555555555556,
              "#d8576b"
             ],
             [
              0.6666666666666666,
              "#ed7953"
             ],
             [
              0.7777777777777778,
              "#fb9f3a"
             ],
             [
              0.8888888888888888,
              "#fdca26"
             ],
             [
              1,
              "#f0f921"
             ]
            ],
            "type": "contour"
           }
          ],
          "contourcarpet": [
           {
            "colorbar": {
             "outlinewidth": 0,
             "ticks": ""
            },
            "type": "contourcarpet"
           }
          ],
          "heatmap": [
           {
            "colorbar": {
             "outlinewidth": 0,
             "ticks": ""
            },
            "colorscale": [
             [
              0,
              "#0d0887"
             ],
             [
              0.1111111111111111,
              "#46039f"
             ],
             [
              0.2222222222222222,
              "#7201a8"
             ],
             [
              0.3333333333333333,
              "#9c179e"
             ],
             [
              0.4444444444444444,
              "#bd3786"
             ],
             [
              0.5555555555555556,
              "#d8576b"
             ],
             [
              0.6666666666666666,
              "#ed7953"
             ],
             [
              0.7777777777777778,
              "#fb9f3a"
             ],
             [
              0.8888888888888888,
              "#fdca26"
             ],
             [
              1,
              "#f0f921"
             ]
            ],
            "type": "heatmap"
           }
          ],
          "heatmapgl": [
           {
            "colorbar": {
             "outlinewidth": 0,
             "ticks": ""
            },
            "colorscale": [
             [
              0,
              "#0d0887"
             ],
             [
              0.1111111111111111,
              "#46039f"
             ],
             [
              0.2222222222222222,
              "#7201a8"
             ],
             [
              0.3333333333333333,
              "#9c179e"
             ],
             [
              0.4444444444444444,
              "#bd3786"
             ],
             [
              0.5555555555555556,
              "#d8576b"
             ],
             [
              0.6666666666666666,
              "#ed7953"
             ],
             [
              0.7777777777777778,
              "#fb9f3a"
             ],
             [
              0.8888888888888888,
              "#fdca26"
             ],
             [
              1,
              "#f0f921"
             ]
            ],
            "type": "heatmapgl"
           }
          ],
          "histogram": [
           {
            "marker": {
             "pattern": {
              "fillmode": "overlay",
              "size": 10,
              "solidity": 0.2
             }
            },
            "type": "histogram"
           }
          ],
          "histogram2d": [
           {
            "colorbar": {
             "outlinewidth": 0,
             "ticks": ""
            },
            "colorscale": [
             [
              0,
              "#0d0887"
             ],
             [
              0.1111111111111111,
              "#46039f"
             ],
             [
              0.2222222222222222,
              "#7201a8"
             ],
             [
              0.3333333333333333,
              "#9c179e"
             ],
             [
              0.4444444444444444,
              "#bd3786"
             ],
             [
              0.5555555555555556,
              "#d8576b"
             ],
             [
              0.6666666666666666,
              "#ed7953"
             ],
             [
              0.7777777777777778,
              "#fb9f3a"
             ],
             [
              0.8888888888888888,
              "#fdca26"
             ],
             [
              1,
              "#f0f921"
             ]
            ],
            "type": "histogram2d"
           }
          ],
          "histogram2dcontour": [
           {
            "colorbar": {
             "outlinewidth": 0,
             "ticks": ""
            },
            "colorscale": [
             [
              0,
              "#0d0887"
             ],
             [
              0.1111111111111111,
              "#46039f"
             ],
             [
              0.2222222222222222,
              "#7201a8"
             ],
             [
              0.3333333333333333,
              "#9c179e"
             ],
             [
              0.4444444444444444,
              "#bd3786"
             ],
             [
              0.5555555555555556,
              "#d8576b"
             ],
             [
              0.6666666666666666,
              "#ed7953"
             ],
             [
              0.7777777777777778,
              "#fb9f3a"
             ],
             [
              0.8888888888888888,
              "#fdca26"
             ],
             [
              1,
              "#f0f921"
             ]
            ],
            "type": "histogram2dcontour"
           }
          ],
          "mesh3d": [
           {
            "colorbar": {
             "outlinewidth": 0,
             "ticks": ""
            },
            "type": "mesh3d"
           }
          ],
          "parcoords": [
           {
            "line": {
             "colorbar": {
              "outlinewidth": 0,
              "ticks": ""
             }
            },
            "type": "parcoords"
           }
          ],
          "pie": [
           {
            "automargin": true,
            "type": "pie"
           }
          ],
          "scatter": [
           {
            "fillpattern": {
             "fillmode": "overlay",
             "size": 10,
             "solidity": 0.2
            },
            "type": "scatter"
           }
          ],
          "scatter3d": [
           {
            "line": {
             "colorbar": {
              "outlinewidth": 0,
              "ticks": ""
             }
            },
            "marker": {
             "colorbar": {
              "outlinewidth": 0,
              "ticks": ""
             }
            },
            "type": "scatter3d"
           }
          ],
          "scattercarpet": [
           {
            "marker": {
             "colorbar": {
              "outlinewidth": 0,
              "ticks": ""
             }
            },
            "type": "scattercarpet"
           }
          ],
          "scattergeo": [
           {
            "marker": {
             "colorbar": {
              "outlinewidth": 0,
              "ticks": ""
             }
            },
            "type": "scattergeo"
           }
          ],
          "scattergl": [
           {
            "marker": {
             "colorbar": {
              "outlinewidth": 0,
              "ticks": ""
             }
            },
            "type": "scattergl"
           }
          ],
          "scattermapbox": [
           {
            "marker": {
             "colorbar": {
              "outlinewidth": 0,
              "ticks": ""
             }
            },
            "type": "scattermapbox"
           }
          ],
          "scatterpolar": [
           {
            "marker": {
             "colorbar": {
              "outlinewidth": 0,
              "ticks": ""
             }
            },
            "type": "scatterpolar"
           }
          ],
          "scatterpolargl": [
           {
            "marker": {
             "colorbar": {
              "outlinewidth": 0,
              "ticks": ""
             }
            },
            "type": "scatterpolargl"
           }
          ],
          "scatterternary": [
           {
            "marker": {
             "colorbar": {
              "outlinewidth": 0,
              "ticks": ""
             }
            },
            "type": "scatterternary"
           }
          ],
          "surface": [
           {
            "colorbar": {
             "outlinewidth": 0,
             "ticks": ""
            },
            "colorscale": [
             [
              0,
              "#0d0887"
             ],
             [
              0.1111111111111111,
              "#46039f"
             ],
             [
              0.2222222222222222,
              "#7201a8"
             ],
             [
              0.3333333333333333,
              "#9c179e"
             ],
             [
              0.4444444444444444,
              "#bd3786"
             ],
             [
              0.5555555555555556,
              "#d8576b"
             ],
             [
              0.6666666666666666,
              "#ed7953"
             ],
             [
              0.7777777777777778,
              "#fb9f3a"
             ],
             [
              0.8888888888888888,
              "#fdca26"
             ],
             [
              1,
              "#f0f921"
             ]
            ],
            "type": "surface"
           }
          ],
          "table": [
           {
            "cells": {
             "fill": {
              "color": "#EBF0F8"
             },
             "line": {
              "color": "white"
             }
            },
            "header": {
             "fill": {
              "color": "#C8D4E3"
             },
             "line": {
              "color": "white"
             }
            },
            "type": "table"
           }
          ]
         },
         "layout": {
          "annotationdefaults": {
           "arrowcolor": "#2a3f5f",
           "arrowhead": 0,
           "arrowwidth": 1
          },
          "autotypenumbers": "strict",
          "coloraxis": {
           "colorbar": {
            "outlinewidth": 0,
            "ticks": ""
           }
          },
          "colorscale": {
           "diverging": [
            [
             0,
             "#8e0152"
            ],
            [
             0.1,
             "#c51b7d"
            ],
            [
             0.2,
             "#de77ae"
            ],
            [
             0.3,
             "#f1b6da"
            ],
            [
             0.4,
             "#fde0ef"
            ],
            [
             0.5,
             "#f7f7f7"
            ],
            [
             0.6,
             "#e6f5d0"
            ],
            [
             0.7,
             "#b8e186"
            ],
            [
             0.8,
             "#7fbc41"
            ],
            [
             0.9,
             "#4d9221"
            ],
            [
             1,
             "#276419"
            ]
           ],
           "sequential": [
            [
             0,
             "#0d0887"
            ],
            [
             0.1111111111111111,
             "#46039f"
            ],
            [
             0.2222222222222222,
             "#7201a8"
            ],
            [
             0.3333333333333333,
             "#9c179e"
            ],
            [
             0.4444444444444444,
             "#bd3786"
            ],
            [
             0.5555555555555556,
             "#d8576b"
            ],
            [
             0.6666666666666666,
             "#ed7953"
            ],
            [
             0.7777777777777778,
             "#fb9f3a"
            ],
            [
             0.8888888888888888,
             "#fdca26"
            ],
            [
             1,
             "#f0f921"
            ]
           ],
           "sequentialminus": [
            [
             0,
             "#0d0887"
            ],
            [
             0.1111111111111111,
             "#46039f"
            ],
            [
             0.2222222222222222,
             "#7201a8"
            ],
            [
             0.3333333333333333,
             "#9c179e"
            ],
            [
             0.4444444444444444,
             "#bd3786"
            ],
            [
             0.5555555555555556,
             "#d8576b"
            ],
            [
             0.6666666666666666,
             "#ed7953"
            ],
            [
             0.7777777777777778,
             "#fb9f3a"
            ],
            [
             0.8888888888888888,
             "#fdca26"
            ],
            [
             1,
             "#f0f921"
            ]
           ]
          },
          "colorway": [
           "#636efa",
           "#EF553B",
           "#00cc96",
           "#ab63fa",
           "#FFA15A",
           "#19d3f3",
           "#FF6692",
           "#B6E880",
           "#FF97FF",
           "#FECB52"
          ],
          "font": {
           "color": "#2a3f5f"
          },
          "geo": {
           "bgcolor": "white",
           "lakecolor": "white",
           "landcolor": "#E5ECF6",
           "showlakes": true,
           "showland": true,
           "subunitcolor": "white"
          },
          "hoverlabel": {
           "align": "left"
          },
          "hovermode": "closest",
          "mapbox": {
           "style": "light"
          },
          "paper_bgcolor": "white",
          "plot_bgcolor": "#E5ECF6",
          "polar": {
           "angularaxis": {
            "gridcolor": "white",
            "linecolor": "white",
            "ticks": ""
           },
           "bgcolor": "#E5ECF6",
           "radialaxis": {
            "gridcolor": "white",
            "linecolor": "white",
            "ticks": ""
           }
          },
          "scene": {
           "xaxis": {
            "backgroundcolor": "#E5ECF6",
            "gridcolor": "white",
            "gridwidth": 2,
            "linecolor": "white",
            "showbackground": true,
            "ticks": "",
            "zerolinecolor": "white"
           },
           "yaxis": {
            "backgroundcolor": "#E5ECF6",
            "gridcolor": "white",
            "gridwidth": 2,
            "linecolor": "white",
            "showbackground": true,
            "ticks": "",
            "zerolinecolor": "white"
           },
           "zaxis": {
            "backgroundcolor": "#E5ECF6",
            "gridcolor": "white",
            "gridwidth": 2,
            "linecolor": "white",
            "showbackground": true,
            "ticks": "",
            "zerolinecolor": "white"
           }
          },
          "shapedefaults": {
           "line": {
            "color": "#2a3f5f"
           }
          },
          "ternary": {
           "aaxis": {
            "gridcolor": "white",
            "linecolor": "white",
            "ticks": ""
           },
           "baxis": {
            "gridcolor": "white",
            "linecolor": "white",
            "ticks": ""
           },
           "bgcolor": "#E5ECF6",
           "caxis": {
            "gridcolor": "white",
            "linecolor": "white",
            "ticks": ""
           }
          },
          "title": {
           "x": 0.05
          },
          "xaxis": {
           "automargin": true,
           "gridcolor": "white",
           "linecolor": "white",
           "ticks": "",
           "title": {
            "standoff": 15
           },
           "zerolinecolor": "white",
           "zerolinewidth": 2
          },
          "yaxis": {
           "automargin": true,
           "gridcolor": "white",
           "linecolor": "white",
           "ticks": "",
           "title": {
            "standoff": 15
           },
           "zerolinecolor": "white",
           "zerolinewidth": 2
          }
         }
        }
       }
      }
     },
     "metadata": {},
     "output_type": "display_data"
    }
   ],
   "source": [
    "pinta_mapa(df)"
   ]
  },
  {
   "cell_type": "markdown",
   "metadata": {},
   "source": [
    "## Mudanza\n",
    "Imagina que te quieres mudar al Berrueco, pero antes te gustaría obtener algún indicador de si hay civilización por esa zona. Mira a ver si existe gasolineras y/o colegios por la zona. Define, al igual que en el caso anterior, un rectángulo mediante dos coordenadas. Busca la manera de realizar una única petición a la API.\n",
    "\n",
    "Representa después en un mapa, por color los colegios y gasolineras"
   ]
  },
  {
   "cell_type": "code",
   "execution_count": 184,
   "metadata": {},
   "outputs": [
    {
     "name": "stdout",
     "output_type": "stream",
     "text": [
      "<Response [200]>\n"
     ]
    },
    {
     "data": {
      "text/html": [
       "<div>\n",
       "<style scoped>\n",
       "    .dataframe tbody tr th:only-of-type {\n",
       "        vertical-align: middle;\n",
       "    }\n",
       "\n",
       "    .dataframe tbody tr th {\n",
       "        vertical-align: top;\n",
       "    }\n",
       "\n",
       "    .dataframe thead th {\n",
       "        text-align: right;\n",
       "    }\n",
       "</style>\n",
       "<table border=\"1\" class=\"dataframe\">\n",
       "  <thead>\n",
       "    <tr style=\"text-align: right;\">\n",
       "      <th></th>\n",
       "      <th>tipo</th>\n",
       "      <th>lat</th>\n",
       "      <th>lon</th>\n",
       "      <th>name</th>\n",
       "      <th>address</th>\n",
       "    </tr>\n",
       "  </thead>\n",
       "  <tbody>\n",
       "    <tr>\n",
       "      <th>0</th>\n",
       "      <td>music_school</td>\n",
       "      <td>40.872876</td>\n",
       "      <td>-3.606421</td>\n",
       "      <td>Escuela Municipal De Musica Y Danza La Cabrera</td>\n",
       "      <td>NO STREET 96</td>\n",
       "    </tr>\n",
       "    <tr>\n",
       "      <th>1</th>\n",
       "      <td>fuel</td>\n",
       "      <td>40.875833</td>\n",
       "      <td>-3.602389</td>\n",
       "      <td>Shell</td>\n",
       "      <td>Avenida de La Cabrera 9999</td>\n",
       "    </tr>\n",
       "  </tbody>\n",
       "</table>\n",
       "</div>"
      ],
      "text/plain": [
       "           tipo        lat       lon  \\\n",
       "0  music_school  40.872876 -3.606421   \n",
       "1          fuel  40.875833 -3.602389   \n",
       "\n",
       "                                             name                     address  \n",
       "0  Escuela Municipal De Musica Y Danza La Cabrera                NO STREET 96  \n",
       "1                                           Shell  Avenida de La Cabrera 9999  "
      ]
     },
     "execution_count": 184,
     "metadata": {},
     "output_type": "execute_result"
    }
   ],
   "source": [
    "overpass_url = \"http://overpass-api.de/api/interpreter\"\n",
    "overpass_query = \"\"\"\n",
    "[out:json];\n",
    "node[\"amenity\"~\"school|fuel\"]\n",
    "  (40.8637,-3.6071,40.9105,-3.5136);\n",
    "out;\n",
    "\"\"\"\n",
    "response = requests.get(overpass_url,\n",
    "                        params={'data': overpass_query})\n",
    "print(response)\n",
    "data = response.json()\n",
    "df_muda = json_to_df(data)\n",
    "df_muda"
   ]
  },
  {
   "cell_type": "code",
   "execution_count": 185,
   "metadata": {},
   "outputs": [],
   "source": [
    "def json_to_df(data):\n",
    "    elements = data['elements']\n",
    "    places = {'tipo': [], 'lat': [], 'lon': [], 'name': [], 'address': []}\n",
    "    \n",
    "    for i in elements:\n",
    "        \n",
    "        tipo = i.get('tags', None).get('amenity', None)\n",
    "        latitude = i.get('lat', None)\n",
    "        longitude = i.get('lon', None)\n",
    "        name = i.get('tags', {}).get('name', \"NO NAME\")\n",
    "        street = i.get('tags', {}).get('addr:street', \"NO STREET\")\n",
    "        number = i.get('tags', {}).get('addr:housenumber', 9999)\n",
    "\n",
    "        places['tipo'].append(tipo)\n",
    "        places['lat'].append(latitude)\n",
    "        places['lon'].append(longitude)\n",
    "        places['name'].append(name)\n",
    "        places['address'].append(street + ' ' + str(number))\n",
    "\n",
    "            \n",
    "    return pd.DataFrame(places)"
   ]
  },
  {
   "cell_type": "code",
   "execution_count": 186,
   "metadata": {},
   "outputs": [],
   "source": [
    "import plotly.express as px\n",
    "\n",
    "mapbox_access_token = \"pk.eyJ1IjoiZGFvcnRpIiwiYSI6ImNrZnF6M3FlczA3cDEyem16YTNzZmV4M2EifQ.846iF0sMSAXv0kwkwUTYjg\"\n",
    "\n",
    "def pinta_mapa(df_muda):\n",
    "    fig = px.scatter_mapbox(df_muda,\n",
    "                            lat=\"lat\",\n",
    "                            lon=\"lon\",\n",
    "                            color = \"tipo\",\n",
    "                      color_continuous_scale=px.colors.cyclical.IceFire, size_max=15, zoom=11)\n",
    "    fig.update_layout(\n",
    "        mapbox=dict(\n",
    "            accesstoken=mapbox_access_token\n",
    "        )\n",
    "    )\n",
    "\n",
    "    fig.show()"
   ]
  },
  {
   "cell_type": "code",
   "execution_count": 187,
   "metadata": {},
   "outputs": [
    {
     "data": {
      "application/vnd.plotly.v1+json": {
       "config": {
        "plotlyServerURL": "https://plot.ly"
       },
       "data": [
        {
         "hovertemplate": "tipo=music_school<br>lat=%{lat}<br>lon=%{lon}<extra></extra>",
         "lat": [
          40.8728757
         ],
         "legendgroup": "music_school",
         "lon": [
          -3.6064211
         ],
         "marker": {
          "color": "#636efa"
         },
         "mode": "markers",
         "name": "music_school",
         "showlegend": true,
         "subplot": "mapbox",
         "type": "scattermapbox"
        },
        {
         "hovertemplate": "tipo=fuel<br>lat=%{lat}<br>lon=%{lon}<extra></extra>",
         "lat": [
          40.8758331
         ],
         "legendgroup": "fuel",
         "lon": [
          -3.602389
         ],
         "marker": {
          "color": "#EF553B"
         },
         "mode": "markers",
         "name": "fuel",
         "showlegend": true,
         "subplot": "mapbox",
         "type": "scattermapbox"
        }
       ],
       "layout": {
        "legend": {
         "title": {
          "text": "tipo"
         },
         "tracegroupgap": 0
        },
        "mapbox": {
         "accesstoken": "pk.eyJ1IjoiZGFvcnRpIiwiYSI6ImNrZnF6M3FlczA3cDEyem16YTNzZmV4M2EifQ.846iF0sMSAXv0kwkwUTYjg",
         "center": {
          "lat": 40.8743544,
          "lon": -3.60440505
         },
         "domain": {
          "x": [
           0,
           1
          ],
          "y": [
           0,
           1
          ]
         },
         "zoom": 11
        },
        "margin": {
         "t": 60
        },
        "template": {
         "data": {
          "bar": [
           {
            "error_x": {
             "color": "#2a3f5f"
            },
            "error_y": {
             "color": "#2a3f5f"
            },
            "marker": {
             "line": {
              "color": "#E5ECF6",
              "width": 0.5
             },
             "pattern": {
              "fillmode": "overlay",
              "size": 10,
              "solidity": 0.2
             }
            },
            "type": "bar"
           }
          ],
          "barpolar": [
           {
            "marker": {
             "line": {
              "color": "#E5ECF6",
              "width": 0.5
             },
             "pattern": {
              "fillmode": "overlay",
              "size": 10,
              "solidity": 0.2
             }
            },
            "type": "barpolar"
           }
          ],
          "carpet": [
           {
            "aaxis": {
             "endlinecolor": "#2a3f5f",
             "gridcolor": "white",
             "linecolor": "white",
             "minorgridcolor": "white",
             "startlinecolor": "#2a3f5f"
            },
            "baxis": {
             "endlinecolor": "#2a3f5f",
             "gridcolor": "white",
             "linecolor": "white",
             "minorgridcolor": "white",
             "startlinecolor": "#2a3f5f"
            },
            "type": "carpet"
           }
          ],
          "choropleth": [
           {
            "colorbar": {
             "outlinewidth": 0,
             "ticks": ""
            },
            "type": "choropleth"
           }
          ],
          "contour": [
           {
            "colorbar": {
             "outlinewidth": 0,
             "ticks": ""
            },
            "colorscale": [
             [
              0,
              "#0d0887"
             ],
             [
              0.1111111111111111,
              "#46039f"
             ],
             [
              0.2222222222222222,
              "#7201a8"
             ],
             [
              0.3333333333333333,
              "#9c179e"
             ],
             [
              0.4444444444444444,
              "#bd3786"
             ],
             [
              0.5555555555555556,
              "#d8576b"
             ],
             [
              0.6666666666666666,
              "#ed7953"
             ],
             [
              0.7777777777777778,
              "#fb9f3a"
             ],
             [
              0.8888888888888888,
              "#fdca26"
             ],
             [
              1,
              "#f0f921"
             ]
            ],
            "type": "contour"
           }
          ],
          "contourcarpet": [
           {
            "colorbar": {
             "outlinewidth": 0,
             "ticks": ""
            },
            "type": "contourcarpet"
           }
          ],
          "heatmap": [
           {
            "colorbar": {
             "outlinewidth": 0,
             "ticks": ""
            },
            "colorscale": [
             [
              0,
              "#0d0887"
             ],
             [
              0.1111111111111111,
              "#46039f"
             ],
             [
              0.2222222222222222,
              "#7201a8"
             ],
             [
              0.3333333333333333,
              "#9c179e"
             ],
             [
              0.4444444444444444,
              "#bd3786"
             ],
             [
              0.5555555555555556,
              "#d8576b"
             ],
             [
              0.6666666666666666,
              "#ed7953"
             ],
             [
              0.7777777777777778,
              "#fb9f3a"
             ],
             [
              0.8888888888888888,
              "#fdca26"
             ],
             [
              1,
              "#f0f921"
             ]
            ],
            "type": "heatmap"
           }
          ],
          "heatmapgl": [
           {
            "colorbar": {
             "outlinewidth": 0,
             "ticks": ""
            },
            "colorscale": [
             [
              0,
              "#0d0887"
             ],
             [
              0.1111111111111111,
              "#46039f"
             ],
             [
              0.2222222222222222,
              "#7201a8"
             ],
             [
              0.3333333333333333,
              "#9c179e"
             ],
             [
              0.4444444444444444,
              "#bd3786"
             ],
             [
              0.5555555555555556,
              "#d8576b"
             ],
             [
              0.6666666666666666,
              "#ed7953"
             ],
             [
              0.7777777777777778,
              "#fb9f3a"
             ],
             [
              0.8888888888888888,
              "#fdca26"
             ],
             [
              1,
              "#f0f921"
             ]
            ],
            "type": "heatmapgl"
           }
          ],
          "histogram": [
           {
            "marker": {
             "pattern": {
              "fillmode": "overlay",
              "size": 10,
              "solidity": 0.2
             }
            },
            "type": "histogram"
           }
          ],
          "histogram2d": [
           {
            "colorbar": {
             "outlinewidth": 0,
             "ticks": ""
            },
            "colorscale": [
             [
              0,
              "#0d0887"
             ],
             [
              0.1111111111111111,
              "#46039f"
             ],
             [
              0.2222222222222222,
              "#7201a8"
             ],
             [
              0.3333333333333333,
              "#9c179e"
             ],
             [
              0.4444444444444444,
              "#bd3786"
             ],
             [
              0.5555555555555556,
              "#d8576b"
             ],
             [
              0.6666666666666666,
              "#ed7953"
             ],
             [
              0.7777777777777778,
              "#fb9f3a"
             ],
             [
              0.8888888888888888,
              "#fdca26"
             ],
             [
              1,
              "#f0f921"
             ]
            ],
            "type": "histogram2d"
           }
          ],
          "histogram2dcontour": [
           {
            "colorbar": {
             "outlinewidth": 0,
             "ticks": ""
            },
            "colorscale": [
             [
              0,
              "#0d0887"
             ],
             [
              0.1111111111111111,
              "#46039f"
             ],
             [
              0.2222222222222222,
              "#7201a8"
             ],
             [
              0.3333333333333333,
              "#9c179e"
             ],
             [
              0.4444444444444444,
              "#bd3786"
             ],
             [
              0.5555555555555556,
              "#d8576b"
             ],
             [
              0.6666666666666666,
              "#ed7953"
             ],
             [
              0.7777777777777778,
              "#fb9f3a"
             ],
             [
              0.8888888888888888,
              "#fdca26"
             ],
             [
              1,
              "#f0f921"
             ]
            ],
            "type": "histogram2dcontour"
           }
          ],
          "mesh3d": [
           {
            "colorbar": {
             "outlinewidth": 0,
             "ticks": ""
            },
            "type": "mesh3d"
           }
          ],
          "parcoords": [
           {
            "line": {
             "colorbar": {
              "outlinewidth": 0,
              "ticks": ""
             }
            },
            "type": "parcoords"
           }
          ],
          "pie": [
           {
            "automargin": true,
            "type": "pie"
           }
          ],
          "scatter": [
           {
            "fillpattern": {
             "fillmode": "overlay",
             "size": 10,
             "solidity": 0.2
            },
            "type": "scatter"
           }
          ],
          "scatter3d": [
           {
            "line": {
             "colorbar": {
              "outlinewidth": 0,
              "ticks": ""
             }
            },
            "marker": {
             "colorbar": {
              "outlinewidth": 0,
              "ticks": ""
             }
            },
            "type": "scatter3d"
           }
          ],
          "scattercarpet": [
           {
            "marker": {
             "colorbar": {
              "outlinewidth": 0,
              "ticks": ""
             }
            },
            "type": "scattercarpet"
           }
          ],
          "scattergeo": [
           {
            "marker": {
             "colorbar": {
              "outlinewidth": 0,
              "ticks": ""
             }
            },
            "type": "scattergeo"
           }
          ],
          "scattergl": [
           {
            "marker": {
             "colorbar": {
              "outlinewidth": 0,
              "ticks": ""
             }
            },
            "type": "scattergl"
           }
          ],
          "scattermapbox": [
           {
            "marker": {
             "colorbar": {
              "outlinewidth": 0,
              "ticks": ""
             }
            },
            "type": "scattermapbox"
           }
          ],
          "scatterpolar": [
           {
            "marker": {
             "colorbar": {
              "outlinewidth": 0,
              "ticks": ""
             }
            },
            "type": "scatterpolar"
           }
          ],
          "scatterpolargl": [
           {
            "marker": {
             "colorbar": {
              "outlinewidth": 0,
              "ticks": ""
             }
            },
            "type": "scatterpolargl"
           }
          ],
          "scatterternary": [
           {
            "marker": {
             "colorbar": {
              "outlinewidth": 0,
              "ticks": ""
             }
            },
            "type": "scatterternary"
           }
          ],
          "surface": [
           {
            "colorbar": {
             "outlinewidth": 0,
             "ticks": ""
            },
            "colorscale": [
             [
              0,
              "#0d0887"
             ],
             [
              0.1111111111111111,
              "#46039f"
             ],
             [
              0.2222222222222222,
              "#7201a8"
             ],
             [
              0.3333333333333333,
              "#9c179e"
             ],
             [
              0.4444444444444444,
              "#bd3786"
             ],
             [
              0.5555555555555556,
              "#d8576b"
             ],
             [
              0.6666666666666666,
              "#ed7953"
             ],
             [
              0.7777777777777778,
              "#fb9f3a"
             ],
             [
              0.8888888888888888,
              "#fdca26"
             ],
             [
              1,
              "#f0f921"
             ]
            ],
            "type": "surface"
           }
          ],
          "table": [
           {
            "cells": {
             "fill": {
              "color": "#EBF0F8"
             },
             "line": {
              "color": "white"
             }
            },
            "header": {
             "fill": {
              "color": "#C8D4E3"
             },
             "line": {
              "color": "white"
             }
            },
            "type": "table"
           }
          ]
         },
         "layout": {
          "annotationdefaults": {
           "arrowcolor": "#2a3f5f",
           "arrowhead": 0,
           "arrowwidth": 1
          },
          "autotypenumbers": "strict",
          "coloraxis": {
           "colorbar": {
            "outlinewidth": 0,
            "ticks": ""
           }
          },
          "colorscale": {
           "diverging": [
            [
             0,
             "#8e0152"
            ],
            [
             0.1,
             "#c51b7d"
            ],
            [
             0.2,
             "#de77ae"
            ],
            [
             0.3,
             "#f1b6da"
            ],
            [
             0.4,
             "#fde0ef"
            ],
            [
             0.5,
             "#f7f7f7"
            ],
            [
             0.6,
             "#e6f5d0"
            ],
            [
             0.7,
             "#b8e186"
            ],
            [
             0.8,
             "#7fbc41"
            ],
            [
             0.9,
             "#4d9221"
            ],
            [
             1,
             "#276419"
            ]
           ],
           "sequential": [
            [
             0,
             "#0d0887"
            ],
            [
             0.1111111111111111,
             "#46039f"
            ],
            [
             0.2222222222222222,
             "#7201a8"
            ],
            [
             0.3333333333333333,
             "#9c179e"
            ],
            [
             0.4444444444444444,
             "#bd3786"
            ],
            [
             0.5555555555555556,
             "#d8576b"
            ],
            [
             0.6666666666666666,
             "#ed7953"
            ],
            [
             0.7777777777777778,
             "#fb9f3a"
            ],
            [
             0.8888888888888888,
             "#fdca26"
            ],
            [
             1,
             "#f0f921"
            ]
           ],
           "sequentialminus": [
            [
             0,
             "#0d0887"
            ],
            [
             0.1111111111111111,
             "#46039f"
            ],
            [
             0.2222222222222222,
             "#7201a8"
            ],
            [
             0.3333333333333333,
             "#9c179e"
            ],
            [
             0.4444444444444444,
             "#bd3786"
            ],
            [
             0.5555555555555556,
             "#d8576b"
            ],
            [
             0.6666666666666666,
             "#ed7953"
            ],
            [
             0.7777777777777778,
             "#fb9f3a"
            ],
            [
             0.8888888888888888,
             "#fdca26"
            ],
            [
             1,
             "#f0f921"
            ]
           ]
          },
          "colorway": [
           "#636efa",
           "#EF553B",
           "#00cc96",
           "#ab63fa",
           "#FFA15A",
           "#19d3f3",
           "#FF6692",
           "#B6E880",
           "#FF97FF",
           "#FECB52"
          ],
          "font": {
           "color": "#2a3f5f"
          },
          "geo": {
           "bgcolor": "white",
           "lakecolor": "white",
           "landcolor": "#E5ECF6",
           "showlakes": true,
           "showland": true,
           "subunitcolor": "white"
          },
          "hoverlabel": {
           "align": "left"
          },
          "hovermode": "closest",
          "mapbox": {
           "style": "light"
          },
          "paper_bgcolor": "white",
          "plot_bgcolor": "#E5ECF6",
          "polar": {
           "angularaxis": {
            "gridcolor": "white",
            "linecolor": "white",
            "ticks": ""
           },
           "bgcolor": "#E5ECF6",
           "radialaxis": {
            "gridcolor": "white",
            "linecolor": "white",
            "ticks": ""
           }
          },
          "scene": {
           "xaxis": {
            "backgroundcolor": "#E5ECF6",
            "gridcolor": "white",
            "gridwidth": 2,
            "linecolor": "white",
            "showbackground": true,
            "ticks": "",
            "zerolinecolor": "white"
           },
           "yaxis": {
            "backgroundcolor": "#E5ECF6",
            "gridcolor": "white",
            "gridwidth": 2,
            "linecolor": "white",
            "showbackground": true,
            "ticks": "",
            "zerolinecolor": "white"
           },
           "zaxis": {
            "backgroundcolor": "#E5ECF6",
            "gridcolor": "white",
            "gridwidth": 2,
            "linecolor": "white",
            "showbackground": true,
            "ticks": "",
            "zerolinecolor": "white"
           }
          },
          "shapedefaults": {
           "line": {
            "color": "#2a3f5f"
           }
          },
          "ternary": {
           "aaxis": {
            "gridcolor": "white",
            "linecolor": "white",
            "ticks": ""
           },
           "baxis": {
            "gridcolor": "white",
            "linecolor": "white",
            "ticks": ""
           },
           "bgcolor": "#E5ECF6",
           "caxis": {
            "gridcolor": "white",
            "linecolor": "white",
            "ticks": ""
           }
          },
          "title": {
           "x": 0.05
          },
          "xaxis": {
           "automargin": true,
           "gridcolor": "white",
           "linecolor": "white",
           "ticks": "",
           "title": {
            "standoff": 15
           },
           "zerolinecolor": "white",
           "zerolinewidth": 2
          },
          "yaxis": {
           "automargin": true,
           "gridcolor": "white",
           "linecolor": "white",
           "ticks": "",
           "title": {
            "standoff": 15
           },
           "zerolinecolor": "white",
           "zerolinewidth": 2
          }
         }
        }
       }
      }
     },
     "metadata": {},
     "output_type": "display_data"
    }
   ],
   "source": [
    "pinta_mapa(df_muda)"
   ]
  },
  {
   "cell_type": "markdown",
   "metadata": {},
   "source": [
    "## Zonas COVID\n",
    "Imagina que trabajas en el ayuntamiento de tu barrio/pueblo/ciudad, y por motivos del COVID tienes que identificar:\n",
    "1. Todas las zonas abiertas de uso común (zonas de barbacoas, fuentes de agua y parques infantiles (kindergarten)), para cerrarlas.\n",
    "2. Todos los hospitales y clínicas de la zona.\n",
    "\n",
    "Como no sabes muy bien qué puntos serán, utilizas la API de OpenStreetMap. Representa todo en un único mapa"
   ]
  },
  {
   "cell_type": "code",
   "execution_count": 188,
   "metadata": {},
   "outputs": [
    {
     "name": "stdout",
     "output_type": "stream",
     "text": [
      "<Response [200]>\n"
     ]
    },
    {
     "data": {
      "text/html": [
       "<div>\n",
       "<style scoped>\n",
       "    .dataframe tbody tr th:only-of-type {\n",
       "        vertical-align: middle;\n",
       "    }\n",
       "\n",
       "    .dataframe tbody tr th {\n",
       "        vertical-align: top;\n",
       "    }\n",
       "\n",
       "    .dataframe thead th {\n",
       "        text-align: right;\n",
       "    }\n",
       "</style>\n",
       "<table border=\"1\" class=\"dataframe\">\n",
       "  <thead>\n",
       "    <tr style=\"text-align: right;\">\n",
       "      <th></th>\n",
       "      <th>tipo</th>\n",
       "      <th>lat</th>\n",
       "      <th>lon</th>\n",
       "      <th>name</th>\n",
       "      <th>address</th>\n",
       "    </tr>\n",
       "  </thead>\n",
       "  <tbody>\n",
       "    <tr>\n",
       "      <th>0</th>\n",
       "      <td>drinking_water</td>\n",
       "      <td>37.371685</td>\n",
       "      <td>-6.049114</td>\n",
       "      <td>NO NAME</td>\n",
       "      <td>NO STREET 9999</td>\n",
       "    </tr>\n",
       "    <tr>\n",
       "      <th>1</th>\n",
       "      <td>drinking_water</td>\n",
       "      <td>37.387834</td>\n",
       "      <td>-6.001198</td>\n",
       "      <td>Fuente para beber agua potable</td>\n",
       "      <td>NO STREET 9999</td>\n",
       "    </tr>\n",
       "    <tr>\n",
       "      <th>2</th>\n",
       "      <td>drinking_water</td>\n",
       "      <td>37.393873</td>\n",
       "      <td>-5.983184</td>\n",
       "      <td>NO NAME</td>\n",
       "      <td>NO STREET 9999</td>\n",
       "    </tr>\n",
       "    <tr>\n",
       "      <th>3</th>\n",
       "      <td>drinking_water</td>\n",
       "      <td>37.393116</td>\n",
       "      <td>-5.986985</td>\n",
       "      <td>NO NAME</td>\n",
       "      <td>NO STREET 9999</td>\n",
       "    </tr>\n",
       "    <tr>\n",
       "      <th>4</th>\n",
       "      <td>drinking_water</td>\n",
       "      <td>37.392572</td>\n",
       "      <td>-5.989869</td>\n",
       "      <td>NO NAME</td>\n",
       "      <td>NO STREET 9999</td>\n",
       "    </tr>\n",
       "    <tr>\n",
       "      <th>...</th>\n",
       "      <td>...</td>\n",
       "      <td>...</td>\n",
       "      <td>...</td>\n",
       "      <td>...</td>\n",
       "      <td>...</td>\n",
       "    </tr>\n",
       "    <tr>\n",
       "      <th>398</th>\n",
       "      <td>clinic</td>\n",
       "      <td>37.376331</td>\n",
       "      <td>-6.001857</td>\n",
       "      <td>Alfamedica Centro de Rehabilitación</td>\n",
       "      <td>Calle Pedro Pérez Fernández 7</td>\n",
       "    </tr>\n",
       "    <tr>\n",
       "      <th>399</th>\n",
       "      <td>clinic</td>\n",
       "      <td>37.388650</td>\n",
       "      <td>-6.011749</td>\n",
       "      <td>NO NAME</td>\n",
       "      <td>Calle Rafael Belmonte García 9999</td>\n",
       "    </tr>\n",
       "    <tr>\n",
       "      <th>400</th>\n",
       "      <td>drinking_water</td>\n",
       "      <td>37.385240</td>\n",
       "      <td>-5.998645</td>\n",
       "      <td>NO NAME</td>\n",
       "      <td>NO STREET 9999</td>\n",
       "    </tr>\n",
       "    <tr>\n",
       "      <th>401</th>\n",
       "      <td>drinking_water</td>\n",
       "      <td>37.347229</td>\n",
       "      <td>-5.980046</td>\n",
       "      <td>NO NAME</td>\n",
       "      <td>NO STREET 9999</td>\n",
       "    </tr>\n",
       "    <tr>\n",
       "      <th>402</th>\n",
       "      <td>drinking_water</td>\n",
       "      <td>37.424213</td>\n",
       "      <td>-5.898017</td>\n",
       "      <td>NO NAME</td>\n",
       "      <td>NO STREET 9999</td>\n",
       "    </tr>\n",
       "  </tbody>\n",
       "</table>\n",
       "<p>403 rows × 5 columns</p>\n",
       "</div>"
      ],
      "text/plain": [
       "               tipo        lat       lon                                 name  \\\n",
       "0    drinking_water  37.371685 -6.049114                              NO NAME   \n",
       "1    drinking_water  37.387834 -6.001198       Fuente para beber agua potable   \n",
       "2    drinking_water  37.393873 -5.983184                              NO NAME   \n",
       "3    drinking_water  37.393116 -5.986985                              NO NAME   \n",
       "4    drinking_water  37.392572 -5.989869                              NO NAME   \n",
       "..              ...        ...       ...                                  ...   \n",
       "398          clinic  37.376331 -6.001857  Alfamedica Centro de Rehabilitación   \n",
       "399          clinic  37.388650 -6.011749                              NO NAME   \n",
       "400  drinking_water  37.385240 -5.998645                              NO NAME   \n",
       "401  drinking_water  37.347229 -5.980046                              NO NAME   \n",
       "402  drinking_water  37.424213 -5.898017                              NO NAME   \n",
       "\n",
       "                               address  \n",
       "0                       NO STREET 9999  \n",
       "1                       NO STREET 9999  \n",
       "2                       NO STREET 9999  \n",
       "3                       NO STREET 9999  \n",
       "4                       NO STREET 9999  \n",
       "..                                 ...  \n",
       "398      Calle Pedro Pérez Fernández 7  \n",
       "399  Calle Rafael Belmonte García 9999  \n",
       "400                     NO STREET 9999  \n",
       "401                     NO STREET 9999  \n",
       "402                     NO STREET 9999  \n",
       "\n",
       "[403 rows x 5 columns]"
      ]
     },
     "execution_count": 188,
     "metadata": {},
     "output_type": "execute_result"
    }
   ],
   "source": [
    "overpass_url = \"http://overpass-api.de/api/interpreter\"\n",
    "overpass_query = \"\"\"\n",
    "[out:json];\n",
    "node[\"amenity\"~\"bbq|drinking_water|kindergarten|clinic|hospital\"]\n",
    "\n",
    "  (37.3369,-6.0772,37.4322,-5.8736);\n",
    "out;\n",
    "\"\"\"\n",
    "response = requests.get(overpass_url,\n",
    "                        params={'data': overpass_query})\n",
    "print(response)\n",
    "data = response.json()\n",
    "df_covid = json_to_df(data)\n",
    "df_covid"
   ]
  },
  {
   "cell_type": "code",
   "execution_count": 189,
   "metadata": {},
   "outputs": [],
   "source": [
    "def json_to_df(data):\n",
    "    elements = data['elements']\n",
    "    places = {'tipo': [], 'lat': [], 'lon': [], 'name': [], 'address': []}\n",
    "    \n",
    "    for i in elements:\n",
    "        \n",
    "        tipo = i.get('tags', None).get('amenity', None)\n",
    "        latitude = i.get('lat', None)\n",
    "        longitude = i.get('lon', None)\n",
    "        name = i.get('tags', {}).get('name', \"NO NAME\")\n",
    "        street = i.get('tags', {}).get('addr:street', \"NO STREET\")\n",
    "        number = i.get('tags', {}).get('addr:housenumber', 9999)\n",
    "\n",
    "        places['tipo'].append(tipo)\n",
    "        places['lat'].append(latitude)\n",
    "        places['lon'].append(longitude)\n",
    "        places['name'].append(name)\n",
    "        places['address'].append(street + ' ' + str(number))\n",
    "\n",
    "            \n",
    "    return pd.DataFrame(places)"
   ]
  },
  {
   "cell_type": "code",
   "execution_count": 190,
   "metadata": {},
   "outputs": [],
   "source": [
    "import plotly.express as px\n",
    "\n",
    "mapbox_access_token = \"pk.eyJ1IjoiZGFvcnRpIiwiYSI6ImNrZnF6M3FlczA3cDEyem16YTNzZmV4M2EifQ.846iF0sMSAXv0kwkwUTYjg\"\n",
    "\n",
    "def pinta_mapa(df_muda):\n",
    "    fig = px.scatter_mapbox(df_muda,\n",
    "                            lat=\"lat\",\n",
    "                            lon=\"lon\",\n",
    "                            color = \"tipo\",\n",
    "                      color_continuous_scale=px.colors.cyclical.IceFire, size_max=15, zoom=11)\n",
    "    fig.update_layout(\n",
    "        mapbox=dict(\n",
    "            accesstoken=mapbox_access_token\n",
    "        )\n",
    "    )\n",
    "\n",
    "    fig.show()"
   ]
  },
  {
   "cell_type": "code",
   "execution_count": 191,
   "metadata": {},
   "outputs": [
    {
     "data": {
      "application/vnd.plotly.v1+json": {
       "config": {
        "plotlyServerURL": "https://plot.ly"
       },
       "data": [
        {
         "hovertemplate": "tipo=drinking_water<br>lat=%{lat}<br>lon=%{lon}<extra></extra>",
         "lat": [
          37.3716847,
          37.3878336,
          37.3938735,
          37.3931158,
          37.3925718,
          37.3984576,
          37.4031831,
          37.4256568,
          37.4212779,
          37.4156519,
          37.3989909,
          37.3999665,
          37.4022227,
          37.380187,
          37.3823153,
          37.3827902,
          37.4019605,
          37.3940137,
          37.3882815,
          37.3955377,
          37.4118105,
          37.4142788,
          37.4119276,
          37.4142404,
          37.4069465,
          37.4119518,
          37.4012747,
          37.3883996,
          37.388882,
          37.4015517,
          37.3944097,
          37.3866247,
          37.4155346,
          37.3978697,
          37.3772498,
          37.3971086,
          37.3822915,
          37.3838188,
          37.3717371,
          37.3935338,
          37.3715256,
          37.3984843,
          37.392567,
          37.3815053,
          37.4196374,
          37.418862,
          37.4076749,
          37.379314,
          37.3849642,
          37.3907572,
          37.4272506,
          37.4208901,
          37.3654579,
          37.4124883,
          37.3643886,
          37.371306,
          37.3999396,
          37.3769269,
          37.4260342,
          37.3938786,
          37.3925547,
          37.3951596,
          37.3926129,
          37.40989,
          37.3711714,
          37.3826593,
          37.4017375,
          37.3775668,
          37.3543743,
          37.3794504,
          37.3854389,
          37.3776086,
          37.3814542,
          37.3540246,
          37.4037058,
          37.3717953,
          37.3840096,
          37.3826449,
          37.346411,
          37.3401351,
          37.340585,
          37.3425647,
          37.3737444,
          37.3751257,
          37.3774431,
          37.3817902,
          37.3942303,
          37.3753105,
          37.3763948,
          37.3480232,
          37.4140951,
          37.4118177,
          37.4119831,
          37.401486,
          37.3971266,
          37.3743446,
          37.3459811,
          37.3460495,
          37.3451624,
          37.3469862,
          37.3465881,
          37.3444422,
          37.3979664,
          37.3977478,
          37.403826,
          37.4057055,
          37.3566857,
          37.3558783,
          37.3868076,
          37.4164665,
          37.4132823,
          37.4105643,
          37.3974617,
          37.410674,
          37.4013391,
          37.4037198,
          37.3847128,
          37.3773596,
          37.3749035,
          37.3802156,
          37.3734815,
          37.4115265,
          37.4289501,
          37.4223343,
          37.3846484,
          37.3914863,
          37.3909323,
          37.3901498,
          37.3926399,
          37.3926783,
          37.411774,
          37.3952273,
          37.3927517,
          37.3852083,
          37.4179762,
          37.4174603,
          37.3864918,
          37.3740197,
          37.3844051,
          37.399131,
          37.3888388,
          37.388703,
          37.3861474,
          37.3868518,
          37.3876085,
          37.4228805,
          37.4084211,
          37.4096399,
          37.4267863,
          37.3764289,
          37.4189717,
          37.3738487,
          37.3777386,
          37.3936476,
          37.4026046,
          37.3904978,
          37.3912455,
          37.3811344,
          37.3788231,
          37.3735574,
          37.3830945,
          37.3807927,
          37.3859524,
          37.390255,
          37.383698,
          37.377711,
          37.377355,
          37.3683916,
          37.3673764,
          37.392469,
          37.3897789,
          37.3747021,
          37.3789206,
          37.3811068,
          37.3761,
          37.3710478,
          37.3703877,
          37.4152913,
          37.3697672,
          37.3669356,
          37.3666019,
          37.3651095,
          37.3657692,
          37.3571295,
          37.3743081,
          37.3745281,
          37.3760598,
          37.3762109,
          37.3759636,
          37.375878,
          37.35297,
          37.3734421,
          37.3735833,
          37.3731329,
          37.3731361,
          37.3719061,
          37.413711,
          37.41284,
          37.370411,
          37.391138,
          37.398006,
          37.3860013,
          37.3407068,
          37.3419028,
          37.3902337,
          37.3397712,
          37.403242,
          37.3808219,
          37.3695369,
          37.4286141,
          37.3746799,
          37.3748848,
          37.378429,
          37.3724772,
          37.3686312,
          37.368481,
          37.366912,
          37.3845616,
          37.3910715,
          37.4126303,
          37.3383502,
          37.4209577,
          37.4200299,
          37.3430126,
          37.3398976,
          37.3427573,
          37.3399899,
          37.4159757,
          37.4174372,
          37.41687,
          37.4210378,
          37.4155605,
          37.4180526,
          37.419606,
          37.4181617,
          37.4176675,
          37.4007354,
          37.384835,
          37.3884276,
          37.3911955,
          37.3396878,
          37.3452926,
          37.3453173,
          37.3462713,
          37.3463208,
          37.3712435,
          37.3735742,
          37.3889314,
          37.3763237,
          37.3772113,
          37.3846043,
          37.3852397,
          37.3472292,
          37.424213
         ],
         "legendgroup": "drinking_water",
         "lon": [
          -6.0491141,
          -6.0011976,
          -5.9831842,
          -5.9869849,
          -5.9898689,
          -5.9818533,
          -5.9769722,
          -5.9688446,
          -5.9598538,
          -5.9685071,
          -5.9936593,
          -5.9932273,
          -5.9742359,
          -5.986637,
          -5.9129891,
          -5.9473681,
          -5.9212442,
          -5.9289477,
          -5.9726343,
          -5.9832516,
          -5.9647315,
          -5.9624546,
          -5.9619469,
          -5.9615421,
          -5.9646002,
          -5.9631291,
          -5.9229774,
          -5.9960526,
          -5.9950847,
          -5.9973025,
          -5.9281228,
          -5.9799855,
          -5.9944389,
          -6.0019707,
          -5.9975788,
          -5.9187872,
          -5.9933164,
          -5.9926258,
          -5.9819577,
          -5.9766047,
          -6.0022952,
          -5.9564546,
          -6.0053223,
          -5.9497264,
          -5.9952843,
          -5.9951127,
          -5.973913,
          -5.9494294,
          -5.9872129,
          -6.0013305,
          -5.9926953,
          -5.9961801,
          -5.9723972,
          -5.9199786,
          -6.0238607,
          -5.9882425,
          -5.9758421,
          -5.9927602,
          -5.9906574,
          -5.930339,
          -5.9327797,
          -5.9332488,
          -5.9284587,
          -6.00562,
          -5.9881601,
          -5.9895382,
          -5.9656087,
          -5.961142,
          -5.9849145,
          -6.0042735,
          -5.9867089,
          -5.9885126,
          -5.9392075,
          -5.9772552,
          -5.9929368,
          -6.0416557,
          -6.0383533,
          -5.9461693,
          -5.9795773,
          -6.0432401,
          -6.042636,
          -6.0417542,
          -6.0043784,
          -5.9900391,
          -5.9892142,
          -5.9892537,
          -5.996392,
          -5.9888985,
          -5.9877382,
          -6.0414048,
          -5.9646338,
          -6.0021161,
          -6.0022888,
          -5.9704154,
          -5.9969074,
          -6.0080379,
          -5.9876271,
          -5.9860946,
          -5.9840836,
          -5.9860742,
          -5.9851043,
          -5.9791358,
          -5.974274,
          -5.9739828,
          -5.9890833,
          -6.031286,
          -6.0481741,
          -6.0475628,
          -6.0722253,
          -5.997763,
          -5.9198065,
          -5.9139578,
          -5.9252065,
          -5.9150285,
          -5.9529407,
          -5.9564621,
          -6.052721,
          -5.9883287,
          -5.9869976,
          -5.9874856,
          -6.0050471,
          -6.0691151,
          -5.9675234,
          -5.9006545,
          -5.9925066,
          -5.9753207,
          -6.0031645,
          -5.9923279,
          -5.9953272,
          -5.9921733,
          -5.9637577,
          -5.9909945,
          -5.9922257,
          -5.9986615,
          -5.961268,
          -5.9576694,
          -5.9143819,
          -6.0052324,
          -6.0373369,
          -5.9852744,
          -6.0454662,
          -6.0442909,
          -6.037236,
          -6.0369283,
          -6.0379532,
          -5.9655391,
          -5.964624,
          -5.9640592,
          -5.9914731,
          -5.989136,
          -5.9966033,
          -5.987403,
          -5.9820273,
          -5.9300987,
          -5.9454628,
          -5.9825407,
          -5.978492,
          -5.9662563,
          -5.9662908,
          -5.987761,
          -5.9729512,
          -5.9736204,
          -6.0503985,
          -5.990592,
          -5.993744,
          -5.993327,
          -5.992789,
          -6.0550359,
          -6.0523316,
          -5.9995385,
          -5.9711436,
          -6.0464673,
          -6.0490947,
          -6.0349619,
          -6.0366128,
          -6.0498595,
          -6.050483,
          -6.073432,
          -6.0504426,
          -6.0458516,
          -6.0455321,
          -6.0428636,
          -6.0420637,
          -6.0417398,
          -6.046925,
          -6.0499154,
          -6.0534774,
          -6.0536895,
          -6.0536089,
          -6.0537474,
          -5.9802861,
          -6.0374679,
          -6.037322,
          -6.0375026,
          -6.0372138,
          -6.0430513,
          -5.963387,
          -5.965311,
          -5.9890472,
          -5.988365,
          -5.993743,
          -5.9103051,
          -6.0604913,
          -6.0630878,
          -5.9923035,
          -6.0560909,
          -5.9882628,
          -6.0089391,
          -5.9799103,
          -5.9680883,
          -6.0022027,
          -6.0009778,
          -5.9976315,
          -5.9723776,
          -5.9533936,
          -5.9489232,
          -5.9468931,
          -6.0039658,
          -6.002787,
          -5.9975523,
          -6.0568957,
          -5.9991666,
          -5.9962882,
          -6.0586343,
          -6.0553654,
          -6.0591613,
          -6.0545189,
          -5.9927778,
          -5.9928626,
          -5.9931105,
          -5.9991097,
          -5.9981748,
          -6.0007078,
          -6.0006741,
          -5.9986165,
          -5.9953768,
          -5.9884211,
          -5.9905142,
          -6.0723722,
          -5.9972684,
          -5.9371702,
          -6.0506567,
          -6.0492501,
          -6.0519162,
          -6.0511973,
          -5.9900421,
          -6.0068497,
          -6.0705098,
          -5.9747765,
          -5.9714894,
          -6.0669094,
          -5.9986446,
          -5.980046,
          -5.8980174
         ],
         "marker": {
          "color": "#636efa"
         },
         "mode": "markers",
         "name": "drinking_water",
         "showlegend": true,
         "subplot": "mapbox",
         "type": "scattermapbox"
        },
        {
         "hovertemplate": "tipo=clinic<br>lat=%{lat}<br>lon=%{lon}<extra></extra>",
         "lat": [
          37.3727964,
          37.4311183,
          37.3733276,
          37.3840881,
          37.4048799,
          37.3593203,
          37.3996306,
          37.3745769,
          37.3785795,
          37.3580432,
          37.3777452,
          37.3769468,
          37.3889388,
          37.345521,
          37.3456845,
          37.346117,
          37.3903848,
          37.3905462,
          37.3916616,
          37.3775922,
          37.3809054,
          37.3808122,
          37.377955,
          37.3764879,
          37.368113,
          37.3790133,
          37.3788208,
          37.3776909,
          37.4000639,
          37.3850485,
          37.3763235,
          37.3854337,
          37.3553511,
          37.3872926,
          37.3847771,
          37.381564,
          37.3920409,
          37.3897881,
          37.3923788,
          37.3922755,
          37.3836905,
          37.3777705,
          37.3742708,
          37.3745926,
          37.3748662,
          37.3774827,
          37.3773779,
          37.3763892,
          37.3767328,
          37.3764507,
          37.3769601,
          37.3786281,
          37.3796107,
          37.379325,
          37.3790832,
          37.3770325,
          37.3765324,
          37.37587,
          37.3751321,
          37.3771141,
          37.3790511,
          37.3790874,
          37.3876837,
          37.3820951,
          37.3793602,
          37.3760122,
          37.3758444,
          37.38127,
          37.38153,
          37.3830998,
          37.3818887,
          37.3745867,
          37.3398516,
          37.3849207,
          37.3809817,
          37.379953,
          37.3722168,
          37.3648263,
          37.404837,
          37.3812302,
          37.3811148,
          37.3725118,
          37.3725904,
          37.3800696,
          37.3799836,
          37.379867,
          37.3837157,
          37.3841167,
          37.3716458,
          37.3719857,
          37.3721014,
          37.3720998,
          37.3721093,
          37.3723027,
          37.3719915,
          37.3717669,
          37.3717651,
          37.3717751,
          37.3722736,
          37.3722332,
          37.372184,
          37.3727049,
          37.3729715,
          37.3740224,
          37.376331,
          37.3886497
         ],
         "legendgroup": "clinic",
         "lon": [
          -5.9288243,
          -5.980639,
          -5.994612,
          -6.0382945,
          -6.0353485,
          -6.0332178,
          -5.9271735,
          -5.9951317,
          -6.0086946,
          -5.9857801,
          -6.0118659,
          -6.0126869,
          -6.0032935,
          -5.9828788,
          -5.9815186,
          -5.9786158,
          -6.0020616,
          -6.0015368,
          -6.0010955,
          -5.9737628,
          -6.008178,
          -6.0081015,
          -5.997003,
          -5.9983837,
          -5.9876121,
          -6.0063713,
          -6.0062003,
          -6.0063198,
          -5.9249531,
          -5.9306901,
          -6.0719785,
          -6.0770235,
          -6.0585465,
          -6.0730423,
          -6.0768787,
          -5.9995932,
          -5.9798228,
          -5.9814087,
          -5.9826008,
          -5.9823077,
          -6.0105014,
          -6.002689,
          -5.9947573,
          -5.9957492,
          -5.996235,
          -6.0031118,
          -6.0033108,
          -6.0054728,
          -6.0045951,
          -6.0052055,
          -6.0041235,
          -6.0008667,
          -5.9972848,
          -5.9987034,
          -5.9991804,
          -6.0031311,
          -6.0041108,
          -6.0051463,
          -5.9980921,
          -5.9981706,
          -5.998505,
          -6.0010722,
          -5.98073,
          -6.0083028,
          -6.0072588,
          -5.9960819,
          -5.9961025,
          -6.0012404,
          -6.0011153,
          -6.0035603,
          -6.0060115,
          -6.0405502,
          -6.0619005,
          -6.0060079,
          -6.0001259,
          -6.0002521,
          -6.0023611,
          -5.9817809,
          -5.9744367,
          -6.0072814,
          -6.0074601,
          -5.9949411,
          -5.997594,
          -6.0076262,
          -6.0075357,
          -6.0074379,
          -6.0099483,
          -6.009679,
          -6.0020487,
          -5.9978787,
          -5.9979926,
          -5.9983024,
          -5.9985847,
          -5.9982521,
          -5.998607,
          -5.9972082,
          -5.9965111,
          -5.9963492,
          -5.9956162,
          -5.9952148,
          -5.9956874,
          -5.9948067,
          -5.9946807,
          -5.9945946,
          -6.0018575,
          -6.0117494
         ],
         "marker": {
          "color": "#EF553B"
         },
         "mode": "markers",
         "name": "clinic",
         "showlegend": true,
         "subplot": "mapbox",
         "type": "scattermapbox"
        },
        {
         "hovertemplate": "tipo=kindergarten<br>lat=%{lat}<br>lon=%{lon}<extra></extra>",
         "lat": [
          37.3729617,
          37.3841053,
          37.4214174,
          37.4005963,
          37.4205597,
          37.3893265,
          37.3814084,
          37.3433085,
          37.3791741,
          37.3848707,
          37.3814196,
          37.3759724,
          37.3825736,
          37.4111161,
          37.3482621,
          37.3656592,
          37.378081,
          37.4059767,
          37.4057929,
          37.4055037,
          37.4048439,
          37.4075682
         ],
         "legendgroup": "kindergarten",
         "lon": [
          -5.9713988,
          -5.9880979,
          -5.9859226,
          -5.9228103,
          -5.9859164,
          -6.0020317,
          -6.0012779,
          -5.9764877,
          -6.0011689,
          -6.0068027,
          -6.0069619,
          -5.9988197,
          -6.0723399,
          -5.9764424,
          -5.9749156,
          -5.9826839,
          -5.9412116,
          -5.9759253,
          -5.9761895,
          -5.9756338,
          -5.9728124,
          -5.9716652
         ],
         "marker": {
          "color": "#00cc96"
         },
         "mode": "markers",
         "name": "kindergarten",
         "showlegend": true,
         "subplot": "mapbox",
         "type": "scattermapbox"
        },
        {
         "hovertemplate": "tipo=bbq<br>lat=%{lat}<br>lon=%{lon}<extra></extra>",
         "lat": [
          37.3673141,
          37.3674308,
          37.3675385,
          37.3676096,
          37.367679,
          37.3677921,
          37.3678231,
          37.3679034,
          37.3680165,
          37.3680165,
          37.3680457,
          37.3680931,
          37.3681886,
          37.368146,
          37.3682683,
          37.3683212,
          37.3684266,
          37.3685655,
          37.3761036,
          37.3510681
         ],
         "legendgroup": "bbq",
         "lon": [
          -6.0575938,
          -6.0578027,
          -6.0572471,
          -6.0580093,
          -6.0570887,
          -6.0577407,
          -6.0573183,
          -6.0582251,
          -6.0575318,
          -6.0579588,
          -6.0584248,
          -6.0583192,
          -6.0574282,
          -6.0578876,
          -6.0576603,
          -6.0583812,
          -6.0580375,
          -6.0576759,
          -6.0454782,
          -5.9730461
         ],
         "marker": {
          "color": "#ab63fa"
         },
         "mode": "markers",
         "name": "bbq",
         "showlegend": true,
         "subplot": "mapbox",
         "type": "scattermapbox"
        },
        {
         "hovertemplate": "tipo=hospital<br>lat=%{lat}<br>lon=%{lon}<extra></extra>",
         "lat": [
          37.3618571
         ],
         "legendgroup": "hospital",
         "lon": [
          -5.9810517
         ],
         "marker": {
          "color": "#FFA15A"
         },
         "mode": "markers",
         "name": "hospital",
         "showlegend": true,
         "subplot": "mapbox",
         "type": "scattermapbox"
        }
       ],
       "layout": {
        "legend": {
         "title": {
          "text": "tipo"
         },
         "tracegroupgap": 0
        },
        "mapbox": {
         "accesstoken": "pk.eyJ1IjoiZGFvcnRpIiwiYSI6ImNrZnF6M3FlczA3cDEyem16YTNzZmV4M2EifQ.846iF0sMSAXv0kwkwUTYjg",
         "center": {
          "lat": 37.38331153771712,
          "lon": -5.998671619354839
         },
         "domain": {
          "x": [
           0,
           1
          ],
          "y": [
           0,
           1
          ]
         },
         "zoom": 11
        },
        "margin": {
         "t": 60
        },
        "template": {
         "data": {
          "bar": [
           {
            "error_x": {
             "color": "#2a3f5f"
            },
            "error_y": {
             "color": "#2a3f5f"
            },
            "marker": {
             "line": {
              "color": "#E5ECF6",
              "width": 0.5
             },
             "pattern": {
              "fillmode": "overlay",
              "size": 10,
              "solidity": 0.2
             }
            },
            "type": "bar"
           }
          ],
          "barpolar": [
           {
            "marker": {
             "line": {
              "color": "#E5ECF6",
              "width": 0.5
             },
             "pattern": {
              "fillmode": "overlay",
              "size": 10,
              "solidity": 0.2
             }
            },
            "type": "barpolar"
           }
          ],
          "carpet": [
           {
            "aaxis": {
             "endlinecolor": "#2a3f5f",
             "gridcolor": "white",
             "linecolor": "white",
             "minorgridcolor": "white",
             "startlinecolor": "#2a3f5f"
            },
            "baxis": {
             "endlinecolor": "#2a3f5f",
             "gridcolor": "white",
             "linecolor": "white",
             "minorgridcolor": "white",
             "startlinecolor": "#2a3f5f"
            },
            "type": "carpet"
           }
          ],
          "choropleth": [
           {
            "colorbar": {
             "outlinewidth": 0,
             "ticks": ""
            },
            "type": "choropleth"
           }
          ],
          "contour": [
           {
            "colorbar": {
             "outlinewidth": 0,
             "ticks": ""
            },
            "colorscale": [
             [
              0,
              "#0d0887"
             ],
             [
              0.1111111111111111,
              "#46039f"
             ],
             [
              0.2222222222222222,
              "#7201a8"
             ],
             [
              0.3333333333333333,
              "#9c179e"
             ],
             [
              0.4444444444444444,
              "#bd3786"
             ],
             [
              0.5555555555555556,
              "#d8576b"
             ],
             [
              0.6666666666666666,
              "#ed7953"
             ],
             [
              0.7777777777777778,
              "#fb9f3a"
             ],
             [
              0.8888888888888888,
              "#fdca26"
             ],
             [
              1,
              "#f0f921"
             ]
            ],
            "type": "contour"
           }
          ],
          "contourcarpet": [
           {
            "colorbar": {
             "outlinewidth": 0,
             "ticks": ""
            },
            "type": "contourcarpet"
           }
          ],
          "heatmap": [
           {
            "colorbar": {
             "outlinewidth": 0,
             "ticks": ""
            },
            "colorscale": [
             [
              0,
              "#0d0887"
             ],
             [
              0.1111111111111111,
              "#46039f"
             ],
             [
              0.2222222222222222,
              "#7201a8"
             ],
             [
              0.3333333333333333,
              "#9c179e"
             ],
             [
              0.4444444444444444,
              "#bd3786"
             ],
             [
              0.5555555555555556,
              "#d8576b"
             ],
             [
              0.6666666666666666,
              "#ed7953"
             ],
             [
              0.7777777777777778,
              "#fb9f3a"
             ],
             [
              0.8888888888888888,
              "#fdca26"
             ],
             [
              1,
              "#f0f921"
             ]
            ],
            "type": "heatmap"
           }
          ],
          "heatmapgl": [
           {
            "colorbar": {
             "outlinewidth": 0,
             "ticks": ""
            },
            "colorscale": [
             [
              0,
              "#0d0887"
             ],
             [
              0.1111111111111111,
              "#46039f"
             ],
             [
              0.2222222222222222,
              "#7201a8"
             ],
             [
              0.3333333333333333,
              "#9c179e"
             ],
             [
              0.4444444444444444,
              "#bd3786"
             ],
             [
              0.5555555555555556,
              "#d8576b"
             ],
             [
              0.6666666666666666,
              "#ed7953"
             ],
             [
              0.7777777777777778,
              "#fb9f3a"
             ],
             [
              0.8888888888888888,
              "#fdca26"
             ],
             [
              1,
              "#f0f921"
             ]
            ],
            "type": "heatmapgl"
           }
          ],
          "histogram": [
           {
            "marker": {
             "pattern": {
              "fillmode": "overlay",
              "size": 10,
              "solidity": 0.2
             }
            },
            "type": "histogram"
           }
          ],
          "histogram2d": [
           {
            "colorbar": {
             "outlinewidth": 0,
             "ticks": ""
            },
            "colorscale": [
             [
              0,
              "#0d0887"
             ],
             [
              0.1111111111111111,
              "#46039f"
             ],
             [
              0.2222222222222222,
              "#7201a8"
             ],
             [
              0.3333333333333333,
              "#9c179e"
             ],
             [
              0.4444444444444444,
              "#bd3786"
             ],
             [
              0.5555555555555556,
              "#d8576b"
             ],
             [
              0.6666666666666666,
              "#ed7953"
             ],
             [
              0.7777777777777778,
              "#fb9f3a"
             ],
             [
              0.8888888888888888,
              "#fdca26"
             ],
             [
              1,
              "#f0f921"
             ]
            ],
            "type": "histogram2d"
           }
          ],
          "histogram2dcontour": [
           {
            "colorbar": {
             "outlinewidth": 0,
             "ticks": ""
            },
            "colorscale": [
             [
              0,
              "#0d0887"
             ],
             [
              0.1111111111111111,
              "#46039f"
             ],
             [
              0.2222222222222222,
              "#7201a8"
             ],
             [
              0.3333333333333333,
              "#9c179e"
             ],
             [
              0.4444444444444444,
              "#bd3786"
             ],
             [
              0.5555555555555556,
              "#d8576b"
             ],
             [
              0.6666666666666666,
              "#ed7953"
             ],
             [
              0.7777777777777778,
              "#fb9f3a"
             ],
             [
              0.8888888888888888,
              "#fdca26"
             ],
             [
              1,
              "#f0f921"
             ]
            ],
            "type": "histogram2dcontour"
           }
          ],
          "mesh3d": [
           {
            "colorbar": {
             "outlinewidth": 0,
             "ticks": ""
            },
            "type": "mesh3d"
           }
          ],
          "parcoords": [
           {
            "line": {
             "colorbar": {
              "outlinewidth": 0,
              "ticks": ""
             }
            },
            "type": "parcoords"
           }
          ],
          "pie": [
           {
            "automargin": true,
            "type": "pie"
           }
          ],
          "scatter": [
           {
            "fillpattern": {
             "fillmode": "overlay",
             "size": 10,
             "solidity": 0.2
            },
            "type": "scatter"
           }
          ],
          "scatter3d": [
           {
            "line": {
             "colorbar": {
              "outlinewidth": 0,
              "ticks": ""
             }
            },
            "marker": {
             "colorbar": {
              "outlinewidth": 0,
              "ticks": ""
             }
            },
            "type": "scatter3d"
           }
          ],
          "scattercarpet": [
           {
            "marker": {
             "colorbar": {
              "outlinewidth": 0,
              "ticks": ""
             }
            },
            "type": "scattercarpet"
           }
          ],
          "scattergeo": [
           {
            "marker": {
             "colorbar": {
              "outlinewidth": 0,
              "ticks": ""
             }
            },
            "type": "scattergeo"
           }
          ],
          "scattergl": [
           {
            "marker": {
             "colorbar": {
              "outlinewidth": 0,
              "ticks": ""
             }
            },
            "type": "scattergl"
           }
          ],
          "scattermapbox": [
           {
            "marker": {
             "colorbar": {
              "outlinewidth": 0,
              "ticks": ""
             }
            },
            "type": "scattermapbox"
           }
          ],
          "scatterpolar": [
           {
            "marker": {
             "colorbar": {
              "outlinewidth": 0,
              "ticks": ""
             }
            },
            "type": "scatterpolar"
           }
          ],
          "scatterpolargl": [
           {
            "marker": {
             "colorbar": {
              "outlinewidth": 0,
              "ticks": ""
             }
            },
            "type": "scatterpolargl"
           }
          ],
          "scatterternary": [
           {
            "marker": {
             "colorbar": {
              "outlinewidth": 0,
              "ticks": ""
             }
            },
            "type": "scatterternary"
           }
          ],
          "surface": [
           {
            "colorbar": {
             "outlinewidth": 0,
             "ticks": ""
            },
            "colorscale": [
             [
              0,
              "#0d0887"
             ],
             [
              0.1111111111111111,
              "#46039f"
             ],
             [
              0.2222222222222222,
              "#7201a8"
             ],
             [
              0.3333333333333333,
              "#9c179e"
             ],
             [
              0.4444444444444444,
              "#bd3786"
             ],
             [
              0.5555555555555556,
              "#d8576b"
             ],
             [
              0.6666666666666666,
              "#ed7953"
             ],
             [
              0.7777777777777778,
              "#fb9f3a"
             ],
             [
              0.8888888888888888,
              "#fdca26"
             ],
             [
              1,
              "#f0f921"
             ]
            ],
            "type": "surface"
           }
          ],
          "table": [
           {
            "cells": {
             "fill": {
              "color": "#EBF0F8"
             },
             "line": {
              "color": "white"
             }
            },
            "header": {
             "fill": {
              "color": "#C8D4E3"
             },
             "line": {
              "color": "white"
             }
            },
            "type": "table"
           }
          ]
         },
         "layout": {
          "annotationdefaults": {
           "arrowcolor": "#2a3f5f",
           "arrowhead": 0,
           "arrowwidth": 1
          },
          "autotypenumbers": "strict",
          "coloraxis": {
           "colorbar": {
            "outlinewidth": 0,
            "ticks": ""
           }
          },
          "colorscale": {
           "diverging": [
            [
             0,
             "#8e0152"
            ],
            [
             0.1,
             "#c51b7d"
            ],
            [
             0.2,
             "#de77ae"
            ],
            [
             0.3,
             "#f1b6da"
            ],
            [
             0.4,
             "#fde0ef"
            ],
            [
             0.5,
             "#f7f7f7"
            ],
            [
             0.6,
             "#e6f5d0"
            ],
            [
             0.7,
             "#b8e186"
            ],
            [
             0.8,
             "#7fbc41"
            ],
            [
             0.9,
             "#4d9221"
            ],
            [
             1,
             "#276419"
            ]
           ],
           "sequential": [
            [
             0,
             "#0d0887"
            ],
            [
             0.1111111111111111,
             "#46039f"
            ],
            [
             0.2222222222222222,
             "#7201a8"
            ],
            [
             0.3333333333333333,
             "#9c179e"
            ],
            [
             0.4444444444444444,
             "#bd3786"
            ],
            [
             0.5555555555555556,
             "#d8576b"
            ],
            [
             0.6666666666666666,
             "#ed7953"
            ],
            [
             0.7777777777777778,
             "#fb9f3a"
            ],
            [
             0.8888888888888888,
             "#fdca26"
            ],
            [
             1,
             "#f0f921"
            ]
           ],
           "sequentialminus": [
            [
             0,
             "#0d0887"
            ],
            [
             0.1111111111111111,
             "#46039f"
            ],
            [
             0.2222222222222222,
             "#7201a8"
            ],
            [
             0.3333333333333333,
             "#9c179e"
            ],
            [
             0.4444444444444444,
             "#bd3786"
            ],
            [
             0.5555555555555556,
             "#d8576b"
            ],
            [
             0.6666666666666666,
             "#ed7953"
            ],
            [
             0.7777777777777778,
             "#fb9f3a"
            ],
            [
             0.8888888888888888,
             "#fdca26"
            ],
            [
             1,
             "#f0f921"
            ]
           ]
          },
          "colorway": [
           "#636efa",
           "#EF553B",
           "#00cc96",
           "#ab63fa",
           "#FFA15A",
           "#19d3f3",
           "#FF6692",
           "#B6E880",
           "#FF97FF",
           "#FECB52"
          ],
          "font": {
           "color": "#2a3f5f"
          },
          "geo": {
           "bgcolor": "white",
           "lakecolor": "white",
           "landcolor": "#E5ECF6",
           "showlakes": true,
           "showland": true,
           "subunitcolor": "white"
          },
          "hoverlabel": {
           "align": "left"
          },
          "hovermode": "closest",
          "mapbox": {
           "style": "light"
          },
          "paper_bgcolor": "white",
          "plot_bgcolor": "#E5ECF6",
          "polar": {
           "angularaxis": {
            "gridcolor": "white",
            "linecolor": "white",
            "ticks": ""
           },
           "bgcolor": "#E5ECF6",
           "radialaxis": {
            "gridcolor": "white",
            "linecolor": "white",
            "ticks": ""
           }
          },
          "scene": {
           "xaxis": {
            "backgroundcolor": "#E5ECF6",
            "gridcolor": "white",
            "gridwidth": 2,
            "linecolor": "white",
            "showbackground": true,
            "ticks": "",
            "zerolinecolor": "white"
           },
           "yaxis": {
            "backgroundcolor": "#E5ECF6",
            "gridcolor": "white",
            "gridwidth": 2,
            "linecolor": "white",
            "showbackground": true,
            "ticks": "",
            "zerolinecolor": "white"
           },
           "zaxis": {
            "backgroundcolor": "#E5ECF6",
            "gridcolor": "white",
            "gridwidth": 2,
            "linecolor": "white",
            "showbackground": true,
            "ticks": "",
            "zerolinecolor": "white"
           }
          },
          "shapedefaults": {
           "line": {
            "color": "#2a3f5f"
           }
          },
          "ternary": {
           "aaxis": {
            "gridcolor": "white",
            "linecolor": "white",
            "ticks": ""
           },
           "baxis": {
            "gridcolor": "white",
            "linecolor": "white",
            "ticks": ""
           },
           "bgcolor": "#E5ECF6",
           "caxis": {
            "gridcolor": "white",
            "linecolor": "white",
            "ticks": ""
           }
          },
          "title": {
           "x": 0.05
          },
          "xaxis": {
           "automargin": true,
           "gridcolor": "white",
           "linecolor": "white",
           "ticks": "",
           "title": {
            "standoff": 15
           },
           "zerolinecolor": "white",
           "zerolinewidth": 2
          },
          "yaxis": {
           "automargin": true,
           "gridcolor": "white",
           "linecolor": "white",
           "ticks": "",
           "title": {
            "standoff": 15
           },
           "zerolinecolor": "white",
           "zerolinewidth": 2
          }
         }
        }
       }
      }
     },
     "metadata": {},
     "output_type": "display_data"
    }
   ],
   "source": [
    "pinta_mapa(df_covid)"
   ]
  },
  {
   "cell_type": "markdown",
   "metadata": {},
   "source": [
    "## Supermercados\n",
    "Para este ejemplo supondrás que trabajas en una cadena de supermercados en la que se está planteando construir un nuevo local en la provincia de Sevilla. Busca mediante la API de Overpass todos los supermercados de la provincia para poder comprobar en qué nucleos urbanos habría poca competencia.\n",
    "\n",
    "En este caso hay que buscar por área, no por cuadrícula! Investiga en la documentación/Stackoverflow cómo se haría eso."
   ]
  },
  {
   "cell_type": "code",
   "execution_count": 192,
   "metadata": {},
   "outputs": [
    {
     "name": "stdout",
     "output_type": "stream",
     "text": [
      "<Response [200]>\n"
     ]
    },
    {
     "data": {
      "text/html": [
       "<div>\n",
       "<style scoped>\n",
       "    .dataframe tbody tr th:only-of-type {\n",
       "        vertical-align: middle;\n",
       "    }\n",
       "\n",
       "    .dataframe tbody tr th {\n",
       "        vertical-align: top;\n",
       "    }\n",
       "\n",
       "    .dataframe thead th {\n",
       "        text-align: right;\n",
       "    }\n",
       "</style>\n",
       "<table border=\"1\" class=\"dataframe\">\n",
       "  <thead>\n",
       "    <tr style=\"text-align: right;\">\n",
       "      <th></th>\n",
       "      <th>tipo</th>\n",
       "      <th>lat</th>\n",
       "      <th>lon</th>\n",
       "      <th>name</th>\n",
       "      <th>address</th>\n",
       "    </tr>\n",
       "  </thead>\n",
       "  <tbody>\n",
       "    <tr>\n",
       "      <th>0</th>\n",
       "      <td>None</td>\n",
       "      <td>37.373002</td>\n",
       "      <td>-6.047204</td>\n",
       "      <td>MAS</td>\n",
       "      <td>NO STREET 9999</td>\n",
       "    </tr>\n",
       "    <tr>\n",
       "      <th>1</th>\n",
       "      <td>None</td>\n",
       "      <td>37.390016</td>\n",
       "      <td>-5.973769</td>\n",
       "      <td>Maxi Dia</td>\n",
       "      <td>NO STREET 9999</td>\n",
       "    </tr>\n",
       "    <tr>\n",
       "      <th>2</th>\n",
       "      <td>None</td>\n",
       "      <td>37.406364</td>\n",
       "      <td>-5.976342</td>\n",
       "      <td>El Jamón</td>\n",
       "      <td>NO STREET 9999</td>\n",
       "    </tr>\n",
       "    <tr>\n",
       "      <th>3</th>\n",
       "      <td>None</td>\n",
       "      <td>37.406508</td>\n",
       "      <td>-5.973342</td>\n",
       "      <td>Valdejimena</td>\n",
       "      <td>Avenida de San Juan de la Salle 9999</td>\n",
       "    </tr>\n",
       "    <tr>\n",
       "      <th>4</th>\n",
       "      <td>None</td>\n",
       "      <td>37.406889</td>\n",
       "      <td>-5.972455</td>\n",
       "      <td>Dia</td>\n",
       "      <td>Avenida de San Juan de la Salle 12</td>\n",
       "    </tr>\n",
       "    <tr>\n",
       "      <th>...</th>\n",
       "      <td>...</td>\n",
       "      <td>...</td>\n",
       "      <td>...</td>\n",
       "      <td>...</td>\n",
       "      <td>...</td>\n",
       "    </tr>\n",
       "    <tr>\n",
       "      <th>292</th>\n",
       "      <td>None</td>\n",
       "      <td>37.376837</td>\n",
       "      <td>-5.974045</td>\n",
       "      <td>Dia</td>\n",
       "      <td>Avenida Ramón y Cajal 12</td>\n",
       "    </tr>\n",
       "    <tr>\n",
       "      <th>293</th>\n",
       "      <td>None</td>\n",
       "      <td>37.511615</td>\n",
       "      <td>-6.025710</td>\n",
       "      <td>NO NAME</td>\n",
       "      <td>NO STREET 9999</td>\n",
       "    </tr>\n",
       "    <tr>\n",
       "      <th>294</th>\n",
       "      <td>None</td>\n",
       "      <td>37.513835</td>\n",
       "      <td>-6.024880</td>\n",
       "      <td>Tienda Pepa</td>\n",
       "      <td>NO STREET 9999</td>\n",
       "    </tr>\n",
       "    <tr>\n",
       "      <th>295</th>\n",
       "      <td>None</td>\n",
       "      <td>37.380747</td>\n",
       "      <td>-5.966079</td>\n",
       "      <td>CashFresh</td>\n",
       "      <td>Avenida de la Ciudad Jardin 4</td>\n",
       "    </tr>\n",
       "    <tr>\n",
       "      <th>296</th>\n",
       "      <td>None</td>\n",
       "      <td>37.283570</td>\n",
       "      <td>-5.928331</td>\n",
       "      <td>Lidl</td>\n",
       "      <td>NO STREET 9999</td>\n",
       "    </tr>\n",
       "  </tbody>\n",
       "</table>\n",
       "<p>297 rows × 5 columns</p>\n",
       "</div>"
      ],
      "text/plain": [
       "     tipo        lat       lon         name  \\\n",
       "0    None  37.373002 -6.047204          MAS   \n",
       "1    None  37.390016 -5.973769     Maxi Dia   \n",
       "2    None  37.406364 -5.976342     El Jamón   \n",
       "3    None  37.406508 -5.973342  Valdejimena   \n",
       "4    None  37.406889 -5.972455          Dia   \n",
       "..    ...        ...       ...          ...   \n",
       "292  None  37.376837 -5.974045          Dia   \n",
       "293  None  37.511615 -6.025710      NO NAME   \n",
       "294  None  37.513835 -6.024880  Tienda Pepa   \n",
       "295  None  37.380747 -5.966079    CashFresh   \n",
       "296  None  37.283570 -5.928331         Lidl   \n",
       "\n",
       "                                  address  \n",
       "0                          NO STREET 9999  \n",
       "1                          NO STREET 9999  \n",
       "2                          NO STREET 9999  \n",
       "3    Avenida de San Juan de la Salle 9999  \n",
       "4      Avenida de San Juan de la Salle 12  \n",
       "..                                    ...  \n",
       "292              Avenida Ramón y Cajal 12  \n",
       "293                        NO STREET 9999  \n",
       "294                        NO STREET 9999  \n",
       "295         Avenida de la Ciudad Jardin 4  \n",
       "296                        NO STREET 9999  \n",
       "\n",
       "[297 rows x 5 columns]"
      ]
     },
     "execution_count": 192,
     "metadata": {},
     "output_type": "execute_result"
    }
   ],
   "source": [
    "overpass_url = \"http://overpass-api.de/api/interpreter\"\n",
    "overpass_query = \"\"\"\n",
    "[out:json];\n",
    "node[\"shop\"=\"supermarket\"]\n",
    "  (37.1658,-6.3556,37.5473,-5.5412);\n",
    "out;\n",
    "\"\"\"\n",
    "response = requests.get(overpass_url,\n",
    "                        params={'data': overpass_query})\n",
    "print(response)\n",
    "data = response.json()\n",
    "df_super = json_to_df(data)\n",
    "df_super"
   ]
  },
  {
   "cell_type": "code",
   "execution_count": 193,
   "metadata": {},
   "outputs": [],
   "source": [
    "def json_to_df(data):\n",
    "    elements = data['elements']\n",
    "    places = {'tipo': [], 'lat': [], 'lon': [], 'name': [], 'address': []}\n",
    "    \n",
    "    for i in elements:\n",
    "        \n",
    "        tipo = i.get('tags', None).get('amenity', None)\n",
    "        latitude = i.get('lat', None)\n",
    "        longitude = i.get('lon', None)\n",
    "        name = i.get('tags', {}).get('name', \"NO NAME\")\n",
    "        street = i.get('tags', {}).get('addr:street', \"NO STREET\")\n",
    "        number = i.get('tags', {}).get('addr:housenumber', 9999)\n",
    "\n",
    "        places['tipo'].append(tipo)\n",
    "        places['lat'].append(latitude)\n",
    "        places['lon'].append(longitude)\n",
    "        places['name'].append(name)\n",
    "        places['address'].append(street + ' ' + str(number))\n",
    "\n",
    "            \n",
    "    return pd.DataFrame(places)"
   ]
  },
  {
   "cell_type": "code",
   "execution_count": 194,
   "metadata": {},
   "outputs": [],
   "source": [
    "import plotly.express as px\n",
    "\n",
    "mapbox_access_token = \"pk.eyJ1IjoiZGFvcnRpIiwiYSI6ImNrZnF6M3FlczA3cDEyem16YTNzZmV4M2EifQ.846iF0sMSAXv0kwkwUTYjg\"\n",
    "\n",
    "def pinta_mapa(df_super):\n",
    "    fig = px.scatter_mapbox(df_super,\n",
    "                            lat=\"lat\",\n",
    "                            lon=\"lon\",\n",
    "                            color = \"tipo\",\n",
    "                      color_continuous_scale=px.colors.cyclical.IceFire, size_max=15, zoom=11)\n",
    "    fig.update_layout(\n",
    "        mapbox=dict(\n",
    "            accesstoken=mapbox_access_token\n",
    "        )\n",
    "    )\n",
    "\n",
    "    fig.show()"
   ]
  },
  {
   "cell_type": "code",
   "execution_count": 195,
   "metadata": {},
   "outputs": [
    {
     "data": {
      "application/vnd.plotly.v1+json": {
       "config": {
        "plotlyServerURL": "https://plot.ly"
       },
       "data": [
        {
         "hovertemplate": "tipo=None<br>lat=%{lat}<br>lon=%{lon}<extra></extra>",
         "lat": [
          37.3730016,
          37.3900156,
          37.4063636,
          37.4065076,
          37.4068889,
          37.381381,
          37.3492941,
          37.3931413,
          37.3916239,
          37.281765,
          37.3945948,
          37.3928078,
          37.3968266,
          37.39283,
          37.4000193,
          37.4636269,
          37.3877763,
          37.3782118,
          37.3784637,
          37.4223309,
          37.4210312,
          37.4158443,
          37.408912,
          37.4162977,
          37.4322927,
          37.4265448,
          37.3993597,
          37.4032095,
          37.4040568,
          37.3767341,
          37.3758354,
          37.3709299,
          37.3475816,
          37.3650152,
          37.3666867,
          37.3941226,
          37.3745748,
          37.3821828,
          37.3765331,
          37.3762135,
          37.3828281,
          37.4906658,
          37.2929933,
          37.4004138,
          37.4022714,
          37.382216,
          37.3750846,
          37.3838793,
          37.3758889,
          37.41043,
          37.3994984,
          37.4010345,
          37.4117722,
          37.4021436,
          37.3958654,
          37.3732438,
          37.3770745,
          37.3921327,
          37.373167,
          37.395969,
          37.3993031,
          37.3661575,
          37.3716058,
          37.3612925,
          37.390219,
          37.4019062,
          37.2697298,
          37.344986,
          37.2756379,
          37.4007084,
          37.1744795,
          37.4615531,
          37.1876727,
          37.1851484,
          37.1895563,
          37.1797124,
          37.3207532,
          37.285365,
          37.2855656,
          37.3255608,
          37.3353194,
          37.2906251,
          37.3888642,
          37.3878814,
          37.3823229,
          37.2661629,
          37.3327558,
          37.3882714,
          37.295735,
          37.3376348,
          37.3322365,
          37.394668,
          37.387336,
          37.37798,
          37.3501025,
          37.3842002,
          37.3418953,
          37.3828833,
          37.3774228,
          37.3851723,
          37.3838552,
          37.3939616,
          37.4066907,
          37.3542265,
          37.3778989,
          37.3439885,
          37.3850834,
          37.3784614,
          37.4245402,
          37.3511902,
          37.3845859,
          37.3829724,
          37.3926834,
          37.487511,
          37.2871942,
          37.4084798,
          37.3852201,
          37.3387597,
          37.3416599,
          37.3385438,
          37.3876859,
          37.3755246,
          37.3417027,
          37.2838344,
          37.3732443,
          37.3585028,
          37.4639055,
          37.3720492,
          37.5451547,
          37.3388604,
          37.2902401,
          37.3984032,
          37.328376,
          37.3684704,
          37.5132086,
          37.5161821,
          37.3827647,
          37.3972073,
          37.3986384,
          37.4012555,
          37.388112,
          37.3897145,
          37.284377,
          37.3816054,
          37.351903,
          37.2962155,
          37.2949076,
          37.2894918,
          37.3846396,
          37.3845658,
          37.3883375,
          37.3901385,
          37.4010558,
          37.3390588,
          37.2889914,
          37.3588696,
          37.3563452,
          37.3757882,
          37.3947584,
          37.3785976,
          37.378052,
          37.4024316,
          37.3979165,
          37.3755652,
          37.4109179,
          37.3800415,
          37.3793471,
          37.3528597,
          37.4836776,
          37.4844523,
          37.30331,
          37.3596854,
          37.3835149,
          37.3741291,
          37.3826562,
          37.4108539,
          37.385883,
          37.3101139,
          37.3798043,
          37.2783941,
          37.3720803,
          37.3736999,
          37.3824855,
          37.4247797,
          37.3774904,
          37.3042312,
          37.3897096,
          37.3858133,
          37.426738,
          37.3023998,
          37.2824923,
          37.3761087,
          37.3874865,
          37.3536782,
          37.3726194,
          37.3718625,
          37.3040479,
          37.3819894,
          37.3890463,
          37.3585589,
          37.3593174,
          37.3742039,
          37.3773855,
          37.3123385,
          37.4148171,
          37.3932795,
          37.3972674,
          37.3905785,
          37.381633,
          37.3223888,
          37.2832311,
          37.3917556,
          37.3858695,
          37.3855691,
          37.337093,
          37.3252963,
          37.3849155,
          37.3945664,
          37.2221232,
          37.3798531,
          37.38285,
          37.3662625,
          37.3800582,
          37.4325717,
          37.4717331,
          37.372653,
          37.4011565,
          37.3605097,
          37.3792072,
          37.381944,
          37.3812806,
          37.3856825,
          37.3708759,
          37.3817904,
          37.4381841,
          37.3729319,
          37.4065108,
          37.3717263,
          37.3716578,
          37.4751307,
          37.3886902,
          37.3795609,
          37.3542239,
          37.3748125,
          37.3791269,
          37.3766656,
          37.3751536,
          37.3777005,
          37.378475,
          37.3753009,
          37.3751423,
          37.3819024,
          37.3817406,
          37.3875216,
          37.2858944,
          37.5367864,
          37.5284996,
          37.5350109,
          37.407151,
          37.3709124,
          37.3712266,
          37.3809175,
          37.3934557,
          37.3447542,
          37.3412032,
          37.4033923,
          37.3762284,
          37.4031917,
          37.4186604,
          37.5155549,
          37.3828681,
          37.284439,
          37.2861964,
          37.3783874,
          37.3998008,
          37.339932,
          37.3845923,
          37.3654498,
          37.3776589,
          37.3879497,
          37.4022297,
          37.3360801,
          37.3878694,
          37.3937347,
          37.348162,
          37.3863398,
          37.3722828,
          37.3441038,
          37.3849547,
          37.3939738,
          37.3383715,
          37.3633528,
          37.3768372,
          37.5116153,
          37.513835,
          37.3807465,
          37.2835696
         ],
         "legendgroup": "None",
         "lon": [
          -6.0472036,
          -5.9737693,
          -5.9763418,
          -5.9733419,
          -5.9724546,
          -5.9794179,
          -5.9768997,
          -5.9815793,
          -5.9813217,
          -5.9369929,
          -5.9910877,
          -5.9863711,
          -5.9906521,
          -5.9835362,
          -5.9856329,
          -5.6474422,
          -5.9819761,
          -6.0120047,
          -6.0119015,
          -5.9613759,
          -5.9637284,
          -5.9700072,
          -5.9769987,
          -5.9644557,
          -5.9793319,
          -5.9860088,
          -5.9779561,
          -5.9683925,
          -5.9654044,
          -5.9803391,
          -5.9763155,
          -5.9789718,
          -5.9804517,
          -5.9790562,
          -5.975481,
          -5.9572429,
          -5.9677453,
          -5.9659946,
          -5.969255,
          -5.9689733,
          -5.9654853,
          -5.9461751,
          -5.9230804,
          -5.925213,
          -5.9268237,
          -5.9532198,
          -5.9538345,
          -5.9469451,
          -5.9545486,
          -5.9250194,
          -5.9527488,
          -5.9406317,
          -5.9196117,
          -5.9206454,
          -5.9241546,
          -6.0446424,
          -6.0456304,
          -6.0305198,
          -6.0300594,
          -5.978107,
          -5.9710998,
          -5.9683973,
          -5.9566624,
          -5.9601058,
          -5.9894762,
          -5.9919191,
          -5.9362868,
          -5.932839,
          -5.9277721,
          -5.9270066,
          -5.7767863,
          -6.0095892,
          -5.7877631,
          -5.7736967,
          -5.7780879,
          -5.7962499,
          -6.072243,
          -5.9102831,
          -5.9146873,
          -5.9339584,
          -6.0643473,
          -5.9245229,
          -6.0020476,
          -5.9844847,
          -5.9654876,
          -5.9213596,
          -5.9693451,
          -5.9607582,
          -5.9117565,
          -5.827671,
          -5.834486,
          -5.997403,
          -5.9849974,
          -5.997585,
          -6.0518262,
          -6.0613371,
          -6.0673942,
          -5.9536265,
          -5.9472911,
          -5.9482621,
          -5.9514647,
          -5.9956693,
          -5.9730014,
          -5.8580908,
          -6.0669422,
          -5.9754025,
          -5.9812451,
          -5.9412792,
          -5.9849356,
          -6.0250197,
          -6.0059643,
          -6.0060357,
          -5.9818026,
          -5.9352853,
          -5.9433609,
          -5.910971,
          -5.9772574,
          -5.8401204,
          -5.8334524,
          -5.9266725,
          -5.9673225,
          -6.0045754,
          -5.8303426,
          -5.9377335,
          -5.9952049,
          -5.9859219,
          -5.6447327,
          -5.9620406,
          -6.0566456,
          -5.8381685,
          -5.9258418,
          -5.9991195,
          -5.8532728,
          -6.0791734,
          -5.9857917,
          -5.9812268,
          -6.0030198,
          -6.0335377,
          -6.0322142,
          -6.0336533,
          -5.982929,
          -5.99916,
          -5.9267402,
          -5.9649648,
          -5.8454073,
          -6.0530087,
          -6.0556159,
          -6.0526707,
          -6.0103841,
          -6.0134182,
          -6.0807164,
          -5.9706711,
          -5.9257114,
          -5.9300443,
          -5.9269918,
          -5.9859998,
          -5.9857084,
          -6.0046336,
          -6.0013408,
          -5.9726165,
          -5.9726701,
          -5.9807553,
          -5.9979908,
          -5.9994109,
          -5.9253627,
          -6.0040513,
          -6.0047183,
          -6.0475875,
          -5.9471195,
          -5.9475486,
          -6.3053348,
          -6.3278422,
          -6.0771612,
          -6.0320738,
          -6.0834494,
          -5.9254298,
          -6.0274989,
          -6.1067959,
          -6.0836775,
          -5.9332385,
          -6.0724424,
          -6.0697293,
          -6.0096031,
          -5.9850727,
          -6.0129859,
          -6.3046051,
          -5.9921167,
          -6.0743354,
          -5.9763877,
          -6.2976206,
          -5.9211799,
          -5.9474761,
          -5.9727302,
          -6.0574429,
          -5.9969106,
          -6.0354853,
          -6.297249,
          -6.0039737,
          -6.080157,
          -5.9781164,
          -5.9783584,
          -6.0028403,
          -5.973638,
          -5.8602342,
          -6.1614621,
          -5.716306,
          -5.7126393,
          -5.9799081,
          -6.0847287,
          -6.06612,
          -5.9313921,
          -5.9804426,
          -6.055347,
          -6.0475562,
          -5.8456912,
          -5.8538032,
          -6.0549346,
          -5.9969563,
          -5.8160429,
          -5.999686,
          -5.9745482,
          -5.9988958,
          -5.9795246,
          -6.0504183,
          -5.6396686,
          -5.9959523,
          -5.9937657,
          -6.0410394,
          -6.0075123,
          -6.0039569,
          -6.0039747,
          -6.0079664,
          -5.9769946,
          -6.0095526,
          -6.0405927,
          -5.9586408,
          -5.9897152,
          -5.9827216,
          -5.9822434,
          -5.6465003,
          -6.0084614,
          -5.9188368,
          -5.9763565,
          -6.0000997,
          -5.9990942,
          -6.0038452,
          -5.9983526,
          -5.9984998,
          -5.9993465,
          -5.998974,
          -5.998694,
          -6.001493,
          -6.0013333,
          -6.0532792,
          -5.9157327,
          -6.1584518,
          -6.1528978,
          -6.153677,
          -5.9609781,
          -5.9507914,
          -5.9509086,
          -5.973515,
          -5.9965176,
          -6.0456497,
          -6.0597904,
          -5.9693853,
          -5.9702723,
          -5.969346,
          -5.974322,
          -6.2660091,
          -6.0133269,
          -5.9096936,
          -5.9370375,
          -5.9458035,
          -5.9916412,
          -6.0621686,
          -6.0687689,
          -5.9832585,
          -5.9400413,
          -6.3372686,
          -5.9775511,
          -6.0253835,
          -5.9745354,
          -5.9650252,
          -6.0385945,
          -6.0079746,
          -6.0013942,
          -5.9893559,
          -5.9613663,
          -5.9926949,
          -5.9711921,
          -6.0436519,
          -5.9740448,
          -6.0257096,
          -6.0248803,
          -5.9660787,
          -5.9283315
         ],
         "marker": {
          "color": "#636efa"
         },
         "mode": "markers",
         "name": "None",
         "showlegend": true,
         "subplot": "mapbox",
         "type": "scattermapbox"
        }
       ],
       "layout": {
        "legend": {
         "title": {
          "text": "tipo"
         },
         "tracegroupgap": 0
        },
        "mapbox": {
         "accesstoken": "pk.eyJ1IjoiZGFvcnRpIiwiYSI6ImNrZnF6M3FlczA3cDEyem16YTNzZmV4M2EifQ.846iF0sMSAXv0kwkwUTYjg",
         "center": {
          "lat": 37.374646087878794,
          "lon": -5.980986351178451
         },
         "domain": {
          "x": [
           0,
           1
          ],
          "y": [
           0,
           1
          ]
         },
         "zoom": 11
        },
        "margin": {
         "t": 60
        },
        "template": {
         "data": {
          "bar": [
           {
            "error_x": {
             "color": "#2a3f5f"
            },
            "error_y": {
             "color": "#2a3f5f"
            },
            "marker": {
             "line": {
              "color": "#E5ECF6",
              "width": 0.5
             },
             "pattern": {
              "fillmode": "overlay",
              "size": 10,
              "solidity": 0.2
             }
            },
            "type": "bar"
           }
          ],
          "barpolar": [
           {
            "marker": {
             "line": {
              "color": "#E5ECF6",
              "width": 0.5
             },
             "pattern": {
              "fillmode": "overlay",
              "size": 10,
              "solidity": 0.2
             }
            },
            "type": "barpolar"
           }
          ],
          "carpet": [
           {
            "aaxis": {
             "endlinecolor": "#2a3f5f",
             "gridcolor": "white",
             "linecolor": "white",
             "minorgridcolor": "white",
             "startlinecolor": "#2a3f5f"
            },
            "baxis": {
             "endlinecolor": "#2a3f5f",
             "gridcolor": "white",
             "linecolor": "white",
             "minorgridcolor": "white",
             "startlinecolor": "#2a3f5f"
            },
            "type": "carpet"
           }
          ],
          "choropleth": [
           {
            "colorbar": {
             "outlinewidth": 0,
             "ticks": ""
            },
            "type": "choropleth"
           }
          ],
          "contour": [
           {
            "colorbar": {
             "outlinewidth": 0,
             "ticks": ""
            },
            "colorscale": [
             [
              0,
              "#0d0887"
             ],
             [
              0.1111111111111111,
              "#46039f"
             ],
             [
              0.2222222222222222,
              "#7201a8"
             ],
             [
              0.3333333333333333,
              "#9c179e"
             ],
             [
              0.4444444444444444,
              "#bd3786"
             ],
             [
              0.5555555555555556,
              "#d8576b"
             ],
             [
              0.6666666666666666,
              "#ed7953"
             ],
             [
              0.7777777777777778,
              "#fb9f3a"
             ],
             [
              0.8888888888888888,
              "#fdca26"
             ],
             [
              1,
              "#f0f921"
             ]
            ],
            "type": "contour"
           }
          ],
          "contourcarpet": [
           {
            "colorbar": {
             "outlinewidth": 0,
             "ticks": ""
            },
            "type": "contourcarpet"
           }
          ],
          "heatmap": [
           {
            "colorbar": {
             "outlinewidth": 0,
             "ticks": ""
            },
            "colorscale": [
             [
              0,
              "#0d0887"
             ],
             [
              0.1111111111111111,
              "#46039f"
             ],
             [
              0.2222222222222222,
              "#7201a8"
             ],
             [
              0.3333333333333333,
              "#9c179e"
             ],
             [
              0.4444444444444444,
              "#bd3786"
             ],
             [
              0.5555555555555556,
              "#d8576b"
             ],
             [
              0.6666666666666666,
              "#ed7953"
             ],
             [
              0.7777777777777778,
              "#fb9f3a"
             ],
             [
              0.8888888888888888,
              "#fdca26"
             ],
             [
              1,
              "#f0f921"
             ]
            ],
            "type": "heatmap"
           }
          ],
          "heatmapgl": [
           {
            "colorbar": {
             "outlinewidth": 0,
             "ticks": ""
            },
            "colorscale": [
             [
              0,
              "#0d0887"
             ],
             [
              0.1111111111111111,
              "#46039f"
             ],
             [
              0.2222222222222222,
              "#7201a8"
             ],
             [
              0.3333333333333333,
              "#9c179e"
             ],
             [
              0.4444444444444444,
              "#bd3786"
             ],
             [
              0.5555555555555556,
              "#d8576b"
             ],
             [
              0.6666666666666666,
              "#ed7953"
             ],
             [
              0.7777777777777778,
              "#fb9f3a"
             ],
             [
              0.8888888888888888,
              "#fdca26"
             ],
             [
              1,
              "#f0f921"
             ]
            ],
            "type": "heatmapgl"
           }
          ],
          "histogram": [
           {
            "marker": {
             "pattern": {
              "fillmode": "overlay",
              "size": 10,
              "solidity": 0.2
             }
            },
            "type": "histogram"
           }
          ],
          "histogram2d": [
           {
            "colorbar": {
             "outlinewidth": 0,
             "ticks": ""
            },
            "colorscale": [
             [
              0,
              "#0d0887"
             ],
             [
              0.1111111111111111,
              "#46039f"
             ],
             [
              0.2222222222222222,
              "#7201a8"
             ],
             [
              0.3333333333333333,
              "#9c179e"
             ],
             [
              0.4444444444444444,
              "#bd3786"
             ],
             [
              0.5555555555555556,
              "#d8576b"
             ],
             [
              0.6666666666666666,
              "#ed7953"
             ],
             [
              0.7777777777777778,
              "#fb9f3a"
             ],
             [
              0.8888888888888888,
              "#fdca26"
             ],
             [
              1,
              "#f0f921"
             ]
            ],
            "type": "histogram2d"
           }
          ],
          "histogram2dcontour": [
           {
            "colorbar": {
             "outlinewidth": 0,
             "ticks": ""
            },
            "colorscale": [
             [
              0,
              "#0d0887"
             ],
             [
              0.1111111111111111,
              "#46039f"
             ],
             [
              0.2222222222222222,
              "#7201a8"
             ],
             [
              0.3333333333333333,
              "#9c179e"
             ],
             [
              0.4444444444444444,
              "#bd3786"
             ],
             [
              0.5555555555555556,
              "#d8576b"
             ],
             [
              0.6666666666666666,
              "#ed7953"
             ],
             [
              0.7777777777777778,
              "#fb9f3a"
             ],
             [
              0.8888888888888888,
              "#fdca26"
             ],
             [
              1,
              "#f0f921"
             ]
            ],
            "type": "histogram2dcontour"
           }
          ],
          "mesh3d": [
           {
            "colorbar": {
             "outlinewidth": 0,
             "ticks": ""
            },
            "type": "mesh3d"
           }
          ],
          "parcoords": [
           {
            "line": {
             "colorbar": {
              "outlinewidth": 0,
              "ticks": ""
             }
            },
            "type": "parcoords"
           }
          ],
          "pie": [
           {
            "automargin": true,
            "type": "pie"
           }
          ],
          "scatter": [
           {
            "fillpattern": {
             "fillmode": "overlay",
             "size": 10,
             "solidity": 0.2
            },
            "type": "scatter"
           }
          ],
          "scatter3d": [
           {
            "line": {
             "colorbar": {
              "outlinewidth": 0,
              "ticks": ""
             }
            },
            "marker": {
             "colorbar": {
              "outlinewidth": 0,
              "ticks": ""
             }
            },
            "type": "scatter3d"
           }
          ],
          "scattercarpet": [
           {
            "marker": {
             "colorbar": {
              "outlinewidth": 0,
              "ticks": ""
             }
            },
            "type": "scattercarpet"
           }
          ],
          "scattergeo": [
           {
            "marker": {
             "colorbar": {
              "outlinewidth": 0,
              "ticks": ""
             }
            },
            "type": "scattergeo"
           }
          ],
          "scattergl": [
           {
            "marker": {
             "colorbar": {
              "outlinewidth": 0,
              "ticks": ""
             }
            },
            "type": "scattergl"
           }
          ],
          "scattermapbox": [
           {
            "marker": {
             "colorbar": {
              "outlinewidth": 0,
              "ticks": ""
             }
            },
            "type": "scattermapbox"
           }
          ],
          "scatterpolar": [
           {
            "marker": {
             "colorbar": {
              "outlinewidth": 0,
              "ticks": ""
             }
            },
            "type": "scatterpolar"
           }
          ],
          "scatterpolargl": [
           {
            "marker": {
             "colorbar": {
              "outlinewidth": 0,
              "ticks": ""
             }
            },
            "type": "scatterpolargl"
           }
          ],
          "scatterternary": [
           {
            "marker": {
             "colorbar": {
              "outlinewidth": 0,
              "ticks": ""
             }
            },
            "type": "scatterternary"
           }
          ],
          "surface": [
           {
            "colorbar": {
             "outlinewidth": 0,
             "ticks": ""
            },
            "colorscale": [
             [
              0,
              "#0d0887"
             ],
             [
              0.1111111111111111,
              "#46039f"
             ],
             [
              0.2222222222222222,
              "#7201a8"
             ],
             [
              0.3333333333333333,
              "#9c179e"
             ],
             [
              0.4444444444444444,
              "#bd3786"
             ],
             [
              0.5555555555555556,
              "#d8576b"
             ],
             [
              0.6666666666666666,
              "#ed7953"
             ],
             [
              0.7777777777777778,
              "#fb9f3a"
             ],
             [
              0.8888888888888888,
              "#fdca26"
             ],
             [
              1,
              "#f0f921"
             ]
            ],
            "type": "surface"
           }
          ],
          "table": [
           {
            "cells": {
             "fill": {
              "color": "#EBF0F8"
             },
             "line": {
              "color": "white"
             }
            },
            "header": {
             "fill": {
              "color": "#C8D4E3"
             },
             "line": {
              "color": "white"
             }
            },
            "type": "table"
           }
          ]
         },
         "layout": {
          "annotationdefaults": {
           "arrowcolor": "#2a3f5f",
           "arrowhead": 0,
           "arrowwidth": 1
          },
          "autotypenumbers": "strict",
          "coloraxis": {
           "colorbar": {
            "outlinewidth": 0,
            "ticks": ""
           }
          },
          "colorscale": {
           "diverging": [
            [
             0,
             "#8e0152"
            ],
            [
             0.1,
             "#c51b7d"
            ],
            [
             0.2,
             "#de77ae"
            ],
            [
             0.3,
             "#f1b6da"
            ],
            [
             0.4,
             "#fde0ef"
            ],
            [
             0.5,
             "#f7f7f7"
            ],
            [
             0.6,
             "#e6f5d0"
            ],
            [
             0.7,
             "#b8e186"
            ],
            [
             0.8,
             "#7fbc41"
            ],
            [
             0.9,
             "#4d9221"
            ],
            [
             1,
             "#276419"
            ]
           ],
           "sequential": [
            [
             0,
             "#0d0887"
            ],
            [
             0.1111111111111111,
             "#46039f"
            ],
            [
             0.2222222222222222,
             "#7201a8"
            ],
            [
             0.3333333333333333,
             "#9c179e"
            ],
            [
             0.4444444444444444,
             "#bd3786"
            ],
            [
             0.5555555555555556,
             "#d8576b"
            ],
            [
             0.6666666666666666,
             "#ed7953"
            ],
            [
             0.7777777777777778,
             "#fb9f3a"
            ],
            [
             0.8888888888888888,
             "#fdca26"
            ],
            [
             1,
             "#f0f921"
            ]
           ],
           "sequentialminus": [
            [
             0,
             "#0d0887"
            ],
            [
             0.1111111111111111,
             "#46039f"
            ],
            [
             0.2222222222222222,
             "#7201a8"
            ],
            [
             0.3333333333333333,
             "#9c179e"
            ],
            [
             0.4444444444444444,
             "#bd3786"
            ],
            [
             0.5555555555555556,
             "#d8576b"
            ],
            [
             0.6666666666666666,
             "#ed7953"
            ],
            [
             0.7777777777777778,
             "#fb9f3a"
            ],
            [
             0.8888888888888888,
             "#fdca26"
            ],
            [
             1,
             "#f0f921"
            ]
           ]
          },
          "colorway": [
           "#636efa",
           "#EF553B",
           "#00cc96",
           "#ab63fa",
           "#FFA15A",
           "#19d3f3",
           "#FF6692",
           "#B6E880",
           "#FF97FF",
           "#FECB52"
          ],
          "font": {
           "color": "#2a3f5f"
          },
          "geo": {
           "bgcolor": "white",
           "lakecolor": "white",
           "landcolor": "#E5ECF6",
           "showlakes": true,
           "showland": true,
           "subunitcolor": "white"
          },
          "hoverlabel": {
           "align": "left"
          },
          "hovermode": "closest",
          "mapbox": {
           "style": "light"
          },
          "paper_bgcolor": "white",
          "plot_bgcolor": "#E5ECF6",
          "polar": {
           "angularaxis": {
            "gridcolor": "white",
            "linecolor": "white",
            "ticks": ""
           },
           "bgcolor": "#E5ECF6",
           "radialaxis": {
            "gridcolor": "white",
            "linecolor": "white",
            "ticks": ""
           }
          },
          "scene": {
           "xaxis": {
            "backgroundcolor": "#E5ECF6",
            "gridcolor": "white",
            "gridwidth": 2,
            "linecolor": "white",
            "showbackground": true,
            "ticks": "",
            "zerolinecolor": "white"
           },
           "yaxis": {
            "backgroundcolor": "#E5ECF6",
            "gridcolor": "white",
            "gridwidth": 2,
            "linecolor": "white",
            "showbackground": true,
            "ticks": "",
            "zerolinecolor": "white"
           },
           "zaxis": {
            "backgroundcolor": "#E5ECF6",
            "gridcolor": "white",
            "gridwidth": 2,
            "linecolor": "white",
            "showbackground": true,
            "ticks": "",
            "zerolinecolor": "white"
           }
          },
          "shapedefaults": {
           "line": {
            "color": "#2a3f5f"
           }
          },
          "ternary": {
           "aaxis": {
            "gridcolor": "white",
            "linecolor": "white",
            "ticks": ""
           },
           "baxis": {
            "gridcolor": "white",
            "linecolor": "white",
            "ticks": ""
           },
           "bgcolor": "#E5ECF6",
           "caxis": {
            "gridcolor": "white",
            "linecolor": "white",
            "ticks": ""
           }
          },
          "title": {
           "x": 0.05
          },
          "xaxis": {
           "automargin": true,
           "gridcolor": "white",
           "linecolor": "white",
           "ticks": "",
           "title": {
            "standoff": 15
           },
           "zerolinecolor": "white",
           "zerolinewidth": 2
          },
          "yaxis": {
           "automargin": true,
           "gridcolor": "white",
           "linecolor": "white",
           "ticks": "",
           "title": {
            "standoff": 15
           },
           "zerolinecolor": "white",
           "zerolinewidth": 2
          }
         }
        }
       }
      }
     },
     "metadata": {},
     "output_type": "display_data"
    }
   ],
   "source": [
    "pinta_mapa(df_super)"
   ]
  },
  {
   "cell_type": "markdown",
   "metadata": {},
   "source": [
    "## Etiqueta en el mapa\n",
    "Busca la manera de modificar la función `pinta_mapa()`, de tal manera que cuando pases el ratón por encima de cada punto, aparezca el nombre de cada nodo. Por ejemplo, que en el último apartado aparezcan los nombres de los supermercados."
   ]
  },
  {
   "cell_type": "code",
   "execution_count": 196,
   "metadata": {},
   "outputs": [
    {
     "data": {
      "text/html": [
       "<div>\n",
       "<style scoped>\n",
       "    .dataframe tbody tr th:only-of-type {\n",
       "        vertical-align: middle;\n",
       "    }\n",
       "\n",
       "    .dataframe tbody tr th {\n",
       "        vertical-align: top;\n",
       "    }\n",
       "\n",
       "    .dataframe thead th {\n",
       "        text-align: right;\n",
       "    }\n",
       "</style>\n",
       "<table border=\"1\" class=\"dataframe\">\n",
       "  <thead>\n",
       "    <tr style=\"text-align: right;\">\n",
       "      <th></th>\n",
       "      <th>tipo</th>\n",
       "      <th>lat</th>\n",
       "      <th>lon</th>\n",
       "      <th>name</th>\n",
       "      <th>address</th>\n",
       "    </tr>\n",
       "  </thead>\n",
       "  <tbody>\n",
       "    <tr>\n",
       "      <th>0</th>\n",
       "      <td>MAS</td>\n",
       "      <td>37.373002</td>\n",
       "      <td>-6.047204</td>\n",
       "      <td>MAS</td>\n",
       "      <td>NO STREET 9999</td>\n",
       "    </tr>\n",
       "    <tr>\n",
       "      <th>1</th>\n",
       "      <td>Maxi Dia</td>\n",
       "      <td>37.390016</td>\n",
       "      <td>-5.973769</td>\n",
       "      <td>Maxi Dia</td>\n",
       "      <td>NO STREET 9999</td>\n",
       "    </tr>\n",
       "    <tr>\n",
       "      <th>2</th>\n",
       "      <td>El Jamón</td>\n",
       "      <td>37.406364</td>\n",
       "      <td>-5.976342</td>\n",
       "      <td>El Jamón</td>\n",
       "      <td>NO STREET 9999</td>\n",
       "    </tr>\n",
       "    <tr>\n",
       "      <th>3</th>\n",
       "      <td>Valdejimena</td>\n",
       "      <td>37.406508</td>\n",
       "      <td>-5.973342</td>\n",
       "      <td>Valdejimena</td>\n",
       "      <td>Avenida de San Juan de la Salle 9999</td>\n",
       "    </tr>\n",
       "    <tr>\n",
       "      <th>4</th>\n",
       "      <td>Dia</td>\n",
       "      <td>37.406889</td>\n",
       "      <td>-5.972455</td>\n",
       "      <td>Dia</td>\n",
       "      <td>Avenida de San Juan de la Salle 12</td>\n",
       "    </tr>\n",
       "    <tr>\n",
       "      <th>...</th>\n",
       "      <td>...</td>\n",
       "      <td>...</td>\n",
       "      <td>...</td>\n",
       "      <td>...</td>\n",
       "      <td>...</td>\n",
       "    </tr>\n",
       "    <tr>\n",
       "      <th>292</th>\n",
       "      <td>Dia</td>\n",
       "      <td>37.376837</td>\n",
       "      <td>-5.974045</td>\n",
       "      <td>Dia</td>\n",
       "      <td>Avenida Ramón y Cajal 12</td>\n",
       "    </tr>\n",
       "    <tr>\n",
       "      <th>293</th>\n",
       "      <td>NO NAME</td>\n",
       "      <td>37.511615</td>\n",
       "      <td>-6.025710</td>\n",
       "      <td>NO NAME</td>\n",
       "      <td>NO STREET 9999</td>\n",
       "    </tr>\n",
       "    <tr>\n",
       "      <th>294</th>\n",
       "      <td>Tienda Pepa</td>\n",
       "      <td>37.513835</td>\n",
       "      <td>-6.024880</td>\n",
       "      <td>Tienda Pepa</td>\n",
       "      <td>NO STREET 9999</td>\n",
       "    </tr>\n",
       "    <tr>\n",
       "      <th>295</th>\n",
       "      <td>CashFresh</td>\n",
       "      <td>37.380747</td>\n",
       "      <td>-5.966079</td>\n",
       "      <td>CashFresh</td>\n",
       "      <td>Avenida de la Ciudad Jardin 4</td>\n",
       "    </tr>\n",
       "    <tr>\n",
       "      <th>296</th>\n",
       "      <td>Lidl</td>\n",
       "      <td>37.283570</td>\n",
       "      <td>-5.928331</td>\n",
       "      <td>Lidl</td>\n",
       "      <td>NO STREET 9999</td>\n",
       "    </tr>\n",
       "  </tbody>\n",
       "</table>\n",
       "<p>297 rows × 5 columns</p>\n",
       "</div>"
      ],
      "text/plain": [
       "            tipo        lat       lon         name  \\\n",
       "0            MAS  37.373002 -6.047204          MAS   \n",
       "1       Maxi Dia  37.390016 -5.973769     Maxi Dia   \n",
       "2       El Jamón  37.406364 -5.976342     El Jamón   \n",
       "3    Valdejimena  37.406508 -5.973342  Valdejimena   \n",
       "4            Dia  37.406889 -5.972455          Dia   \n",
       "..           ...        ...       ...          ...   \n",
       "292          Dia  37.376837 -5.974045          Dia   \n",
       "293      NO NAME  37.511615 -6.025710      NO NAME   \n",
       "294  Tienda Pepa  37.513835 -6.024880  Tienda Pepa   \n",
       "295    CashFresh  37.380747 -5.966079    CashFresh   \n",
       "296         Lidl  37.283570 -5.928331         Lidl   \n",
       "\n",
       "                                  address  \n",
       "0                          NO STREET 9999  \n",
       "1                          NO STREET 9999  \n",
       "2                          NO STREET 9999  \n",
       "3    Avenida de San Juan de la Salle 9999  \n",
       "4      Avenida de San Juan de la Salle 12  \n",
       "..                                    ...  \n",
       "292              Avenida Ramón y Cajal 12  \n",
       "293                        NO STREET 9999  \n",
       "294                        NO STREET 9999  \n",
       "295         Avenida de la Ciudad Jardin 4  \n",
       "296                        NO STREET 9999  \n",
       "\n",
       "[297 rows x 5 columns]"
      ]
     },
     "execution_count": 196,
     "metadata": {},
     "output_type": "execute_result"
    }
   ],
   "source": [
    "df_super2 = df_super.copy()\n",
    "df_super2[\"tipo\"] = df_super[\"name\"]\n",
    "df_super2"
   ]
  },
  {
   "cell_type": "code",
   "execution_count": 197,
   "metadata": {},
   "outputs": [
    {
     "data": {
      "application/vnd.plotly.v1+json": {
       "config": {
        "plotlyServerURL": "https://plot.ly"
       },
       "data": [
        {
         "hovertemplate": "tipo=MAS<br>lat=%{lat}<br>lon=%{lon}<extra></extra>",
         "lat": [
          37.3730016,
          37.381381,
          37.4019062,
          37.4066907,
          37.3829724,
          37.3835149,
          37.3766656,
          37.3751536,
          37.3751423
         ],
         "legendgroup": "MAS",
         "lon": [
          -6.0472036,
          -5.9794179,
          -5.9919191,
          -5.9730014,
          -6.0060357,
          -6.0771612,
          -6.0038452,
          -5.9983526,
          -5.998694
         ],
         "marker": {
          "color": "#636efa"
         },
         "mode": "markers",
         "name": "MAS",
         "showlegend": true,
         "subplot": "mapbox",
         "type": "scattermapbox"
        },
        {
         "hovertemplate": "tipo=Maxi Dia<br>lat=%{lat}<br>lon=%{lon}<extra></extra>",
         "lat": [
          37.3900156,
          37.3968266,
          37.3877763,
          37.3941226,
          37.3745748,
          37.4615531,
          37.351903,
          37.3826562,
          37.385883,
          37.3223888
         ],
         "legendgroup": "Maxi Dia",
         "lon": [
          -5.9737693,
          -5.9906521,
          -5.9819761,
          -5.9572429,
          -5.9677453,
          -6.0095892,
          -5.8454073,
          -6.0834494,
          -6.0274989,
          -6.06612
         ],
         "marker": {
          "color": "#EF553B"
         },
         "mode": "markers",
         "name": "Maxi Dia",
         "showlegend": true,
         "subplot": "mapbox",
         "type": "scattermapbox"
        },
        {
         "hovertemplate": "tipo=El Jamón<br>lat=%{lat}<br>lon=%{lon}<extra></extra>",
         "lat": [
          37.4063636,
          37.3945948,
          37.3762135,
          37.3758889,
          37.3878814,
          37.3563452,
          37.3757882,
          37.4109179,
          37.3824855,
          37.3858133,
          37.3593174,
          37.4717331,
          37.3792072,
          37.3729319
         ],
         "legendgroup": "El Jamón",
         "lon": [
          -5.9763418,
          -5.9910877,
          -5.9689733,
          -5.9545486,
          -5.9844847,
          -5.9857084,
          -6.0046336,
          -5.9253627,
          -6.0096031,
          -6.0743354,
          -5.9783584,
          -5.6396686,
          -6.0075123,
          -5.9586408
         ],
         "marker": {
          "color": "#00cc96"
         },
         "mode": "markers",
         "name": "El Jamón",
         "showlegend": true,
         "subplot": "mapbox",
         "type": "scattermapbox"
        },
        {
         "hovertemplate": "tipo=Valdejimena<br>lat=%{lat}<br>lon=%{lon}<extra></extra>",
         "lat": [
          37.4065076
         ],
         "legendgroup": "Valdejimena",
         "lon": [
          -5.9733419
         ],
         "marker": {
          "color": "#ab63fa"
         },
         "mode": "markers",
         "name": "Valdejimena",
         "showlegend": true,
         "subplot": "mapbox",
         "type": "scattermapbox"
        },
        {
         "hovertemplate": "tipo=Dia<br>lat=%{lat}<br>lon=%{lon}<extra></extra>",
         "lat": [
          37.4068889,
          37.281765,
          37.4906658,
          37.4022714,
          37.3750846,
          37.3716058,
          37.390219,
          37.3376348,
          37.394668,
          37.3828833,
          37.3774228,
          37.3851723,
          37.3388604,
          37.4012555,
          37.3816054,
          37.2949076,
          37.3846396,
          37.3845658,
          37.3741291,
          37.3101139,
          37.3023998,
          37.3726194,
          37.337093,
          37.3800582,
          37.3708759,
          37.3886902,
          37.3777005,
          37.5155549,
          37.3776589,
          37.4022297,
          37.3768372
         ],
         "legendgroup": "Dia",
         "lon": [
          -5.9724546,
          -5.9369929,
          -5.9461751,
          -5.9268237,
          -5.9538345,
          -5.9566624,
          -5.9894762,
          -5.827671,
          -5.997403,
          -5.9536265,
          -5.9472911,
          -5.9482621,
          -5.8381685,
          -6.0336533,
          -5.9649648,
          -6.0556159,
          -6.0103841,
          -6.0134182,
          -6.0320738,
          -6.1067959,
          -6.2976206,
          -5.9969106,
          -5.8456912,
          -5.9795246,
          -5.9769946,
          -6.0084614,
          -5.9984998,
          -6.2660091,
          -5.9400413,
          -5.9775511,
          -5.9740448
         ],
         "marker": {
          "color": "#FFA15A"
         },
         "mode": "markers",
         "name": "Dia",
         "showlegend": true,
         "subplot": "mapbox",
         "type": "scattermapbox"
        },
        {
         "hovertemplate": "tipo=Mercadona<br>lat=%{lat}<br>lon=%{lon}<extra></extra>",
         "lat": [
          37.3492941,
          37.4636269,
          37.3993597,
          37.3650152,
          37.2929933,
          37.4004138,
          37.3732438,
          37.1744795,
          37.1876727,
          37.3353194,
          37.3501025,
          37.3542265,
          37.3511902,
          37.487511,
          37.3416599,
          37.3385438,
          37.3720492,
          37.3972073,
          37.2894918,
          37.30331,
          37.426738,
          37.3718625,
          37.3123385,
          37.3972674,
          37.3905785,
          37.3855691,
          37.3798531,
          37.4065108,
          37.3441038
         ],
         "legendgroup": "Mercadona",
         "lon": [
          -5.9768997,
          -5.6474422,
          -5.9779561,
          -5.9790562,
          -5.9230804,
          -5.925213,
          -6.0446424,
          -5.7767863,
          -5.7877631,
          -6.0643473,
          -6.0518262,
          -5.8580908,
          -6.0250197,
          -5.9352853,
          -5.8334524,
          -5.9266725,
          -5.9620406,
          -6.0335377,
          -6.0526707,
          -6.3053348,
          -5.9763877,
          -6.0354853,
          -5.8602342,
          -5.7126393,
          -5.9799081,
          -6.0475562,
          -5.999686,
          -5.9897152,
          -5.9893559
         ],
         "marker": {
          "color": "#19d3f3"
         },
         "mode": "markers",
         "name": "Mercadona",
         "showlegend": true,
         "subplot": "mapbox",
         "type": "scattermapbox"
        },
        {
         "hovertemplate": "tipo=Supersol<br>lat=%{lat}<br>lon=%{lon}<extra></extra>",
         "lat": [
          37.3931413,
          37.382216,
          37.395969,
          37.37798,
          37.3585028,
          37.3979165,
          37.4247797,
          37.3542239,
          37.3712266
         ],
         "legendgroup": "Supersol",
         "lon": [
          -5.9815793,
          -5.9532198,
          -5.978107,
          -5.997585,
          -5.9859219,
          -5.9979908,
          -5.9850727,
          -5.9763565,
          -5.9509086
         ],
         "marker": {
          "color": "#FF6692"
         },
         "mode": "markers",
         "name": "Supersol",
         "showlegend": true,
         "subplot": "mapbox",
         "type": "scattermapbox"
        },
        {
         "hovertemplate": "tipo=NO NAME<br>lat=%{lat}<br>lon=%{lon}<extra></extra>",
         "lat": [
          37.3916239,
          37.4223309,
          37.4210312,
          37.4158443,
          37.408912,
          37.4162977,
          37.4322927,
          37.4265448,
          37.4032095,
          37.4040568,
          37.3767341,
          37.3666867,
          37.3828281,
          37.3838793,
          37.41043,
          37.4010345,
          37.4117722,
          37.3958654,
          37.3993031,
          37.3661575,
          37.3612925,
          37.3418953,
          37.328376,
          37.5132086,
          37.5161821,
          37.3901385,
          37.4024316,
          37.4836776,
          37.4844523,
          37.3742039,
          37.4148171,
          37.3795609,
          37.284439,
          37.3783874,
          37.3878694,
          37.5116153
         ],
         "legendgroup": "NO NAME",
         "lon": [
          -5.9813217,
          -5.9613759,
          -5.9637284,
          -5.9700072,
          -5.9769987,
          -5.9644557,
          -5.9793319,
          -5.9860088,
          -5.9683925,
          -5.9654044,
          -5.9803391,
          -5.975481,
          -5.9654853,
          -5.9469451,
          -5.9250194,
          -5.9406317,
          -5.9196117,
          -5.9241546,
          -5.9710998,
          -5.9683973,
          -5.9601058,
          -6.0673942,
          -5.8532728,
          -5.9857917,
          -5.9812268,
          -5.9706711,
          -5.9807553,
          -5.9471195,
          -5.9475486,
          -6.0028403,
          -6.1614621,
          -5.9188368,
          -5.9096936,
          -5.9458035,
          -5.9745354,
          -6.0257096
         ],
         "marker": {
          "color": "#B6E880"
         },
         "mode": "markers",
         "name": "NO NAME",
         "showlegend": true,
         "subplot": "mapbox",
         "type": "scattermapbox"
        },
        {
         "hovertemplate": "tipo=Masymas<br>lat=%{lat}<br>lon=%{lon}<extra></extra>",
         "lat": [
          37.3928078
         ],
         "legendgroup": "Masymas",
         "lon": [
          -5.9863711
         ],
         "marker": {
          "color": "#FF97FF"
         },
         "mode": "markers",
         "name": "Masymas",
         "showlegend": true,
         "subplot": "mapbox",
         "type": "scattermapbox"
        },
        {
         "hovertemplate": "tipo=Dia Market<br>lat=%{lat}<br>lon=%{lon}<extra></extra>",
         "lat": [
          37.39283,
          37.4000193,
          37.3784637,
          37.3819024,
          37.3709124
         ],
         "legendgroup": "Dia Market",
         "lon": [
          -5.9835362,
          -5.9856329,
          -6.0119015,
          -6.001493,
          -5.9507914
         ],
         "marker": {
          "color": "#FECB52"
         },
         "mode": "markers",
         "name": "Dia Market",
         "showlegend": true,
         "subplot": "mapbox",
         "type": "scattermapbox"
        },
        {
         "hovertemplate": "tipo=Supermercado El Jamón<br>lat=%{lat}<br>lon=%{lon}<extra></extra>",
         "lat": [
          37.3782118,
          37.3475816,
          37.3800415
         ],
         "legendgroup": "Supermercado El Jamón",
         "lon": [
          -6.0120047,
          -5.9804517,
          -6.0040513
         ],
         "marker": {
          "color": "#636efa"
         },
         "mode": "markers",
         "name": "Supermercado El Jamón",
         "showlegend": true,
         "subplot": "mapbox",
         "type": "scattermapbox"
        },
        {
         "hovertemplate": "tipo=Supercor<br>lat=%{lat}<br>lon=%{lon}<extra></extra>",
         "lat": [
          37.3758354
         ],
         "legendgroup": "Supercor",
         "lon": [
          -5.9763155
         ],
         "marker": {
          "color": "#EF553B"
         },
         "mode": "markers",
         "name": "Supercor",
         "showlegend": true,
         "subplot": "mapbox",
         "type": "scattermapbox"
        },
        {
         "hovertemplate": "tipo=Supermercados Mas<br>lat=%{lat}<br>lon=%{lon}<extra></extra>",
         "lat": [
          37.3709299,
          37.387336,
          37.3684704
         ],
         "legendgroup": "Supermercados Mas",
         "lon": [
          -5.9789718,
          -5.9849974,
          -6.0791734
         ],
         "marker": {
          "color": "#00cc96"
         },
         "mode": "markers",
         "name": "Supermercados Mas",
         "showlegend": true,
         "subplot": "mapbox",
         "type": "scattermapbox"
        },
        {
         "hovertemplate": "tipo=OpenCor<br>lat=%{lat}<br>lon=%{lon}<extra></extra>",
         "lat": [
          37.3821828
         ],
         "legendgroup": "OpenCor",
         "lon": [
          -5.9659946
         ],
         "marker": {
          "color": "#ab63fa"
         },
         "mode": "markers",
         "name": "OpenCor",
         "showlegend": true,
         "subplot": "mapbox",
         "type": "scattermapbox"
        },
        {
         "hovertemplate": "tipo=M.A.S.<br>lat=%{lat}<br>lon=%{lon}<extra></extra>",
         "lat": [
          37.3765331,
          37.344986
         ],
         "legendgroup": "M.A.S.",
         "lon": [
          -5.969255,
          -5.932839
         ],
         "marker": {
          "color": "#FFA15A"
         },
         "mode": "markers",
         "name": "M.A.S.",
         "showlegend": true,
         "subplot": "mapbox",
         "type": "scattermapbox"
        },
        {
         "hovertemplate": "tipo=Covirán<br>lat=%{lat}<br>lon=%{lon}<extra></extra>",
         "lat": [
          37.3994984,
          37.2697298,
          37.2871942,
          37.2902401,
          37.284377,
          37.2889914,
          37.3042312,
          37.3040479,
          37.3849155,
          37.3753009,
          37.3447542
         ],
         "legendgroup": "Covirán",
         "lon": [
          -5.9527488,
          -5.9362868,
          -5.9433609,
          -5.9258418,
          -5.9267402,
          -5.9269918,
          -6.3046051,
          -6.297249,
          -6.0549346,
          -5.998974,
          -6.0456497
         ],
         "marker": {
          "color": "#19d3f3"
         },
         "mode": "markers",
         "name": "Covirán",
         "showlegend": true,
         "subplot": "mapbox",
         "type": "scattermapbox"
        },
        {
         "hovertemplate": "tipo=Cash Fresh<br>lat=%{lat}<br>lon=%{lon}<extra></extra>",
         "lat": [
          37.4021436,
          37.3784614,
          37.3793471,
          37.4325717,
          37.3828681
         ],
         "legendgroup": "Cash Fresh",
         "lon": [
          -5.9206454,
          -5.9412792,
          -6.0047183,
          -6.0504183,
          -6.0133269
         ],
         "marker": {
          "color": "#FF6692"
         },
         "mode": "markers",
         "name": "Cash Fresh",
         "showlegend": true,
         "subplot": "mapbox",
         "type": "scattermapbox"
        },
        {
         "hovertemplate": "tipo=Mas<br>lat=%{lat}<br>lon=%{lon}<extra></extra>",
         "lat": [
          37.3770745,
          37.3207532,
          37.3888642,
          37.3852201,
          37.3897096,
          37.3585589
         ],
         "legendgroup": "Mas",
         "lon": [
          -6.0456304,
          -6.072243,
          -6.0020476,
          -5.9772574,
          -5.9921167,
          -5.9781164
         ],
         "marker": {
          "color": "#B6E880"
         },
         "mode": "markers",
         "name": "Mas",
         "showlegend": true,
         "subplot": "mapbox",
         "type": "scattermapbox"
        },
        {
         "hovertemplate": "tipo=Carrefour<br>lat=%{lat}<br>lon=%{lon}<extra></extra>",
         "lat": [
          37.3921327,
          37.2838344,
          37.4186604
         ],
         "legendgroup": "Carrefour",
         "lon": [
          -6.0305198,
          -5.9377335,
          -5.974322
         ],
         "marker": {
          "color": "#FF97FF"
         },
         "mode": "markers",
         "name": "Carrefour",
         "showlegend": true,
         "subplot": "mapbox",
         "type": "scattermapbox"
        },
        {
         "hovertemplate": "tipo=Hipercor<br>lat=%{lat}<br>lon=%{lon}<extra></extra>",
         "lat": [
          37.373167,
          37.3882714
         ],
         "legendgroup": "Hipercor",
         "lon": [
          -6.0300594,
          -5.9607582
         ],
         "marker": {
          "color": "#FECB52"
         },
         "mode": "markers",
         "name": "Hipercor",
         "showlegend": true,
         "subplot": "mapbox",
         "type": "scattermapbox"
        },
        {
         "hovertemplate": "tipo=Codi<br>lat=%{lat}<br>lon=%{lon}<extra></extra>",
         "lat": [
          37.2756379,
          37.1895563,
          37.285365,
          37.2855656,
          37.2906251,
          37.3390588,
          37.2824923,
          37.2832311,
          37.3858695,
          37.2861964
         ],
         "legendgroup": "Codi",
         "lon": [
          -5.9277721,
          -5.7780879,
          -5.9102831,
          -5.9146873,
          -5.9245229,
          -5.9300443,
          -5.9211799,
          -5.9313921,
          -6.055347,
          -5.9370375
         ],
         "marker": {
          "color": "#636efa"
         },
         "mode": "markers",
         "name": "Codi",
         "showlegend": true,
         "subplot": "mapbox",
         "type": "scattermapbox"
        },
        {
         "hovertemplate": "tipo=Cash<br>lat=%{lat}<br>lon=%{lon}<extra></extra>",
         "lat": [
          37.4007084
         ],
         "legendgroup": "Cash",
         "lon": [
          -5.9270066
         ],
         "marker": {
          "color": "#EF553B"
         },
         "mode": "markers",
         "name": "Cash",
         "showlegend": true,
         "subplot": "mapbox",
         "type": "scattermapbox"
        },
        {
         "hovertemplate": "tipo=Hipersol<br>lat=%{lat}<br>lon=%{lon}<extra></extra>",
         "lat": [
          37.1851484
         ],
         "legendgroup": "Hipersol",
         "lon": [
          -5.7736967
         ],
         "marker": {
          "color": "#00cc96"
         },
         "mode": "markers",
         "name": "Hipersol",
         "showlegend": true,
         "subplot": "mapbox",
         "type": "scattermapbox"
        },
        {
         "hovertemplate": "tipo=Supermercado Juani<br>lat=%{lat}<br>lon=%{lon}<extra></extra>",
         "lat": [
          37.1797124
         ],
         "legendgroup": "Supermercado Juani",
         "lon": [
          -5.7962499
         ],
         "marker": {
          "color": "#ab63fa"
         },
         "mode": "markers",
         "name": "Supermercado Juani",
         "showlegend": true,
         "subplot": "mapbox",
         "type": "scattermapbox"
        },
        {
         "hovertemplate": "tipo=Mas Olivares<br>lat=%{lat}<br>lon=%{lon}<extra></extra>",
         "lat": [
          37.3255608
         ],
         "legendgroup": "Mas Olivares",
         "lon": [
          -5.9339584
         ],
         "marker": {
          "color": "#FFA15A"
         },
         "mode": "markers",
         "name": "Mas Olivares",
         "showlegend": true,
         "subplot": "mapbox",
         "type": "scattermapbox"
        },
        {
         "hovertemplate": "tipo=Supemercados El Jamón<br>lat=%{lat}<br>lon=%{lon}<extra></extra>",
         "lat": [
          37.3823229
         ],
         "legendgroup": "Supemercados El Jamón",
         "lon": [
          -5.9654876
         ],
         "marker": {
          "color": "#19d3f3"
         },
         "mode": "markers",
         "name": "Supemercados El Jamón",
         "showlegend": true,
         "subplot": "mapbox",
         "type": "scattermapbox"
        },
        {
         "hovertemplate": "tipo=Bebidas Sur<br>lat=%{lat}<br>lon=%{lon}<extra></extra>",
         "lat": [
          37.2661629
         ],
         "legendgroup": "Bebidas Sur",
         "lon": [
          -5.9213596
         ],
         "marker": {
          "color": "#FF6692"
         },
         "mode": "markers",
         "name": "Bebidas Sur",
         "showlegend": true,
         "subplot": "mapbox",
         "type": "scattermapbox"
        },
        {
         "hovertemplate": "tipo=Lidl<br>lat=%{lat}<br>lon=%{lon}<extra></extra>",
         "lat": [
          37.3327558,
          37.3778989,
          37.3417027,
          37.2962155,
          37.3755652,
          37.4033923,
          37.4031917,
          37.2835696
         ],
         "legendgroup": "Lidl",
         "lon": [
          -5.9693451,
          -6.0669422,
          -5.8303426,
          -6.0530087,
          -5.9994109,
          -5.9693853,
          -5.969346,
          -5.9283315
         ],
         "marker": {
          "color": "#B6E880"
         },
         "mode": "markers",
         "name": "Lidl",
         "showlegend": true,
         "subplot": "mapbox",
         "type": "scattermapbox"
        },
        {
         "hovertemplate": "tipo=Cash - Hnos López González<br>lat=%{lat}<br>lon=%{lon}<extra></extra>",
         "lat": [
          37.295735
         ],
         "legendgroup": "Cash - Hnos López González",
         "lon": [
          -5.9117565
         ],
         "marker": {
          "color": "#FF97FF"
         },
         "mode": "markers",
         "name": "Cash - Hnos López González",
         "showlegend": true,
         "subplot": "mapbox",
         "type": "scattermapbox"
        },
        {
         "hovertemplate": "tipo=Caliser<br>lat=%{lat}<br>lon=%{lon}<extra></extra>",
         "lat": [
          37.3322365
         ],
         "legendgroup": "Caliser",
         "lon": [
          -5.834486
         ],
         "marker": {
          "color": "#FECB52"
         },
         "mode": "markers",
         "name": "Caliser",
         "showlegend": true,
         "subplot": "mapbox",
         "type": "scattermapbox"
        },
        {
         "hovertemplate": "tipo=Aldi<br>lat=%{lat}<br>lon=%{lon}<extra></extra>",
         "lat": [
          37.3842002,
          37.3252963,
          37.3662625
         ],
         "legendgroup": "Aldi",
         "lon": [
          -6.0613371,
          -5.8538032,
          -5.9988958
         ],
         "marker": {
          "color": "#636efa"
         },
         "mode": "markers",
         "name": "Aldi",
         "showlegend": true,
         "subplot": "mapbox",
         "type": "scattermapbox"
        },
        {
         "hovertemplate": "tipo=Cash fresh<br>lat=%{lat}<br>lon=%{lon}<extra></extra>",
         "lat": [
          37.3838552
         ],
         "legendgroup": "Cash fresh",
         "lon": [
          -5.9514647
         ],
         "marker": {
          "color": "#EF553B"
         },
         "mode": "markers",
         "name": "Cash fresh",
         "showlegend": true,
         "subplot": "mapbox",
         "type": "scattermapbox"
        },
        {
         "hovertemplate": "tipo=Hiper Oriente<br>lat=%{lat}<br>lon=%{lon}<extra></extra>",
         "lat": [
          37.3939616
         ],
         "legendgroup": "Hiper Oriente",
         "lon": [
          -5.9956693
         ],
         "marker": {
          "color": "#00cc96"
         },
         "mode": "markers",
         "name": "Hiper Oriente",
         "showlegend": true,
         "subplot": "mapbox",
         "type": "scattermapbox"
        },
        {
         "hovertemplate": "tipo=Supermercado MAS<br>lat=%{lat}<br>lon=%{lon}<extra></extra>",
         "lat": [
          37.3439885,
          37.3850834,
          37.3755246,
          37.3528597,
          37.3812806
         ],
         "legendgroup": "Supermercado MAS",
         "lon": [
          -5.9754025,
          -5.9812451,
          -6.0045754,
          -6.0475875,
          -6.0039747
         ],
         "marker": {
          "color": "#ab63fa"
         },
         "mode": "markers",
         "name": "Supermercado MAS",
         "showlegend": true,
         "subplot": "mapbox",
         "type": "scattermapbox"
        },
        {
         "hovertemplate": "tipo=Supermcado \"M.A.S.\"<br>lat=%{lat}<br>lon=%{lon}<extra></extra>",
         "lat": [
          37.4245402
         ],
         "legendgroup": "Supermcado \"M.A.S.\"",
         "lon": [
          -5.9849356
         ],
         "marker": {
          "color": "#FFA15A"
         },
         "mode": "markers",
         "name": "Supermcado \"M.A.S.\"",
         "showlegend": true,
         "subplot": "mapbox",
         "type": "scattermapbox"
        },
        {
         "hovertemplate": "tipo=Supermercados El Jamón<br>lat=%{lat}<br>lon=%{lon}<extra></extra>",
         "lat": [
          37.3845859
         ],
         "legendgroup": "Supermercados El Jamón",
         "lon": [
          -6.0059643
         ],
         "marker": {
          "color": "#19d3f3"
         },
         "mode": "markers",
         "name": "Supermercados El Jamón",
         "showlegend": true,
         "subplot": "mapbox",
         "type": "scattermapbox"
        },
        {
         "hovertemplate": "tipo=Carrefour Market<br>lat=%{lat}<br>lon=%{lon}<extra></extra>",
         "lat": [
          37.3926834
         ],
         "legendgroup": "Carrefour Market",
         "lon": [
          -5.9818026
         ],
         "marker": {
          "color": "#FF6692"
         },
         "mode": "markers",
         "name": "Carrefour Market",
         "showlegend": true,
         "subplot": "mapbox",
         "type": "scattermapbox"
        },
        {
         "hovertemplate": "tipo=Alcampo<br>lat=%{lat}<br>lon=%{lon}<extra></extra>",
         "lat": [
          37.4084798
         ],
         "legendgroup": "Alcampo",
         "lon": [
          -5.910971
         ],
         "marker": {
          "color": "#B6E880"
         },
         "mode": "markers",
         "name": "Alcampo",
         "showlegend": true,
         "subplot": "mapbox",
         "type": "scattermapbox"
        },
        {
         "hovertemplate": "tipo=Supermercado M.A.S<br>lat=%{lat}<br>lon=%{lon}<extra></extra>",
         "lat": [
          37.3387597
         ],
         "legendgroup": "Supermercado M.A.S",
         "lon": [
          -5.8401204
         ],
         "marker": {
          "color": "#FF97FF"
         },
         "mode": "markers",
         "name": "Supermercado M.A.S",
         "showlegend": true,
         "subplot": "mapbox",
         "type": "scattermapbox"
        },
        {
         "hovertemplate": "tipo=Supermercado<br>lat=%{lat}<br>lon=%{lon}<extra></extra>",
         "lat": [
          37.3876859
         ],
         "legendgroup": "Supermercado",
         "lon": [
          -5.9673225
         ],
         "marker": {
          "color": "#FECB52"
         },
         "mode": "markers",
         "name": "Supermercado",
         "showlegend": true,
         "subplot": "mapbox",
         "type": "scattermapbox"
        },
        {
         "hovertemplate": "tipo=Supermercados MAS<br>lat=%{lat}<br>lon=%{lon}<extra></extra>",
         "lat": [
          37.3732443,
          37.3897145,
          37.3412032
         ],
         "legendgroup": "Supermercados MAS",
         "lon": [
          -5.9952049,
          -5.99916,
          -6.0597904
         ],
         "marker": {
          "color": "#636efa"
         },
         "mode": "markers",
         "name": "Supermercados MAS",
         "showlegend": true,
         "subplot": "mapbox",
         "type": "scattermapbox"
        },
        {
         "hovertemplate": "tipo=Miguel Angel<br>lat=%{lat}<br>lon=%{lon}<extra></extra>",
         "lat": [
          37.4639055
         ],
         "legendgroup": "Miguel Angel",
         "lon": [
          -5.6447327
         ],
         "marker": {
          "color": "#EF553B"
         },
         "mode": "markers",
         "name": "Miguel Angel",
         "showlegend": true,
         "subplot": "mapbox",
         "type": "scattermapbox"
        },
        {
         "hovertemplate": "tipo=MASS Supermercados<br>lat=%{lat}<br>lon=%{lon}<extra></extra>",
         "lat": [
          37.5451547
         ],
         "legendgroup": "MASS Supermercados",
         "lon": [
          -6.0566456
         ],
         "marker": {
          "color": "#00cc96"
         },
         "mode": "markers",
         "name": "MASS Supermercados",
         "showlegend": true,
         "subplot": "mapbox",
         "type": "scattermapbox"
        },
        {
         "hovertemplate": "tipo=La Ortiga<br>lat=%{lat}<br>lon=%{lon}<extra></extra>",
         "lat": [
          37.3984032
         ],
         "legendgroup": "La Ortiga",
         "lon": [
          -5.9991195
         ],
         "marker": {
          "color": "#ab63fa"
         },
         "mode": "markers",
         "name": "La Ortiga",
         "showlegend": true,
         "subplot": "mapbox",
         "type": "scattermapbox"
        },
        {
         "hovertemplate": "tipo=Maskom<br>lat=%{lat}<br>lon=%{lon}<extra></extra>",
         "lat": [
          37.3827647
         ],
         "legendgroup": "Maskom",
         "lon": [
          -6.0030198
         ],
         "marker": {
          "color": "#FFA15A"
         },
         "mode": "markers",
         "name": "Maskom",
         "showlegend": true,
         "subplot": "mapbox",
         "type": "scattermapbox"
        },
        {
         "hovertemplate": "tipo=Supermercado Victoriano<br>lat=%{lat}<br>lon=%{lon}<extra></extra>",
         "lat": [
          37.3986384
         ],
         "legendgroup": "Supermercado Victoriano",
         "lon": [
          -6.0322142
         ],
         "marker": {
          "color": "#19d3f3"
         },
         "mode": "markers",
         "name": "Supermercado Victoriano",
         "showlegend": true,
         "subplot": "mapbox",
         "type": "scattermapbox"
        },
        {
         "hovertemplate": "tipo=Spar<br>lat=%{lat}<br>lon=%{lon}<extra></extra>",
         "lat": [
          37.388112,
          37.3875216,
          37.3722828
         ],
         "legendgroup": "Spar",
         "lon": [
          -5.982929,
          -6.0532792,
          -6.0013942
         ],
         "marker": {
          "color": "#FF6692"
         },
         "mode": "markers",
         "name": "Spar",
         "showlegend": true,
         "subplot": "mapbox",
         "type": "scattermapbox"
        },
        {
         "hovertemplate": "tipo=Supermercado Proxim<br>lat=%{lat}<br>lon=%{lon}<extra></extra>",
         "lat": [
          37.3883375
         ],
         "legendgroup": "Supermercado Proxim",
         "lon": [
          -6.0807164
         ],
         "marker": {
          "color": "#B6E880"
         },
         "mode": "markers",
         "name": "Supermercado Proxim",
         "showlegend": true,
         "subplot": "mapbox",
         "type": "scattermapbox"
        },
        {
         "hovertemplate": "tipo=Bonsabor<br>lat=%{lat}<br>lon=%{lon}<extra></extra>",
         "lat": [
          37.4010558
         ],
         "legendgroup": "Bonsabor",
         "lon": [
          -5.9257114
         ],
         "marker": {
          "color": "#FF97FF"
         },
         "mode": "markers",
         "name": "Bonsabor",
         "showlegend": true,
         "subplot": "mapbox",
         "type": "scattermapbox"
        },
        {
         "hovertemplate": "tipo=MAS&Go<br>lat=%{lat}<br>lon=%{lon}<extra></extra>",
         "lat": [
          37.3588696,
          37.3748125
         ],
         "legendgroup": "MAS&Go",
         "lon": [
          -5.9859998,
          -6.0000997
         ],
         "marker": {
          "color": "#FECB52"
         },
         "mode": "markers",
         "name": "MAS&Go",
         "showlegend": true,
         "subplot": "mapbox",
         "type": "scattermapbox"
        },
        {
         "hovertemplate": "tipo=Supermrecados Mas<br>lat=%{lat}<br>lon=%{lon}<extra></extra>",
         "lat": [
          37.3947584
         ],
         "legendgroup": "Supermrecados Mas",
         "lon": [
          -6.0013408
         ],
         "marker": {
          "color": "#636efa"
         },
         "mode": "markers",
         "name": "Supermrecados Mas",
         "showlegend": true,
         "subplot": "mapbox",
         "type": "scattermapbox"
        },
        {
         "hovertemplate": "tipo=La Coriana<br>lat=%{lat}<br>lon=%{lon}<extra></extra>",
         "lat": [
          37.3785976
         ],
         "legendgroup": "La Coriana",
         "lon": [
          -5.9726165
         ],
         "marker": {
          "color": "#EF553B"
         },
         "mode": "markers",
         "name": "La Coriana",
         "showlegend": true,
         "subplot": "mapbox",
         "type": "scattermapbox"
        },
        {
         "hovertemplate": "tipo=El Toni<br>lat=%{lat}<br>lon=%{lon}<extra></extra>",
         "lat": [
          37.378052
         ],
         "legendgroup": "El Toni",
         "lon": [
          -5.9726701
         ],
         "marker": {
          "color": "#00cc96"
         },
         "mode": "markers",
         "name": "El Toni",
         "showlegend": true,
         "subplot": "mapbox",
         "type": "scattermapbox"
        },
        {
         "hovertemplate": "tipo=Badia<br>lat=%{lat}<br>lon=%{lon}<extra></extra>",
         "lat": [
          37.3596854
         ],
         "legendgroup": "Badia",
         "lon": [
          -6.3278422
         ],
         "marker": {
          "color": "#ab63fa"
         },
         "mode": "markers",
         "name": "Badia",
         "showlegend": true,
         "subplot": "mapbox",
         "type": "scattermapbox"
        },
        {
         "hovertemplate": "tipo=Perfumeria Ana<br>lat=%{lat}<br>lon=%{lon}<extra></extra>",
         "lat": [
          37.4108539
         ],
         "legendgroup": "Perfumeria Ana",
         "lon": [
          -5.9254298
         ],
         "marker": {
          "color": "#FFA15A"
         },
         "mode": "markers",
         "name": "Perfumeria Ana",
         "showlegend": true,
         "subplot": "mapbox",
         "type": "scattermapbox"
        },
        {
         "hovertemplate": "tipo=Supeco<br>lat=%{lat}<br>lon=%{lon}<extra></extra>",
         "lat": [
          37.3798043
         ],
         "legendgroup": "Supeco",
         "lon": [
          -6.0836775
         ],
         "marker": {
          "color": "#19d3f3"
         },
         "mode": "markers",
         "name": "Supeco",
         "showlegend": true,
         "subplot": "mapbox",
         "type": "scattermapbox"
        },
        {
         "hovertemplate": "tipo=Cash Catalino Supherme<br>lat=%{lat}<br>lon=%{lon}<extra></extra>",
         "lat": [
          37.2783941
         ],
         "legendgroup": "Cash Catalino Supherme",
         "lon": [
          -5.9332385
         ],
         "marker": {
          "color": "#FF6692"
         },
         "mode": "markers",
         "name": "Cash Catalino Supherme",
         "showlegend": true,
         "subplot": "mapbox",
         "type": "scattermapbox"
        },
        {
         "hovertemplate": "tipo=Alimentación YEN<br>lat=%{lat}<br>lon=%{lon}<extra></extra>",
         "lat": [
          37.3720803
         ],
         "legendgroup": "Alimentación YEN",
         "lon": [
          -6.0724424
         ],
         "marker": {
          "color": "#B6E880"
         },
         "mode": "markers",
         "name": "Alimentación YEN",
         "showlegend": true,
         "subplot": "mapbox",
         "type": "scattermapbox"
        },
        {
         "hovertemplate": "tipo=Hiper Frutas y Pescado Aljarafe<br>lat=%{lat}<br>lon=%{lon}<extra></extra>",
         "lat": [
          37.3736999
         ],
         "legendgroup": "Hiper Frutas y Pescado Aljarafe",
         "lon": [
          -6.0697293
         ],
         "marker": {
          "color": "#FF97FF"
         },
         "mode": "markers",
         "name": "Hiper Frutas y Pescado Aljarafe",
         "showlegend": true,
         "subplot": "mapbox",
         "type": "scattermapbox"
        },
        {
         "hovertemplate": "tipo=Autoservicio Rosa<br>lat=%{lat}<br>lon=%{lon}<extra></extra>",
         "lat": [
          37.3774904
         ],
         "legendgroup": "Autoservicio Rosa",
         "lon": [
          -6.0129859
         ],
         "marker": {
          "color": "#FECB52"
         },
         "mode": "markers",
         "name": "Autoservicio Rosa",
         "showlegend": true,
         "subplot": "mapbox",
         "type": "scattermapbox"
        },
        {
         "hovertemplate": "tipo=Jamón<br>lat=%{lat}<br>lon=%{lon}<extra></extra>",
         "lat": [
          37.3761087
         ],
         "legendgroup": "Jamón",
         "lon": [
          -5.9474761
         ],
         "marker": {
          "color": "#636efa"
         },
         "mode": "markers",
         "name": "Jamón",
         "showlegend": true,
         "subplot": "mapbox",
         "type": "scattermapbox"
        },
        {
         "hovertemplate": "tipo=Super Oriental<br>lat=%{lat}<br>lon=%{lon}<extra></extra>",
         "lat": [
          37.3874865
         ],
         "legendgroup": "Super Oriental",
         "lon": [
          -5.9727302
         ],
         "marker": {
          "color": "#EF553B"
         },
         "mode": "markers",
         "name": "Super Oriental",
         "showlegend": true,
         "subplot": "mapbox",
         "type": "scattermapbox"
        },
        {
         "hovertemplate": "tipo=Alimentation biologique<br>lat=%{lat}<br>lon=%{lon}<extra></extra>",
         "lat": [
          37.3536782
         ],
         "legendgroup": "Alimentation biologique",
         "lon": [
          -6.0574429
         ],
         "marker": {
          "color": "#00cc96"
         },
         "mode": "markers",
         "name": "Alimentation biologique",
         "showlegend": true,
         "subplot": "mapbox",
         "type": "scattermapbox"
        },
        {
         "hovertemplate": "tipo=Supermercado Ecológico.Herboteca<br>lat=%{lat}<br>lon=%{lon}<extra></extra>",
         "lat": [
          37.3819894
         ],
         "legendgroup": "Supermercado Ecológico.Herboteca",
         "lon": [
          -6.0039737
         ],
         "marker": {
          "color": "#ab63fa"
         },
         "mode": "markers",
         "name": "Supermercado Ecológico.Herboteca",
         "showlegend": true,
         "subplot": "mapbox",
         "type": "scattermapbox"
        },
        {
         "hovertemplate": "tipo=Supermercado Noah<br>lat=%{lat}<br>lon=%{lon}<extra></extra>",
         "lat": [
          37.3890463
         ],
         "legendgroup": "Supermercado Noah",
         "lon": [
          -6.080157
         ],
         "marker": {
          "color": "#FFA15A"
         },
         "mode": "markers",
         "name": "Supermercado Noah",
         "showlegend": true,
         "subplot": "mapbox",
         "type": "scattermapbox"
        },
        {
         "hovertemplate": "tipo=El Colmado de Pimpi<br>lat=%{lat}<br>lon=%{lon}<extra></extra>",
         "lat": [
          37.3773855
         ],
         "legendgroup": "El Colmado de Pimpi",
         "lon": [
          -5.973638
         ],
         "marker": {
          "color": "#19d3f3"
         },
         "mode": "markers",
         "name": "El Colmado de Pimpi",
         "showlegend": true,
         "subplot": "mapbox",
         "type": "scattermapbox"
        },
        {
         "hovertemplate": "tipo=Supermercado Paz<br>lat=%{lat}<br>lon=%{lon}<extra></extra>",
         "lat": [
          37.3932795
         ],
         "legendgroup": "Supermercado Paz",
         "lon": [
          -5.716306
         ],
         "marker": {
          "color": "#FF6692"
         },
         "mode": "markers",
         "name": "Supermercado Paz",
         "showlegend": true,
         "subplot": "mapbox",
         "type": "scattermapbox"
        },
        {
         "hovertemplate": "tipo=El Molino de Gines<br>lat=%{lat}<br>lon=%{lon}<extra></extra>",
         "lat": [
          37.381633
         ],
         "legendgroup": "El Molino de Gines",
         "lon": [
          -6.0847287
         ],
         "marker": {
          "color": "#B6E880"
         },
         "mode": "markers",
         "name": "El Molino de Gines",
         "showlegend": true,
         "subplot": "mapbox",
         "type": "scattermapbox"
        },
        {
         "hovertemplate": "tipo=ALDI<br>lat=%{lat}<br>lon=%{lon}<extra></extra>",
         "lat": [
          37.3917556,
          37.378475
         ],
         "legendgroup": "ALDI",
         "lon": [
          -5.9804426,
          -5.9993465
         ],
         "marker": {
          "color": "#FF97FF"
         },
         "mode": "markers",
         "name": "ALDI",
         "showlegend": true,
         "subplot": "mapbox",
         "type": "scattermapbox"
        },
        {
         "hovertemplate": "tipo=Mas&go<br>lat=%{lat}<br>lon=%{lon}<extra></extra>",
         "lat": [
          37.3945664
         ],
         "legendgroup": "Mas&go",
         "lon": [
          -5.9969563
         ],
         "marker": {
          "color": "#FECB52"
         },
         "mode": "markers",
         "name": "Mas&go",
         "showlegend": true,
         "subplot": "mapbox",
         "type": "scattermapbox"
        },
        {
         "hovertemplate": "tipo=Ayala<br>lat=%{lat}<br>lon=%{lon}<extra></extra>",
         "lat": [
          37.2221232
         ],
         "legendgroup": "Ayala",
         "lon": [
          -5.8160429
         ],
         "marker": {
          "color": "#636efa"
         },
         "mode": "markers",
         "name": "Ayala",
         "showlegend": true,
         "subplot": "mapbox",
         "type": "scattermapbox"
        },
        {
         "hovertemplate": "tipo=Fresh DIA<br>lat=%{lat}<br>lon=%{lon}<extra></extra>",
         "lat": [
          37.38285
         ],
         "legendgroup": "Fresh DIA",
         "lon": [
          -5.9745482
         ],
         "marker": {
          "color": "#EF553B"
         },
         "mode": "markers",
         "name": "Fresh DIA",
         "showlegend": true,
         "subplot": "mapbox",
         "type": "scattermapbox"
        },
        {
         "hovertemplate": "tipo=Supermercado Lin<br>lat=%{lat}<br>lon=%{lon}<extra></extra>",
         "lat": [
          37.372653
         ],
         "legendgroup": "Supermercado Lin",
         "lon": [
          -5.9959523
         ],
         "marker": {
          "color": "#00cc96"
         },
         "mode": "markers",
         "name": "Supermercado Lin",
         "showlegend": true,
         "subplot": "mapbox",
         "type": "scattermapbox"
        },
        {
         "hovertemplate": "tipo=Supermercado Alameda<br>lat=%{lat}<br>lon=%{lon}<extra></extra>",
         "lat": [
          37.4011565
         ],
         "legendgroup": "Supermercado Alameda",
         "lon": [
          -5.9937657
         ],
         "marker": {
          "color": "#ab63fa"
         },
         "mode": "markers",
         "name": "Supermercado Alameda",
         "showlegend": true,
         "subplot": "mapbox",
         "type": "scattermapbox"
        },
        {
         "hovertemplate": "tipo=Suma<br>lat=%{lat}<br>lon=%{lon}<extra></extra>",
         "lat": [
          37.3605097,
          37.3817904,
          37.3360801
         ],
         "legendgroup": "Suma",
         "lon": [
          -6.0410394,
          -6.0095526,
          -6.0253835
         ],
         "marker": {
          "color": "#FFA15A"
         },
         "mode": "markers",
         "name": "Suma",
         "showlegend": true,
         "subplot": "mapbox",
         "type": "scattermapbox"
        },
        {
         "hovertemplate": "tipo=Supermercado Ecológico Herboteca<br>lat=%{lat}<br>lon=%{lon}<extra></extra>",
         "lat": [
          37.381944
         ],
         "legendgroup": "Supermercado Ecológico Herboteca",
         "lon": [
          -6.0039569
         ],
         "marker": {
          "color": "#19d3f3"
         },
         "mode": "markers",
         "name": "Supermercado Ecológico Herboteca",
         "showlegend": true,
         "subplot": "mapbox",
         "type": "scattermapbox"
        },
        {
         "hovertemplate": "tipo=Mezcla - Productos Ecológicos<br>lat=%{lat}<br>lon=%{lon}<extra></extra>",
         "lat": [
          37.3856825
         ],
         "legendgroup": "Mezcla - Productos Ecológicos",
         "lon": [
          -6.0079664
         ],
         "marker": {
          "color": "#FF6692"
         },
         "mode": "markers",
         "name": "Mezcla - Productos Ecológicos",
         "showlegend": true,
         "subplot": "mapbox",
         "type": "scattermapbox"
        },
        {
         "hovertemplate": "tipo=Supermercado Bazar<br>lat=%{lat}<br>lon=%{lon}<extra></extra>",
         "lat": [
          37.4381841
         ],
         "legendgroup": "Supermercado Bazar",
         "lon": [
          -6.0405927
         ],
         "marker": {
          "color": "#B6E880"
         },
         "mode": "markers",
         "name": "Supermercado Bazar",
         "showlegend": true,
         "subplot": "mapbox",
         "type": "scattermapbox"
        },
        {
         "hovertemplate": "tipo=Carrefour Express<br>lat=%{lat}<br>lon=%{lon}<extra></extra>",
         "lat": [
          37.3717263,
          37.3939738
         ],
         "legendgroup": "Carrefour Express",
         "lon": [
          -5.9827216,
          -5.9926949
         ],
         "marker": {
          "color": "#FF97FF"
         },
         "mode": "markers",
         "name": "Carrefour Express",
         "showlegend": true,
         "subplot": "mapbox",
         "type": "scattermapbox"
        },
        {
         "hovertemplate": "tipo=Mas&Go<br>lat=%{lat}<br>lon=%{lon}<extra></extra>",
         "lat": [
          37.3716578
         ],
         "legendgroup": "Mas&Go",
         "lon": [
          -5.9822434
         ],
         "marker": {
          "color": "#FECB52"
         },
         "mode": "markers",
         "name": "Mas&Go",
         "showlegend": true,
         "subplot": "mapbox",
         "type": "scattermapbox"
        },
        {
         "hovertemplate": "tipo=SuperCarmela<br>lat=%{lat}<br>lon=%{lon}<extra></extra>",
         "lat": [
          37.4751307
         ],
         "legendgroup": "SuperCarmela",
         "lon": [
          -5.6465003
         ],
         "marker": {
          "color": "#636efa"
         },
         "mode": "markers",
         "name": "SuperCarmela",
         "showlegend": true,
         "subplot": "mapbox",
         "type": "scattermapbox"
        },
        {
         "hovertemplate": "tipo=MAS & go<br>lat=%{lat}<br>lon=%{lon}<extra></extra>",
         "lat": [
          37.3791269
         ],
         "legendgroup": "MAS & go",
         "lon": [
          -5.9990942
         ],
         "marker": {
          "color": "#EF553B"
         },
         "mode": "markers",
         "name": "MAS & go",
         "showlegend": true,
         "subplot": "mapbox",
         "type": "scattermapbox"
        },
        {
         "hovertemplate": "tipo=Supermercados La Cesta<br>lat=%{lat}<br>lon=%{lon}<extra></extra>",
         "lat": [
          37.3817406
         ],
         "legendgroup": "Supermercados La Cesta",
         "lon": [
          -6.0013333
         ],
         "marker": {
          "color": "#00cc96"
         },
         "mode": "markers",
         "name": "Supermercados La Cesta",
         "showlegend": true,
         "subplot": "mapbox",
         "type": "scattermapbox"
        },
        {
         "hovertemplate": "tipo=El jamón<br>lat=%{lat}<br>lon=%{lon}<extra></extra>",
         "lat": [
          37.2858944
         ],
         "legendgroup": "El jamón",
         "lon": [
          -5.9157327
         ],
         "marker": {
          "color": "#ab63fa"
         },
         "mode": "markers",
         "name": "El jamón",
         "showlegend": true,
         "subplot": "mapbox",
         "type": "scattermapbox"
        },
        {
         "hovertemplate": "tipo=Nietas de Maruja<br>lat=%{lat}<br>lon=%{lon}<extra></extra>",
         "lat": [
          37.5367864
         ],
         "legendgroup": "Nietas de Maruja",
         "lon": [
          -6.1584518
         ],
         "marker": {
          "color": "#FFA15A"
         },
         "mode": "markers",
         "name": "Nietas de Maruja",
         "showlegend": true,
         "subplot": "mapbox",
         "type": "scattermapbox"
        },
        {
         "hovertemplate": "tipo=La Esquina Ibérica<br>lat=%{lat}<br>lon=%{lon}<extra></extra>",
         "lat": [
          37.5284996
         ],
         "legendgroup": "La Esquina Ibérica",
         "lon": [
          -6.1528978
         ],
         "marker": {
          "color": "#19d3f3"
         },
         "mode": "markers",
         "name": "La Esquina Ibérica",
         "showlegend": true,
         "subplot": "mapbox",
         "type": "scattermapbox"
        },
        {
         "hovertemplate": "tipo=El Burrito<br>lat=%{lat}<br>lon=%{lon}<extra></extra>",
         "lat": [
          37.5350109
         ],
         "legendgroup": "El Burrito",
         "lon": [
          -6.153677
         ],
         "marker": {
          "color": "#FF6692"
         },
         "mode": "markers",
         "name": "El Burrito",
         "showlegend": true,
         "subplot": "mapbox",
         "type": "scattermapbox"
        },
        {
         "hovertemplate": "tipo=Mercadrink<br>lat=%{lat}<br>lon=%{lon}<extra></extra>",
         "lat": [
          37.407151
         ],
         "legendgroup": "Mercadrink",
         "lon": [
          -5.9609781
         ],
         "marker": {
          "color": "#B6E880"
         },
         "mode": "markers",
         "name": "Mercadrink",
         "showlegend": true,
         "subplot": "mapbox",
         "type": "scattermapbox"
        },
        {
         "hovertemplate": "tipo=supermercado sur<br>lat=%{lat}<br>lon=%{lon}<extra></extra>",
         "lat": [
          37.3809175
         ],
         "legendgroup": "supermercado sur",
         "lon": [
          -5.973515
         ],
         "marker": {
          "color": "#FF97FF"
         },
         "mode": "markers",
         "name": "supermercado sur",
         "showlegend": true,
         "subplot": "mapbox",
         "type": "scattermapbox"
        },
        {
         "hovertemplate": "tipo=El Corte Ingles<br>lat=%{lat}<br>lon=%{lon}<extra></extra>",
         "lat": [
          37.3934557
         ],
         "legendgroup": "El Corte Ingles",
         "lon": [
          -5.9965176
         ],
         "marker": {
          "color": "#FECB52"
         },
         "mode": "markers",
         "name": "El Corte Ingles",
         "showlegend": true,
         "subplot": "mapbox",
         "type": "scattermapbox"
        },
        {
         "hovertemplate": "tipo=Alimentación Mei Bazar<br>lat=%{lat}<br>lon=%{lon}<extra></extra>",
         "lat": [
          37.3762284
         ],
         "legendgroup": "Alimentación Mei Bazar",
         "lon": [
          -5.9702723
         ],
         "marker": {
          "color": "#636efa"
         },
         "mode": "markers",
         "name": "Alimentación Mei Bazar",
         "showlegend": true,
         "subplot": "mapbox",
         "type": "scattermapbox"
        },
        {
         "hovertemplate": "tipo=Doña Aceituna<br>lat=%{lat}<br>lon=%{lon}<extra></extra>",
         "lat": [
          37.3998008
         ],
         "legendgroup": "Doña Aceituna",
         "lon": [
          -5.9916412
         ],
         "marker": {
          "color": "#EF553B"
         },
         "mode": "markers",
         "name": "Doña Aceituna",
         "showlegend": true,
         "subplot": "mapbox",
         "type": "scattermapbox"
        },
        {
         "hovertemplate": "tipo=Alsara express<br>lat=%{lat}<br>lon=%{lon}<extra></extra>",
         "lat": [
          37.339932
         ],
         "legendgroup": "Alsara express",
         "lon": [
          -6.0621686
         ],
         "marker": {
          "color": "#00cc96"
         },
         "mode": "markers",
         "name": "Alsara express",
         "showlegend": true,
         "subplot": "mapbox",
         "type": "scattermapbox"
        },
        {
         "hovertemplate": "tipo=Súper de Gines<br>lat=%{lat}<br>lon=%{lon}<extra></extra>",
         "lat": [
          37.3845923
         ],
         "legendgroup": "Súper de Gines",
         "lon": [
          -6.0687689
         ],
         "marker": {
          "color": "#ab63fa"
         },
         "mode": "markers",
         "name": "Súper de Gines",
         "showlegend": true,
         "subplot": "mapbox",
         "type": "scattermapbox"
        },
        {
         "hovertemplate": "tipo=CASH FRESH<br>lat=%{lat}<br>lon=%{lon}<extra></extra>",
         "lat": [
          37.3654498
         ],
         "legendgroup": "CASH FRESH",
         "lon": [
          -5.9832585
         ],
         "marker": {
          "color": "#FFA15A"
         },
         "mode": "markers",
         "name": "CASH FRESH",
         "showlegend": true,
         "subplot": "mapbox",
         "type": "scattermapbox"
        },
        {
         "hovertemplate": "tipo=Supermercado Martín<br>lat=%{lat}<br>lon=%{lon}<extra></extra>",
         "lat": [
          37.3879497
         ],
         "legendgroup": "Supermercado Martín",
         "lon": [
          -6.3372686
         ],
         "marker": {
          "color": "#19d3f3"
         },
         "mode": "markers",
         "name": "Supermercado Martín",
         "showlegend": true,
         "subplot": "mapbox",
         "type": "scattermapbox"
        },
        {
         "hovertemplate": "tipo=Supermercado DIA<br>lat=%{lat}<br>lon=%{lon}<extra></extra>",
         "lat": [
          37.3937347
         ],
         "legendgroup": "Supermercado DIA",
         "lon": [
          -5.9650252
         ],
         "marker": {
          "color": "#FF6692"
         },
         "mode": "markers",
         "name": "Supermercado DIA",
         "showlegend": true,
         "subplot": "mapbox",
         "type": "scattermapbox"
        },
        {
         "hovertemplate": "tipo=Gran vida eco tienda<br>lat=%{lat}<br>lon=%{lon}<extra></extra>",
         "lat": [
          37.348162
         ],
         "legendgroup": "Gran vida eco tienda",
         "lon": [
          -6.0385945
         ],
         "marker": {
          "color": "#B6E880"
         },
         "mode": "markers",
         "name": "Gran vida eco tienda",
         "showlegend": true,
         "subplot": "mapbox",
         "type": "scattermapbox"
        },
        {
         "hovertemplate": "tipo=Carrefour Expres<br>lat=%{lat}<br>lon=%{lon}<extra></extra>",
         "lat": [
          37.3863398
         ],
         "legendgroup": "Carrefour Expres",
         "lon": [
          -6.0079746
         ],
         "marker": {
          "color": "#FF97FF"
         },
         "mode": "markers",
         "name": "Carrefour Expres",
         "showlegend": true,
         "subplot": "mapbox",
         "type": "scattermapbox"
        },
        {
         "hovertemplate": "tipo=CensoredShop<br>lat=%{lat}<br>lon=%{lon}<extra></extra>",
         "lat": [
          37.3849547
         ],
         "legendgroup": "CensoredShop",
         "lon": [
          -5.9613663
         ],
         "marker": {
          "color": "#FECB52"
         },
         "mode": "markers",
         "name": "CensoredShop",
         "showlegend": true,
         "subplot": "mapbox",
         "type": "scattermapbox"
        },
        {
         "hovertemplate": "tipo=Tienda Supercor Stop & Go<br>lat=%{lat}<br>lon=%{lon}<extra></extra>",
         "lat": [
          37.3383715
         ],
         "legendgroup": "Tienda Supercor Stop & Go",
         "lon": [
          -5.9711921
         ],
         "marker": {
          "color": "#636efa"
         },
         "mode": "markers",
         "name": "Tienda Supercor Stop & Go",
         "showlegend": true,
         "subplot": "mapbox",
         "type": "scattermapbox"
        },
        {
         "hovertemplate": "tipo=Family Cash<br>lat=%{lat}<br>lon=%{lon}<extra></extra>",
         "lat": [
          37.3633528
         ],
         "legendgroup": "Family Cash",
         "lon": [
          -6.0436519
         ],
         "marker": {
          "color": "#EF553B"
         },
         "mode": "markers",
         "name": "Family Cash",
         "showlegend": true,
         "subplot": "mapbox",
         "type": "scattermapbox"
        },
        {
         "hovertemplate": "tipo=Tienda Pepa<br>lat=%{lat}<br>lon=%{lon}<extra></extra>",
         "lat": [
          37.513835
         ],
         "legendgroup": "Tienda Pepa",
         "lon": [
          -6.0248803
         ],
         "marker": {
          "color": "#00cc96"
         },
         "mode": "markers",
         "name": "Tienda Pepa",
         "showlegend": true,
         "subplot": "mapbox",
         "type": "scattermapbox"
        },
        {
         "hovertemplate": "tipo=CashFresh<br>lat=%{lat}<br>lon=%{lon}<extra></extra>",
         "lat": [
          37.3807465
         ],
         "legendgroup": "CashFresh",
         "lon": [
          -5.9660787
         ],
         "marker": {
          "color": "#ab63fa"
         },
         "mode": "markers",
         "name": "CashFresh",
         "showlegend": true,
         "subplot": "mapbox",
         "type": "scattermapbox"
        }
       ],
       "layout": {
        "legend": {
         "title": {
          "text": "tipo"
         },
         "tracegroupgap": 0
        },
        "mapbox": {
         "accesstoken": "pk.eyJ1IjoiZGFvcnRpIiwiYSI6ImNrZnF6M3FlczA3cDEyem16YTNzZmV4M2EifQ.846iF0sMSAXv0kwkwUTYjg",
         "center": {
          "lat": 37.374646087878794,
          "lon": -5.980986351178451
         },
         "domain": {
          "x": [
           0,
           1
          ],
          "y": [
           0,
           1
          ]
         },
         "zoom": 11
        },
        "margin": {
         "t": 60
        },
        "template": {
         "data": {
          "bar": [
           {
            "error_x": {
             "color": "#2a3f5f"
            },
            "error_y": {
             "color": "#2a3f5f"
            },
            "marker": {
             "line": {
              "color": "#E5ECF6",
              "width": 0.5
             },
             "pattern": {
              "fillmode": "overlay",
              "size": 10,
              "solidity": 0.2
             }
            },
            "type": "bar"
           }
          ],
          "barpolar": [
           {
            "marker": {
             "line": {
              "color": "#E5ECF6",
              "width": 0.5
             },
             "pattern": {
              "fillmode": "overlay",
              "size": 10,
              "solidity": 0.2
             }
            },
            "type": "barpolar"
           }
          ],
          "carpet": [
           {
            "aaxis": {
             "endlinecolor": "#2a3f5f",
             "gridcolor": "white",
             "linecolor": "white",
             "minorgridcolor": "white",
             "startlinecolor": "#2a3f5f"
            },
            "baxis": {
             "endlinecolor": "#2a3f5f",
             "gridcolor": "white",
             "linecolor": "white",
             "minorgridcolor": "white",
             "startlinecolor": "#2a3f5f"
            },
            "type": "carpet"
           }
          ],
          "choropleth": [
           {
            "colorbar": {
             "outlinewidth": 0,
             "ticks": ""
            },
            "type": "choropleth"
           }
          ],
          "contour": [
           {
            "colorbar": {
             "outlinewidth": 0,
             "ticks": ""
            },
            "colorscale": [
             [
              0,
              "#0d0887"
             ],
             [
              0.1111111111111111,
              "#46039f"
             ],
             [
              0.2222222222222222,
              "#7201a8"
             ],
             [
              0.3333333333333333,
              "#9c179e"
             ],
             [
              0.4444444444444444,
              "#bd3786"
             ],
             [
              0.5555555555555556,
              "#d8576b"
             ],
             [
              0.6666666666666666,
              "#ed7953"
             ],
             [
              0.7777777777777778,
              "#fb9f3a"
             ],
             [
              0.8888888888888888,
              "#fdca26"
             ],
             [
              1,
              "#f0f921"
             ]
            ],
            "type": "contour"
           }
          ],
          "contourcarpet": [
           {
            "colorbar": {
             "outlinewidth": 0,
             "ticks": ""
            },
            "type": "contourcarpet"
           }
          ],
          "heatmap": [
           {
            "colorbar": {
             "outlinewidth": 0,
             "ticks": ""
            },
            "colorscale": [
             [
              0,
              "#0d0887"
             ],
             [
              0.1111111111111111,
              "#46039f"
             ],
             [
              0.2222222222222222,
              "#7201a8"
             ],
             [
              0.3333333333333333,
              "#9c179e"
             ],
             [
              0.4444444444444444,
              "#bd3786"
             ],
             [
              0.5555555555555556,
              "#d8576b"
             ],
             [
              0.6666666666666666,
              "#ed7953"
             ],
             [
              0.7777777777777778,
              "#fb9f3a"
             ],
             [
              0.8888888888888888,
              "#fdca26"
             ],
             [
              1,
              "#f0f921"
             ]
            ],
            "type": "heatmap"
           }
          ],
          "heatmapgl": [
           {
            "colorbar": {
             "outlinewidth": 0,
             "ticks": ""
            },
            "colorscale": [
             [
              0,
              "#0d0887"
             ],
             [
              0.1111111111111111,
              "#46039f"
             ],
             [
              0.2222222222222222,
              "#7201a8"
             ],
             [
              0.3333333333333333,
              "#9c179e"
             ],
             [
              0.4444444444444444,
              "#bd3786"
             ],
             [
              0.5555555555555556,
              "#d8576b"
             ],
             [
              0.6666666666666666,
              "#ed7953"
             ],
             [
              0.7777777777777778,
              "#fb9f3a"
             ],
             [
              0.8888888888888888,
              "#fdca26"
             ],
             [
              1,
              "#f0f921"
             ]
            ],
            "type": "heatmapgl"
           }
          ],
          "histogram": [
           {
            "marker": {
             "pattern": {
              "fillmode": "overlay",
              "size": 10,
              "solidity": 0.2
             }
            },
            "type": "histogram"
           }
          ],
          "histogram2d": [
           {
            "colorbar": {
             "outlinewidth": 0,
             "ticks": ""
            },
            "colorscale": [
             [
              0,
              "#0d0887"
             ],
             [
              0.1111111111111111,
              "#46039f"
             ],
             [
              0.2222222222222222,
              "#7201a8"
             ],
             [
              0.3333333333333333,
              "#9c179e"
             ],
             [
              0.4444444444444444,
              "#bd3786"
             ],
             [
              0.5555555555555556,
              "#d8576b"
             ],
             [
              0.6666666666666666,
              "#ed7953"
             ],
             [
              0.7777777777777778,
              "#fb9f3a"
             ],
             [
              0.8888888888888888,
              "#fdca26"
             ],
             [
              1,
              "#f0f921"
             ]
            ],
            "type": "histogram2d"
           }
          ],
          "histogram2dcontour": [
           {
            "colorbar": {
             "outlinewidth": 0,
             "ticks": ""
            },
            "colorscale": [
             [
              0,
              "#0d0887"
             ],
             [
              0.1111111111111111,
              "#46039f"
             ],
             [
              0.2222222222222222,
              "#7201a8"
             ],
             [
              0.3333333333333333,
              "#9c179e"
             ],
             [
              0.4444444444444444,
              "#bd3786"
             ],
             [
              0.5555555555555556,
              "#d8576b"
             ],
             [
              0.6666666666666666,
              "#ed7953"
             ],
             [
              0.7777777777777778,
              "#fb9f3a"
             ],
             [
              0.8888888888888888,
              "#fdca26"
             ],
             [
              1,
              "#f0f921"
             ]
            ],
            "type": "histogram2dcontour"
           }
          ],
          "mesh3d": [
           {
            "colorbar": {
             "outlinewidth": 0,
             "ticks": ""
            },
            "type": "mesh3d"
           }
          ],
          "parcoords": [
           {
            "line": {
             "colorbar": {
              "outlinewidth": 0,
              "ticks": ""
             }
            },
            "type": "parcoords"
           }
          ],
          "pie": [
           {
            "automargin": true,
            "type": "pie"
           }
          ],
          "scatter": [
           {
            "fillpattern": {
             "fillmode": "overlay",
             "size": 10,
             "solidity": 0.2
            },
            "type": "scatter"
           }
          ],
          "scatter3d": [
           {
            "line": {
             "colorbar": {
              "outlinewidth": 0,
              "ticks": ""
             }
            },
            "marker": {
             "colorbar": {
              "outlinewidth": 0,
              "ticks": ""
             }
            },
            "type": "scatter3d"
           }
          ],
          "scattercarpet": [
           {
            "marker": {
             "colorbar": {
              "outlinewidth": 0,
              "ticks": ""
             }
            },
            "type": "scattercarpet"
           }
          ],
          "scattergeo": [
           {
            "marker": {
             "colorbar": {
              "outlinewidth": 0,
              "ticks": ""
             }
            },
            "type": "scattergeo"
           }
          ],
          "scattergl": [
           {
            "marker": {
             "colorbar": {
              "outlinewidth": 0,
              "ticks": ""
             }
            },
            "type": "scattergl"
           }
          ],
          "scattermapbox": [
           {
            "marker": {
             "colorbar": {
              "outlinewidth": 0,
              "ticks": ""
             }
            },
            "type": "scattermapbox"
           }
          ],
          "scatterpolar": [
           {
            "marker": {
             "colorbar": {
              "outlinewidth": 0,
              "ticks": ""
             }
            },
            "type": "scatterpolar"
           }
          ],
          "scatterpolargl": [
           {
            "marker": {
             "colorbar": {
              "outlinewidth": 0,
              "ticks": ""
             }
            },
            "type": "scatterpolargl"
           }
          ],
          "scatterternary": [
           {
            "marker": {
             "colorbar": {
              "outlinewidth": 0,
              "ticks": ""
             }
            },
            "type": "scatterternary"
           }
          ],
          "surface": [
           {
            "colorbar": {
             "outlinewidth": 0,
             "ticks": ""
            },
            "colorscale": [
             [
              0,
              "#0d0887"
             ],
             [
              0.1111111111111111,
              "#46039f"
             ],
             [
              0.2222222222222222,
              "#7201a8"
             ],
             [
              0.3333333333333333,
              "#9c179e"
             ],
             [
              0.4444444444444444,
              "#bd3786"
             ],
             [
              0.5555555555555556,
              "#d8576b"
             ],
             [
              0.6666666666666666,
              "#ed7953"
             ],
             [
              0.7777777777777778,
              "#fb9f3a"
             ],
             [
              0.8888888888888888,
              "#fdca26"
             ],
             [
              1,
              "#f0f921"
             ]
            ],
            "type": "surface"
           }
          ],
          "table": [
           {
            "cells": {
             "fill": {
              "color": "#EBF0F8"
             },
             "line": {
              "color": "white"
             }
            },
            "header": {
             "fill": {
              "color": "#C8D4E3"
             },
             "line": {
              "color": "white"
             }
            },
            "type": "table"
           }
          ]
         },
         "layout": {
          "annotationdefaults": {
           "arrowcolor": "#2a3f5f",
           "arrowhead": 0,
           "arrowwidth": 1
          },
          "autotypenumbers": "strict",
          "coloraxis": {
           "colorbar": {
            "outlinewidth": 0,
            "ticks": ""
           }
          },
          "colorscale": {
           "diverging": [
            [
             0,
             "#8e0152"
            ],
            [
             0.1,
             "#c51b7d"
            ],
            [
             0.2,
             "#de77ae"
            ],
            [
             0.3,
             "#f1b6da"
            ],
            [
             0.4,
             "#fde0ef"
            ],
            [
             0.5,
             "#f7f7f7"
            ],
            [
             0.6,
             "#e6f5d0"
            ],
            [
             0.7,
             "#b8e186"
            ],
            [
             0.8,
             "#7fbc41"
            ],
            [
             0.9,
             "#4d9221"
            ],
            [
             1,
             "#276419"
            ]
           ],
           "sequential": [
            [
             0,
             "#0d0887"
            ],
            [
             0.1111111111111111,
             "#46039f"
            ],
            [
             0.2222222222222222,
             "#7201a8"
            ],
            [
             0.3333333333333333,
             "#9c179e"
            ],
            [
             0.4444444444444444,
             "#bd3786"
            ],
            [
             0.5555555555555556,
             "#d8576b"
            ],
            [
             0.6666666666666666,
             "#ed7953"
            ],
            [
             0.7777777777777778,
             "#fb9f3a"
            ],
            [
             0.8888888888888888,
             "#fdca26"
            ],
            [
             1,
             "#f0f921"
            ]
           ],
           "sequentialminus": [
            [
             0,
             "#0d0887"
            ],
            [
             0.1111111111111111,
             "#46039f"
            ],
            [
             0.2222222222222222,
             "#7201a8"
            ],
            [
             0.3333333333333333,
             "#9c179e"
            ],
            [
             0.4444444444444444,
             "#bd3786"
            ],
            [
             0.5555555555555556,
             "#d8576b"
            ],
            [
             0.6666666666666666,
             "#ed7953"
            ],
            [
             0.7777777777777778,
             "#fb9f3a"
            ],
            [
             0.8888888888888888,
             "#fdca26"
            ],
            [
             1,
             "#f0f921"
            ]
           ]
          },
          "colorway": [
           "#636efa",
           "#EF553B",
           "#00cc96",
           "#ab63fa",
           "#FFA15A",
           "#19d3f3",
           "#FF6692",
           "#B6E880",
           "#FF97FF",
           "#FECB52"
          ],
          "font": {
           "color": "#2a3f5f"
          },
          "geo": {
           "bgcolor": "white",
           "lakecolor": "white",
           "landcolor": "#E5ECF6",
           "showlakes": true,
           "showland": true,
           "subunitcolor": "white"
          },
          "hoverlabel": {
           "align": "left"
          },
          "hovermode": "closest",
          "mapbox": {
           "style": "light"
          },
          "paper_bgcolor": "white",
          "plot_bgcolor": "#E5ECF6",
          "polar": {
           "angularaxis": {
            "gridcolor": "white",
            "linecolor": "white",
            "ticks": ""
           },
           "bgcolor": "#E5ECF6",
           "radialaxis": {
            "gridcolor": "white",
            "linecolor": "white",
            "ticks": ""
           }
          },
          "scene": {
           "xaxis": {
            "backgroundcolor": "#E5ECF6",
            "gridcolor": "white",
            "gridwidth": 2,
            "linecolor": "white",
            "showbackground": true,
            "ticks": "",
            "zerolinecolor": "white"
           },
           "yaxis": {
            "backgroundcolor": "#E5ECF6",
            "gridcolor": "white",
            "gridwidth": 2,
            "linecolor": "white",
            "showbackground": true,
            "ticks": "",
            "zerolinecolor": "white"
           },
           "zaxis": {
            "backgroundcolor": "#E5ECF6",
            "gridcolor": "white",
            "gridwidth": 2,
            "linecolor": "white",
            "showbackground": true,
            "ticks": "",
            "zerolinecolor": "white"
           }
          },
          "shapedefaults": {
           "line": {
            "color": "#2a3f5f"
           }
          },
          "ternary": {
           "aaxis": {
            "gridcolor": "white",
            "linecolor": "white",
            "ticks": ""
           },
           "baxis": {
            "gridcolor": "white",
            "linecolor": "white",
            "ticks": ""
           },
           "bgcolor": "#E5ECF6",
           "caxis": {
            "gridcolor": "white",
            "linecolor": "white",
            "ticks": ""
           }
          },
          "title": {
           "x": 0.05
          },
          "xaxis": {
           "automargin": true,
           "gridcolor": "white",
           "linecolor": "white",
           "ticks": "",
           "title": {
            "standoff": 15
           },
           "zerolinecolor": "white",
           "zerolinewidth": 2
          },
          "yaxis": {
           "automargin": true,
           "gridcolor": "white",
           "linecolor": "white",
           "ticks": "",
           "title": {
            "standoff": 15
           },
           "zerolinecolor": "white",
           "zerolinewidth": 2
          }
         }
        }
       }
      }
     },
     "metadata": {},
     "output_type": "display_data"
    }
   ],
   "source": [
    "pinta_mapa(df_super2)"
   ]
  },
  {
   "cell_type": "code",
   "execution_count": null,
   "metadata": {},
   "outputs": [],
   "source": []
  }
 ],
 "metadata": {
  "kernelspec": {
   "display_name": "Python 3.7.4 64-bit",
   "language": "python",
   "name": "python3"
  },
  "language_info": {
   "codemirror_mode": {
    "name": "ipython",
    "version": 3
   },
   "file_extension": ".py",
   "mimetype": "text/x-python",
   "name": "python",
   "nbconvert_exporter": "python",
   "pygments_lexer": "ipython3",
   "version": "3.7.4"
  },
  "vscode": {
   "interpreter": {
    "hash": "0fb254b22584d4dadf5c129f1fcaee00e0477c453ba46ce68957b1edcd5f7b81"
   }
  }
 },
 "nbformat": 4,
 "nbformat_minor": 4
}
