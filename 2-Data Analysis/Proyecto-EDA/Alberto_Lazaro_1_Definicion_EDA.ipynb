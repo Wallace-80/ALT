{
  "cells": [
    {
      "cell_type": "markdown",
      "metadata": {
        "id": "Z2WClYnkAdEm"
      },
      "source": [
        "![imagen](./img/ejercicios.png)"
      ]
    },
    {
      "cell_type": "markdown",
      "metadata": {
        "id": "uPlI7d1zAdEq"
      },
      "source": [
        "# INFORMACIÓN DEL PROYECTO"
      ]
    },
    {
      "cell_type": "markdown",
      "metadata": {
        "id": "b7xjevSYAdEr"
      },
      "source": [
        "### TÍTULO"
      ]
    },
    {
      "cell_type": "markdown",
      "metadata": {},
      "source": [
        "### Generacion Eléctrica Global"
      ]
    },
    {
      "cell_type": "markdown",
      "metadata": {
        "id": "T9KxHJexAdEs"
      },
      "source": [
        "### TEMA"
      ]
    },
    {
      "cell_type": "markdown",
      "metadata": {
        "id": "SjWBpZ0mAdEu"
      },
      "source": [
        "### HIPÓTESIS"
      ]
    },
    {
      "cell_type": "markdown",
      "metadata": {},
      "source": [
        "Voy a hacer un estudio por potencias de todas las centrales eléctricas del mundo. En las tablas está especificado el combustible que utilizan (gas, nuclear,carbon...), latitud,longitud...etc \n",
        "He sumado las potencia de cada pais. De modo que el estudio se basa en la potencai total que genera cada país, para hacer un ranking. \n",
        "Tengo pensado hacer un gráfico detallado de España en particular con su mapa y uno general a nivel mundial. Y podríamos añadir un grafico de barras de los 5 primeros paises generadores detallando el cobustible que utilizan, para que se vea claramente el nombre del pais debajo y arriba cada pais con 3 o 4 barras q espeficique el porcentaje de combustible renovable sobre el total generado. Por ejemplo: EEUU: 45% gas, 25% carbon, 20% nuclear, 10% renovables. Así con los 5 primeros paises del mundo."
      ]
    },
    {
      "cell_type": "markdown",
      "metadata": {
        "id": "RW9Tar54AdEv"
      },
      "source": [
        "## OBTENCIÓN DE LOS DATOS"
      ]
    },
    {
      "cell_type": "markdown",
      "metadata": {
        "id": "oE-3pP2RAdEw"
      },
      "source": [
        "he usado la web **World Resources Institute**. El conjunto de plataformas de datos de WRI está a la vanguardia de nuestro trabajo de datos. Estas plataformas permiten a los usuarios monitorear los cambios en los bosques casi en tiempo real, rastrear los impulsores del cambio climático, analizar los riesgos del agua en todo el mundo, examinar la sección transversal de los problemas ambientales globales y más."
      ]
    },
    {
      "cell_type": "markdown",
      "metadata": {
        "id": "cmHGUHxbAdEw"
      },
      "source": [
        "Los datos son sacados de la web del **World Resources Institute** en formato Excel (CSV) del siguiente link:\n",
        "https://datasets.wri.org/dataset/globalpowerplantdatabase"
      ]
    },
    {
      "cell_type": "code",
      "execution_count": 171,
      "metadata": {},
      "outputs": [
        {
          "data": {
            "text/html": [
              "        <script type=\"text/javascript\">\n",
              "        window.PlotlyConfig = {MathJaxConfig: 'local'};\n",
              "        if (window.MathJax && window.MathJax.Hub && window.MathJax.Hub.Config) {window.MathJax.Hub.Config({SVG: {font: \"STIX-Web\"}});}\n",
              "        if (typeof require !== 'undefined') {\n",
              "        require.undef(\"plotly\");\n",
              "        requirejs.config({\n",
              "            paths: {\n",
              "                'plotly': ['https://cdn.plot.ly/plotly-2.16.1.min']\n",
              "            }\n",
              "        });\n",
              "        require(['plotly'], function(Plotly) {\n",
              "            window._Plotly = Plotly;\n",
              "        });\n",
              "        }\n",
              "        </script>\n",
              "        "
            ]
          },
          "metadata": {},
          "output_type": "display_data"
        },
        {
          "data": {
            "text/html": [
              "<div>\n",
              "<style scoped>\n",
              "    .dataframe tbody tr th:only-of-type {\n",
              "        vertical-align: middle;\n",
              "    }\n",
              "\n",
              "    .dataframe tbody tr th {\n",
              "        vertical-align: top;\n",
              "    }\n",
              "\n",
              "    .dataframe thead th {\n",
              "        text-align: right;\n",
              "    }\n",
              "</style>\n",
              "<table border=\"1\" class=\"dataframe\">\n",
              "  <thead>\n",
              "    <tr style=\"text-align: right;\">\n",
              "      <th></th>\n",
              "      <th>country_long</th>\n",
              "      <th>name</th>\n",
              "      <th>capacity_mw</th>\n",
              "      <th>latitude</th>\n",
              "      <th>longitude</th>\n",
              "      <th>primary_fuel</th>\n",
              "    </tr>\n",
              "  </thead>\n",
              "  <tbody>\n",
              "    <tr>\n",
              "      <th>0</th>\n",
              "      <td>Afghanistan</td>\n",
              "      <td>Kajaki Hydroelectric Power Plant Afghanistan</td>\n",
              "      <td>33.00</td>\n",
              "      <td>32.32</td>\n",
              "      <td>65.12</td>\n",
              "      <td>Hydro</td>\n",
              "    </tr>\n",
              "    <tr>\n",
              "      <th>1</th>\n",
              "      <td>Afghanistan</td>\n",
              "      <td>Kandahar DOG</td>\n",
              "      <td>10.00</td>\n",
              "      <td>31.67</td>\n",
              "      <td>65.80</td>\n",
              "      <td>Solar</td>\n",
              "    </tr>\n",
              "    <tr>\n",
              "      <th>2</th>\n",
              "      <td>Afghanistan</td>\n",
              "      <td>Kandahar JOL</td>\n",
              "      <td>10.00</td>\n",
              "      <td>31.62</td>\n",
              "      <td>65.79</td>\n",
              "      <td>Solar</td>\n",
              "    </tr>\n",
              "    <tr>\n",
              "      <th>3</th>\n",
              "      <td>Afghanistan</td>\n",
              "      <td>Mahipar Hydroelectric Power Plant Afghanistan</td>\n",
              "      <td>66.00</td>\n",
              "      <td>34.56</td>\n",
              "      <td>69.48</td>\n",
              "      <td>Hydro</td>\n",
              "    </tr>\n",
              "    <tr>\n",
              "      <th>4</th>\n",
              "      <td>Afghanistan</td>\n",
              "      <td>Naghlu Dam Hydroelectric Power Plant Afghanistan</td>\n",
              "      <td>100.00</td>\n",
              "      <td>34.64</td>\n",
              "      <td>69.72</td>\n",
              "      <td>Hydro</td>\n",
              "    </tr>\n",
              "    <tr>\n",
              "      <th>...</th>\n",
              "      <td>...</td>\n",
              "      <td>...</td>\n",
              "      <td>...</td>\n",
              "      <td>...</td>\n",
              "      <td>...</td>\n",
              "      <td>...</td>\n",
              "    </tr>\n",
              "    <tr>\n",
              "      <th>34931</th>\n",
              "      <td>Zambia</td>\n",
              "      <td>Ndola</td>\n",
              "      <td>50.00</td>\n",
              "      <td>-12.97</td>\n",
              "      <td>28.63</td>\n",
              "      <td>Oil</td>\n",
              "    </tr>\n",
              "    <tr>\n",
              "      <th>34932</th>\n",
              "      <td>Zambia</td>\n",
              "      <td>Nkana</td>\n",
              "      <td>20.00</td>\n",
              "      <td>-12.82</td>\n",
              "      <td>28.20</td>\n",
              "      <td>Oil</td>\n",
              "    </tr>\n",
              "    <tr>\n",
              "      <th>34933</th>\n",
              "      <td>Zambia</td>\n",
              "      <td>Victoria Falls</td>\n",
              "      <td>108.00</td>\n",
              "      <td>-17.92</td>\n",
              "      <td>25.85</td>\n",
              "      <td>Hydro</td>\n",
              "    </tr>\n",
              "    <tr>\n",
              "      <th>34934</th>\n",
              "      <td>Zimbabwe</td>\n",
              "      <td>Hwange Coal Power Plant Zimbabwe</td>\n",
              "      <td>920.00</td>\n",
              "      <td>-18.38</td>\n",
              "      <td>26.47</td>\n",
              "      <td>Coal</td>\n",
              "    </tr>\n",
              "    <tr>\n",
              "      <th>34935</th>\n",
              "      <td>Zimbabwe</td>\n",
              "      <td>Kariba Dam South Hydroelectric Power Station Z...</td>\n",
              "      <td>750.00</td>\n",
              "      <td>-16.52</td>\n",
              "      <td>28.76</td>\n",
              "      <td>Hydro</td>\n",
              "    </tr>\n",
              "  </tbody>\n",
              "</table>\n",
              "<p>34936 rows × 6 columns</p>\n",
              "</div>"
            ],
            "text/plain": [
              "      country_long                                               name  \\\n",
              "0      Afghanistan       Kajaki Hydroelectric Power Plant Afghanistan   \n",
              "1      Afghanistan                                       Kandahar DOG   \n",
              "2      Afghanistan                                       Kandahar JOL   \n",
              "3      Afghanistan      Mahipar Hydroelectric Power Plant Afghanistan   \n",
              "4      Afghanistan   Naghlu Dam Hydroelectric Power Plant Afghanistan   \n",
              "...            ...                                                ...   \n",
              "34931       Zambia                                              Ndola   \n",
              "34932       Zambia                                              Nkana   \n",
              "34933       Zambia                                     Victoria Falls   \n",
              "34934     Zimbabwe                   Hwange Coal Power Plant Zimbabwe   \n",
              "34935     Zimbabwe  Kariba Dam South Hydroelectric Power Station Z...   \n",
              "\n",
              "       capacity_mw  latitude  longitude primary_fuel  \n",
              "0            33.00     32.32      65.12        Hydro  \n",
              "1            10.00     31.67      65.80        Solar  \n",
              "2            10.00     31.62      65.79        Solar  \n",
              "3            66.00     34.56      69.48        Hydro  \n",
              "4           100.00     34.64      69.72        Hydro  \n",
              "...            ...       ...        ...          ...  \n",
              "34931        50.00    -12.97      28.63          Oil  \n",
              "34932        20.00    -12.82      28.20          Oil  \n",
              "34933       108.00    -17.92      25.85        Hydro  \n",
              "34934       920.00    -18.38      26.47         Coal  \n",
              "34935       750.00    -16.52      28.76        Hydro  \n",
              "\n",
              "[34936 rows x 6 columns]"
            ]
          },
          "execution_count": 171,
          "metadata": {},
          "output_type": "execute_result"
        }
      ],
      "source": [
        "# Primer dataset\n",
        "import json\n",
        "from pandas.core.dtypes import dtypes\n",
        "import requests\n",
        "import pandas as pd\n",
        "import csv\n",
        "import numpy as np\n",
        "from pandas import DataFrame\n",
        "import plotly.graph_objs as go\n",
        "import plotly.express as px\n",
        "import matplotlib.pyplot as plt\n",
        "from plotly import tools\n",
        "import seaborn as sns\n",
        "\n",
        "from plotly.offline import init_notebook_mode, iplot, plot\n",
        "import plotly as py\n",
        "init_notebook_mode(connected=True)\n",
        "\n",
        "# word cloud library\n",
        "from wordcloud import WordCloud\n",
        "\n",
        "# Cargo el archivo de excel\n",
        "df1 = pd.read_csv(\"global_power_plant_database.csv\")\n",
        "\n",
        "# Elimino del dataframe las columnas que no me interesan\n",
        "df1.drop(['country'], inplace=True, axis=1)\n",
        "df1.drop(['gppd_idnr'], inplace=True, axis=1)\n",
        "df1.drop(df1.columns[6:], inplace=True, axis=1)\n",
        "dtype={'primary_fuel': str}\n",
        "df1"
      ]
    },
    {
      "cell_type": "code",
      "execution_count": 172,
      "metadata": {},
      "outputs": [
        {
          "data": {
            "text/html": [
              "<div>\n",
              "<style scoped>\n",
              "    .dataframe tbody tr th:only-of-type {\n",
              "        vertical-align: middle;\n",
              "    }\n",
              "\n",
              "    .dataframe tbody tr th {\n",
              "        vertical-align: top;\n",
              "    }\n",
              "\n",
              "    .dataframe thead th {\n",
              "        text-align: right;\n",
              "    }\n",
              "</style>\n",
              "<table border=\"1\" class=\"dataframe\">\n",
              "  <thead>\n",
              "    <tr style=\"text-align: right;\">\n",
              "      <th></th>\n",
              "      <th>country_long</th>\n",
              "      <th>name</th>\n",
              "      <th>capacity_mw</th>\n",
              "      <th>latitude</th>\n",
              "      <th>longitude</th>\n",
              "      <th>primary_fuel</th>\n",
              "      <th>origen</th>\n",
              "      <th>mw_limpia</th>\n",
              "      <th>%Renovable</th>\n",
              "    </tr>\n",
              "  </thead>\n",
              "  <tbody>\n",
              "    <tr>\n",
              "      <th>0</th>\n",
              "      <td>Afghanistan</td>\n",
              "      <td>Kajaki Hydroelectric Power Plant Afghanistan</td>\n",
              "      <td>33.00</td>\n",
              "      <td>32.32</td>\n",
              "      <td>65.12</td>\n",
              "      <td>Hydro</td>\n",
              "      <td>Renovable</td>\n",
              "      <td>33.00</td>\n",
              "      <td>NaN</td>\n",
              "    </tr>\n",
              "    <tr>\n",
              "      <th>1</th>\n",
              "      <td>Afghanistan</td>\n",
              "      <td>Kandahar DOG</td>\n",
              "      <td>10.00</td>\n",
              "      <td>31.67</td>\n",
              "      <td>65.80</td>\n",
              "      <td>Solar</td>\n",
              "      <td>Renovable</td>\n",
              "      <td>10.00</td>\n",
              "      <td>NaN</td>\n",
              "    </tr>\n",
              "    <tr>\n",
              "      <th>2</th>\n",
              "      <td>Afghanistan</td>\n",
              "      <td>Kandahar JOL</td>\n",
              "      <td>10.00</td>\n",
              "      <td>31.62</td>\n",
              "      <td>65.79</td>\n",
              "      <td>Solar</td>\n",
              "      <td>Renovable</td>\n",
              "      <td>10.00</td>\n",
              "      <td>NaN</td>\n",
              "    </tr>\n",
              "    <tr>\n",
              "      <th>3</th>\n",
              "      <td>Afghanistan</td>\n",
              "      <td>Mahipar Hydroelectric Power Plant Afghanistan</td>\n",
              "      <td>66.00</td>\n",
              "      <td>34.56</td>\n",
              "      <td>69.48</td>\n",
              "      <td>Hydro</td>\n",
              "      <td>Renovable</td>\n",
              "      <td>66.00</td>\n",
              "      <td>NaN</td>\n",
              "    </tr>\n",
              "    <tr>\n",
              "      <th>4</th>\n",
              "      <td>Afghanistan</td>\n",
              "      <td>Naghlu Dam Hydroelectric Power Plant Afghanistan</td>\n",
              "      <td>100.00</td>\n",
              "      <td>34.64</td>\n",
              "      <td>69.72</td>\n",
              "      <td>Hydro</td>\n",
              "      <td>Renovable</td>\n",
              "      <td>100.00</td>\n",
              "      <td>NaN</td>\n",
              "    </tr>\n",
              "    <tr>\n",
              "      <th>...</th>\n",
              "      <td>...</td>\n",
              "      <td>...</td>\n",
              "      <td>...</td>\n",
              "      <td>...</td>\n",
              "      <td>...</td>\n",
              "      <td>...</td>\n",
              "      <td>...</td>\n",
              "      <td>...</td>\n",
              "      <td>...</td>\n",
              "    </tr>\n",
              "    <tr>\n",
              "      <th>34931</th>\n",
              "      <td>Zambia</td>\n",
              "      <td>Ndola</td>\n",
              "      <td>50.00</td>\n",
              "      <td>-12.97</td>\n",
              "      <td>28.63</td>\n",
              "      <td>Oil</td>\n",
              "      <td>No Renovable</td>\n",
              "      <td>NaN</td>\n",
              "      <td>NaN</td>\n",
              "    </tr>\n",
              "    <tr>\n",
              "      <th>34932</th>\n",
              "      <td>Zambia</td>\n",
              "      <td>Nkana</td>\n",
              "      <td>20.00</td>\n",
              "      <td>-12.82</td>\n",
              "      <td>28.20</td>\n",
              "      <td>Oil</td>\n",
              "      <td>No Renovable</td>\n",
              "      <td>NaN</td>\n",
              "      <td>NaN</td>\n",
              "    </tr>\n",
              "    <tr>\n",
              "      <th>34933</th>\n",
              "      <td>Zambia</td>\n",
              "      <td>Victoria Falls</td>\n",
              "      <td>108.00</td>\n",
              "      <td>-17.92</td>\n",
              "      <td>25.85</td>\n",
              "      <td>Hydro</td>\n",
              "      <td>Renovable</td>\n",
              "      <td>108.00</td>\n",
              "      <td>NaN</td>\n",
              "    </tr>\n",
              "    <tr>\n",
              "      <th>34934</th>\n",
              "      <td>Zimbabwe</td>\n",
              "      <td>Hwange Coal Power Plant Zimbabwe</td>\n",
              "      <td>920.00</td>\n",
              "      <td>-18.38</td>\n",
              "      <td>26.47</td>\n",
              "      <td>Coal</td>\n",
              "      <td>No Renovable</td>\n",
              "      <td>NaN</td>\n",
              "      <td>NaN</td>\n",
              "    </tr>\n",
              "    <tr>\n",
              "      <th>34935</th>\n",
              "      <td>Zimbabwe</td>\n",
              "      <td>Kariba Dam South Hydroelectric Power Station Z...</td>\n",
              "      <td>750.00</td>\n",
              "      <td>-16.52</td>\n",
              "      <td>28.76</td>\n",
              "      <td>Hydro</td>\n",
              "      <td>Renovable</td>\n",
              "      <td>750.00</td>\n",
              "      <td>NaN</td>\n",
              "    </tr>\n",
              "  </tbody>\n",
              "</table>\n",
              "<p>34936 rows × 9 columns</p>\n",
              "</div>"
            ],
            "text/plain": [
              "      country_long                                               name  \\\n",
              "0      Afghanistan       Kajaki Hydroelectric Power Plant Afghanistan   \n",
              "1      Afghanistan                                       Kandahar DOG   \n",
              "2      Afghanistan                                       Kandahar JOL   \n",
              "3      Afghanistan      Mahipar Hydroelectric Power Plant Afghanistan   \n",
              "4      Afghanistan   Naghlu Dam Hydroelectric Power Plant Afghanistan   \n",
              "...            ...                                                ...   \n",
              "34931       Zambia                                              Ndola   \n",
              "34932       Zambia                                              Nkana   \n",
              "34933       Zambia                                     Victoria Falls   \n",
              "34934     Zimbabwe                   Hwange Coal Power Plant Zimbabwe   \n",
              "34935     Zimbabwe  Kariba Dam South Hydroelectric Power Station Z...   \n",
              "\n",
              "       capacity_mw  latitude  longitude primary_fuel        origen  mw_limpia  \\\n",
              "0            33.00     32.32      65.12        Hydro     Renovable      33.00   \n",
              "1            10.00     31.67      65.80        Solar     Renovable      10.00   \n",
              "2            10.00     31.62      65.79        Solar     Renovable      10.00   \n",
              "3            66.00     34.56      69.48        Hydro     Renovable      66.00   \n",
              "4           100.00     34.64      69.72        Hydro     Renovable     100.00   \n",
              "...            ...       ...        ...          ...           ...        ...   \n",
              "34931        50.00    -12.97      28.63          Oil  No Renovable        NaN   \n",
              "34932        20.00    -12.82      28.20          Oil  No Renovable        NaN   \n",
              "34933       108.00    -17.92      25.85        Hydro     Renovable     108.00   \n",
              "34934       920.00    -18.38      26.47         Coal  No Renovable        NaN   \n",
              "34935       750.00    -16.52      28.76        Hydro     Renovable     750.00   \n",
              "\n",
              "       %Renovable  \n",
              "0             NaN  \n",
              "1             NaN  \n",
              "2             NaN  \n",
              "3             NaN  \n",
              "4             NaN  \n",
              "...           ...  \n",
              "34931         NaN  \n",
              "34932         NaN  \n",
              "34933         NaN  \n",
              "34934         NaN  \n",
              "34935         NaN  \n",
              "\n",
              "[34936 rows x 9 columns]"
            ]
          },
          "execution_count": 172,
          "metadata": {},
          "output_type": "execute_result"
        }
      ],
      "source": [
        "# Añadimos varias columnas: \n",
        "lista=['Solar','Hydro','Geothermal','Wind','Biomass']\n",
        "df1['origen'] = ''\n",
        "\n",
        "mask_1 = df1['primary_fuel'].isin(lista)\n",
        "mask_2 = ~df1['primary_fuel'].isin(lista)\n",
        "\n",
        "# Añado columna 'origen', que me indica, en funcion de los valores de la columna \"primary fuel\", si es de origen renovable o no. \n",
        "df1.loc[mask_1,['origen']] = 'Renovable'\n",
        "df1.loc[mask_2,['origen']] = 'No Renovable'\n",
        "\n",
        "# En otra columna llamada 'mw limpia', muestro las potencias solo de las de origen renovable.       \n",
        "df1['mw_limpia']=df1[df1['origen']=='Renovable']['capacity_mw']\n",
        "df1['mw_limpia'].fillna('', inplace=True)\n",
        "\n",
        "# Y otra columna llamada '%Renovable' que me calcula el % de energia renovable q esa cada pais con respecto al total generado por ese pais.\n",
        "# Paso los tipos de estas columnas a Float para poder operar\n",
        "df1['%Renovable'] =''\n",
        "df1['mw_limpia'] = pd.to_numeric(df1['mw_limpia'],errors = 'coerce')\n",
        "df1['%Renovable'] = pd.to_numeric(df1['%Renovable'],errors = 'coerce')\n",
        "\n",
        "# df1['%Renovable']=total.astype(str) + \"%\"\n",
        "# df1.groupby('country_long')['capacity_mw'].sum()\n",
        "df1"
      ]
    },
    {
      "cell_type": "code",
      "execution_count": 173,
      "metadata": {},
      "outputs": [],
      "source": [
        "#agrupamos las filas por paises, sumando las potencias de cada pais y lo ordeno de mayor a menor\n",
        "df_suma=df1.groupby('country_long',group_keys=True).sum('capacity_mw')\n",
        "df_ordenado = df_suma.sort_values(by='capacity_mw', ascending=False)\n",
        "pd.options.display.float_format = '{:,.2f}'.format\n",
        "\n",
        "# Calculamos el porcentage de energia renovable generada por cada pais con rspecto a su potencia total\n",
        "df_ordenado['%Renovable']=(df_ordenado['mw_limpia'] / df_ordenado['capacity_mw'])*100\n",
        "# df_ordenado['%Renovable'].astype(str) + \"%\"\n",
        "\n",
        "#Eliminamos las filas latitude y longitud para que no aparezcan sumadas\n",
        "df_ordenado.drop(['latitude'], inplace=True, axis=1)\n",
        "df_ordenado.drop(['longitude'], inplace=True, axis=1)\n",
        "df5=df_ordenado.reset_index()\n",
        "df6=df5.loc[:19]"
      ]
    },
    {
      "cell_type": "code",
      "execution_count": 174,
      "metadata": {},
      "outputs": [
        {
          "data": {
            "text/html": [
              "<div>\n",
              "<style scoped>\n",
              "    .dataframe tbody tr th:only-of-type {\n",
              "        vertical-align: middle;\n",
              "    }\n",
              "\n",
              "    .dataframe tbody tr th {\n",
              "        vertical-align: top;\n",
              "    }\n",
              "\n",
              "    .dataframe thead th {\n",
              "        text-align: right;\n",
              "    }\n",
              "</style>\n",
              "<table border=\"1\" class=\"dataframe\">\n",
              "  <thead>\n",
              "    <tr style=\"text-align: right;\">\n",
              "      <th></th>\n",
              "      <th>country_long</th>\n",
              "      <th>capacity_mw</th>\n",
              "      <th>mw_limpia</th>\n",
              "      <th>%Renovable</th>\n",
              "    </tr>\n",
              "  </thead>\n",
              "  <tbody>\n",
              "    <tr>\n",
              "      <th>0</th>\n",
              "      <td>China</td>\n",
              "      <td>1,415,067.38</td>\n",
              "      <td>364,843.88</td>\n",
              "      <td>25.78</td>\n",
              "    </tr>\n",
              "    <tr>\n",
              "      <th>1</th>\n",
              "      <td>United States of America</td>\n",
              "      <td>1,204,638.05</td>\n",
              "      <td>253,116.55</td>\n",
              "      <td>21.01</td>\n",
              "    </tr>\n",
              "    <tr>\n",
              "      <th>2</th>\n",
              "      <td>India</td>\n",
              "      <td>316,088.55</td>\n",
              "      <td>75,760.98</td>\n",
              "      <td>23.97</td>\n",
              "    </tr>\n",
              "    <tr>\n",
              "      <th>3</th>\n",
              "      <td>Russia</td>\n",
              "      <td>228,220.05</td>\n",
              "      <td>47,128.44</td>\n",
              "      <td>20.65</td>\n",
              "    </tr>\n",
              "    <tr>\n",
              "      <th>4</th>\n",
              "      <td>Japan</td>\n",
              "      <td>215,365.85</td>\n",
              "      <td>33,811.90</td>\n",
              "      <td>15.70</td>\n",
              "    </tr>\n",
              "    <tr>\n",
              "      <th>5</th>\n",
              "      <td>Brazil</td>\n",
              "      <td>147,589.27</td>\n",
              "      <td>122,985.52</td>\n",
              "      <td>83.33</td>\n",
              "    </tr>\n",
              "    <tr>\n",
              "      <th>6</th>\n",
              "      <td>Canada</td>\n",
              "      <td>143,578.70</td>\n",
              "      <td>97,385.30</td>\n",
              "      <td>67.83</td>\n",
              "    </tr>\n",
              "    <tr>\n",
              "      <th>7</th>\n",
              "      <td>Germany</td>\n",
              "      <td>112,040.37</td>\n",
              "      <td>23,469.32</td>\n",
              "      <td>20.95</td>\n",
              "    </tr>\n",
              "    <tr>\n",
              "      <th>8</th>\n",
              "      <td>France</td>\n",
              "      <td>110,615.93</td>\n",
              "      <td>34,275.93</td>\n",
              "      <td>30.99</td>\n",
              "    </tr>\n",
              "    <tr>\n",
              "      <th>9</th>\n",
              "      <td>South Korea</td>\n",
              "      <td>99,472.68</td>\n",
              "      <td>6,732.66</td>\n",
              "      <td>6.77</td>\n",
              "    </tr>\n",
              "    <tr>\n",
              "      <th>10</th>\n",
              "      <td>United Kingdom</td>\n",
              "      <td>97,155.28</td>\n",
              "      <td>39,826.08</td>\n",
              "      <td>40.99</td>\n",
              "    </tr>\n",
              "    <tr>\n",
              "      <th>11</th>\n",
              "      <td>Saudi Arabia</td>\n",
              "      <td>84,341.55</td>\n",
              "      <td>137.00</td>\n",
              "      <td>0.16</td>\n",
              "    </tr>\n",
              "    <tr>\n",
              "      <th>12</th>\n",
              "      <td>Spain</td>\n",
              "      <td>79,035.07</td>\n",
              "      <td>31,917.83</td>\n",
              "      <td>40.38</td>\n",
              "    </tr>\n",
              "    <tr>\n",
              "      <th>13</th>\n",
              "      <td>Italy</td>\n",
              "      <td>73,095.06</td>\n",
              "      <td>16,299.11</td>\n",
              "      <td>22.30</td>\n",
              "    </tr>\n",
              "    <tr>\n",
              "      <th>14</th>\n",
              "      <td>Australia</td>\n",
              "      <td>65,852.02</td>\n",
              "      <td>19,009.10</td>\n",
              "      <td>28.87</td>\n",
              "    </tr>\n",
              "    <tr>\n",
              "      <th>15</th>\n",
              "      <td>Mexico</td>\n",
              "      <td>62,365.90</td>\n",
              "      <td>18,280.90</td>\n",
              "      <td>29.31</td>\n",
              "    </tr>\n",
              "    <tr>\n",
              "      <th>16</th>\n",
              "      <td>Iran</td>\n",
              "      <td>61,362.10</td>\n",
              "      <td>11,048.50</td>\n",
              "      <td>18.01</td>\n",
              "    </tr>\n",
              "    <tr>\n",
              "      <th>17</th>\n",
              "      <td>Turkey</td>\n",
              "      <td>51,444.70</td>\n",
              "      <td>15,404.10</td>\n",
              "      <td>29.94</td>\n",
              "    </tr>\n",
              "    <tr>\n",
              "      <th>18</th>\n",
              "      <td>South Africa</td>\n",
              "      <td>50,422.70</td>\n",
              "      <td>6,377.11</td>\n",
              "      <td>12.65</td>\n",
              "    </tr>\n",
              "    <tr>\n",
              "      <th>19</th>\n",
              "      <td>Indonesia</td>\n",
              "      <td>48,751.42</td>\n",
              "      <td>5,901.59</td>\n",
              "      <td>12.11</td>\n",
              "    </tr>\n",
              "  </tbody>\n",
              "</table>\n",
              "</div>"
            ],
            "text/plain": [
              "                country_long  capacity_mw  mw_limpia  %Renovable\n",
              "0                      China 1,415,067.38 364,843.88       25.78\n",
              "1   United States of America 1,204,638.05 253,116.55       21.01\n",
              "2                      India   316,088.55  75,760.98       23.97\n",
              "3                     Russia   228,220.05  47,128.44       20.65\n",
              "4                      Japan   215,365.85  33,811.90       15.70\n",
              "5                     Brazil   147,589.27 122,985.52       83.33\n",
              "6                     Canada   143,578.70  97,385.30       67.83\n",
              "7                    Germany   112,040.37  23,469.32       20.95\n",
              "8                     France   110,615.93  34,275.93       30.99\n",
              "9                South Korea    99,472.68   6,732.66        6.77\n",
              "10            United Kingdom    97,155.28  39,826.08       40.99\n",
              "11              Saudi Arabia    84,341.55     137.00        0.16\n",
              "12                     Spain    79,035.07  31,917.83       40.38\n",
              "13                     Italy    73,095.06  16,299.11       22.30\n",
              "14                 Australia    65,852.02  19,009.10       28.87\n",
              "15                    Mexico    62,365.90  18,280.90       29.31\n",
              "16                      Iran    61,362.10  11,048.50       18.01\n",
              "17                    Turkey    51,444.70  15,404.10       29.94\n",
              "18              South Africa    50,422.70   6,377.11       12.65\n",
              "19                 Indonesia    48,751.42   5,901.59       12.11"
            ]
          },
          "execution_count": 174,
          "metadata": {},
          "output_type": "execute_result"
        }
      ],
      "source": [
        "#Columna añadida con produccion reciclable sobre la total\n",
        "df6.head(20)"
      ]
    },
    {
      "cell_type": "code",
      "execution_count": 175,
      "metadata": {},
      "outputs": [
        {
          "data": {
            "text/plain": [
              "Text(0.5, 1.0, 'Ranking 20 Paises de mayor generacion')"
            ]
          },
          "execution_count": 175,
          "metadata": {},
          "output_type": "execute_result"
        },
        {
          "data": {
            "image/png": "[encoded data removed]",
            "text/plain": [
              "<Figure size 1000x500 with 1 Axes>"
            ]
          },
          "metadata": {},
          "output_type": "display_data"
        }
      ],
      "source": [
        "#Generamos grafica de barras con los datos de los 20 primeros paises que mas potencia generan\n",
        "import matplotlib.pyplot as plt\n",
        "%matplotlib inline\n",
        "\n",
        "df6.plot.barh(\"country_long\",\"capacity_mw\",fontsize=10, grid=False, figsize=(10, 5),label='Potencia MW')\n",
        "plt.ylabel(\"Paises\")\n",
        "plt.xlabel(\"Potencia de MW\")\n",
        "plt.title(\"Ranking 20 Paises de mayor generacion\")\n"
      ]
    },
    {
      "cell_type": "code",
      "execution_count": 181,
      "metadata": {},
      "outputs": [
        {
          "data": {
            "application/vnd.plotly.v1+json": {
              "config": {
                "plotlyServerURL": "https://plot.ly"
              },
              "data": [
                {
                  "alignmentgroup": "True",
                  "hovertemplate": "country_long=%{x}<br>capacity_mw=%{text}<extra></extra>",
                  "legendgroup": "",
                  "marker": {
                    "color": "#636efa",
                    "opacity": 0.5,
                    "pattern": {
                      "shape": ""
                    }
                  },
                  "name": "",
                  "offsetgroup": "",
                  "orientation": "v",
                  "showlegend": false,
                  "text": [
                    1415067.38,
                    1204638.05,
                    316088.546,
                    228220.05,
                    215365.85,
                    147589.27133,
                    143578.7,
                    112040.37488,
                    110615.9289,
                    99472.68,
                    97155.28448,
                    84341.55,
                    79035.068,
                    73095.06,
                    65852.016,
                    62365.9,
                    61362.1,
                    51444.7,
                    50422.7,
                    48751.418
                  ],
                  "textposition": "outside",
                  "texttemplate": "%{text:.2s}",
                  "type": "bar",
                  "x": [
                    "China",
                    "United States of America",
                    "India",
                    "Russia",
                    "Japan",
                    "Brazil",
                    "Canada",
                    "Germany",
                    "France",
                    "South Korea",
                    "United Kingdom",
                    "Saudi Arabia",
                    "Spain",
                    "Italy",
                    "Australia",
                    "Mexico",
                    "Iran",
                    "Turkey",
                    "South Africa",
                    "Indonesia"
                  ],
                  "xaxis": "x",
                  "y": [
                    1415067.38,
                    1204638.05,
                    316088.546,
                    228220.05,
                    215365.85,
                    147589.27133,
                    143578.7,
                    112040.37488,
                    110615.9289,
                    99472.68,
                    97155.28448,
                    84341.55,
                    79035.068,
                    73095.06,
                    65852.016,
                    62365.9,
                    61362.1,
                    51444.7,
                    50422.7,
                    48751.418
                  ],
                  "yaxis": "y"
                }
              ],
              "layout": {
                "barmode": "overlay",
                "legend": {
                  "tracegroupgap": 0
                },
                "template": {
                  "data": {
                    "bar": [
                      {
                        "error_x": {
                          "color": "#2a3f5f"
                        },
                        "error_y": {
                          "color": "#2a3f5f"
                        },
                        "marker": {
                          "line": {
                            "color": "#E5ECF6",
                            "width": 0.5
                          },
                          "pattern": {
                            "fillmode": "overlay",
                            "size": 10,
                            "solidity": 0.2
                          }
                        },
                        "type": "bar"
                      }
                    ],
                    "barpolar": [
                      {
                        "marker": {
                          "line": {
                            "color": "#E5ECF6",
                            "width": 0.5
                          },
                          "pattern": {
                            "fillmode": "overlay",
                            "size": 10,
                            "solidity": 0.2
                          }
                        },
                        "type": "barpolar"
                      }
                    ],
                    "carpet": [
                      {
                        "aaxis": {
                          "endlinecolor": "#2a3f5f",
                          "gridcolor": "white",
                          "linecolor": "white",
                          "minorgridcolor": "white",
                          "startlinecolor": "#2a3f5f"
                        },
                        "baxis": {
                          "endlinecolor": "#2a3f5f",
                          "gridcolor": "white",
                          "linecolor": "white",
                          "minorgridcolor": "white",
                          "startlinecolor": "#2a3f5f"
                        },
                        "type": "carpet"
                      }
                    ],
                    "choropleth": [
                      {
                        "colorbar": {
                          "outlinewidth": 0,
                          "ticks": ""
                        },
                        "type": "choropleth"
                      }
                    ],
                    "contour": [
                      {
                        "colorbar": {
                          "outlinewidth": 0,
                          "ticks": ""
                        },
                        "colorscale": [
                          [
                            0,
                            "#0d0887"
                          ],
                          [
                            0.1111111111111111,
                            "#46039f"
                          ],
                          [
                            0.2222222222222222,
                            "#7201a8"
                          ],
                          [
                            0.3333333333333333,
                            "#9c179e"
                          ],
                          [
                            0.4444444444444444,
                            "#bd3786"
                          ],
                          [
                            0.5555555555555556,
                            "#d8576b"
                          ],
                          [
                            0.6666666666666666,
                            "#ed7953"
                          ],
                          [
                            0.7777777777777778,
                            "#fb9f3a"
                          ],
                          [
                            0.8888888888888888,
                            "#fdca26"
                          ],
                          [
                            1,
                            "#f0f921"
                          ]
                        ],
                        "type": "contour"
                      }
                    ],
                    "contourcarpet": [
                      {
                        "colorbar": {
                          "outlinewidth": 0,
                          "ticks": ""
                        },
                        "type": "contourcarpet"
                      }
                    ],
                    "heatmap": [
                      {
                        "colorbar": {
                          "outlinewidth": 0,
                          "ticks": ""
                        },
                        "colorscale": [
                          [
                            0,
                            "#0d0887"
                          ],
                          [
                            0.1111111111111111,
                            "#46039f"
                          ],
                          [
                            0.2222222222222222,
                            "#7201a8"
                          ],
                          [
                            0.3333333333333333,
                            "#9c179e"
                          ],
                          [
                            0.4444444444444444,
                            "#bd3786"
                          ],
                          [
                            0.5555555555555556,
                            "#d8576b"
                          ],
                          [
                            0.6666666666666666,
                            "#ed7953"
                          ],
                          [
                            0.7777777777777778,
                            "#fb9f3a"
                          ],
                          [
                            0.8888888888888888,
                            "#fdca26"
                          ],
                          [
                            1,
                            "#f0f921"
                          ]
                        ],
                        "type": "heatmap"
                      }
                    ],
                    "heatmapgl": [
                      {
                        "colorbar": {
                          "outlinewidth": 0,
                          "ticks": ""
                        },
                        "colorscale": [
                          [
                            0,
                            "#0d0887"
                          ],
                          [
                            0.1111111111111111,
                            "#46039f"
                          ],
                          [
                            0.2222222222222222,
                            "#7201a8"
                          ],
                          [
                            0.3333333333333333,
                            "#9c179e"
                          ],
                          [
                            0.4444444444444444,
                            "#bd3786"
                          ],
                          [
                            0.5555555555555556,
                            "#d8576b"
                          ],
                          [
                            0.6666666666666666,
                            "#ed7953"
                          ],
                          [
                            0.7777777777777778,
                            "#fb9f3a"
                          ],
                          [
                            0.8888888888888888,
                            "#fdca26"
                          ],
                          [
                            1,
                            "#f0f921"
                          ]
                        ],
                        "type": "heatmapgl"
                      }
                    ],
                    "histogram": [
                      {
                        "marker": {
                          "pattern": {
                            "fillmode": "overlay",
                            "size": 10,
                            "solidity": 0.2
                          }
                        },
                        "type": "histogram"
                      }
                    ],
                    "histogram2d": [
                      {
                        "colorbar": {
                          "outlinewidth": 0,
                          "ticks": ""
                        },
                        "colorscale": [
                          [
                            0,
                            "#0d0887"
                          ],
                          [
                            0.1111111111111111,
                            "#46039f"
                          ],
                          [
                            0.2222222222222222,
                            "#7201a8"
                          ],
                          [
                            0.3333333333333333,
                            "#9c179e"
                          ],
                          [
                            0.4444444444444444,
                            "#bd3786"
                          ],
                          [
                            0.5555555555555556,
                            "#d8576b"
                          ],
                          [
                            0.6666666666666666,
                            "#ed7953"
                          ],
                          [
                            0.7777777777777778,
                            "#fb9f3a"
                          ],
                          [
                            0.8888888888888888,
                            "#fdca26"
                          ],
                          [
                            1,
                            "#f0f921"
                          ]
                        ],
                        "type": "histogram2d"
                      }
                    ],
                    "histogram2dcontour": [
                      {
                        "colorbar": {
                          "outlinewidth": 0,
                          "ticks": ""
                        },
                        "colorscale": [
                          [
                            0,
                            "#0d0887"
                          ],
                          [
                            0.1111111111111111,
                            "#46039f"
                          ],
                          [
                            0.2222222222222222,
                            "#7201a8"
                          ],
                          [
                            0.3333333333333333,
                            "#9c179e"
                          ],
                          [
                            0.4444444444444444,
                            "#bd3786"
                          ],
                          [
                            0.5555555555555556,
                            "#d8576b"
                          ],
                          [
                            0.6666666666666666,
                            "#ed7953"
                          ],
                          [
                            0.7777777777777778,
                            "#fb9f3a"
                          ],
                          [
                            0.8888888888888888,
                            "#fdca26"
                          ],
                          [
                            1,
                            "#f0f921"
                          ]
                        ],
                        "type": "histogram2dcontour"
                      }
                    ],
                    "mesh3d": [
                      {
                        "colorbar": {
                          "outlinewidth": 0,
                          "ticks": ""
                        },
                        "type": "mesh3d"
                      }
                    ],
                    "parcoords": [
                      {
                        "line": {
                          "colorbar": {
                            "outlinewidth": 0,
                            "ticks": ""
                          }
                        },
                        "type": "parcoords"
                      }
                    ],
                    "pie": [
                      {
                        "automargin": true,
                        "type": "pie"
                      }
                    ],
                    "scatter": [
                      {
                        "fillpattern": {
                          "fillmode": "overlay",
                          "size": 10,
                          "solidity": 0.2
                        },
                        "type": "scatter"
                      }
                    ],
                    "scatter3d": [
                      {
                        "line": {
                          "colorbar": {
                            "outlinewidth": 0,
                            "ticks": ""
                          }
                        },
                        "marker": {
                          "colorbar": {
                            "outlinewidth": 0,
                            "ticks": ""
                          }
                        },
                        "type": "scatter3d"
                      }
                    ],
                    "scattercarpet": [
                      {
                        "marker": {
                          "colorbar": {
                            "outlinewidth": 0,
                            "ticks": ""
                          }
                        },
                        "type": "scattercarpet"
                      }
                    ],
                    "scattergeo": [
                      {
                        "marker": {
                          "colorbar": {
                            "outlinewidth": 0,
                            "ticks": ""
                          }
                        },
                        "type": "scattergeo"
                      }
                    ],
                    "scattergl": [
                      {
                        "marker": {
                          "colorbar": {
                            "outlinewidth": 0,
                            "ticks": ""
                          }
                        },
                        "type": "scattergl"
                      }
                    ],
                    "scattermapbox": [
                      {
                        "marker": {
                          "colorbar": {
                            "outlinewidth": 0,
                            "ticks": ""
                          }
                        },
                        "type": "scattermapbox"
                      }
                    ],
                    "scatterpolar": [
                      {
                        "marker": {
                          "colorbar": {
                            "outlinewidth": 0,
                            "ticks": ""
                          }
                        },
                        "type": "scatterpolar"
                      }
                    ],
                    "scatterpolargl": [
                      {
                        "marker": {
                          "colorbar": {
                            "outlinewidth": 0,
                            "ticks": ""
                          }
                        },
                        "type": "scatterpolargl"
                      }
                    ],
                    "scatterternary": [
                      {
                        "marker": {
                          "colorbar": {
                            "outlinewidth": 0,
                            "ticks": ""
                          }
                        },
                        "type": "scatterternary"
                      }
                    ],
                    "surface": [
                      {
                        "colorbar": {
                          "outlinewidth": 0,
                          "ticks": ""
                        },
                        "colorscale": [
                          [
                            0,
                            "#0d0887"
                          ],
                          [
                            0.1111111111111111,
                            "#46039f"
                          ],
                          [
                            0.2222222222222222,
                            "#7201a8"
                          ],
                          [
                            0.3333333333333333,
                            "#9c179e"
                          ],
                          [
                            0.4444444444444444,
                            "#bd3786"
                          ],
                          [
                            0.5555555555555556,
                            "#d8576b"
                          ],
                          [
                            0.6666666666666666,
                            "#ed7953"
                          ],
                          [
                            0.7777777777777778,
                            "#fb9f3a"
                          ],
                          [
                            0.8888888888888888,
                            "#fdca26"
                          ],
                          [
                            1,
                            "#f0f921"
                          ]
                        ],
                        "type": "surface"
                      }
                    ],
                    "table": [
                      {
                        "cells": {
                          "fill": {
                            "color": "#EBF0F8"
                          },
                          "line": {
                            "color": "white"
                          }
                        },
                        "header": {
                          "fill": {
                            "color": "#C8D4E3"
                          },
                          "line": {
                            "color": "white"
                          }
                        },
                        "type": "table"
                      }
                    ]
                  },
                  "layout": {
                    "annotationdefaults": {
                      "arrowcolor": "#2a3f5f",
                      "arrowhead": 0,
                      "arrowwidth": 1
                    },
                    "autotypenumbers": "strict",
                    "coloraxis": {
                      "colorbar": {
                        "outlinewidth": 0,
                        "ticks": ""
                      }
                    },
                    "colorscale": {
                      "diverging": [
                        [
                          0,
                          "#8e0152"
                        ],
                        [
                          0.1,
                          "#c51b7d"
                        ],
                        [
                          0.2,
                          "#de77ae"
                        ],
                        [
                          0.3,
                          "#f1b6da"
                        ],
                        [
                          0.4,
                          "#fde0ef"
                        ],
                        [
                          0.5,
                          "#f7f7f7"
                        ],
                        [
                          0.6,
                          "#e6f5d0"
                        ],
                        [
                          0.7,
                          "#b8e186"
                        ],
                        [
                          0.8,
                          "#7fbc41"
                        ],
                        [
                          0.9,
                          "#4d9221"
                        ],
                        [
                          1,
                          "#276419"
                        ]
                      ],
                      "sequential": [
                        [
                          0,
                          "#0d0887"
                        ],
                        [
                          0.1111111111111111,
                          "#46039f"
                        ],
                        [
                          0.2222222222222222,
                          "#7201a8"
                        ],
                        [
                          0.3333333333333333,
                          "#9c179e"
                        ],
                        [
                          0.4444444444444444,
                          "#bd3786"
                        ],
                        [
                          0.5555555555555556,
                          "#d8576b"
                        ],
                        [
                          0.6666666666666666,
                          "#ed7953"
                        ],
                        [
                          0.7777777777777778,
                          "#fb9f3a"
                        ],
                        [
                          0.8888888888888888,
                          "#fdca26"
                        ],
                        [
                          1,
                          "#f0f921"
                        ]
                      ],
                      "sequentialminus": [
                        [
                          0,
                          "#0d0887"
                        ],
                        [
                          0.1111111111111111,
                          "#46039f"
                        ],
                        [
                          0.2222222222222222,
                          "#7201a8"
                        ],
                        [
                          0.3333333333333333,
                          "#9c179e"
                        ],
                        [
                          0.4444444444444444,
                          "#bd3786"
                        ],
                        [
                          0.5555555555555556,
                          "#d8576b"
                        ],
                        [
                          0.6666666666666666,
                          "#ed7953"
                        ],
                        [
                          0.7777777777777778,
                          "#fb9f3a"
                        ],
                        [
                          0.8888888888888888,
                          "#fdca26"
                        ],
                        [
                          1,
                          "#f0f921"
                        ]
                      ]
                    },
                    "colorway": [
                      "#636efa",
                      "#EF553B",
                      "#00cc96",
                      "#ab63fa",
                      "#FFA15A",
                      "#19d3f3",
                      "#FF6692",
                      "#B6E880",
                      "#FF97FF",
                      "#FECB52"
                    ],
                    "font": {
                      "color": "#2a3f5f"
                    },
                    "geo": {
                      "bgcolor": "white",
                      "lakecolor": "white",
                      "landcolor": "#E5ECF6",
                      "showlakes": true,
                      "showland": true,
                      "subunitcolor": "white"
                    },
                    "hoverlabel": {
                      "align": "left"
                    },
                    "hovermode": "closest",
                    "mapbox": {
                      "style": "light"
                    },
                    "paper_bgcolor": "white",
                    "plot_bgcolor": "#E5ECF6",
                    "polar": {
                      "angularaxis": {
                        "gridcolor": "white",
                        "linecolor": "white",
                        "ticks": ""
                      },
                      "bgcolor": "#E5ECF6",
                      "radialaxis": {
                        "gridcolor": "white",
                        "linecolor": "white",
                        "ticks": ""
                      }
                    },
                    "scene": {
                      "xaxis": {
                        "backgroundcolor": "#E5ECF6",
                        "gridcolor": "white",
                        "gridwidth": 2,
                        "linecolor": "white",
                        "showbackground": true,
                        "ticks": "",
                        "zerolinecolor": "white"
                      },
                      "yaxis": {
                        "backgroundcolor": "#E5ECF6",
                        "gridcolor": "white",
                        "gridwidth": 2,
                        "linecolor": "white",
                        "showbackground": true,
                        "ticks": "",
                        "zerolinecolor": "white"
                      },
                      "zaxis": {
                        "backgroundcolor": "#E5ECF6",
                        "gridcolor": "white",
                        "gridwidth": 2,
                        "linecolor": "white",
                        "showbackground": true,
                        "ticks": "",
                        "zerolinecolor": "white"
                      }
                    },
                    "shapedefaults": {
                      "line": {
                        "color": "#2a3f5f"
                      }
                    },
                    "ternary": {
                      "aaxis": {
                        "gridcolor": "white",
                        "linecolor": "white",
                        "ticks": ""
                      },
                      "baxis": {
                        "gridcolor": "white",
                        "linecolor": "white",
                        "ticks": ""
                      },
                      "bgcolor": "#E5ECF6",
                      "caxis": {
                        "gridcolor": "white",
                        "linecolor": "white",
                        "ticks": ""
                      }
                    },
                    "title": {
                      "x": 0.05
                    },
                    "xaxis": {
                      "automargin": true,
                      "gridcolor": "white",
                      "linecolor": "white",
                      "ticks": "",
                      "title": {
                        "standoff": 15
                      },
                      "zerolinecolor": "white",
                      "zerolinewidth": 2
                    },
                    "yaxis": {
                      "automargin": true,
                      "gridcolor": "white",
                      "linecolor": "white",
                      "ticks": "",
                      "title": {
                        "standoff": 15
                      },
                      "zerolinecolor": "white",
                      "zerolinewidth": 2
                    }
                  }
                },
                "title": {
                  "text": "ranking de Producción de energia electrica mundial (millones de MW)"
                },
                "uniformtext": {
                  "minsize": 10,
                  "mode": "hide"
                },
                "xaxis": {
                  "anchor": "y",
                  "domain": [
                    0,
                    1
                  ],
                  "title": {
                    "text": "country_long"
                  }
                },
                "yaxis": {
                  "anchor": "x",
                  "domain": [
                    0,
                    1
                  ],
                  "title": {
                    "text": "capacity_mw"
                  }
                }
              }
            },
            "text/html": [
              "<div>                            <div id=\"47ba268e-602e-4dd8-be4c-982bb2cd855f\" class=\"plotly-graph-div\" style=\"height:525px; width:100%;\"></div>            <script type=\"text/javascript\">                require([\"plotly\"], function(Plotly) {                    window.PLOTLYENV=window.PLOTLYENV || {};                                    if (document.getElementById(\"47ba268e-602e-4dd8-be4c-982bb2cd855f\")) {                    Plotly.newPlot(                        \"47ba268e-602e-4dd8-be4c-982bb2cd855f\",                        [{\"alignmentgroup\":\"True\",\"hovertemplate\":\"country_long=%{x}<br>capacity_mw=%{text}<extra></extra>\",\"legendgroup\":\"\",\"marker\":{\"color\":\"#636efa\",\"opacity\":0.5,\"pattern\":{\"shape\":\"\"}},\"name\":\"\",\"offsetgroup\":\"\",\"orientation\":\"v\",\"showlegend\":false,\"text\":[1415067.38,1204638.05,316088.546,228220.05,215365.85,147589.27133,143578.7,112040.37488,110615.9289,99472.68,97155.28448,84341.55,79035.068,73095.06,65852.016,62365.9,61362.1,51444.7,50422.7,48751.418],\"textposition\":\"outside\",\"x\":[\"China\",\"United States of America\",\"India\",\"Russia\",\"Japan\",\"Brazil\",\"Canada\",\"Germany\",\"France\",\"South Korea\",\"United Kingdom\",\"Saudi Arabia\",\"Spain\",\"Italy\",\"Australia\",\"Mexico\",\"Iran\",\"Turkey\",\"South Africa\",\"Indonesia\"],\"xaxis\":\"x\",\"y\":[1415067.38,1204638.05,316088.546,228220.05,215365.85,147589.27133,143578.7,112040.37488,110615.9289,99472.68,97155.28448,84341.55,79035.068,73095.06,65852.016,62365.9,61362.1,51444.7,50422.7,48751.418],\"yaxis\":\"y\",\"type\":\"bar\",\"texttemplate\":\"%{text:.2s}\"}],                        {\"template\":{\"data\":{\"histogram2dcontour\":[{\"type\":\"histogram2dcontour\",\"colorbar\":{\"outlinewidth\":0,\"ticks\":\"\"},\"colorscale\":[[0.0,\"#0d0887\"],[0.1111111111111111,\"#46039f\"],[0.2222222222222222,\"#7201a8\"],[0.3333333333333333,\"#9c179e\"],[0.4444444444444444,\"#bd3786\"],[0.5555555555555556,\"#d8576b\"],[0.6666666666666666,\"#ed7953\"],[0.7777777777777778,\"#fb9f3a\"],[0.8888888888888888,\"#fdca26\"],[1.0,\"#f0f921\"]]}],\"choropleth\":[{\"type\":\"choropleth\",\"colorbar\":{\"outlinewidth\":0,\"ticks\":\"\"}}],\"histogram2d\":[{\"type\":\"histogram2d\",\"colorbar\":{\"outlinewidth\":0,\"ticks\":\"\"},\"colorscale\":[[0.0,\"#0d0887\"],[0.1111111111111111,\"#46039f\"],[0.2222222222222222,\"#7201a8\"],[0.3333333333333333,\"#9c179e\"],[0.4444444444444444,\"#bd3786\"],[0.5555555555555556,\"#d8576b\"],[0.6666666666666666,\"#ed7953\"],[0.7777777777777778,\"#fb9f3a\"],[0.8888888888888888,\"#fdca26\"],[1.0,\"#f0f921\"]]}],\"heatmap\":[{\"type\":\"heatmap\",\"colorbar\":{\"outlinewidth\":0,\"ticks\":\"\"},\"colorscale\":[[0.0,\"#0d0887\"],[0.1111111111111111,\"#46039f\"],[0.2222222222222222,\"#7201a8\"],[0.3333333333333333,\"#9c179e\"],[0.4444444444444444,\"#bd3786\"],[0.5555555555555556,\"#d8576b\"],[0.6666666666666666,\"#ed7953\"],[0.7777777777777778,\"#fb9f3a\"],[0.8888888888888888,\"#fdca26\"],[1.0,\"#f0f921\"]]}],\"heatmapgl\":[{\"type\":\"heatmapgl\",\"colorbar\":{\"outlinewidth\":0,\"ticks\":\"\"},\"colorscale\":[[0.0,\"#0d0887\"],[0.1111111111111111,\"#46039f\"],[0.2222222222222222,\"#7201a8\"],[0.3333333333333333,\"#9c179e\"],[0.4444444444444444,\"#bd3786\"],[0.5555555555555556,\"#d8576b\"],[0.6666666666666666,\"#ed7953\"],[0.7777777777777778,\"#fb9f3a\"],[0.8888888888888888,\"#fdca26\"],[1.0,\"#f0f921\"]]}],\"contourcarpet\":[{\"type\":\"contourcarpet\",\"colorbar\":{\"outlinewidth\":0,\"ticks\":\"\"}}],\"contour\":[{\"type\":\"contour\",\"colorbar\":{\"outlinewidth\":0,\"ticks\":\"\"},\"colorscale\":[[0.0,\"#0d0887\"],[0.1111111111111111,\"#46039f\"],[0.2222222222222222,\"#7201a8\"],[0.3333333333333333,\"#9c179e\"],[0.4444444444444444,\"#bd3786\"],[0.5555555555555556,\"#d8576b\"],[0.6666666666666666,\"#ed7953\"],[0.7777777777777778,\"#fb9f3a\"],[0.8888888888888888,\"#fdca26\"],[1.0,\"#f0f921\"]]}],\"surface\":[{\"type\":\"surface\",\"colorbar\":{\"outlinewidth\":0,\"ticks\":\"\"},\"colorscale\":[[0.0,\"#0d0887\"],[0.1111111111111111,\"#46039f\"],[0.2222222222222222,\"#7201a8\"],[0.3333333333333333,\"#9c179e\"],[0.4444444444444444,\"#bd3786\"],[0.5555555555555556,\"#d8576b\"],[0.6666666666666666,\"#ed7953\"],[0.7777777777777778,\"#fb9f3a\"],[0.8888888888888888,\"#fdca26\"],[1.0,\"#f0f921\"]]}],\"mesh3d\":[{\"type\":\"mesh3d\",\"colorbar\":{\"outlinewidth\":0,\"ticks\":\"\"}}],\"scatter\":[{\"fillpattern\":{\"fillmode\":\"overlay\",\"size\":10,\"solidity\":0.2},\"type\":\"scatter\"}],\"parcoords\":[{\"type\":\"parcoords\",\"line\":{\"colorbar\":{\"outlinewidth\":0,\"ticks\":\"\"}}}],\"scatterpolargl\":[{\"type\":\"scatterpolargl\",\"marker\":{\"colorbar\":{\"outlinewidth\":0,\"ticks\":\"\"}}}],\"bar\":[{\"error_x\":{\"color\":\"#2a3f5f\"},\"error_y\":{\"color\":\"#2a3f5f\"},\"marker\":{\"line\":{\"color\":\"#E5ECF6\",\"width\":0.5},\"pattern\":{\"fillmode\":\"overlay\",\"size\":10,\"solidity\":0.2}},\"type\":\"bar\"}],\"scattergeo\":[{\"type\":\"scattergeo\",\"marker\":{\"colorbar\":{\"outlinewidth\":0,\"ticks\":\"\"}}}],\"scatterpolar\":[{\"type\":\"scatterpolar\",\"marker\":{\"colorbar\":{\"outlinewidth\":0,\"ticks\":\"\"}}}],\"histogram\":[{\"marker\":{\"pattern\":{\"fillmode\":\"overlay\",\"size\":10,\"solidity\":0.2}},\"type\":\"histogram\"}],\"scattergl\":[{\"type\":\"scattergl\",\"marker\":{\"colorbar\":{\"outlinewidth\":0,\"ticks\":\"\"}}}],\"scatter3d\":[{\"type\":\"scatter3d\",\"line\":{\"colorbar\":{\"outlinewidth\":0,\"ticks\":\"\"}},\"marker\":{\"colorbar\":{\"outlinewidth\":0,\"ticks\":\"\"}}}],\"scattermapbox\":[{\"type\":\"scattermapbox\",\"marker\":{\"colorbar\":{\"outlinewidth\":0,\"ticks\":\"\"}}}],\"scatterternary\":[{\"type\":\"scatterternary\",\"marker\":{\"colorbar\":{\"outlinewidth\":0,\"ticks\":\"\"}}}],\"scattercarpet\":[{\"type\":\"scattercarpet\",\"marker\":{\"colorbar\":{\"outlinewidth\":0,\"ticks\":\"\"}}}],\"carpet\":[{\"aaxis\":{\"endlinecolor\":\"#2a3f5f\",\"gridcolor\":\"white\",\"linecolor\":\"white\",\"minorgridcolor\":\"white\",\"startlinecolor\":\"#2a3f5f\"},\"baxis\":{\"endlinecolor\":\"#2a3f5f\",\"gridcolor\":\"white\",\"linecolor\":\"white\",\"minorgridcolor\":\"white\",\"startlinecolor\":\"#2a3f5f\"},\"type\":\"carpet\"}],\"table\":[{\"cells\":{\"fill\":{\"color\":\"#EBF0F8\"},\"line\":{\"color\":\"white\"}},\"header\":{\"fill\":{\"color\":\"#C8D4E3\"},\"line\":{\"color\":\"white\"}},\"type\":\"table\"}],\"barpolar\":[{\"marker\":{\"line\":{\"color\":\"#E5ECF6\",\"width\":0.5},\"pattern\":{\"fillmode\":\"overlay\",\"size\":10,\"solidity\":0.2}},\"type\":\"barpolar\"}],\"pie\":[{\"automargin\":true,\"type\":\"pie\"}]},\"layout\":{\"autotypenumbers\":\"strict\",\"colorway\":[\"#636efa\",\"#EF553B\",\"#00cc96\",\"#ab63fa\",\"#FFA15A\",\"#19d3f3\",\"#FF6692\",\"#B6E880\",\"#FF97FF\",\"#FECB52\"],\"font\":{\"color\":\"#2a3f5f\"},\"hovermode\":\"closest\",\"hoverlabel\":{\"align\":\"left\"},\"paper_bgcolor\":\"white\",\"plot_bgcolor\":\"#E5ECF6\",\"polar\":{\"bgcolor\":\"#E5ECF6\",\"angularaxis\":{\"gridcolor\":\"white\",\"linecolor\":\"white\",\"ticks\":\"\"},\"radialaxis\":{\"gridcolor\":\"white\",\"linecolor\":\"white\",\"ticks\":\"\"}},\"ternary\":{\"bgcolor\":\"#E5ECF6\",\"aaxis\":{\"gridcolor\":\"white\",\"linecolor\":\"white\",\"ticks\":\"\"},\"baxis\":{\"gridcolor\":\"white\",\"linecolor\":\"white\",\"ticks\":\"\"},\"caxis\":{\"gridcolor\":\"white\",\"linecolor\":\"white\",\"ticks\":\"\"}},\"coloraxis\":{\"colorbar\":{\"outlinewidth\":0,\"ticks\":\"\"}},\"colorscale\":{\"sequential\":[[0.0,\"#0d0887\"],[0.1111111111111111,\"#46039f\"],[0.2222222222222222,\"#7201a8\"],[0.3333333333333333,\"#9c179e\"],[0.4444444444444444,\"#bd3786\"],[0.5555555555555556,\"#d8576b\"],[0.6666666666666666,\"#ed7953\"],[0.7777777777777778,\"#fb9f3a\"],[0.8888888888888888,\"#fdca26\"],[1.0,\"#f0f921\"]],\"sequentialminus\":[[0.0,\"#0d0887\"],[0.1111111111111111,\"#46039f\"],[0.2222222222222222,\"#7201a8\"],[0.3333333333333333,\"#9c179e\"],[0.4444444444444444,\"#bd3786\"],[0.5555555555555556,\"#d8576b\"],[0.6666666666666666,\"#ed7953\"],[0.7777777777777778,\"#fb9f3a\"],[0.8888888888888888,\"#fdca26\"],[1.0,\"#f0f921\"]],\"diverging\":[[0,\"#8e0152\"],[0.1,\"#c51b7d\"],[0.2,\"#de77ae\"],[0.3,\"#f1b6da\"],[0.4,\"#fde0ef\"],[0.5,\"#f7f7f7\"],[0.6,\"#e6f5d0\"],[0.7,\"#b8e186\"],[0.8,\"#7fbc41\"],[0.9,\"#4d9221\"],[1,\"#276419\"]]},\"xaxis\":{\"gridcolor\":\"white\",\"linecolor\":\"white\",\"ticks\":\"\",\"title\":{\"standoff\":15},\"zerolinecolor\":\"white\",\"automargin\":true,\"zerolinewidth\":2},\"yaxis\":{\"gridcolor\":\"white\",\"linecolor\":\"white\",\"ticks\":\"\",\"title\":{\"standoff\":15},\"zerolinecolor\":\"white\",\"automargin\":true,\"zerolinewidth\":2},\"scene\":{\"xaxis\":{\"backgroundcolor\":\"#E5ECF6\",\"gridcolor\":\"white\",\"linecolor\":\"white\",\"showbackground\":true,\"ticks\":\"\",\"zerolinecolor\":\"white\",\"gridwidth\":2},\"yaxis\":{\"backgroundcolor\":\"#E5ECF6\",\"gridcolor\":\"white\",\"linecolor\":\"white\",\"showbackground\":true,\"ticks\":\"\",\"zerolinecolor\":\"white\",\"gridwidth\":2},\"zaxis\":{\"backgroundcolor\":\"#E5ECF6\",\"gridcolor\":\"white\",\"linecolor\":\"white\",\"showbackground\":true,\"ticks\":\"\",\"zerolinecolor\":\"white\",\"gridwidth\":2}},\"shapedefaults\":{\"line\":{\"color\":\"#2a3f5f\"}},\"annotationdefaults\":{\"arrowcolor\":\"#2a3f5f\",\"arrowhead\":0,\"arrowwidth\":1},\"geo\":{\"bgcolor\":\"white\",\"landcolor\":\"#E5ECF6\",\"subunitcolor\":\"white\",\"showland\":true,\"showlakes\":true,\"lakecolor\":\"white\"},\"title\":{\"x\":0.05},\"mapbox\":{\"style\":\"light\"}}},\"xaxis\":{\"anchor\":\"y\",\"domain\":[0.0,1.0],\"title\":{\"text\":\"country_long\"}},\"yaxis\":{\"anchor\":\"x\",\"domain\":[0.0,1.0],\"title\":{\"text\":\"capacity_mw\"}},\"legend\":{\"tracegroupgap\":0},\"title\":{\"text\":\"ranking de Producci\\u00f3n de energia electrica mundial (millones de MW)\"},\"barmode\":\"overlay\",\"uniformtext\":{\"minsize\":10,\"mode\":\"hide\"}},                        {\"responsive\": true}                    ).then(function(){\n",
              "                            \n",
              "var gd = document.getElementById('47ba268e-602e-4dd8-be4c-982bb2cd855f');\n",
              "var x = new MutationObserver(function (mutations, observer) {{\n",
              "        var display = window.getComputedStyle(gd).display;\n",
              "        if (!display || display === 'none') {{\n",
              "            console.log([gd, 'removed!']);\n",
              "            Plotly.purge(gd);\n",
              "            observer.disconnect();\n",
              "        }}\n",
              "}});\n",
              "\n",
              "// Listen for the removal of the full notebook cells\n",
              "var notebookContainer = gd.closest('#notebook-container');\n",
              "if (notebookContainer) {{\n",
              "    x.observe(notebookContainer, {childList: true});\n",
              "}}\n",
              "\n",
              "// Listen for the clearing of the current output cell\n",
              "var outputEl = gd.closest('.output');\n",
              "if (outputEl) {{\n",
              "    x.observe(outputEl, {childList: true});\n",
              "}}\n",
              "\n",
              "                        })                };                });            </script>        </div>"
            ]
          },
          "metadata": {},
          "output_type": "display_data"
        }
      ],
      "source": [
        "import plotly.express as px\n",
        "\n",
        "fig = px.bar(df6, y='capacity_mw', x='country_long', text='capacity_mw', title=\"ranking de Producción de energia electrica mundial (millones de MW)\", barmode=\"overlay\")\n",
        "fig.update_traces(texttemplate='%{text:.2s}', textposition='outside')\n",
        "fig.update_layout(uniformtext_minsize=10, uniformtext_mode='hide')\n",
        "fig.update_layout(barmode='overlay')\n",
        "fig.show()"
      ]
    },
    {
      "cell_type": "code",
      "execution_count": 23,
      "metadata": {},
      "outputs": [
        {
          "data": {
            "text/html": [
              "<div>\n",
              "<style scoped>\n",
              "    .dataframe tbody tr th:only-of-type {\n",
              "        vertical-align: middle;\n",
              "    }\n",
              "\n",
              "    .dataframe tbody tr th {\n",
              "        vertical-align: top;\n",
              "    }\n",
              "\n",
              "    .dataframe thead th {\n",
              "        text-align: right;\n",
              "    }\n",
              "</style>\n",
              "<table border=\"1\" class=\"dataframe\">\n",
              "  <thead>\n",
              "    <tr style=\"text-align: right;\">\n",
              "      <th></th>\n",
              "      <th>country_long</th>\n",
              "      <th>capacity_mw</th>\n",
              "      <th>mw_limpia</th>\n",
              "      <th>%Renovable</th>\n",
              "    </tr>\n",
              "  </thead>\n",
              "  <tbody>\n",
              "    <tr>\n",
              "      <th>0</th>\n",
              "      <td>China</td>\n",
              "      <td>1,415,067.38</td>\n",
              "      <td>364,843.88</td>\n",
              "      <td>25.78</td>\n",
              "    </tr>\n",
              "    <tr>\n",
              "      <th>1</th>\n",
              "      <td>United States of America</td>\n",
              "      <td>1,204,638.05</td>\n",
              "      <td>253,116.55</td>\n",
              "      <td>21.01</td>\n",
              "    </tr>\n",
              "    <tr>\n",
              "      <th>2</th>\n",
              "      <td>India</td>\n",
              "      <td>316,088.55</td>\n",
              "      <td>75,760.98</td>\n",
              "      <td>23.97</td>\n",
              "    </tr>\n",
              "    <tr>\n",
              "      <th>3</th>\n",
              "      <td>Russia</td>\n",
              "      <td>228,220.05</td>\n",
              "      <td>47,128.44</td>\n",
              "      <td>20.65</td>\n",
              "    </tr>\n",
              "    <tr>\n",
              "      <th>4</th>\n",
              "      <td>Japan</td>\n",
              "      <td>215,365.85</td>\n",
              "      <td>33,811.90</td>\n",
              "      <td>15.70</td>\n",
              "    </tr>\n",
              "    <tr>\n",
              "      <th>5</th>\n",
              "      <td>Brazil</td>\n",
              "      <td>147,589.27</td>\n",
              "      <td>122,985.52</td>\n",
              "      <td>83.33</td>\n",
              "    </tr>\n",
              "    <tr>\n",
              "      <th>6</th>\n",
              "      <td>Canada</td>\n",
              "      <td>143,578.70</td>\n",
              "      <td>97,385.30</td>\n",
              "      <td>67.83</td>\n",
              "    </tr>\n",
              "    <tr>\n",
              "      <th>7</th>\n",
              "      <td>Germany</td>\n",
              "      <td>112,040.37</td>\n",
              "      <td>23,469.32</td>\n",
              "      <td>20.95</td>\n",
              "    </tr>\n",
              "    <tr>\n",
              "      <th>8</th>\n",
              "      <td>France</td>\n",
              "      <td>110,615.93</td>\n",
              "      <td>34,275.93</td>\n",
              "      <td>30.99</td>\n",
              "    </tr>\n",
              "    <tr>\n",
              "      <th>9</th>\n",
              "      <td>South Korea</td>\n",
              "      <td>99,472.68</td>\n",
              "      <td>6,732.66</td>\n",
              "      <td>6.77</td>\n",
              "    </tr>\n",
              "    <tr>\n",
              "      <th>10</th>\n",
              "      <td>United Kingdom</td>\n",
              "      <td>97,155.28</td>\n",
              "      <td>39,826.08</td>\n",
              "      <td>40.99</td>\n",
              "    </tr>\n",
              "    <tr>\n",
              "      <th>11</th>\n",
              "      <td>Saudi Arabia</td>\n",
              "      <td>84,341.55</td>\n",
              "      <td>137.00</td>\n",
              "      <td>0.16</td>\n",
              "    </tr>\n",
              "    <tr>\n",
              "      <th>12</th>\n",
              "      <td>Spain</td>\n",
              "      <td>79,035.07</td>\n",
              "      <td>31,917.83</td>\n",
              "      <td>40.38</td>\n",
              "    </tr>\n",
              "    <tr>\n",
              "      <th>13</th>\n",
              "      <td>Italy</td>\n",
              "      <td>73,095.06</td>\n",
              "      <td>16,299.11</td>\n",
              "      <td>22.30</td>\n",
              "    </tr>\n",
              "    <tr>\n",
              "      <th>14</th>\n",
              "      <td>Australia</td>\n",
              "      <td>65,852.02</td>\n",
              "      <td>19,009.10</td>\n",
              "      <td>28.87</td>\n",
              "    </tr>\n",
              "    <tr>\n",
              "      <th>15</th>\n",
              "      <td>Mexico</td>\n",
              "      <td>62,365.90</td>\n",
              "      <td>18,280.90</td>\n",
              "      <td>29.31</td>\n",
              "    </tr>\n",
              "    <tr>\n",
              "      <th>16</th>\n",
              "      <td>Iran</td>\n",
              "      <td>61,362.10</td>\n",
              "      <td>11,048.50</td>\n",
              "      <td>18.01</td>\n",
              "    </tr>\n",
              "    <tr>\n",
              "      <th>17</th>\n",
              "      <td>Turkey</td>\n",
              "      <td>51,444.70</td>\n",
              "      <td>15,404.10</td>\n",
              "      <td>29.94</td>\n",
              "    </tr>\n",
              "    <tr>\n",
              "      <th>18</th>\n",
              "      <td>South Africa</td>\n",
              "      <td>50,422.70</td>\n",
              "      <td>6,377.11</td>\n",
              "      <td>12.65</td>\n",
              "    </tr>\n",
              "    <tr>\n",
              "      <th>19</th>\n",
              "      <td>Indonesia</td>\n",
              "      <td>48,751.42</td>\n",
              "      <td>5,901.59</td>\n",
              "      <td>12.11</td>\n",
              "    </tr>\n",
              "  </tbody>\n",
              "</table>\n",
              "</div>"
            ],
            "text/plain": [
              "                country_long  capacity_mw  mw_limpia  %Renovable\n",
              "0                      China 1,415,067.38 364,843.88       25.78\n",
              "1   United States of America 1,204,638.05 253,116.55       21.01\n",
              "2                      India   316,088.55  75,760.98       23.97\n",
              "3                     Russia   228,220.05  47,128.44       20.65\n",
              "4                      Japan   215,365.85  33,811.90       15.70\n",
              "5                     Brazil   147,589.27 122,985.52       83.33\n",
              "6                     Canada   143,578.70  97,385.30       67.83\n",
              "7                    Germany   112,040.37  23,469.32       20.95\n",
              "8                     France   110,615.93  34,275.93       30.99\n",
              "9                South Korea    99,472.68   6,732.66        6.77\n",
              "10            United Kingdom    97,155.28  39,826.08       40.99\n",
              "11              Saudi Arabia    84,341.55     137.00        0.16\n",
              "12                     Spain    79,035.07  31,917.83       40.38\n",
              "13                     Italy    73,095.06  16,299.11       22.30\n",
              "14                 Australia    65,852.02  19,009.10       28.87\n",
              "15                    Mexico    62,365.90  18,280.90       29.31\n",
              "16                      Iran    61,362.10  11,048.50       18.01\n",
              "17                    Turkey    51,444.70  15,404.10       29.94\n",
              "18              South Africa    50,422.70   6,377.11       12.65\n",
              "19                 Indonesia    48,751.42   5,901.59       12.11"
            ]
          },
          "execution_count": 23,
          "metadata": {},
          "output_type": "execute_result"
        }
      ],
      "source": [
        "#limpiamos el dataframe y sacamos solo las 20 primeras filas objeto de mi estudio\n",
        "df6=df5.loc[:19]\n",
        "df6"
      ]
    },
    {
      "cell_type": "code",
      "execution_count": 185,
      "metadata": {},
      "outputs": [
        {
          "data": {
            "application/vnd.plotly.v1+json": {
              "config": {
                "plotlyServerURL": "https://plot.ly"
              },
              "data": [
                {
                  "marker": {
                    "color": "rgba(69, 46, 200)",
                    "line": {
                      "color": "rgba(69, 46, 200)",
                      "width": 0
                    }
                  },
                  "name": "MW GENERACION",
                  "orientation": "h",
                  "text": [
                    1415067.38,
                    1204638.05,
                    316088.546,
                    228220.05,
                    215365.85,
                    147589.27133,
                    143578.7,
                    112040.37488,
                    110615.9289,
                    99472.68,
                    97155.28448,
                    84341.55,
                    79035.068,
                    73095.06,
                    65852.016,
                    62365.9,
                    61362.1,
                    51444.7,
                    50422.7,
                    48751.418
                  ],
                  "textposition": "outside",
                  "texttemplate": "%{text:.3s}",
                  "type": "bar",
                  "x": [
                    1415067.38,
                    1204638.05,
                    316088.546,
                    228220.05,
                    215365.85,
                    147589.27133,
                    143578.7,
                    112040.37488,
                    110615.9289,
                    99472.68,
                    97155.28448,
                    84341.55,
                    79035.068,
                    73095.06,
                    65852.016,
                    62365.9,
                    61362.1,
                    51444.7,
                    50422.7,
                    48751.418
                  ],
                  "y": [
                    "China",
                    "United States of America",
                    "India",
                    "Russia",
                    "Japan",
                    "Brazil",
                    "Canada",
                    "Germany",
                    "France",
                    "South Korea",
                    "United Kingdom",
                    "Saudi Arabia",
                    "Spain",
                    "Italy",
                    "Australia",
                    "Mexico",
                    "Iran",
                    "Turkey",
                    "South Africa",
                    "Indonesia"
                  ]
                },
                {
                  "marker": {
                    "color": "rgba(36, 133, 25)",
                    "line": {
                      "color": "rgba(36, 133, 25)",
                      "width": 0
                    }
                  },
                  "name": "MW RENOVABLES",
                  "orientation": "h",
                  "textfont": {
                    "color": "black"
                  },
                  "textposition": "outside",
                  "type": "bar",
                  "x": [
                    364843.88,
                    253116.55,
                    75760.98,
                    47128.44,
                    33811.9,
                    122985.52113,
                    97385.3,
                    23469.32488,
                    34275.9289,
                    6732.66,
                    39826.08448,
                    137,
                    31917.829,
                    16299.11,
                    19009.1,
                    18280.9,
                    11048.5,
                    15404.1,
                    6377.11,
                    5901.592
                  ],
                  "y": [
                    "China",
                    "United States of America",
                    "India",
                    "Russia",
                    "Japan",
                    "Brazil",
                    "Canada",
                    "Germany",
                    "France",
                    "South Korea",
                    "United Kingdom",
                    "Saudi Arabia",
                    "Spain",
                    "Italy",
                    "Australia",
                    "Mexico",
                    "Iran",
                    "Turkey",
                    "South Africa",
                    "Indonesia"
                  ]
                }
              ],
              "layout": {
                "barmode": "overlay",
                "height": 700,
                "margin": {
                  "b": 40,
                  "l": 20,
                  "r": 20,
                  "t": 30
                },
                "paper_bgcolor": "rgb(100, 247, 218)",
                "template": {
                  "data": {
                    "bar": [
                      {
                        "error_x": {
                          "color": "#2a3f5f"
                        },
                        "error_y": {
                          "color": "#2a3f5f"
                        },
                        "marker": {
                          "line": {
                            "color": "#E5ECF6",
                            "width": 0.5
                          },
                          "pattern": {
                            "fillmode": "overlay",
                            "size": 10,
                            "solidity": 0.2
                          }
                        },
                        "type": "bar"
                      }
                    ],
                    "barpolar": [
                      {
                        "marker": {
                          "line": {
                            "color": "#E5ECF6",
                            "width": 0.5
                          },
                          "pattern": {
                            "fillmode": "overlay",
                            "size": 10,
                            "solidity": 0.2
                          }
                        },
                        "type": "barpolar"
                      }
                    ],
                    "carpet": [
                      {
                        "aaxis": {
                          "endlinecolor": "#2a3f5f",
                          "gridcolor": "white",
                          "linecolor": "white",
                          "minorgridcolor": "white",
                          "startlinecolor": "#2a3f5f"
                        },
                        "baxis": {
                          "endlinecolor": "#2a3f5f",
                          "gridcolor": "white",
                          "linecolor": "white",
                          "minorgridcolor": "white",
                          "startlinecolor": "#2a3f5f"
                        },
                        "type": "carpet"
                      }
                    ],
                    "choropleth": [
                      {
                        "colorbar": {
                          "outlinewidth": 0,
                          "ticks": ""
                        },
                        "type": "choropleth"
                      }
                    ],
                    "contour": [
                      {
                        "colorbar": {
                          "outlinewidth": 0,
                          "ticks": ""
                        },
                        "colorscale": [
                          [
                            0,
                            "#0d0887"
                          ],
                          [
                            0.1111111111111111,
                            "#46039f"
                          ],
                          [
                            0.2222222222222222,
                            "#7201a8"
                          ],
                          [
                            0.3333333333333333,
                            "#9c179e"
                          ],
                          [
                            0.4444444444444444,
                            "#bd3786"
                          ],
                          [
                            0.5555555555555556,
                            "#d8576b"
                          ],
                          [
                            0.6666666666666666,
                            "#ed7953"
                          ],
                          [
                            0.7777777777777778,
                            "#fb9f3a"
                          ],
                          [
                            0.8888888888888888,
                            "#fdca26"
                          ],
                          [
                            1,
                            "#f0f921"
                          ]
                        ],
                        "type": "contour"
                      }
                    ],
                    "contourcarpet": [
                      {
                        "colorbar": {
                          "outlinewidth": 0,
                          "ticks": ""
                        },
                        "type": "contourcarpet"
                      }
                    ],
                    "heatmap": [
                      {
                        "colorbar": {
                          "outlinewidth": 0,
                          "ticks": ""
                        },
                        "colorscale": [
                          [
                            0,
                            "#0d0887"
                          ],
                          [
                            0.1111111111111111,
                            "#46039f"
                          ],
                          [
                            0.2222222222222222,
                            "#7201a8"
                          ],
                          [
                            0.3333333333333333,
                            "#9c179e"
                          ],
                          [
                            0.4444444444444444,
                            "#bd3786"
                          ],
                          [
                            0.5555555555555556,
                            "#d8576b"
                          ],
                          [
                            0.6666666666666666,
                            "#ed7953"
                          ],
                          [
                            0.7777777777777778,
                            "#fb9f3a"
                          ],
                          [
                            0.8888888888888888,
                            "#fdca26"
                          ],
                          [
                            1,
                            "#f0f921"
                          ]
                        ],
                        "type": "heatmap"
                      }
                    ],
                    "heatmapgl": [
                      {
                        "colorbar": {
                          "outlinewidth": 0,
                          "ticks": ""
                        },
                        "colorscale": [
                          [
                            0,
                            "#0d0887"
                          ],
                          [
                            0.1111111111111111,
                            "#46039f"
                          ],
                          [
                            0.2222222222222222,
                            "#7201a8"
                          ],
                          [
                            0.3333333333333333,
                            "#9c179e"
                          ],
                          [
                            0.4444444444444444,
                            "#bd3786"
                          ],
                          [
                            0.5555555555555556,
                            "#d8576b"
                          ],
                          [
                            0.6666666666666666,
                            "#ed7953"
                          ],
                          [
                            0.7777777777777778,
                            "#fb9f3a"
                          ],
                          [
                            0.8888888888888888,
                            "#fdca26"
                          ],
                          [
                            1,
                            "#f0f921"
                          ]
                        ],
                        "type": "heatmapgl"
                      }
                    ],
                    "histogram": [
                      {
                        "marker": {
                          "pattern": {
                            "fillmode": "overlay",
                            "size": 10,
                            "solidity": 0.2
                          }
                        },
                        "type": "histogram"
                      }
                    ],
                    "histogram2d": [
                      {
                        "colorbar": {
                          "outlinewidth": 0,
                          "ticks": ""
                        },
                        "colorscale": [
                          [
                            0,
                            "#0d0887"
                          ],
                          [
                            0.1111111111111111,
                            "#46039f"
                          ],
                          [
                            0.2222222222222222,
                            "#7201a8"
                          ],
                          [
                            0.3333333333333333,
                            "#9c179e"
                          ],
                          [
                            0.4444444444444444,
                            "#bd3786"
                          ],
                          [
                            0.5555555555555556,
                            "#d8576b"
                          ],
                          [
                            0.6666666666666666,
                            "#ed7953"
                          ],
                          [
                            0.7777777777777778,
                            "#fb9f3a"
                          ],
                          [
                            0.8888888888888888,
                            "#fdca26"
                          ],
                          [
                            1,
                            "#f0f921"
                          ]
                        ],
                        "type": "histogram2d"
                      }
                    ],
                    "histogram2dcontour": [
                      {
                        "colorbar": {
                          "outlinewidth": 0,
                          "ticks": ""
                        },
                        "colorscale": [
                          [
                            0,
                            "#0d0887"
                          ],
                          [
                            0.1111111111111111,
                            "#46039f"
                          ],
                          [
                            0.2222222222222222,
                            "#7201a8"
                          ],
                          [
                            0.3333333333333333,
                            "#9c179e"
                          ],
                          [
                            0.4444444444444444,
                            "#bd3786"
                          ],
                          [
                            0.5555555555555556,
                            "#d8576b"
                          ],
                          [
                            0.6666666666666666,
                            "#ed7953"
                          ],
                          [
                            0.7777777777777778,
                            "#fb9f3a"
                          ],
                          [
                            0.8888888888888888,
                            "#fdca26"
                          ],
                          [
                            1,
                            "#f0f921"
                          ]
                        ],
                        "type": "histogram2dcontour"
                      }
                    ],
                    "mesh3d": [
                      {
                        "colorbar": {
                          "outlinewidth": 0,
                          "ticks": ""
                        },
                        "type": "mesh3d"
                      }
                    ],
                    "parcoords": [
                      {
                        "line": {
                          "colorbar": {
                            "outlinewidth": 0,
                            "ticks": ""
                          }
                        },
                        "type": "parcoords"
                      }
                    ],
                    "pie": [
                      {
                        "automargin": true,
                        "type": "pie"
                      }
                    ],
                    "scatter": [
                      {
                        "fillpattern": {
                          "fillmode": "overlay",
                          "size": 10,
                          "solidity": 0.2
                        },
                        "type": "scatter"
                      }
                    ],
                    "scatter3d": [
                      {
                        "line": {
                          "colorbar": {
                            "outlinewidth": 0,
                            "ticks": ""
                          }
                        },
                        "marker": {
                          "colorbar": {
                            "outlinewidth": 0,
                            "ticks": ""
                          }
                        },
                        "type": "scatter3d"
                      }
                    ],
                    "scattercarpet": [
                      {
                        "marker": {
                          "colorbar": {
                            "outlinewidth": 0,
                            "ticks": ""
                          }
                        },
                        "type": "scattercarpet"
                      }
                    ],
                    "scattergeo": [
                      {
                        "marker": {
                          "colorbar": {
                            "outlinewidth": 0,
                            "ticks": ""
                          }
                        },
                        "type": "scattergeo"
                      }
                    ],
                    "scattergl": [
                      {
                        "marker": {
                          "colorbar": {
                            "outlinewidth": 0,
                            "ticks": ""
                          }
                        },
                        "type": "scattergl"
                      }
                    ],
                    "scattermapbox": [
                      {
                        "marker": {
                          "colorbar": {
                            "outlinewidth": 0,
                            "ticks": ""
                          }
                        },
                        "type": "scattermapbox"
                      }
                    ],
                    "scatterpolar": [
                      {
                        "marker": {
                          "colorbar": {
                            "outlinewidth": 0,
                            "ticks": ""
                          }
                        },
                        "type": "scatterpolar"
                      }
                    ],
                    "scatterpolargl": [
                      {
                        "marker": {
                          "colorbar": {
                            "outlinewidth": 0,
                            "ticks": ""
                          }
                        },
                        "type": "scatterpolargl"
                      }
                    ],
                    "scatterternary": [
                      {
                        "marker": {
                          "colorbar": {
                            "outlinewidth": 0,
                            "ticks": ""
                          }
                        },
                        "type": "scatterternary"
                      }
                    ],
                    "surface": [
                      {
                        "colorbar": {
                          "outlinewidth": 0,
                          "ticks": ""
                        },
                        "colorscale": [
                          [
                            0,
                            "#0d0887"
                          ],
                          [
                            0.1111111111111111,
                            "#46039f"
                          ],
                          [
                            0.2222222222222222,
                            "#7201a8"
                          ],
                          [
                            0.3333333333333333,
                            "#9c179e"
                          ],
                          [
                            0.4444444444444444,
                            "#bd3786"
                          ],
                          [
                            0.5555555555555556,
                            "#d8576b"
                          ],
                          [
                            0.6666666666666666,
                            "#ed7953"
                          ],
                          [
                            0.7777777777777778,
                            "#fb9f3a"
                          ],
                          [
                            0.8888888888888888,
                            "#fdca26"
                          ],
                          [
                            1,
                            "#f0f921"
                          ]
                        ],
                        "type": "surface"
                      }
                    ],
                    "table": [
                      {
                        "cells": {
                          "fill": {
                            "color": "#EBF0F8"
                          },
                          "line": {
                            "color": "white"
                          }
                        },
                        "header": {
                          "fill": {
                            "color": "#C8D4E3"
                          },
                          "line": {
                            "color": "white"
                          }
                        },
                        "type": "table"
                      }
                    ]
                  },
                  "layout": {
                    "annotationdefaults": {
                      "arrowcolor": "#2a3f5f",
                      "arrowhead": 0,
                      "arrowwidth": 1
                    },
                    "autotypenumbers": "strict",
                    "coloraxis": {
                      "colorbar": {
                        "outlinewidth": 0,
                        "ticks": ""
                      }
                    },
                    "colorscale": {
                      "diverging": [
                        [
                          0,
                          "#8e0152"
                        ],
                        [
                          0.1,
                          "#c51b7d"
                        ],
                        [
                          0.2,
                          "#de77ae"
                        ],
                        [
                          0.3,
                          "#f1b6da"
                        ],
                        [
                          0.4,
                          "#fde0ef"
                        ],
                        [
                          0.5,
                          "#f7f7f7"
                        ],
                        [
                          0.6,
                          "#e6f5d0"
                        ],
                        [
                          0.7,
                          "#b8e186"
                        ],
                        [
                          0.8,
                          "#7fbc41"
                        ],
                        [
                          0.9,
                          "#4d9221"
                        ],
                        [
                          1,
                          "#276419"
                        ]
                      ],
                      "sequential": [
                        [
                          0,
                          "#0d0887"
                        ],
                        [
                          0.1111111111111111,
                          "#46039f"
                        ],
                        [
                          0.2222222222222222,
                          "#7201a8"
                        ],
                        [
                          0.3333333333333333,
                          "#9c179e"
                        ],
                        [
                          0.4444444444444444,
                          "#bd3786"
                        ],
                        [
                          0.5555555555555556,
                          "#d8576b"
                        ],
                        [
                          0.6666666666666666,
                          "#ed7953"
                        ],
                        [
                          0.7777777777777778,
                          "#fb9f3a"
                        ],
                        [
                          0.8888888888888888,
                          "#fdca26"
                        ],
                        [
                          1,
                          "#f0f921"
                        ]
                      ],
                      "sequentialminus": [
                        [
                          0,
                          "#0d0887"
                        ],
                        [
                          0.1111111111111111,
                          "#46039f"
                        ],
                        [
                          0.2222222222222222,
                          "#7201a8"
                        ],
                        [
                          0.3333333333333333,
                          "#9c179e"
                        ],
                        [
                          0.4444444444444444,
                          "#bd3786"
                        ],
                        [
                          0.5555555555555556,
                          "#d8576b"
                        ],
                        [
                          0.6666666666666666,
                          "#ed7953"
                        ],
                        [
                          0.7777777777777778,
                          "#fb9f3a"
                        ],
                        [
                          0.8888888888888888,
                          "#fdca26"
                        ],
                        [
                          1,
                          "#f0f921"
                        ]
                      ]
                    },
                    "colorway": [
                      "#636efa",
                      "#EF553B",
                      "#00cc96",
                      "#ab63fa",
                      "#FFA15A",
                      "#19d3f3",
                      "#FF6692",
                      "#B6E880",
                      "#FF97FF",
                      "#FECB52"
                    ],
                    "font": {
                      "color": "#2a3f5f"
                    },
                    "geo": {
                      "bgcolor": "white",
                      "lakecolor": "white",
                      "landcolor": "#E5ECF6",
                      "showlakes": true,
                      "showland": true,
                      "subunitcolor": "white"
                    },
                    "hoverlabel": {
                      "align": "left"
                    },
                    "hovermode": "closest",
                    "mapbox": {
                      "style": "light"
                    },
                    "paper_bgcolor": "white",
                    "plot_bgcolor": "#E5ECF6",
                    "polar": {
                      "angularaxis": {
                        "gridcolor": "white",
                        "linecolor": "white",
                        "ticks": ""
                      },
                      "bgcolor": "#E5ECF6",
                      "radialaxis": {
                        "gridcolor": "white",
                        "linecolor": "white",
                        "ticks": ""
                      }
                    },
                    "scene": {
                      "xaxis": {
                        "backgroundcolor": "#E5ECF6",
                        "gridcolor": "white",
                        "gridwidth": 2,
                        "linecolor": "white",
                        "showbackground": true,
                        "ticks": "",
                        "zerolinecolor": "white"
                      },
                      "yaxis": {
                        "backgroundcolor": "#E5ECF6",
                        "gridcolor": "white",
                        "gridwidth": 2,
                        "linecolor": "white",
                        "showbackground": true,
                        "ticks": "",
                        "zerolinecolor": "white"
                      },
                      "zaxis": {
                        "backgroundcolor": "#E5ECF6",
                        "gridcolor": "white",
                        "gridwidth": 2,
                        "linecolor": "white",
                        "showbackground": true,
                        "ticks": "",
                        "zerolinecolor": "white"
                      }
                    },
                    "shapedefaults": {
                      "line": {
                        "color": "#2a3f5f"
                      }
                    },
                    "ternary": {
                      "aaxis": {
                        "gridcolor": "white",
                        "linecolor": "white",
                        "ticks": ""
                      },
                      "baxis": {
                        "gridcolor": "white",
                        "linecolor": "white",
                        "ticks": ""
                      },
                      "bgcolor": "#E5ECF6",
                      "caxis": {
                        "gridcolor": "white",
                        "linecolor": "white",
                        "ticks": ""
                      }
                    },
                    "title": {
                      "x": 0.05
                    },
                    "xaxis": {
                      "automargin": true,
                      "gridcolor": "white",
                      "linecolor": "white",
                      "ticks": "",
                      "title": {
                        "standoff": 15
                      },
                      "zerolinecolor": "white",
                      "zerolinewidth": 2
                    },
                    "yaxis": {
                      "automargin": true,
                      "gridcolor": "white",
                      "linecolor": "white",
                      "ticks": "",
                      "title": {
                        "standoff": 15
                      },
                      "zerolinecolor": "white",
                      "zerolinewidth": 2
                    }
                  }
                },
                "width": 1300,
                "xaxis": {
                  "title": {
                    "text": "ENERGÍA ELÉCTRICA GENERADA EN MEGA WATIOS (MW)"
                  }
                },
                "yaxis": {
                  "title": {
                    "text": "RANKING DE PAISES"
                  }
                }
              }
            },
            "text/html": [
              "<div>                            <div id=\"d73418a2-b8e2-41fb-a9c5-32036516cc6b\" class=\"plotly-graph-div\" style=\"height:700px; width:1300px;\"></div>            <script type=\"text/javascript\">                require([\"plotly\"], function(Plotly) {                    window.PLOTLYENV=window.PLOTLYENV || {};                                    if (document.getElementById(\"d73418a2-b8e2-41fb-a9c5-32036516cc6b\")) {                    Plotly.newPlot(                        \"d73418a2-b8e2-41fb-a9c5-32036516cc6b\",                        [{\"marker\":{\"color\":\"rgba(69, 46, 200)\",\"line\":{\"color\":\"rgba(69, 46, 200)\",\"width\":0}},\"name\":\"MW GENERACION\",\"orientation\":\"h\",\"text\":[1415067.38,1204638.05,316088.546,228220.05,215365.85,147589.27133,143578.7,112040.37488,110615.9289,99472.68,97155.28448,84341.55,79035.068,73095.06,65852.016,62365.9,61362.1,51444.7,50422.7,48751.418],\"texttemplate\":\"%{text:.3s}\",\"x\":[1415067.38,1204638.05,316088.546,228220.05,215365.85,147589.27133,143578.7,112040.37488,110615.9289,99472.68,97155.28448,84341.55,79035.068,73095.06,65852.016,62365.9,61362.1,51444.7,50422.7,48751.418],\"y\":[\"China\",\"United States of America\",\"India\",\"Russia\",\"Japan\",\"Brazil\",\"Canada\",\"Germany\",\"France\",\"South Korea\",\"United Kingdom\",\"Saudi Arabia\",\"Spain\",\"Italy\",\"Australia\",\"Mexico\",\"Iran\",\"Turkey\",\"South Africa\",\"Indonesia\"],\"type\":\"bar\",\"textposition\":\"outside\"},{\"marker\":{\"color\":\"rgba(36, 133, 25)\",\"line\":{\"color\":\"rgba(36, 133, 25)\",\"width\":0}},\"name\":\"MW RENOVABLES\",\"orientation\":\"h\",\"textfont\":{\"color\":\"black\"},\"x\":[364843.88,253116.55,75760.98,47128.44,33811.9,122985.52113,97385.3,23469.32488,34275.9289,6732.66,39826.08448,137.0,31917.829,16299.11,19009.1,18280.9,11048.5,15404.1,6377.11,5901.592],\"y\":[\"China\",\"United States of America\",\"India\",\"Russia\",\"Japan\",\"Brazil\",\"Canada\",\"Germany\",\"France\",\"South Korea\",\"United Kingdom\",\"Saudi Arabia\",\"Spain\",\"Italy\",\"Australia\",\"Mexico\",\"Iran\",\"Turkey\",\"South Africa\",\"Indonesia\"],\"type\":\"bar\",\"textposition\":\"outside\"}],                        {\"template\":{\"data\":{\"histogram2dcontour\":[{\"type\":\"histogram2dcontour\",\"colorbar\":{\"outlinewidth\":0,\"ticks\":\"\"},\"colorscale\":[[0.0,\"#0d0887\"],[0.1111111111111111,\"#46039f\"],[0.2222222222222222,\"#7201a8\"],[0.3333333333333333,\"#9c179e\"],[0.4444444444444444,\"#bd3786\"],[0.5555555555555556,\"#d8576b\"],[0.6666666666666666,\"#ed7953\"],[0.7777777777777778,\"#fb9f3a\"],[0.8888888888888888,\"#fdca26\"],[1.0,\"#f0f921\"]]}],\"choropleth\":[{\"type\":\"choropleth\",\"colorbar\":{\"outlinewidth\":0,\"ticks\":\"\"}}],\"histogram2d\":[{\"type\":\"histogram2d\",\"colorbar\":{\"outlinewidth\":0,\"ticks\":\"\"},\"colorscale\":[[0.0,\"#0d0887\"],[0.1111111111111111,\"#46039f\"],[0.2222222222222222,\"#7201a8\"],[0.3333333333333333,\"#9c179e\"],[0.4444444444444444,\"#bd3786\"],[0.5555555555555556,\"#d8576b\"],[0.6666666666666666,\"#ed7953\"],[0.7777777777777778,\"#fb9f3a\"],[0.8888888888888888,\"#fdca26\"],[1.0,\"#f0f921\"]]}],\"heatmap\":[{\"type\":\"heatmap\",\"colorbar\":{\"outlinewidth\":0,\"ticks\":\"\"},\"colorscale\":[[0.0,\"#0d0887\"],[0.1111111111111111,\"#46039f\"],[0.2222222222222222,\"#7201a8\"],[0.3333333333333333,\"#9c179e\"],[0.4444444444444444,\"#bd3786\"],[0.5555555555555556,\"#d8576b\"],[0.6666666666666666,\"#ed7953\"],[0.7777777777777778,\"#fb9f3a\"],[0.8888888888888888,\"#fdca26\"],[1.0,\"#f0f921\"]]}],\"heatmapgl\":[{\"type\":\"heatmapgl\",\"colorbar\":{\"outlinewidth\":0,\"ticks\":\"\"},\"colorscale\":[[0.0,\"#0d0887\"],[0.1111111111111111,\"#46039f\"],[0.2222222222222222,\"#7201a8\"],[0.3333333333333333,\"#9c179e\"],[0.4444444444444444,\"#bd3786\"],[0.5555555555555556,\"#d8576b\"],[0.6666666666666666,\"#ed7953\"],[0.7777777777777778,\"#fb9f3a\"],[0.8888888888888888,\"#fdca26\"],[1.0,\"#f0f921\"]]}],\"contourcarpet\":[{\"type\":\"contourcarpet\",\"colorbar\":{\"outlinewidth\":0,\"ticks\":\"\"}}],\"contour\":[{\"type\":\"contour\",\"colorbar\":{\"outlinewidth\":0,\"ticks\":\"\"},\"colorscale\":[[0.0,\"#0d0887\"],[0.1111111111111111,\"#46039f\"],[0.2222222222222222,\"#7201a8\"],[0.3333333333333333,\"#9c179e\"],[0.4444444444444444,\"#bd3786\"],[0.5555555555555556,\"#d8576b\"],[0.6666666666666666,\"#ed7953\"],[0.7777777777777778,\"#fb9f3a\"],[0.8888888888888888,\"#fdca26\"],[1.0,\"#f0f921\"]]}],\"surface\":[{\"type\":\"surface\",\"colorbar\":{\"outlinewidth\":0,\"ticks\":\"\"},\"colorscale\":[[0.0,\"#0d0887\"],[0.1111111111111111,\"#46039f\"],[0.2222222222222222,\"#7201a8\"],[0.3333333333333333,\"#9c179e\"],[0.4444444444444444,\"#bd3786\"],[0.5555555555555556,\"#d8576b\"],[0.6666666666666666,\"#ed7953\"],[0.7777777777777778,\"#fb9f3a\"],[0.8888888888888888,\"#fdca26\"],[1.0,\"#f0f921\"]]}],\"mesh3d\":[{\"type\":\"mesh3d\",\"colorbar\":{\"outlinewidth\":0,\"ticks\":\"\"}}],\"scatter\":[{\"fillpattern\":{\"fillmode\":\"overlay\",\"size\":10,\"solidity\":0.2},\"type\":\"scatter\"}],\"parcoords\":[{\"type\":\"parcoords\",\"line\":{\"colorbar\":{\"outlinewidth\":0,\"ticks\":\"\"}}}],\"scatterpolargl\":[{\"type\":\"scatterpolargl\",\"marker\":{\"colorbar\":{\"outlinewidth\":0,\"ticks\":\"\"}}}],\"bar\":[{\"error_x\":{\"color\":\"#2a3f5f\"},\"error_y\":{\"color\":\"#2a3f5f\"},\"marker\":{\"line\":{\"color\":\"#E5ECF6\",\"width\":0.5},\"pattern\":{\"fillmode\":\"overlay\",\"size\":10,\"solidity\":0.2}},\"type\":\"bar\"}],\"scattergeo\":[{\"type\":\"scattergeo\",\"marker\":{\"colorbar\":{\"outlinewidth\":0,\"ticks\":\"\"}}}],\"scatterpolar\":[{\"type\":\"scatterpolar\",\"marker\":{\"colorbar\":{\"outlinewidth\":0,\"ticks\":\"\"}}}],\"histogram\":[{\"marker\":{\"pattern\":{\"fillmode\":\"overlay\",\"size\":10,\"solidity\":0.2}},\"type\":\"histogram\"}],\"scattergl\":[{\"type\":\"scattergl\",\"marker\":{\"colorbar\":{\"outlinewidth\":0,\"ticks\":\"\"}}}],\"scatter3d\":[{\"type\":\"scatter3d\",\"line\":{\"colorbar\":{\"outlinewidth\":0,\"ticks\":\"\"}},\"marker\":{\"colorbar\":{\"outlinewidth\":0,\"ticks\":\"\"}}}],\"scattermapbox\":[{\"type\":\"scattermapbox\",\"marker\":{\"colorbar\":{\"outlinewidth\":0,\"ticks\":\"\"}}}],\"scatterternary\":[{\"type\":\"scatterternary\",\"marker\":{\"colorbar\":{\"outlinewidth\":0,\"ticks\":\"\"}}}],\"scattercarpet\":[{\"type\":\"scattercarpet\",\"marker\":{\"colorbar\":{\"outlinewidth\":0,\"ticks\":\"\"}}}],\"carpet\":[{\"aaxis\":{\"endlinecolor\":\"#2a3f5f\",\"gridcolor\":\"white\",\"linecolor\":\"white\",\"minorgridcolor\":\"white\",\"startlinecolor\":\"#2a3f5f\"},\"baxis\":{\"endlinecolor\":\"#2a3f5f\",\"gridcolor\":\"white\",\"linecolor\":\"white\",\"minorgridcolor\":\"white\",\"startlinecolor\":\"#2a3f5f\"},\"type\":\"carpet\"}],\"table\":[{\"cells\":{\"fill\":{\"color\":\"#EBF0F8\"},\"line\":{\"color\":\"white\"}},\"header\":{\"fill\":{\"color\":\"#C8D4E3\"},\"line\":{\"color\":\"white\"}},\"type\":\"table\"}],\"barpolar\":[{\"marker\":{\"line\":{\"color\":\"#E5ECF6\",\"width\":0.5},\"pattern\":{\"fillmode\":\"overlay\",\"size\":10,\"solidity\":0.2}},\"type\":\"barpolar\"}],\"pie\":[{\"automargin\":true,\"type\":\"pie\"}]},\"layout\":{\"autotypenumbers\":\"strict\",\"colorway\":[\"#636efa\",\"#EF553B\",\"#00cc96\",\"#ab63fa\",\"#FFA15A\",\"#19d3f3\",\"#FF6692\",\"#B6E880\",\"#FF97FF\",\"#FECB52\"],\"font\":{\"color\":\"#2a3f5f\"},\"hovermode\":\"closest\",\"hoverlabel\":{\"align\":\"left\"},\"paper_bgcolor\":\"white\",\"plot_bgcolor\":\"#E5ECF6\",\"polar\":{\"bgcolor\":\"#E5ECF6\",\"angularaxis\":{\"gridcolor\":\"white\",\"linecolor\":\"white\",\"ticks\":\"\"},\"radialaxis\":{\"gridcolor\":\"white\",\"linecolor\":\"white\",\"ticks\":\"\"}},\"ternary\":{\"bgcolor\":\"#E5ECF6\",\"aaxis\":{\"gridcolor\":\"white\",\"linecolor\":\"white\",\"ticks\":\"\"},\"baxis\":{\"gridcolor\":\"white\",\"linecolor\":\"white\",\"ticks\":\"\"},\"caxis\":{\"gridcolor\":\"white\",\"linecolor\":\"white\",\"ticks\":\"\"}},\"coloraxis\":{\"colorbar\":{\"outlinewidth\":0,\"ticks\":\"\"}},\"colorscale\":{\"sequential\":[[0.0,\"#0d0887\"],[0.1111111111111111,\"#46039f\"],[0.2222222222222222,\"#7201a8\"],[0.3333333333333333,\"#9c179e\"],[0.4444444444444444,\"#bd3786\"],[0.5555555555555556,\"#d8576b\"],[0.6666666666666666,\"#ed7953\"],[0.7777777777777778,\"#fb9f3a\"],[0.8888888888888888,\"#fdca26\"],[1.0,\"#f0f921\"]],\"sequentialminus\":[[0.0,\"#0d0887\"],[0.1111111111111111,\"#46039f\"],[0.2222222222222222,\"#7201a8\"],[0.3333333333333333,\"#9c179e\"],[0.4444444444444444,\"#bd3786\"],[0.5555555555555556,\"#d8576b\"],[0.6666666666666666,\"#ed7953\"],[0.7777777777777778,\"#fb9f3a\"],[0.8888888888888888,\"#fdca26\"],[1.0,\"#f0f921\"]],\"diverging\":[[0,\"#8e0152\"],[0.1,\"#c51b7d\"],[0.2,\"#de77ae\"],[0.3,\"#f1b6da\"],[0.4,\"#fde0ef\"],[0.5,\"#f7f7f7\"],[0.6,\"#e6f5d0\"],[0.7,\"#b8e186\"],[0.8,\"#7fbc41\"],[0.9,\"#4d9221\"],[1,\"#276419\"]]},\"xaxis\":{\"gridcolor\":\"white\",\"linecolor\":\"white\",\"ticks\":\"\",\"title\":{\"standoff\":15},\"zerolinecolor\":\"white\",\"automargin\":true,\"zerolinewidth\":2},\"yaxis\":{\"gridcolor\":\"white\",\"linecolor\":\"white\",\"ticks\":\"\",\"title\":{\"standoff\":15},\"zerolinecolor\":\"white\",\"automargin\":true,\"zerolinewidth\":2},\"scene\":{\"xaxis\":{\"backgroundcolor\":\"#E5ECF6\",\"gridcolor\":\"white\",\"linecolor\":\"white\",\"showbackground\":true,\"ticks\":\"\",\"zerolinecolor\":\"white\",\"gridwidth\":2},\"yaxis\":{\"backgroundcolor\":\"#E5ECF6\",\"gridcolor\":\"white\",\"linecolor\":\"white\",\"showbackground\":true,\"ticks\":\"\",\"zerolinecolor\":\"white\",\"gridwidth\":2},\"zaxis\":{\"backgroundcolor\":\"#E5ECF6\",\"gridcolor\":\"white\",\"linecolor\":\"white\",\"showbackground\":true,\"ticks\":\"\",\"zerolinecolor\":\"white\",\"gridwidth\":2}},\"shapedefaults\":{\"line\":{\"color\":\"#2a3f5f\"}},\"annotationdefaults\":{\"arrowcolor\":\"#2a3f5f\",\"arrowhead\":0,\"arrowwidth\":1},\"geo\":{\"bgcolor\":\"white\",\"landcolor\":\"#E5ECF6\",\"subunitcolor\":\"white\",\"showland\":true,\"showlakes\":true,\"lakecolor\":\"white\"},\"title\":{\"x\":0.05},\"mapbox\":{\"style\":\"light\"}}},\"xaxis\":{\"title\":{\"text\":\"ENERG\\u00cdA EL\\u00c9CTRICA GENERADA EN MEGA WATIOS (MW)\"}},\"yaxis\":{\"title\":{\"text\":\"RANKING DE PAISES\"}},\"barmode\":\"overlay\",\"margin\":{\"l\":20,\"r\":20,\"t\":30,\"b\":40},\"paper_bgcolor\":\"rgb(100, 247, 218)\",\"width\":1300,\"height\":700},                        {\"responsive\": true}                    ).then(function(){\n",
              "                            \n",
              "var gd = document.getElementById('d73418a2-b8e2-41fb-a9c5-32036516cc6b');\n",
              "var x = new MutationObserver(function (mutations, observer) {{\n",
              "        var display = window.getComputedStyle(gd).display;\n",
              "        if (!display || display === 'none') {{\n",
              "            console.log([gd, 'removed!']);\n",
              "            Plotly.purge(gd);\n",
              "            observer.disconnect();\n",
              "        }}\n",
              "}});\n",
              "\n",
              "// Listen for the removal of the full notebook cells\n",
              "var notebookContainer = gd.closest('#notebook-container');\n",
              "if (notebookContainer) {{\n",
              "    x.observe(notebookContainer, {childList: true});\n",
              "}}\n",
              "\n",
              "// Listen for the clearing of the current output cell\n",
              "var outputEl = gd.closest('.output');\n",
              "if (outputEl) {{\n",
              "    x.observe(outputEl, {childList: true});\n",
              "}}\n",
              "\n",
              "                        })                };                });            </script>        </div>"
            ]
          },
          "metadata": {},
          "output_type": "display_data"
        }
      ],
      "source": [
        "import plotly.graph_objects as go\n",
        "\n",
        "fig = go.Figure()\n",
        "fig.add_trace(go.Bar(\n",
        "    x=df6.capacity_mw,\n",
        "    y=df6.country_long,\n",
        "    name='MW GENERACION',\n",
        "    orientation='h',\n",
        "    text = df6[\"capacity_mw\"],\n",
        "    texttemplate='%{text:.3s}',\n",
        "    marker=dict(\n",
        "        color='rgba(69, 46, 200)',\n",
        "        line=dict(color='rgba(69, 46, 200)', width=0)\n",
        "    )\n",
        "))\n",
        "fig.add_trace(go.Bar(\n",
        "    x=df6.mw_limpia,\n",
        "    y=df6.country_long,\n",
        "    name='MW RENOVABLES',\n",
        "    orientation='h',\n",
        "    textfont=dict(color=\"black\"),\n",
        "    marker=dict(\n",
        "        color='rgba(36, 133, 25)',\n",
        "        line=dict(color='rgba(36, 133, 25)', width=0)\n",
        "    )\n",
        "))\n",
        "\n",
        "fig.update_xaxes(title=\"ENERGÍA ELÉCTRICA GENERADA EN MEGA WATIOS (MW)\")\n",
        "fig.update_yaxes(title=\"RANKING DE PAISES\")\n",
        "\n",
        "fig.update_layout(barmode='overlay')#,title='Produccion de Energia Renovable sobre el total')\n",
        "fig.update_traces(textposition='outside')\n",
        "fig.update_layout(margin=dict(l=20, r=20, t=30, b=40),paper_bgcolor='rgb(100, 247, 218)', width=1300,height=700)\n",
        "\n",
        "fig.show()"
      ]
    },
    {
      "cell_type": "code",
      "execution_count": 25,
      "metadata": {},
      "outputs": [
        {
          "data": {
            "text/html": [
              "<div>\n",
              "<style scoped>\n",
              "    .dataframe tbody tr th:only-of-type {\n",
              "        vertical-align: middle;\n",
              "    }\n",
              "\n",
              "    .dataframe tbody tr th {\n",
              "        vertical-align: top;\n",
              "    }\n",
              "\n",
              "    .dataframe thead th {\n",
              "        text-align: right;\n",
              "    }\n",
              "</style>\n",
              "<table border=\"1\" class=\"dataframe\">\n",
              "  <thead>\n",
              "    <tr style=\"text-align: right;\">\n",
              "      <th></th>\n",
              "      <th>year</th>\n",
              "      <th>data_mean_global</th>\n",
              "      <th>data_mean_nh</th>\n",
              "      <th>data_mean_sh</th>\n",
              "    </tr>\n",
              "  </thead>\n",
              "  <tbody>\n",
              "    <tr>\n",
              "      <th>0</th>\n",
              "      <td>0</td>\n",
              "      <td>277.45</td>\n",
              "      <td>277.45</td>\n",
              "      <td>277.45</td>\n",
              "    </tr>\n",
              "    <tr>\n",
              "      <th>1</th>\n",
              "      <td>1</td>\n",
              "      <td>277.14</td>\n",
              "      <td>277.14</td>\n",
              "      <td>277.14</td>\n",
              "    </tr>\n",
              "    <tr>\n",
              "      <th>2</th>\n",
              "      <td>2</td>\n",
              "      <td>277.16</td>\n",
              "      <td>277.16</td>\n",
              "      <td>277.16</td>\n",
              "    </tr>\n",
              "    <tr>\n",
              "      <th>3</th>\n",
              "      <td>3</td>\n",
              "      <td>277.16</td>\n",
              "      <td>277.16</td>\n",
              "      <td>277.16</td>\n",
              "    </tr>\n",
              "    <tr>\n",
              "      <th>4</th>\n",
              "      <td>4</td>\n",
              "      <td>277.16</td>\n",
              "      <td>277.16</td>\n",
              "      <td>277.16</td>\n",
              "    </tr>\n",
              "    <tr>\n",
              "      <th>...</th>\n",
              "      <td>...</td>\n",
              "      <td>...</td>\n",
              "      <td>...</td>\n",
              "      <td>...</td>\n",
              "    </tr>\n",
              "    <tr>\n",
              "      <th>2010</th>\n",
              "      <td>2010</td>\n",
              "      <td>388.72</td>\n",
              "      <td>390.78</td>\n",
              "      <td>386.65</td>\n",
              "    </tr>\n",
              "    <tr>\n",
              "      <th>2011</th>\n",
              "      <td>2011</td>\n",
              "      <td>390.94</td>\n",
              "      <td>393.04</td>\n",
              "      <td>388.85</td>\n",
              "    </tr>\n",
              "    <tr>\n",
              "      <th>2012</th>\n",
              "      <td>2012</td>\n",
              "      <td>393.02</td>\n",
              "      <td>395.04</td>\n",
              "      <td>391.00</td>\n",
              "    </tr>\n",
              "    <tr>\n",
              "      <th>2013</th>\n",
              "      <td>2013</td>\n",
              "      <td>395.72</td>\n",
              "      <td>397.71</td>\n",
              "      <td>393.74</td>\n",
              "    </tr>\n",
              "    <tr>\n",
              "      <th>2014</th>\n",
              "      <td>2014</td>\n",
              "      <td>397.55</td>\n",
              "      <td>399.59</td>\n",
              "      <td>395.50</td>\n",
              "    </tr>\n",
              "  </tbody>\n",
              "</table>\n",
              "<p>2015 rows × 4 columns</p>\n",
              "</div>"
            ],
            "text/plain": [
              "      year  data_mean_global  data_mean_nh  data_mean_sh\n",
              "0        0            277.45        277.45        277.45\n",
              "1        1            277.14        277.14        277.14\n",
              "2        2            277.16        277.16        277.16\n",
              "3        3            277.16        277.16        277.16\n",
              "4        4            277.16        277.16        277.16\n",
              "...    ...               ...           ...           ...\n",
              "2010  2010            388.72        390.78        386.65\n",
              "2011  2011            390.94        393.04        388.85\n",
              "2012  2012            393.02        395.04        391.00\n",
              "2013  2013            395.72        397.71        393.74\n",
              "2014  2014            397.55        399.59        395.50\n",
              "\n",
              "[2015 rows x 4 columns]"
            ]
          },
          "execution_count": 25,
          "metadata": {},
          "output_type": "execute_result"
        }
      ],
      "source": [
        "#Segundo Dataset\n",
        "df_2a = pd.read_csv(\"mole_fraction_of_carbon_dioxide_-2014.csv\")\n",
        "df_2a"
      ]
    },
    {
      "cell_type": "code",
      "execution_count": 239,
      "metadata": {},
      "outputs": [
        {
          "data": {
            "image/png": "[encoded data removed]",
            "text/plain": [
              "<Figure size 1500x1200 with 1 Axes>"
            ]
          },
          "metadata": {},
          "output_type": "display_data"
        }
      ],
      "source": [
        "from matplotlib import figure\n",
        "\n",
        "fig = plt.figure()\n",
        "fig.set_figheight(12)\n",
        "fig.set_figwidth(15)\n",
        "\n",
        "plt.plot(df_2a['year'], df_2a['data_mean_global'],markerfacecolor='blue', markersize=12, color='blue', linewidth=4)\n",
        "plt.xlabel(\"Histórico de emisiones de CO2\")\n",
        "\n",
        "\n",
        "fig.show()"
      ]
    },
    {
      "cell_type": "code",
      "execution_count": 26,
      "metadata": {},
      "outputs": [
        {
          "data": {
            "text/html": [
              "<div>\n",
              "<style scoped>\n",
              "    .dataframe tbody tr th:only-of-type {\n",
              "        vertical-align: middle;\n",
              "    }\n",
              "\n",
              "    .dataframe tbody tr th {\n",
              "        vertical-align: top;\n",
              "    }\n",
              "\n",
              "    .dataframe thead th {\n",
              "        text-align: right;\n",
              "    }\n",
              "</style>\n",
              "<table border=\"1\" class=\"dataframe\">\n",
              "  <thead>\n",
              "    <tr style=\"text-align: right;\">\n",
              "      <th></th>\n",
              "      <th>iso</th>\n",
              "      <th>umd_tree_cover_loss__year</th>\n",
              "      <th>umd_tree_cover_loss__ha</th>\n",
              "      <th>gfw_gross_emissions_co2e_all_gases__Mg</th>\n",
              "    </tr>\n",
              "  </thead>\n",
              "  <tbody>\n",
              "    <tr>\n",
              "      <th>0</th>\n",
              "      <td>AFG</td>\n",
              "      <td>2001</td>\n",
              "      <td>88.09</td>\n",
              "      <td>22,245.99</td>\n",
              "    </tr>\n",
              "    <tr>\n",
              "      <th>1</th>\n",
              "      <td>AGO</td>\n",
              "      <td>2001</td>\n",
              "      <td>101,220.62</td>\n",
              "      <td>36,963,920.63</td>\n",
              "    </tr>\n",
              "    <tr>\n",
              "      <th>2</th>\n",
              "      <td>AIA</td>\n",
              "      <td>2001</td>\n",
              "      <td>3.88</td>\n",
              "      <td>626.70</td>\n",
              "    </tr>\n",
              "    <tr>\n",
              "      <th>3</th>\n",
              "      <td>ALA</td>\n",
              "      <td>2001</td>\n",
              "      <td>396.93</td>\n",
              "      <td>75,902.96</td>\n",
              "    </tr>\n",
              "    <tr>\n",
              "      <th>4</th>\n",
              "      <td>ALB</td>\n",
              "      <td>2001</td>\n",
              "      <td>3,729.02</td>\n",
              "      <td>1,334,030.02</td>\n",
              "    </tr>\n",
              "    <tr>\n",
              "      <th>...</th>\n",
              "      <td>...</td>\n",
              "      <td>...</td>\n",
              "      <td>...</td>\n",
              "      <td>...</td>\n",
              "    </tr>\n",
              "    <tr>\n",
              "      <th>4162</th>\n",
              "      <td>XKO</td>\n",
              "      <td>2021</td>\n",
              "      <td>520.12</td>\n",
              "      <td>308,712.93</td>\n",
              "    </tr>\n",
              "    <tr>\n",
              "      <th>4163</th>\n",
              "      <td>XNC</td>\n",
              "      <td>2021</td>\n",
              "      <td>2.71</td>\n",
              "      <td>753.62</td>\n",
              "    </tr>\n",
              "    <tr>\n",
              "      <th>4164</th>\n",
              "      <td>ZAF</td>\n",
              "      <td>2021</td>\n",
              "      <td>52,067.38</td>\n",
              "      <td>38,510,265.05</td>\n",
              "    </tr>\n",
              "    <tr>\n",
              "      <th>4165</th>\n",
              "      <td>ZMB</td>\n",
              "      <td>2021</td>\n",
              "      <td>201,456.61</td>\n",
              "      <td>78,283,142.33</td>\n",
              "    </tr>\n",
              "    <tr>\n",
              "      <th>4166</th>\n",
              "      <td>ZWE</td>\n",
              "      <td>2021</td>\n",
              "      <td>9,054.49</td>\n",
              "      <td>3,920,827.89</td>\n",
              "    </tr>\n",
              "  </tbody>\n",
              "</table>\n",
              "<p>4167 rows × 4 columns</p>\n",
              "</div>"
            ],
            "text/plain": [
              "      iso  umd_tree_cover_loss__year  umd_tree_cover_loss__ha  \\\n",
              "0     AFG                       2001                    88.09   \n",
              "1     AGO                       2001               101,220.62   \n",
              "2     AIA                       2001                     3.88   \n",
              "3     ALA                       2001                   396.93   \n",
              "4     ALB                       2001                 3,729.02   \n",
              "...   ...                        ...                      ...   \n",
              "4162  XKO                       2021                   520.12   \n",
              "4163  XNC                       2021                     2.71   \n",
              "4164  ZAF                       2021                52,067.38   \n",
              "4165  ZMB                       2021               201,456.61   \n",
              "4166  ZWE                       2021                 9,054.49   \n",
              "\n",
              "      gfw_gross_emissions_co2e_all_gases__Mg  \n",
              "0                                  22,245.99  \n",
              "1                              36,963,920.63  \n",
              "2                                     626.70  \n",
              "3                                  75,902.96  \n",
              "4                               1,334,030.02  \n",
              "...                                      ...  \n",
              "4162                              308,712.93  \n",
              "4163                                  753.62  \n",
              "4164                           38,510,265.05  \n",
              "4165                           78,283,142.33  \n",
              "4166                            3,920,827.89  \n",
              "\n",
              "[4167 rows x 4 columns]"
            ]
          },
          "execution_count": 26,
          "metadata": {},
          "output_type": "execute_result"
        }
      ],
      "source": [
        "#Segundo Dataset\n",
        "df_3a = pd.read_csv(\"./Global Tree cover loss/treecover_loss_by_region__ha.csv\")\n",
        "df_3a"
      ]
    },
    {
      "cell_type": "code",
      "execution_count": 27,
      "metadata": {},
      "outputs": [
        {
          "data": {
            "text/html": [
              "<div>\n",
              "<style scoped>\n",
              "    .dataframe tbody tr th:only-of-type {\n",
              "        vertical-align: middle;\n",
              "    }\n",
              "\n",
              "    .dataframe tbody tr th {\n",
              "        vertical-align: top;\n",
              "    }\n",
              "\n",
              "    .dataframe thead th {\n",
              "        text-align: right;\n",
              "    }\n",
              "</style>\n",
              "<table border=\"1\" class=\"dataframe\">\n",
              "  <thead>\n",
              "    <tr style=\"text-align: right;\">\n",
              "      <th></th>\n",
              "      <th>name</th>\n",
              "      <th>iso</th>\n",
              "    </tr>\n",
              "  </thead>\n",
              "  <tbody>\n",
              "    <tr>\n",
              "      <th>0</th>\n",
              "      <td>Afghanistan</td>\n",
              "      <td>AFG</td>\n",
              "    </tr>\n",
              "    <tr>\n",
              "      <th>1</th>\n",
              "      <td>Akrotiri and Dhekelia</td>\n",
              "      <td>XAD</td>\n",
              "    </tr>\n",
              "    <tr>\n",
              "      <th>2</th>\n",
              "      <td>Albania</td>\n",
              "      <td>ALB</td>\n",
              "    </tr>\n",
              "    <tr>\n",
              "      <th>3</th>\n",
              "      <td>Algeria</td>\n",
              "      <td>DZA</td>\n",
              "    </tr>\n",
              "    <tr>\n",
              "      <th>4</th>\n",
              "      <td>American Samoa</td>\n",
              "      <td>ASM</td>\n",
              "    </tr>\n",
              "    <tr>\n",
              "      <th>5</th>\n",
              "      <td>Andorra</td>\n",
              "      <td>AND</td>\n",
              "    </tr>\n",
              "    <tr>\n",
              "      <th>6</th>\n",
              "      <td>Angola</td>\n",
              "      <td>AGO</td>\n",
              "    </tr>\n",
              "    <tr>\n",
              "      <th>7</th>\n",
              "      <td>Anguilla</td>\n",
              "      <td>AIA</td>\n",
              "    </tr>\n",
              "    <tr>\n",
              "      <th>8</th>\n",
              "      <td>Antarctica</td>\n",
              "      <td>ATA</td>\n",
              "    </tr>\n",
              "    <tr>\n",
              "      <th>9</th>\n",
              "      <td>Antigua and Barbuda</td>\n",
              "      <td>ATG</td>\n",
              "    </tr>\n",
              "  </tbody>\n",
              "</table>\n",
              "</div>"
            ],
            "text/plain": [
              "                    name  iso\n",
              "0            Afghanistan  AFG\n",
              "1  Akrotiri and Dhekelia  XAD\n",
              "2                Albania  ALB\n",
              "3                Algeria  DZA\n",
              "4         American Samoa  ASM\n",
              "5                Andorra  AND\n",
              "6                 Angola  AGO\n",
              "7               Anguilla  AIA\n",
              "8             Antarctica  ATA\n",
              "9    Antigua and Barbuda  ATG"
            ]
          },
          "execution_count": 27,
          "metadata": {},
          "output_type": "execute_result"
        }
      ],
      "source": [
        "#Segundo Dataset\n",
        "df_3b = pd.read_csv(\"./Global Tree cover loss/iso_metadata.csv\")\n",
        "df_3b.head(10)"
      ]
    },
    {
      "cell_type": "code",
      "execution_count": 29,
      "metadata": {},
      "outputs": [
        {
          "data": {
            "text/html": [
              "<div>\n",
              "<style scoped>\n",
              "    .dataframe tbody tr th:only-of-type {\n",
              "        vertical-align: middle;\n",
              "    }\n",
              "\n",
              "    .dataframe tbody tr th {\n",
              "        vertical-align: top;\n",
              "    }\n",
              "\n",
              "    .dataframe thead th {\n",
              "        text-align: right;\n",
              "    }\n",
              "</style>\n",
              "<table border=\"1\" class=\"dataframe\">\n",
              "  <thead>\n",
              "    <tr style=\"text-align: right;\">\n",
              "      <th></th>\n",
              "      <th>name</th>\n",
              "      <th>umd_tree_cover_loss__ha</th>\n",
              "      <th>gfw_gross_emissions_co2e_all_gases__Mg</th>\n",
              "    </tr>\n",
              "  </thead>\n",
              "  <tbody>\n",
              "    <tr>\n",
              "      <th>0</th>\n",
              "      <td>Russia</td>\n",
              "      <td>76,008,406.22</td>\n",
              "      <td>14,165,283,931.59</td>\n",
              "    </tr>\n",
              "    <tr>\n",
              "      <th>1</th>\n",
              "      <td>Brazil</td>\n",
              "      <td>62,817,600.58</td>\n",
              "      <td>33,647,437,865.68</td>\n",
              "    </tr>\n",
              "    <tr>\n",
              "      <th>2</th>\n",
              "      <td>Canada</td>\n",
              "      <td>46,611,435.11</td>\n",
              "      <td>8,604,371,225.13</td>\n",
              "    </tr>\n",
              "    <tr>\n",
              "      <th>3</th>\n",
              "      <td>United States</td>\n",
              "      <td>44,279,415.98</td>\n",
              "      <td>17,177,629,272.48</td>\n",
              "    </tr>\n",
              "    <tr>\n",
              "      <th>4</th>\n",
              "      <td>Indonesia</td>\n",
              "      <td>28,562,386.82</td>\n",
              "      <td>19,556,043,524.91</td>\n",
              "    </tr>\n",
              "    <tr>\n",
              "      <th>5</th>\n",
              "      <td>Democratic Republic of the Congo</td>\n",
              "      <td>17,145,176.21</td>\n",
              "      <td>10,535,878,135.09</td>\n",
              "    </tr>\n",
              "    <tr>\n",
              "      <th>6</th>\n",
              "      <td>China</td>\n",
              "      <td>10,875,223.29</td>\n",
              "      <td>4,626,201,464.82</td>\n",
              "    </tr>\n",
              "    <tr>\n",
              "      <th>7</th>\n",
              "      <td>Australia</td>\n",
              "      <td>8,727,950.16</td>\n",
              "      <td>2,342,022,587.76</td>\n",
              "    </tr>\n",
              "    <tr>\n",
              "      <th>8</th>\n",
              "      <td>Malaysia</td>\n",
              "      <td>8,669,490.89</td>\n",
              "      <td>4,972,405,676.13</td>\n",
              "    </tr>\n",
              "    <tr>\n",
              "      <th>9</th>\n",
              "      <td>Bolivia</td>\n",
              "      <td>6,672,732.69</td>\n",
              "      <td>3,003,224,516.86</td>\n",
              "    </tr>\n",
              "  </tbody>\n",
              "</table>\n",
              "</div>"
            ],
            "text/plain": [
              "                               name  umd_tree_cover_loss__ha  \\\n",
              "0                            Russia            76,008,406.22   \n",
              "1                            Brazil            62,817,600.58   \n",
              "2                            Canada            46,611,435.11   \n",
              "3                     United States            44,279,415.98   \n",
              "4                         Indonesia            28,562,386.82   \n",
              "5  Democratic Republic of the Congo            17,145,176.21   \n",
              "6                             China            10,875,223.29   \n",
              "7                         Australia             8,727,950.16   \n",
              "8                          Malaysia             8,669,490.89   \n",
              "9                           Bolivia             6,672,732.69   \n",
              "\n",
              "   gfw_gross_emissions_co2e_all_gases__Mg  \n",
              "0                       14,165,283,931.59  \n",
              "1                       33,647,437,865.68  \n",
              "2                        8,604,371,225.13  \n",
              "3                       17,177,629,272.48  \n",
              "4                       19,556,043,524.91  \n",
              "5                       10,535,878,135.09  \n",
              "6                        4,626,201,464.82  \n",
              "7                        2,342,022,587.76  \n",
              "8                        4,972,405,676.13  \n",
              "9                        3,003,224,516.86  "
            ]
          },
          "execution_count": 29,
          "metadata": {},
          "output_type": "execute_result"
        }
      ],
      "source": [
        "# RANKING DE PAISES EN FUNCION DE SU MASA ARBOREA PERDIDA 2001-2021\n",
        "#Agrupamos los 2 datasets para poder añadirle el nombre conpleto del pais a su codigo corrspondiente de pais\n",
        "df_3c=pd.merge(df_3a, df_3b)\n",
        "# df_3x=pd.merge(df_3c,df_4b)\n",
        "\n",
        "#agrupamos las filas por paises, sumando las potencias de cada pais y lo ordeno de mayor a menor\n",
        "df_3d=df_3c.groupby('name',group_keys=True).sum()\n",
        "df_3d.drop(['umd_tree_cover_loss__year'], inplace=True, axis=1)\n",
        "df_3d = df_3d.sort_values(by='umd_tree_cover_loss__ha', ascending=False)\n",
        "\n",
        "df_3d=df_3d.reset_index()\n",
        "df_3d.head(10)"
      ]
    },
    {
      "cell_type": "code",
      "execution_count": 186,
      "metadata": {},
      "outputs": [
        {
          "data": {
            "text/html": [
              "<div>\n",
              "<style scoped>\n",
              "    .dataframe tbody tr th:only-of-type {\n",
              "        vertical-align: middle;\n",
              "    }\n",
              "\n",
              "    .dataframe tbody tr th {\n",
              "        vertical-align: top;\n",
              "    }\n",
              "\n",
              "    .dataframe thead th {\n",
              "        text-align: right;\n",
              "    }\n",
              "</style>\n",
              "<table border=\"1\" class=\"dataframe\">\n",
              "  <thead>\n",
              "    <tr style=\"text-align: right;\">\n",
              "      <th></th>\n",
              "      <th>name</th>\n",
              "      <th>gfw_gross_emissions_co2e_all_gases__Mg</th>\n",
              "    </tr>\n",
              "  </thead>\n",
              "  <tbody>\n",
              "    <tr>\n",
              "      <th>1</th>\n",
              "      <td>Brazil</td>\n",
              "      <td>33,647,437,865.68</td>\n",
              "    </tr>\n",
              "    <tr>\n",
              "      <th>4</th>\n",
              "      <td>Indonesia</td>\n",
              "      <td>19,556,043,524.91</td>\n",
              "    </tr>\n",
              "    <tr>\n",
              "      <th>3</th>\n",
              "      <td>United States</td>\n",
              "      <td>17,177,629,272.48</td>\n",
              "    </tr>\n",
              "    <tr>\n",
              "      <th>0</th>\n",
              "      <td>Russia</td>\n",
              "      <td>14,165,283,931.59</td>\n",
              "    </tr>\n",
              "  </tbody>\n",
              "</table>\n",
              "</div>"
            ],
            "text/plain": [
              "            name  gfw_gross_emissions_co2e_all_gases__Mg\n",
              "1         Brazil                       33,647,437,865.68\n",
              "4      Indonesia                       19,556,043,524.91\n",
              "3  United States                       17,177,629,272.48\n",
              "0         Russia                       14,165,283,931.59"
            ]
          },
          "execution_count": 186,
          "metadata": {},
          "output_type": "execute_result"
        }
      ],
      "source": [
        "df_3e = df_3d.sort_values(by='gfw_gross_emissions_co2e_all_gases__Mg', ascending=False)\n",
        "df_3e=df_3e.iloc[:4]\n",
        "df_3e.drop(['umd_tree_cover_loss__ha'], inplace=True, axis=1)\n",
        "# df_3e.drop(['iso'], inplace=True, axis=1)\n",
        "# list=['Brazil','Indonesia','United States','Russia']\n",
        "# list=['Brazil']\n",
        "seleccion1=df_3c[df_3c.name=='Brazil']\n",
        "seleccion2=df_3c[df_3c.name=='Russia']\n",
        "seleccion3=df_3c[df_3c.name=='Indonesia']\n",
        "seleccion4=df_3c[df_3c.name=='United States']\n",
        "df_3e\n"
      ]
    },
    {
      "cell_type": "code",
      "execution_count": 134,
      "metadata": {},
      "outputs": [
        {
          "data": {
            "text/html": [
              "<div>\n",
              "<style scoped>\n",
              "    .dataframe tbody tr th:only-of-type {\n",
              "        vertical-align: middle;\n",
              "    }\n",
              "\n",
              "    .dataframe tbody tr th {\n",
              "        vertical-align: top;\n",
              "    }\n",
              "\n",
              "    .dataframe thead th {\n",
              "        text-align: right;\n",
              "    }\n",
              "</style>\n",
              "<table border=\"1\" class=\"dataframe\">\n",
              "  <thead>\n",
              "    <tr style=\"text-align: right;\">\n",
              "      <th></th>\n",
              "      <th>umd_tree_cover_loss__ha</th>\n",
              "      <th>gfw_gross_emissions_co2e_all_gases__Mg</th>\n",
              "    </tr>\n",
              "    <tr>\n",
              "      <th>umd_tree_cover_loss__year</th>\n",
              "      <th></th>\n",
              "      <th></th>\n",
              "    </tr>\n",
              "  </thead>\n",
              "  <tbody>\n",
              "    <tr>\n",
              "      <th>2001</th>\n",
              "      <td>13,353,470.98</td>\n",
              "      <td>4,675,979,303.48</td>\n",
              "    </tr>\n",
              "    <tr>\n",
              "      <th>2002</th>\n",
              "      <td>16,451,699.13</td>\n",
              "      <td>5,548,247,381.46</td>\n",
              "    </tr>\n",
              "    <tr>\n",
              "      <th>2003</th>\n",
              "      <td>14,474,225.19</td>\n",
              "      <td>4,729,094,912.00</td>\n",
              "    </tr>\n",
              "    <tr>\n",
              "      <th>2004</th>\n",
              "      <td>19,906,841.41</td>\n",
              "      <td>7,112,687,798.84</td>\n",
              "    </tr>\n",
              "    <tr>\n",
              "      <th>2005</th>\n",
              "      <td>18,096,758.71</td>\n",
              "      <td>6,925,547,296.93</td>\n",
              "    </tr>\n",
              "    <tr>\n",
              "      <th>2006</th>\n",
              "      <td>17,647,644.49</td>\n",
              "      <td>6,734,466,901.38</td>\n",
              "    </tr>\n",
              "    <tr>\n",
              "      <th>2007</th>\n",
              "      <td>18,386,094.26</td>\n",
              "      <td>7,205,695,319.68</td>\n",
              "    </tr>\n",
              "    <tr>\n",
              "      <th>2008</th>\n",
              "      <td>18,608,818.64</td>\n",
              "      <td>7,147,232,590.92</td>\n",
              "    </tr>\n",
              "    <tr>\n",
              "      <th>2009</th>\n",
              "      <td>16,983,539.11</td>\n",
              "      <td>7,226,128,492.98</td>\n",
              "    </tr>\n",
              "    <tr>\n",
              "      <th>2010</th>\n",
              "      <td>18,550,871.82</td>\n",
              "      <td>7,694,978,852.93</td>\n",
              "    </tr>\n",
              "    <tr>\n",
              "      <th>2011</th>\n",
              "      <td>17,577,549.42</td>\n",
              "      <td>7,073,708,544.63</td>\n",
              "    </tr>\n",
              "    <tr>\n",
              "      <th>2012</th>\n",
              "      <td>23,530,832.11</td>\n",
              "      <td>9,394,183,941.13</td>\n",
              "    </tr>\n",
              "    <tr>\n",
              "      <th>2013</th>\n",
              "      <td>20,642,249.06</td>\n",
              "      <td>7,797,454,617.79</td>\n",
              "    </tr>\n",
              "    <tr>\n",
              "      <th>2014</th>\n",
              "      <td>23,731,655.05</td>\n",
              "      <td>9,706,147,334.08</td>\n",
              "    </tr>\n",
              "    <tr>\n",
              "      <th>2015</th>\n",
              "      <td>19,621,386.99</td>\n",
              "      <td>8,152,711,995.73</td>\n",
              "    </tr>\n",
              "    <tr>\n",
              "      <th>2016</th>\n",
              "      <td>29,671,469.59</td>\n",
              "      <td>13,139,487,238.78</td>\n",
              "    </tr>\n",
              "    <tr>\n",
              "      <th>2017</th>\n",
              "      <td>29,375,436.20</td>\n",
              "      <td>12,645,564,343.59</td>\n",
              "    </tr>\n",
              "    <tr>\n",
              "      <th>2018</th>\n",
              "      <td>24,747,926.74</td>\n",
              "      <td>10,479,341,177.51</td>\n",
              "    </tr>\n",
              "    <tr>\n",
              "      <th>2019</th>\n",
              "      <td>24,172,783.56</td>\n",
              "      <td>10,062,452,862.24</td>\n",
              "    </tr>\n",
              "    <tr>\n",
              "      <th>2020</th>\n",
              "      <td>25,802,875.93</td>\n",
              "      <td>10,733,739,450.07</td>\n",
              "    </tr>\n",
              "    <tr>\n",
              "      <th>2021</th>\n",
              "      <td>25,272,387.33</td>\n",
              "      <td>10,094,571,036.26</td>\n",
              "    </tr>\n",
              "  </tbody>\n",
              "</table>\n",
              "</div>"
            ],
            "text/plain": [
              "                           umd_tree_cover_loss__ha  \\\n",
              "umd_tree_cover_loss__year                            \n",
              "2001                                 13,353,470.98   \n",
              "2002                                 16,451,699.13   \n",
              "2003                                 14,474,225.19   \n",
              "2004                                 19,906,841.41   \n",
              "2005                                 18,096,758.71   \n",
              "2006                                 17,647,644.49   \n",
              "2007                                 18,386,094.26   \n",
              "2008                                 18,608,818.64   \n",
              "2009                                 16,983,539.11   \n",
              "2010                                 18,550,871.82   \n",
              "2011                                 17,577,549.42   \n",
              "2012                                 23,530,832.11   \n",
              "2013                                 20,642,249.06   \n",
              "2014                                 23,731,655.05   \n",
              "2015                                 19,621,386.99   \n",
              "2016                                 29,671,469.59   \n",
              "2017                                 29,375,436.20   \n",
              "2018                                 24,747,926.74   \n",
              "2019                                 24,172,783.56   \n",
              "2020                                 25,802,875.93   \n",
              "2021                                 25,272,387.33   \n",
              "\n",
              "                           gfw_gross_emissions_co2e_all_gases__Mg  \n",
              "umd_tree_cover_loss__year                                          \n",
              "2001                                             4,675,979,303.48  \n",
              "2002                                             5,548,247,381.46  \n",
              "2003                                             4,729,094,912.00  \n",
              "2004                                             7,112,687,798.84  \n",
              "2005                                             6,925,547,296.93  \n",
              "2006                                             6,734,466,901.38  \n",
              "2007                                             7,205,695,319.68  \n",
              "2008                                             7,147,232,590.92  \n",
              "2009                                             7,226,128,492.98  \n",
              "2010                                             7,694,978,852.93  \n",
              "2011                                             7,073,708,544.63  \n",
              "2012                                             9,394,183,941.13  \n",
              "2013                                             7,797,454,617.79  \n",
              "2014                                             9,706,147,334.08  \n",
              "2015                                             8,152,711,995.73  \n",
              "2016                                            13,139,487,238.78  \n",
              "2017                                            12,645,564,343.59  \n",
              "2018                                            10,479,341,177.51  \n",
              "2019                                            10,062,452,862.24  \n",
              "2020                                            10,733,739,450.07  \n",
              "2021                                            10,094,571,036.26  "
            ]
          },
          "execution_count": 134,
          "metadata": {},
          "output_type": "execute_result"
        }
      ],
      "source": [
        "df_6e"
      ]
    },
    {
      "cell_type": "code",
      "execution_count": 150,
      "metadata": {},
      "outputs": [
        {
          "data": {
            "text/html": [
              "<div>\n",
              "<style scoped>\n",
              "    .dataframe tbody tr th:only-of-type {\n",
              "        vertical-align: middle;\n",
              "    }\n",
              "\n",
              "    .dataframe tbody tr th {\n",
              "        vertical-align: top;\n",
              "    }\n",
              "\n",
              "    .dataframe thead th {\n",
              "        text-align: right;\n",
              "    }\n",
              "</style>\n",
              "<table border=\"1\" class=\"dataframe\">\n",
              "  <thead>\n",
              "    <tr style=\"text-align: right;\">\n",
              "      <th></th>\n",
              "      <th>name</th>\n",
              "      <th>umd_tree_cover_loss__ha</th>\n",
              "      <th>gfw_gross_emissions_co2e_all_gases__Mg</th>\n",
              "    </tr>\n",
              "  </thead>\n",
              "  <tbody>\n",
              "    <tr>\n",
              "      <th>0</th>\n",
              "      <td>Russia</td>\n",
              "      <td>76,008,406.22</td>\n",
              "      <td>14,165,283,931.59</td>\n",
              "    </tr>\n",
              "    <tr>\n",
              "      <th>1</th>\n",
              "      <td>Brazil</td>\n",
              "      <td>62,817,600.58</td>\n",
              "      <td>33,647,437,865.68</td>\n",
              "    </tr>\n",
              "    <tr>\n",
              "      <th>2</th>\n",
              "      <td>Canada</td>\n",
              "      <td>46,611,435.11</td>\n",
              "      <td>8,604,371,225.13</td>\n",
              "    </tr>\n",
              "    <tr>\n",
              "      <th>3</th>\n",
              "      <td>United States</td>\n",
              "      <td>44,279,415.98</td>\n",
              "      <td>17,177,629,272.48</td>\n",
              "    </tr>\n",
              "    <tr>\n",
              "      <th>4</th>\n",
              "      <td>Indonesia</td>\n",
              "      <td>28,562,386.82</td>\n",
              "      <td>19,556,043,524.91</td>\n",
              "    </tr>\n",
              "    <tr>\n",
              "      <th>...</th>\n",
              "      <td>...</td>\n",
              "      <td>...</td>\n",
              "      <td>...</td>\n",
              "    </tr>\n",
              "    <tr>\n",
              "      <th>207</th>\n",
              "      <td>Eritrea</td>\n",
              "      <td>2.53</td>\n",
              "      <td>1,067.79</td>\n",
              "    </tr>\n",
              "    <tr>\n",
              "      <th>208</th>\n",
              "      <td>Saint-Barthélemy</td>\n",
              "      <td>1.54</td>\n",
              "      <td>467.35</td>\n",
              "    </tr>\n",
              "    <tr>\n",
              "      <th>209</th>\n",
              "      <td>Niger</td>\n",
              "      <td>1.28</td>\n",
              "      <td>190.28</td>\n",
              "    </tr>\n",
              "    <tr>\n",
              "      <th>210</th>\n",
              "      <td>Gibraltar</td>\n",
              "      <td>0.37</td>\n",
              "      <td>79.75</td>\n",
              "    </tr>\n",
              "    <tr>\n",
              "      <th>211</th>\n",
              "      <td>Oman</td>\n",
              "      <td>0.07</td>\n",
              "      <td>13.86</td>\n",
              "    </tr>\n",
              "  </tbody>\n",
              "</table>\n",
              "<p>212 rows × 3 columns</p>\n",
              "</div>"
            ],
            "text/plain": [
              "                 name  umd_tree_cover_loss__ha  \\\n",
              "0              Russia            76,008,406.22   \n",
              "1              Brazil            62,817,600.58   \n",
              "2              Canada            46,611,435.11   \n",
              "3       United States            44,279,415.98   \n",
              "4           Indonesia            28,562,386.82   \n",
              "..                ...                      ...   \n",
              "207           Eritrea                     2.53   \n",
              "208  Saint-Barthélemy                     1.54   \n",
              "209             Niger                     1.28   \n",
              "210         Gibraltar                     0.37   \n",
              "211              Oman                     0.07   \n",
              "\n",
              "     gfw_gross_emissions_co2e_all_gases__Mg  \n",
              "0                         14,165,283,931.59  \n",
              "1                         33,647,437,865.68  \n",
              "2                          8,604,371,225.13  \n",
              "3                         17,177,629,272.48  \n",
              "4                         19,556,043,524.91  \n",
              "..                                      ...  \n",
              "207                                1,067.79  \n",
              "208                                  467.35  \n",
              "209                                  190.28  \n",
              "210                                   79.75  \n",
              "211                                   13.86  \n",
              "\n",
              "[212 rows x 3 columns]"
            ]
          },
          "execution_count": 150,
          "metadata": {},
          "output_type": "execute_result"
        }
      ],
      "source": [
        "df_3d"
      ]
    },
    {
      "cell_type": "code",
      "execution_count": 169,
      "metadata": {},
      "outputs": [
        {
          "name": "stderr",
          "output_type": "stream",
          "text": [
            "No artists with labels found to put in legend.  Note that artists whose label start with an underscore are ignored when legend() is called with no argument.\n"
          ]
        },
        {
          "data": {
            "image/png": "[encoded data removed]",
            "text/plain": [
              "<Figure size 1500x700 with 4 Axes>"
            ]
          },
          "metadata": {},
          "output_type": "display_data"
        }
      ],
      "source": [
        "fig = plt.figure()\n",
        "\n",
        "fig.set_size_inches(15, 7)\n",
        "# Adds subplot on position 1\n",
        "y1 = fig.add_subplot(221)\n",
        "y2= fig.add_subplot(222)\n",
        "y3= fig.add_subplot(223)\n",
        "y4= fig.add_subplot(224)\n",
        "\n",
        "\n",
        "\n",
        "x=seleccion1.umd_tree_cover_loss__year\n",
        "y11=seleccion1.gfw_gross_emissions_co2e_all_gases__Mg\n",
        "y22=seleccion2.gfw_gross_emissions_co2e_all_gases__Mg\n",
        "y33=seleccion3.gfw_gross_emissions_co2e_all_gases__Mg\n",
        "y44=seleccion4.gfw_gross_emissions_co2e_all_gases__Mg\n",
        "# media=df_3d.mean(gmeafw_gross_emissions_co2e_all_gases__Mg)\n",
        "\n",
        "# Basic stacked area chart.\n",
        "y1.plot(x,y11,alpha=1)\n",
        "y2.plot(x,y22, alpha=0.6)\n",
        "y3.plot(x,y33,alpha=0.8)\n",
        "y4.plot(x,y44, alpha=0.4)\n",
        "\n",
        "y1.set_xlabel('BRASIL')\n",
        "y2.set_xlabel('INDONESIA')\n",
        "y3.set_xlabel('EEUU')\n",
        "y4.set_xlabel('RUSIA')\n",
        "\n",
        "plt.legend(loc='upper left')\n",
        "\n",
        "plt.show()\n"
      ]
    },
    {
      "cell_type": "code",
      "execution_count": 33,
      "metadata": {},
      "outputs": [
        {
          "data": {
            "text/html": [
              "<div>\n",
              "<style scoped>\n",
              "    .dataframe tbody tr th:only-of-type {\n",
              "        vertical-align: middle;\n",
              "    }\n",
              "\n",
              "    .dataframe tbody tr th {\n",
              "        vertical-align: top;\n",
              "    }\n",
              "\n",
              "    .dataframe thead th {\n",
              "        text-align: right;\n",
              "    }\n",
              "</style>\n",
              "<table border=\"1\" class=\"dataframe\">\n",
              "  <thead>\n",
              "    <tr style=\"text-align: right;\">\n",
              "      <th></th>\n",
              "      <th>name</th>\n",
              "      <th>umd_tree_cover_gain__ha</th>\n",
              "    </tr>\n",
              "  </thead>\n",
              "  <tbody>\n",
              "    <tr>\n",
              "      <th>0</th>\n",
              "      <td>Russia</td>\n",
              "      <td>37,220,539.18</td>\n",
              "    </tr>\n",
              "    <tr>\n",
              "      <th>1</th>\n",
              "      <td>Canada</td>\n",
              "      <td>16,961,758.32</td>\n",
              "    </tr>\n",
              "    <tr>\n",
              "      <th>2</th>\n",
              "      <td>United States</td>\n",
              "      <td>13,986,699.79</td>\n",
              "    </tr>\n",
              "    <tr>\n",
              "      <th>3</th>\n",
              "      <td>Brazil</td>\n",
              "      <td>8,062,335.57</td>\n",
              "    </tr>\n",
              "    <tr>\n",
              "      <th>4</th>\n",
              "      <td>China</td>\n",
              "      <td>6,689,625.94</td>\n",
              "    </tr>\n",
              "    <tr>\n",
              "      <th>5</th>\n",
              "      <td>Indonesia</td>\n",
              "      <td>4,882,137.56</td>\n",
              "    </tr>\n",
              "    <tr>\n",
              "      <th>6</th>\n",
              "      <td>India</td>\n",
              "      <td>1,881,688.64</td>\n",
              "    </tr>\n",
              "    <tr>\n",
              "      <th>7</th>\n",
              "      <td>Thailand</td>\n",
              "      <td>1,842,370.58</td>\n",
              "    </tr>\n",
              "    <tr>\n",
              "      <th>8</th>\n",
              "      <td>Sweden</td>\n",
              "      <td>1,671,285.36</td>\n",
              "    </tr>\n",
              "    <tr>\n",
              "      <th>9</th>\n",
              "      <td>Australia</td>\n",
              "      <td>1,600,600.19</td>\n",
              "    </tr>\n",
              "    <tr>\n",
              "      <th>10</th>\n",
              "      <td>Democratic Republic of the Congo</td>\n",
              "      <td>1,591,178.54</td>\n",
              "    </tr>\n",
              "    <tr>\n",
              "      <th>11</th>\n",
              "      <td>Mexico</td>\n",
              "      <td>1,423,107.45</td>\n",
              "    </tr>\n",
              "    <tr>\n",
              "      <th>12</th>\n",
              "      <td>Finland</td>\n",
              "      <td>1,357,021.84</td>\n",
              "    </tr>\n",
              "    <tr>\n",
              "      <th>13</th>\n",
              "      <td>Angola</td>\n",
              "      <td>1,224,126.47</td>\n",
              "    </tr>\n",
              "    <tr>\n",
              "      <th>14</th>\n",
              "      <td>Argentina</td>\n",
              "      <td>1,107,734.58</td>\n",
              "    </tr>\n",
              "    <tr>\n",
              "      <th>15</th>\n",
              "      <td>Colombia</td>\n",
              "      <td>1,085,199.37</td>\n",
              "    </tr>\n",
              "    <tr>\n",
              "      <th>16</th>\n",
              "      <td>South Sudan</td>\n",
              "      <td>1,078,584.03</td>\n",
              "    </tr>\n",
              "    <tr>\n",
              "      <th>17</th>\n",
              "      <td>Malaysia</td>\n",
              "      <td>1,004,944.63</td>\n",
              "    </tr>\n",
              "    <tr>\n",
              "      <th>18</th>\n",
              "      <td>Vietnam</td>\n",
              "      <td>1,004,758.63</td>\n",
              "    </tr>\n",
              "    <tr>\n",
              "      <th>19</th>\n",
              "      <td>Belarus</td>\n",
              "      <td>963,615.70</td>\n",
              "    </tr>\n",
              "  </tbody>\n",
              "</table>\n",
              "</div>"
            ],
            "text/plain": [
              "                                name  umd_tree_cover_gain__ha\n",
              "0                             Russia            37,220,539.18\n",
              "1                             Canada            16,961,758.32\n",
              "2                      United States            13,986,699.79\n",
              "3                             Brazil             8,062,335.57\n",
              "4                              China             6,689,625.94\n",
              "5                          Indonesia             4,882,137.56\n",
              "6                              India             1,881,688.64\n",
              "7                           Thailand             1,842,370.58\n",
              "8                             Sweden             1,671,285.36\n",
              "9                          Australia             1,600,600.19\n",
              "10  Democratic Republic of the Congo             1,591,178.54\n",
              "11                            Mexico             1,423,107.45\n",
              "12                           Finland             1,357,021.84\n",
              "13                            Angola             1,224,126.47\n",
              "14                         Argentina             1,107,734.58\n",
              "15                          Colombia             1,085,199.37\n",
              "16                       South Sudan             1,078,584.03\n",
              "17                          Malaysia             1,004,944.63\n",
              "18                           Vietnam             1,004,758.63\n",
              "19                           Belarus               963,615.70"
            ]
          },
          "execution_count": 33,
          "metadata": {},
          "output_type": "execute_result"
        }
      ],
      "source": [
        "#Segundo Dataset ganancia arborea por paises en 2001-2021\n",
        "df_4a = pd.read_csv(\"./Global tree cover gain/treecover_gain_2000-2020_by_region__ha.csv\")\n",
        "df_4b=pd.merge(df_3b,df_4a)\n",
        "df_4b.drop(['iso'], inplace=True, axis=1)\n",
        "df_4b.drop(['umd_tree_cover_extent_2000__ha'], inplace=True, axis=1)\n",
        "df_4b = df_4b.sort_values(by='umd_tree_cover_gain__ha', ascending=False)\n",
        "df_4b=df_4b.reset_index()\n",
        "df_4b.drop(['index'], inplace=True, axis=1)\n",
        "df_4b.head(20)"
      ]
    },
    {
      "cell_type": "code",
      "execution_count": 132,
      "metadata": {},
      "outputs": [
        {
          "data": {
            "text/html": [
              "<div>\n",
              "<style scoped>\n",
              "    .dataframe tbody tr th:only-of-type {\n",
              "        vertical-align: middle;\n",
              "    }\n",
              "\n",
              "    .dataframe tbody tr th {\n",
              "        vertical-align: top;\n",
              "    }\n",
              "\n",
              "    .dataframe thead th {\n",
              "        text-align: right;\n",
              "    }\n",
              "</style>\n",
              "<table border=\"1\" class=\"dataframe\">\n",
              "  <thead>\n",
              "    <tr style=\"text-align: right;\">\n",
              "      <th></th>\n",
              "      <th>umd_tree_cover_loss__ha</th>\n",
              "      <th>gfw_gross_emissions_co2e_all_gases__Mg</th>\n",
              "    </tr>\n",
              "    <tr>\n",
              "      <th>umd_tree_cover_loss__year</th>\n",
              "      <th></th>\n",
              "      <th></th>\n",
              "    </tr>\n",
              "  </thead>\n",
              "  <tbody>\n",
              "    <tr>\n",
              "      <th>2001</th>\n",
              "      <td>13,353,470.98</td>\n",
              "      <td>4,675,979,303.48</td>\n",
              "    </tr>\n",
              "    <tr>\n",
              "      <th>2002</th>\n",
              "      <td>16,451,699.13</td>\n",
              "      <td>5,548,247,381.46</td>\n",
              "    </tr>\n",
              "    <tr>\n",
              "      <th>2003</th>\n",
              "      <td>14,474,225.19</td>\n",
              "      <td>4,729,094,912.00</td>\n",
              "    </tr>\n",
              "    <tr>\n",
              "      <th>2004</th>\n",
              "      <td>19,906,841.41</td>\n",
              "      <td>7,112,687,798.84</td>\n",
              "    </tr>\n",
              "    <tr>\n",
              "      <th>2005</th>\n",
              "      <td>18,096,758.71</td>\n",
              "      <td>6,925,547,296.93</td>\n",
              "    </tr>\n",
              "    <tr>\n",
              "      <th>2006</th>\n",
              "      <td>17,647,644.49</td>\n",
              "      <td>6,734,466,901.38</td>\n",
              "    </tr>\n",
              "    <tr>\n",
              "      <th>2007</th>\n",
              "      <td>18,386,094.26</td>\n",
              "      <td>7,205,695,319.68</td>\n",
              "    </tr>\n",
              "    <tr>\n",
              "      <th>2008</th>\n",
              "      <td>18,608,818.64</td>\n",
              "      <td>7,147,232,590.92</td>\n",
              "    </tr>\n",
              "    <tr>\n",
              "      <th>2009</th>\n",
              "      <td>16,983,539.11</td>\n",
              "      <td>7,226,128,492.98</td>\n",
              "    </tr>\n",
              "    <tr>\n",
              "      <th>2010</th>\n",
              "      <td>18,550,871.82</td>\n",
              "      <td>7,694,978,852.93</td>\n",
              "    </tr>\n",
              "    <tr>\n",
              "      <th>2011</th>\n",
              "      <td>17,577,549.42</td>\n",
              "      <td>7,073,708,544.63</td>\n",
              "    </tr>\n",
              "    <tr>\n",
              "      <th>2012</th>\n",
              "      <td>23,530,832.11</td>\n",
              "      <td>9,394,183,941.13</td>\n",
              "    </tr>\n",
              "    <tr>\n",
              "      <th>2013</th>\n",
              "      <td>20,642,249.06</td>\n",
              "      <td>7,797,454,617.79</td>\n",
              "    </tr>\n",
              "    <tr>\n",
              "      <th>2014</th>\n",
              "      <td>23,731,655.05</td>\n",
              "      <td>9,706,147,334.08</td>\n",
              "    </tr>\n",
              "    <tr>\n",
              "      <th>2015</th>\n",
              "      <td>19,621,386.99</td>\n",
              "      <td>8,152,711,995.73</td>\n",
              "    </tr>\n",
              "    <tr>\n",
              "      <th>2016</th>\n",
              "      <td>29,671,469.59</td>\n",
              "      <td>13,139,487,238.78</td>\n",
              "    </tr>\n",
              "    <tr>\n",
              "      <th>2017</th>\n",
              "      <td>29,375,436.20</td>\n",
              "      <td>12,645,564,343.59</td>\n",
              "    </tr>\n",
              "    <tr>\n",
              "      <th>2018</th>\n",
              "      <td>24,747,926.74</td>\n",
              "      <td>10,479,341,177.51</td>\n",
              "    </tr>\n",
              "    <tr>\n",
              "      <th>2019</th>\n",
              "      <td>24,172,783.56</td>\n",
              "      <td>10,062,452,862.24</td>\n",
              "    </tr>\n",
              "    <tr>\n",
              "      <th>2020</th>\n",
              "      <td>25,802,875.93</td>\n",
              "      <td>10,733,739,450.07</td>\n",
              "    </tr>\n",
              "    <tr>\n",
              "      <th>2021</th>\n",
              "      <td>25,272,387.33</td>\n",
              "      <td>10,094,571,036.26</td>\n",
              "    </tr>\n",
              "  </tbody>\n",
              "</table>\n",
              "</div>"
            ],
            "text/plain": [
              "                           umd_tree_cover_loss__ha  \\\n",
              "umd_tree_cover_loss__year                            \n",
              "2001                                 13,353,470.98   \n",
              "2002                                 16,451,699.13   \n",
              "2003                                 14,474,225.19   \n",
              "2004                                 19,906,841.41   \n",
              "2005                                 18,096,758.71   \n",
              "2006                                 17,647,644.49   \n",
              "2007                                 18,386,094.26   \n",
              "2008                                 18,608,818.64   \n",
              "2009                                 16,983,539.11   \n",
              "2010                                 18,550,871.82   \n",
              "2011                                 17,577,549.42   \n",
              "2012                                 23,530,832.11   \n",
              "2013                                 20,642,249.06   \n",
              "2014                                 23,731,655.05   \n",
              "2015                                 19,621,386.99   \n",
              "2016                                 29,671,469.59   \n",
              "2017                                 29,375,436.20   \n",
              "2018                                 24,747,926.74   \n",
              "2019                                 24,172,783.56   \n",
              "2020                                 25,802,875.93   \n",
              "2021                                 25,272,387.33   \n",
              "\n",
              "                           gfw_gross_emissions_co2e_all_gases__Mg  \n",
              "umd_tree_cover_loss__year                                          \n",
              "2001                                             4,675,979,303.48  \n",
              "2002                                             5,548,247,381.46  \n",
              "2003                                             4,729,094,912.00  \n",
              "2004                                             7,112,687,798.84  \n",
              "2005                                             6,925,547,296.93  \n",
              "2006                                             6,734,466,901.38  \n",
              "2007                                             7,205,695,319.68  \n",
              "2008                                             7,147,232,590.92  \n",
              "2009                                             7,226,128,492.98  \n",
              "2010                                             7,694,978,852.93  \n",
              "2011                                             7,073,708,544.63  \n",
              "2012                                             9,394,183,941.13  \n",
              "2013                                             7,797,454,617.79  \n",
              "2014                                             9,706,147,334.08  \n",
              "2015                                             8,152,711,995.73  \n",
              "2016                                            13,139,487,238.78  \n",
              "2017                                            12,645,564,343.59  \n",
              "2018                                            10,479,341,177.51  \n",
              "2019                                            10,062,452,862.24  \n",
              "2020                                            10,733,739,450.07  \n",
              "2021                                            10,094,571,036.26  "
            ]
          },
          "execution_count": 132,
          "metadata": {},
          "output_type": "execute_result"
        }
      ],
      "source": [
        "#perdida de masa arborea por año\n",
        "df_6e=df_3c.groupby('umd_tree_cover_loss__year').sum('umd_tree_cover_loss__ha')\n",
        "df_6e.head(25)"
      ]
    },
    {
      "cell_type": "code",
      "execution_count": 35,
      "metadata": {},
      "outputs": [
        {
          "data": {
            "text/html": [
              "<div>\n",
              "<style scoped>\n",
              "    .dataframe tbody tr th:only-of-type {\n",
              "        vertical-align: middle;\n",
              "    }\n",
              "\n",
              "    .dataframe tbody tr th {\n",
              "        vertical-align: top;\n",
              "    }\n",
              "\n",
              "    .dataframe thead th {\n",
              "        text-align: right;\n",
              "    }\n",
              "</style>\n",
              "<table border=\"1\" class=\"dataframe\">\n",
              "  <thead>\n",
              "    <tr style=\"text-align: right;\">\n",
              "      <th></th>\n",
              "      <th>name</th>\n",
              "      <th>umd_tree_cover_gain__ha</th>\n",
              "      <th>umd_tree_cover_loss__ha</th>\n",
              "      <th>gfw_gross_emissions_co2e_all_gases__Mg</th>\n",
              "    </tr>\n",
              "  </thead>\n",
              "  <tbody>\n",
              "    <tr>\n",
              "      <th>0</th>\n",
              "      <td>Russia</td>\n",
              "      <td>37,220,539.18</td>\n",
              "      <td>76,008,406.22</td>\n",
              "      <td>14,165,283.93</td>\n",
              "    </tr>\n",
              "    <tr>\n",
              "      <th>1</th>\n",
              "      <td>Canada</td>\n",
              "      <td>16,961,758.32</td>\n",
              "      <td>46,611,435.11</td>\n",
              "      <td>8,604,371.23</td>\n",
              "    </tr>\n",
              "    <tr>\n",
              "      <th>2</th>\n",
              "      <td>United States</td>\n",
              "      <td>13,986,699.79</td>\n",
              "      <td>44,279,415.98</td>\n",
              "      <td>17,177,629.27</td>\n",
              "    </tr>\n",
              "    <tr>\n",
              "      <th>3</th>\n",
              "      <td>Brazil</td>\n",
              "      <td>8,062,335.57</td>\n",
              "      <td>62,817,600.58</td>\n",
              "      <td>33,647,437.87</td>\n",
              "    </tr>\n",
              "    <tr>\n",
              "      <th>4</th>\n",
              "      <td>China</td>\n",
              "      <td>6,689,625.94</td>\n",
              "      <td>10,875,223.29</td>\n",
              "      <td>4,626,201.46</td>\n",
              "    </tr>\n",
              "    <tr>\n",
              "      <th>5</th>\n",
              "      <td>Indonesia</td>\n",
              "      <td>4,882,137.56</td>\n",
              "      <td>28,562,386.82</td>\n",
              "      <td>19,556,043.52</td>\n",
              "    </tr>\n",
              "    <tr>\n",
              "      <th>6</th>\n",
              "      <td>India</td>\n",
              "      <td>1,881,688.64</td>\n",
              "      <td>2,066,015.30</td>\n",
              "      <td>1,010,262.42</td>\n",
              "    </tr>\n",
              "    <tr>\n",
              "      <th>7</th>\n",
              "      <td>Thailand</td>\n",
              "      <td>1,842,370.58</td>\n",
              "      <td>2,297,702.71</td>\n",
              "      <td>1,267,686.25</td>\n",
              "    </tr>\n",
              "    <tr>\n",
              "      <th>8</th>\n",
              "      <td>Sweden</td>\n",
              "      <td>1,671,285.36</td>\n",
              "      <td>5,167,696.86</td>\n",
              "      <td>1,261,465.92</td>\n",
              "    </tr>\n",
              "    <tr>\n",
              "      <th>9</th>\n",
              "      <td>Australia</td>\n",
              "      <td>1,600,600.19</td>\n",
              "      <td>8,727,950.16</td>\n",
              "      <td>2,342,022.59</td>\n",
              "    </tr>\n",
              "    <tr>\n",
              "      <th>10</th>\n",
              "      <td>Democratic Republic of the Congo</td>\n",
              "      <td>1,591,178.54</td>\n",
              "      <td>17,145,176.21</td>\n",
              "      <td>10,535,878.14</td>\n",
              "    </tr>\n",
              "    <tr>\n",
              "      <th>11</th>\n",
              "      <td>Mexico</td>\n",
              "      <td>1,423,107.45</td>\n",
              "      <td>4,481,513.78</td>\n",
              "      <td>1,769,894.08</td>\n",
              "    </tr>\n",
              "    <tr>\n",
              "      <th>12</th>\n",
              "      <td>Finland</td>\n",
              "      <td>1,357,021.84</td>\n",
              "      <td>4,123,755.75</td>\n",
              "      <td>868,506.99</td>\n",
              "    </tr>\n",
              "    <tr>\n",
              "      <th>13</th>\n",
              "      <td>Angola</td>\n",
              "      <td>1,224,126.47</td>\n",
              "      <td>3,412,033.14</td>\n",
              "      <td>1,165,006.63</td>\n",
              "    </tr>\n",
              "    <tr>\n",
              "      <th>14</th>\n",
              "      <td>Argentina</td>\n",
              "      <td>1,107,734.58</td>\n",
              "      <td>6,317,526.33</td>\n",
              "      <td>1,484,959.88</td>\n",
              "    </tr>\n",
              "    <tr>\n",
              "      <th>15</th>\n",
              "      <td>Colombia</td>\n",
              "      <td>1,085,199.37</td>\n",
              "      <td>4,928,410.93</td>\n",
              "      <td>2,749,508.26</td>\n",
              "    </tr>\n",
              "    <tr>\n",
              "      <th>16</th>\n",
              "      <td>South Sudan</td>\n",
              "      <td>1,078,584.03</td>\n",
              "      <td>127,877.58</td>\n",
              "      <td>38,457.81</td>\n",
              "    </tr>\n",
              "    <tr>\n",
              "      <th>17</th>\n",
              "      <td>Malaysia</td>\n",
              "      <td>1,004,944.63</td>\n",
              "      <td>8,669,490.89</td>\n",
              "      <td>4,972,405.68</td>\n",
              "    </tr>\n",
              "    <tr>\n",
              "      <th>18</th>\n",
              "      <td>Vietnam</td>\n",
              "      <td>1,004,758.63</td>\n",
              "      <td>3,258,130.25</td>\n",
              "      <td>2,177,642.70</td>\n",
              "    </tr>\n",
              "    <tr>\n",
              "      <th>19</th>\n",
              "      <td>Belarus</td>\n",
              "      <td>963,615.70</td>\n",
              "      <td>977,498.66</td>\n",
              "      <td>347,704.63</td>\n",
              "    </tr>\n",
              "  </tbody>\n",
              "</table>\n",
              "</div>"
            ],
            "text/plain": [
              "                                name  umd_tree_cover_gain__ha  \\\n",
              "0                             Russia            37,220,539.18   \n",
              "1                             Canada            16,961,758.32   \n",
              "2                      United States            13,986,699.79   \n",
              "3                             Brazil             8,062,335.57   \n",
              "4                              China             6,689,625.94   \n",
              "5                          Indonesia             4,882,137.56   \n",
              "6                              India             1,881,688.64   \n",
              "7                           Thailand             1,842,370.58   \n",
              "8                             Sweden             1,671,285.36   \n",
              "9                          Australia             1,600,600.19   \n",
              "10  Democratic Republic of the Congo             1,591,178.54   \n",
              "11                            Mexico             1,423,107.45   \n",
              "12                           Finland             1,357,021.84   \n",
              "13                            Angola             1,224,126.47   \n",
              "14                         Argentina             1,107,734.58   \n",
              "15                          Colombia             1,085,199.37   \n",
              "16                       South Sudan             1,078,584.03   \n",
              "17                          Malaysia             1,004,944.63   \n",
              "18                           Vietnam             1,004,758.63   \n",
              "19                           Belarus               963,615.70   \n",
              "\n",
              "    umd_tree_cover_loss__ha  gfw_gross_emissions_co2e_all_gases__Mg  \n",
              "0             76,008,406.22                           14,165,283.93  \n",
              "1             46,611,435.11                            8,604,371.23  \n",
              "2             44,279,415.98                           17,177,629.27  \n",
              "3             62,817,600.58                           33,647,437.87  \n",
              "4             10,875,223.29                            4,626,201.46  \n",
              "5             28,562,386.82                           19,556,043.52  \n",
              "6              2,066,015.30                            1,010,262.42  \n",
              "7              2,297,702.71                            1,267,686.25  \n",
              "8              5,167,696.86                            1,261,465.92  \n",
              "9              8,727,950.16                            2,342,022.59  \n",
              "10            17,145,176.21                           10,535,878.14  \n",
              "11             4,481,513.78                            1,769,894.08  \n",
              "12             4,123,755.75                              868,506.99  \n",
              "13             3,412,033.14                            1,165,006.63  \n",
              "14             6,317,526.33                            1,484,959.88  \n",
              "15             4,928,410.93                            2,749,508.26  \n",
              "16               127,877.58                               38,457.81  \n",
              "17             8,669,490.89                            4,972,405.68  \n",
              "18             3,258,130.25                            2,177,642.70  \n",
              "19               977,498.66                              347,704.63  "
            ]
          },
          "execution_count": 35,
          "metadata": {},
          "output_type": "execute_result"
        }
      ],
      "source": [
        "df_5=pd.merge(df_4b,df_3d)\n",
        "df_5=df_5.loc[:19]\n",
        "df_5['gfw_gross_emissions_co2e_all_gases__Mg']=df_5['gfw_gross_emissions_co2e_all_gases__Mg']/1000\n",
        "df_6=df_5.copy()\n",
        "df_6"
      ]
    },
    {
      "cell_type": "code",
      "execution_count": 240,
      "metadata": {},
      "outputs": [
        {
          "data": {
            "application/vnd.plotly.v1+json": {
              "config": {
                "linkText": "Export to plot.ly",
                "plotlyServerURL": "https://plot.ly",
                "showLink": false
              },
              "data": [
                {
                  "marker": {
                    "color": "#242823"
                  },
                  "name": "Perdida",
                  "type": "bar",
                  "x": [
                    "Russia",
                    "Canada",
                    "United States",
                    "Brazil",
                    "China",
                    "Indonesia",
                    "India",
                    "Thailand",
                    "Sweden",
                    "Australia",
                    "Democratic Republic of the Congo",
                    "Mexico",
                    "Finland",
                    "Angola",
                    "Argentina",
                    "Colombia",
                    "South Sudan",
                    "Malaysia",
                    "Vietnam",
                    "Belarus"
                  ],
                  "y": [
                    76008406.22202003,
                    46611435.10671416,
                    44279415.98330068,
                    62817600.5781933,
                    10875223.288453352,
                    28562386.817975327,
                    2066015.3027757828,
                    2297702.7114721285,
                    5167696.862967017,
                    8727950.163983535,
                    17145176.213186495,
                    4481513.7848420115,
                    4123755.7470982526,
                    3412033.138763353,
                    6317526.32683179,
                    4928410.934784763,
                    127877.57610270746,
                    8669490.889331786,
                    3258130.251709365,
                    977498.6639778772
                  ]
                },
                {
                  "marker": {
                    "color": "#248519"
                  },
                  "name": "Ganancia",
                  "type": "bar",
                  "x": [
                    "Russia",
                    "Canada",
                    "United States",
                    "Brazil",
                    "China",
                    "Indonesia",
                    "India",
                    "Thailand",
                    "Sweden",
                    "Australia",
                    "Democratic Republic of the Congo",
                    "Mexico",
                    "Finland",
                    "Angola",
                    "Argentina",
                    "Colombia",
                    "South Sudan",
                    "Malaysia",
                    "Vietnam",
                    "Belarus"
                  ],
                  "y": [
                    37220539.17889797,
                    16961758.323494285,
                    13986699.785170795,
                    8062335.574614585,
                    6689625.938304381,
                    4882137.5564606665,
                    1881688.6445558288,
                    1842370.5770920576,
                    1671285.3581773597,
                    1600600.1881113013,
                    1591178.5389131478,
                    1423107.4532175015,
                    1357021.8395590556,
                    1224126.4667523098,
                    1107734.5763674532,
                    1085199.3749955492,
                    1078584.026774175,
                    1004944.63015623,
                    1004758.6253227256,
                    963615.6973902376
                  ]
                }
              ],
              "layout": {
                "height": 800,
                "template": {
                  "data": {
                    "bar": [
                      {
                        "error_x": {
                          "color": "#2a3f5f"
                        },
                        "error_y": {
                          "color": "#2a3f5f"
                        },
                        "marker": {
                          "line": {
                            "color": "#E5ECF6",
                            "width": 0.5
                          },
                          "pattern": {
                            "fillmode": "overlay",
                            "size": 10,
                            "solidity": 0.2
                          }
                        },
                        "type": "bar"
                      }
                    ],
                    "barpolar": [
                      {
                        "marker": {
                          "line": {
                            "color": "#E5ECF6",
                            "width": 0.5
                          },
                          "pattern": {
                            "fillmode": "overlay",
                            "size": 10,
                            "solidity": 0.2
                          }
                        },
                        "type": "barpolar"
                      }
                    ],
                    "carpet": [
                      {
                        "aaxis": {
                          "endlinecolor": "#2a3f5f",
                          "gridcolor": "white",
                          "linecolor": "white",
                          "minorgridcolor": "white",
                          "startlinecolor": "#2a3f5f"
                        },
                        "baxis": {
                          "endlinecolor": "#2a3f5f",
                          "gridcolor": "white",
                          "linecolor": "white",
                          "minorgridcolor": "white",
                          "startlinecolor": "#2a3f5f"
                        },
                        "type": "carpet"
                      }
                    ],
                    "choropleth": [
                      {
                        "colorbar": {
                          "outlinewidth": 0,
                          "ticks": ""
                        },
                        "type": "choropleth"
                      }
                    ],
                    "contour": [
                      {
                        "colorbar": {
                          "outlinewidth": 0,
                          "ticks": ""
                        },
                        "colorscale": [
                          [
                            0,
                            "#0d0887"
                          ],
                          [
                            0.1111111111111111,
                            "#46039f"
                          ],
                          [
                            0.2222222222222222,
                            "#7201a8"
                          ],
                          [
                            0.3333333333333333,
                            "#9c179e"
                          ],
                          [
                            0.4444444444444444,
                            "#bd3786"
                          ],
                          [
                            0.5555555555555556,
                            "#d8576b"
                          ],
                          [
                            0.6666666666666666,
                            "#ed7953"
                          ],
                          [
                            0.7777777777777778,
                            "#fb9f3a"
                          ],
                          [
                            0.8888888888888888,
                            "#fdca26"
                          ],
                          [
                            1,
                            "#f0f921"
                          ]
                        ],
                        "type": "contour"
                      }
                    ],
                    "contourcarpet": [
                      {
                        "colorbar": {
                          "outlinewidth": 0,
                          "ticks": ""
                        },
                        "type": "contourcarpet"
                      }
                    ],
                    "heatmap": [
                      {
                        "colorbar": {
                          "outlinewidth": 0,
                          "ticks": ""
                        },
                        "colorscale": [
                          [
                            0,
                            "#0d0887"
                          ],
                          [
                            0.1111111111111111,
                            "#46039f"
                          ],
                          [
                            0.2222222222222222,
                            "#7201a8"
                          ],
                          [
                            0.3333333333333333,
                            "#9c179e"
                          ],
                          [
                            0.4444444444444444,
                            "#bd3786"
                          ],
                          [
                            0.5555555555555556,
                            "#d8576b"
                          ],
                          [
                            0.6666666666666666,
                            "#ed7953"
                          ],
                          [
                            0.7777777777777778,
                            "#fb9f3a"
                          ],
                          [
                            0.8888888888888888,
                            "#fdca26"
                          ],
                          [
                            1,
                            "#f0f921"
                          ]
                        ],
                        "type": "heatmap"
                      }
                    ],
                    "heatmapgl": [
                      {
                        "colorbar": {
                          "outlinewidth": 0,
                          "ticks": ""
                        },
                        "colorscale": [
                          [
                            0,
                            "#0d0887"
                          ],
                          [
                            0.1111111111111111,
                            "#46039f"
                          ],
                          [
                            0.2222222222222222,
                            "#7201a8"
                          ],
                          [
                            0.3333333333333333,
                            "#9c179e"
                          ],
                          [
                            0.4444444444444444,
                            "#bd3786"
                          ],
                          [
                            0.5555555555555556,
                            "#d8576b"
                          ],
                          [
                            0.6666666666666666,
                            "#ed7953"
                          ],
                          [
                            0.7777777777777778,
                            "#fb9f3a"
                          ],
                          [
                            0.8888888888888888,
                            "#fdca26"
                          ],
                          [
                            1,
                            "#f0f921"
                          ]
                        ],
                        "type": "heatmapgl"
                      }
                    ],
                    "histogram": [
                      {
                        "marker": {
                          "pattern": {
                            "fillmode": "overlay",
                            "size": 10,
                            "solidity": 0.2
                          }
                        },
                        "type": "histogram"
                      }
                    ],
                    "histogram2d": [
                      {
                        "colorbar": {
                          "outlinewidth": 0,
                          "ticks": ""
                        },
                        "colorscale": [
                          [
                            0,
                            "#0d0887"
                          ],
                          [
                            0.1111111111111111,
                            "#46039f"
                          ],
                          [
                            0.2222222222222222,
                            "#7201a8"
                          ],
                          [
                            0.3333333333333333,
                            "#9c179e"
                          ],
                          [
                            0.4444444444444444,
                            "#bd3786"
                          ],
                          [
                            0.5555555555555556,
                            "#d8576b"
                          ],
                          [
                            0.6666666666666666,
                            "#ed7953"
                          ],
                          [
                            0.7777777777777778,
                            "#fb9f3a"
                          ],
                          [
                            0.8888888888888888,
                            "#fdca26"
                          ],
                          [
                            1,
                            "#f0f921"
                          ]
                        ],
                        "type": "histogram2d"
                      }
                    ],
                    "histogram2dcontour": [
                      {
                        "colorbar": {
                          "outlinewidth": 0,
                          "ticks": ""
                        },
                        "colorscale": [
                          [
                            0,
                            "#0d0887"
                          ],
                          [
                            0.1111111111111111,
                            "#46039f"
                          ],
                          [
                            0.2222222222222222,
                            "#7201a8"
                          ],
                          [
                            0.3333333333333333,
                            "#9c179e"
                          ],
                          [
                            0.4444444444444444,
                            "#bd3786"
                          ],
                          [
                            0.5555555555555556,
                            "#d8576b"
                          ],
                          [
                            0.6666666666666666,
                            "#ed7953"
                          ],
                          [
                            0.7777777777777778,
                            "#fb9f3a"
                          ],
                          [
                            0.8888888888888888,
                            "#fdca26"
                          ],
                          [
                            1,
                            "#f0f921"
                          ]
                        ],
                        "type": "histogram2dcontour"
                      }
                    ],
                    "mesh3d": [
                      {
                        "colorbar": {
                          "outlinewidth": 0,
                          "ticks": ""
                        },
                        "type": "mesh3d"
                      }
                    ],
                    "parcoords": [
                      {
                        "line": {
                          "colorbar": {
                            "outlinewidth": 0,
                            "ticks": ""
                          }
                        },
                        "type": "parcoords"
                      }
                    ],
                    "pie": [
                      {
                        "automargin": true,
                        "type": "pie"
                      }
                    ],
                    "scatter": [
                      {
                        "fillpattern": {
                          "fillmode": "overlay",
                          "size": 10,
                          "solidity": 0.2
                        },
                        "type": "scatter"
                      }
                    ],
                    "scatter3d": [
                      {
                        "line": {
                          "colorbar": {
                            "outlinewidth": 0,
                            "ticks": ""
                          }
                        },
                        "marker": {
                          "colorbar": {
                            "outlinewidth": 0,
                            "ticks": ""
                          }
                        },
                        "type": "scatter3d"
                      }
                    ],
                    "scattercarpet": [
                      {
                        "marker": {
                          "colorbar": {
                            "outlinewidth": 0,
                            "ticks": ""
                          }
                        },
                        "type": "scattercarpet"
                      }
                    ],
                    "scattergeo": [
                      {
                        "marker": {
                          "colorbar": {
                            "outlinewidth": 0,
                            "ticks": ""
                          }
                        },
                        "type": "scattergeo"
                      }
                    ],
                    "scattergl": [
                      {
                        "marker": {
                          "colorbar": {
                            "outlinewidth": 0,
                            "ticks": ""
                          }
                        },
                        "type": "scattergl"
                      }
                    ],
                    "scattermapbox": [
                      {
                        "marker": {
                          "colorbar": {
                            "outlinewidth": 0,
                            "ticks": ""
                          }
                        },
                        "type": "scattermapbox"
                      }
                    ],
                    "scatterpolar": [
                      {
                        "marker": {
                          "colorbar": {
                            "outlinewidth": 0,
                            "ticks": ""
                          }
                        },
                        "type": "scatterpolar"
                      }
                    ],
                    "scatterpolargl": [
                      {
                        "marker": {
                          "colorbar": {
                            "outlinewidth": 0,
                            "ticks": ""
                          }
                        },
                        "type": "scatterpolargl"
                      }
                    ],
                    "scatterternary": [
                      {
                        "marker": {
                          "colorbar": {
                            "outlinewidth": 0,
                            "ticks": ""
                          }
                        },
                        "type": "scatterternary"
                      }
                    ],
                    "surface": [
                      {
                        "colorbar": {
                          "outlinewidth": 0,
                          "ticks": ""
                        },
                        "colorscale": [
                          [
                            0,
                            "#0d0887"
                          ],
                          [
                            0.1111111111111111,
                            "#46039f"
                          ],
                          [
                            0.2222222222222222,
                            "#7201a8"
                          ],
                          [
                            0.3333333333333333,
                            "#9c179e"
                          ],
                          [
                            0.4444444444444444,
                            "#bd3786"
                          ],
                          [
                            0.5555555555555556,
                            "#d8576b"
                          ],
                          [
                            0.6666666666666666,
                            "#ed7953"
                          ],
                          [
                            0.7777777777777778,
                            "#fb9f3a"
                          ],
                          [
                            0.8888888888888888,
                            "#fdca26"
                          ],
                          [
                            1,
                            "#f0f921"
                          ]
                        ],
                        "type": "surface"
                      }
                    ],
                    "table": [
                      {
                        "cells": {
                          "fill": {
                            "color": "#EBF0F8"
                          },
                          "line": {
                            "color": "white"
                          }
                        },
                        "header": {
                          "fill": {
                            "color": "#C8D4E3"
                          },
                          "line": {
                            "color": "white"
                          }
                        },
                        "type": "table"
                      }
                    ]
                  },
                  "layout": {
                    "annotationdefaults": {
                      "arrowcolor": "#2a3f5f",
                      "arrowhead": 0,
                      "arrowwidth": 1
                    },
                    "autotypenumbers": "strict",
                    "coloraxis": {
                      "colorbar": {
                        "outlinewidth": 0,
                        "ticks": ""
                      }
                    },
                    "colorscale": {
                      "diverging": [
                        [
                          0,
                          "#8e0152"
                        ],
                        [
                          0.1,
                          "#c51b7d"
                        ],
                        [
                          0.2,
                          "#de77ae"
                        ],
                        [
                          0.3,
                          "#f1b6da"
                        ],
                        [
                          0.4,
                          "#fde0ef"
                        ],
                        [
                          0.5,
                          "#f7f7f7"
                        ],
                        [
                          0.6,
                          "#e6f5d0"
                        ],
                        [
                          0.7,
                          "#b8e186"
                        ],
                        [
                          0.8,
                          "#7fbc41"
                        ],
                        [
                          0.9,
                          "#4d9221"
                        ],
                        [
                          1,
                          "#276419"
                        ]
                      ],
                      "sequential": [
                        [
                          0,
                          "#0d0887"
                        ],
                        [
                          0.1111111111111111,
                          "#46039f"
                        ],
                        [
                          0.2222222222222222,
                          "#7201a8"
                        ],
                        [
                          0.3333333333333333,
                          "#9c179e"
                        ],
                        [
                          0.4444444444444444,
                          "#bd3786"
                        ],
                        [
                          0.5555555555555556,
                          "#d8576b"
                        ],
                        [
                          0.6666666666666666,
                          "#ed7953"
                        ],
                        [
                          0.7777777777777778,
                          "#fb9f3a"
                        ],
                        [
                          0.8888888888888888,
                          "#fdca26"
                        ],
                        [
                          1,
                          "#f0f921"
                        ]
                      ],
                      "sequentialminus": [
                        [
                          0,
                          "#0d0887"
                        ],
                        [
                          0.1111111111111111,
                          "#46039f"
                        ],
                        [
                          0.2222222222222222,
                          "#7201a8"
                        ],
                        [
                          0.3333333333333333,
                          "#9c179e"
                        ],
                        [
                          0.4444444444444444,
                          "#bd3786"
                        ],
                        [
                          0.5555555555555556,
                          "#d8576b"
                        ],
                        [
                          0.6666666666666666,
                          "#ed7953"
                        ],
                        [
                          0.7777777777777778,
                          "#fb9f3a"
                        ],
                        [
                          0.8888888888888888,
                          "#fdca26"
                        ],
                        [
                          1,
                          "#f0f921"
                        ]
                      ]
                    },
                    "colorway": [
                      "#636efa",
                      "#EF553B",
                      "#00cc96",
                      "#ab63fa",
                      "#FFA15A",
                      "#19d3f3",
                      "#FF6692",
                      "#B6E880",
                      "#FF97FF",
                      "#FECB52"
                    ],
                    "font": {
                      "color": "#2a3f5f"
                    },
                    "geo": {
                      "bgcolor": "white",
                      "lakecolor": "white",
                      "landcolor": "#E5ECF6",
                      "showlakes": true,
                      "showland": true,
                      "subunitcolor": "white"
                    },
                    "hoverlabel": {
                      "align": "left"
                    },
                    "hovermode": "closest",
                    "mapbox": {
                      "style": "light"
                    },
                    "paper_bgcolor": "white",
                    "plot_bgcolor": "#E5ECF6",
                    "polar": {
                      "angularaxis": {
                        "gridcolor": "white",
                        "linecolor": "white",
                        "ticks": ""
                      },
                      "bgcolor": "#E5ECF6",
                      "radialaxis": {
                        "gridcolor": "white",
                        "linecolor": "white",
                        "ticks": ""
                      }
                    },
                    "scene": {
                      "xaxis": {
                        "backgroundcolor": "#E5ECF6",
                        "gridcolor": "white",
                        "gridwidth": 2,
                        "linecolor": "white",
                        "showbackground": true,
                        "ticks": "",
                        "zerolinecolor": "white"
                      },
                      "yaxis": {
                        "backgroundcolor": "#E5ECF6",
                        "gridcolor": "white",
                        "gridwidth": 2,
                        "linecolor": "white",
                        "showbackground": true,
                        "ticks": "",
                        "zerolinecolor": "white"
                      },
                      "zaxis": {
                        "backgroundcolor": "#E5ECF6",
                        "gridcolor": "white",
                        "gridwidth": 2,
                        "linecolor": "white",
                        "showbackground": true,
                        "ticks": "",
                        "zerolinecolor": "white"
                      }
                    },
                    "shapedefaults": {
                      "line": {
                        "color": "#2a3f5f"
                      }
                    },
                    "ternary": {
                      "aaxis": {
                        "gridcolor": "white",
                        "linecolor": "white",
                        "ticks": ""
                      },
                      "baxis": {
                        "gridcolor": "white",
                        "linecolor": "white",
                        "ticks": ""
                      },
                      "bgcolor": "#E5ECF6",
                      "caxis": {
                        "gridcolor": "white",
                        "linecolor": "white",
                        "ticks": ""
                      }
                    },
                    "title": {
                      "x": 0.05
                    },
                    "xaxis": {
                      "automargin": true,
                      "gridcolor": "white",
                      "linecolor": "white",
                      "ticks": "",
                      "title": {
                        "standoff": 15
                      },
                      "zerolinecolor": "white",
                      "zerolinewidth": 2
                    },
                    "yaxis": {
                      "automargin": true,
                      "gridcolor": "white",
                      "linecolor": "white",
                      "ticks": "",
                      "title": {
                        "standoff": 15
                      },
                      "zerolinecolor": "white",
                      "zerolinewidth": 2
                    }
                  }
                },
                "title": {
                  "text": "PÉRDIDA / GANANCIA GLOBAL DE LA CUBIERTA ARBÓREA DEL PLANETA EN EL PERIODO 2001-2021"
                },
                "width": 1200,
                "xaxis": {
                  "title": {
                    "text": "Paises"
                  }
                },
                "yaxis": {
                  "title": {
                    "text": "Hectareas (en millones)"
                  }
                }
              }
            },
            "text/html": [
              "<div>                            <div id=\"8180666e-ccbd-4c5f-8176-5b3ae7dfc722\" class=\"plotly-graph-div\" style=\"height:800px; width:1200px;\"></div>            <script type=\"text/javascript\">                require([\"plotly\"], function(Plotly) {                    window.PLOTLYENV=window.PLOTLYENV || {};                                    if (document.getElementById(\"8180666e-ccbd-4c5f-8176-5b3ae7dfc722\")) {                    Plotly.newPlot(                        \"8180666e-ccbd-4c5f-8176-5b3ae7dfc722\",                        [{\"marker\":{\"color\":\"#242823\"},\"name\":\"Perdida\",\"x\":[\"Russia\",\"Canada\",\"United States\",\"Brazil\",\"China\",\"Indonesia\",\"India\",\"Thailand\",\"Sweden\",\"Australia\",\"Democratic Republic of the Congo\",\"Mexico\",\"Finland\",\"Angola\",\"Argentina\",\"Colombia\",\"South Sudan\",\"Malaysia\",\"Vietnam\",\"Belarus\"],\"y\":[76008406.22202003,46611435.10671416,44279415.98330068,62817600.5781933,10875223.288453352,28562386.817975327,2066015.3027757828,2297702.7114721285,5167696.862967017,8727950.163983535,17145176.213186495,4481513.7848420115,4123755.7470982526,3412033.138763353,6317526.32683179,4928410.934784763,127877.57610270746,8669490.889331786,3258130.251709365,977498.6639778772],\"type\":\"bar\"},{\"marker\":{\"color\":\"#248519\"},\"name\":\"Ganancia\",\"x\":[\"Russia\",\"Canada\",\"United States\",\"Brazil\",\"China\",\"Indonesia\",\"India\",\"Thailand\",\"Sweden\",\"Australia\",\"Democratic Republic of the Congo\",\"Mexico\",\"Finland\",\"Angola\",\"Argentina\",\"Colombia\",\"South Sudan\",\"Malaysia\",\"Vietnam\",\"Belarus\"],\"y\":[37220539.17889797,16961758.323494285,13986699.785170795,8062335.574614585,6689625.938304381,4882137.5564606665,1881688.6445558288,1842370.5770920576,1671285.3581773597,1600600.1881113013,1591178.5389131478,1423107.4532175015,1357021.8395590556,1224126.4667523098,1107734.5763674532,1085199.3749955492,1078584.026774175,1004944.63015623,1004758.6253227256,963615.6973902376],\"type\":\"bar\"}],                        {\"height\":800,\"template\":{\"data\":{\"barpolar\":[{\"marker\":{\"line\":{\"color\":\"#E5ECF6\",\"width\":0.5},\"pattern\":{\"fillmode\":\"overlay\",\"size\":10,\"solidity\":0.2}},\"type\":\"barpolar\"}],\"bar\":[{\"error_x\":{\"color\":\"#2a3f5f\"},\"error_y\":{\"color\":\"#2a3f5f\"},\"marker\":{\"line\":{\"color\":\"#E5ECF6\",\"width\":0.5},\"pattern\":{\"fillmode\":\"overlay\",\"size\":10,\"solidity\":0.2}},\"type\":\"bar\"}],\"carpet\":[{\"aaxis\":{\"endlinecolor\":\"#2a3f5f\",\"gridcolor\":\"white\",\"linecolor\":\"white\",\"minorgridcolor\":\"white\",\"startlinecolor\":\"#2a3f5f\"},\"baxis\":{\"endlinecolor\":\"#2a3f5f\",\"gridcolor\":\"white\",\"linecolor\":\"white\",\"minorgridcolor\":\"white\",\"startlinecolor\":\"#2a3f5f\"},\"type\":\"carpet\"}],\"choropleth\":[{\"colorbar\":{\"outlinewidth\":0,\"ticks\":\"\"},\"type\":\"choropleth\"}],\"contourcarpet\":[{\"colorbar\":{\"outlinewidth\":0,\"ticks\":\"\"},\"type\":\"contourcarpet\"}],\"contour\":[{\"colorbar\":{\"outlinewidth\":0,\"ticks\":\"\"},\"colorscale\":[[0.0,\"#0d0887\"],[0.1111111111111111,\"#46039f\"],[0.2222222222222222,\"#7201a8\"],[0.3333333333333333,\"#9c179e\"],[0.4444444444444444,\"#bd3786\"],[0.5555555555555556,\"#d8576b\"],[0.6666666666666666,\"#ed7953\"],[0.7777777777777778,\"#fb9f3a\"],[0.8888888888888888,\"#fdca26\"],[1.0,\"#f0f921\"]],\"type\":\"contour\"}],\"heatmapgl\":[{\"colorbar\":{\"outlinewidth\":0,\"ticks\":\"\"},\"colorscale\":[[0.0,\"#0d0887\"],[0.1111111111111111,\"#46039f\"],[0.2222222222222222,\"#7201a8\"],[0.3333333333333333,\"#9c179e\"],[0.4444444444444444,\"#bd3786\"],[0.5555555555555556,\"#d8576b\"],[0.6666666666666666,\"#ed7953\"],[0.7777777777777778,\"#fb9f3a\"],[0.8888888888888888,\"#fdca26\"],[1.0,\"#f0f921\"]],\"type\":\"heatmapgl\"}],\"heatmap\":[{\"colorbar\":{\"outlinewidth\":0,\"ticks\":\"\"},\"colorscale\":[[0.0,\"#0d0887\"],[0.1111111111111111,\"#46039f\"],[0.2222222222222222,\"#7201a8\"],[0.3333333333333333,\"#9c179e\"],[0.4444444444444444,\"#bd3786\"],[0.5555555555555556,\"#d8576b\"],[0.6666666666666666,\"#ed7953\"],[0.7777777777777778,\"#fb9f3a\"],[0.8888888888888888,\"#fdca26\"],[1.0,\"#f0f921\"]],\"type\":\"heatmap\"}],\"histogram2dcontour\":[{\"colorbar\":{\"outlinewidth\":0,\"ticks\":\"\"},\"colorscale\":[[0.0,\"#0d0887\"],[0.1111111111111111,\"#46039f\"],[0.2222222222222222,\"#7201a8\"],[0.3333333333333333,\"#9c179e\"],[0.4444444444444444,\"#bd3786\"],[0.5555555555555556,\"#d8576b\"],[0.6666666666666666,\"#ed7953\"],[0.7777777777777778,\"#fb9f3a\"],[0.8888888888888888,\"#fdca26\"],[1.0,\"#f0f921\"]],\"type\":\"histogram2dcontour\"}],\"histogram2d\":[{\"colorbar\":{\"outlinewidth\":0,\"ticks\":\"\"},\"colorscale\":[[0.0,\"#0d0887\"],[0.1111111111111111,\"#46039f\"],[0.2222222222222222,\"#7201a8\"],[0.3333333333333333,\"#9c179e\"],[0.4444444444444444,\"#bd3786\"],[0.5555555555555556,\"#d8576b\"],[0.6666666666666666,\"#ed7953\"],[0.7777777777777778,\"#fb9f3a\"],[0.8888888888888888,\"#fdca26\"],[1.0,\"#f0f921\"]],\"type\":\"histogram2d\"}],\"histogram\":[{\"marker\":{\"pattern\":{\"fillmode\":\"overlay\",\"size\":10,\"solidity\":0.2}},\"type\":\"histogram\"}],\"mesh3d\":[{\"colorbar\":{\"outlinewidth\":0,\"ticks\":\"\"},\"type\":\"mesh3d\"}],\"parcoords\":[{\"line\":{\"colorbar\":{\"outlinewidth\":0,\"ticks\":\"\"}},\"type\":\"parcoords\"}],\"pie\":[{\"automargin\":true,\"type\":\"pie\"}],\"scatter3d\":[{\"line\":{\"colorbar\":{\"outlinewidth\":0,\"ticks\":\"\"}},\"marker\":{\"colorbar\":{\"outlinewidth\":0,\"ticks\":\"\"}},\"type\":\"scatter3d\"}],\"scattercarpet\":[{\"marker\":{\"colorbar\":{\"outlinewidth\":0,\"ticks\":\"\"}},\"type\":\"scattercarpet\"}],\"scattergeo\":[{\"marker\":{\"colorbar\":{\"outlinewidth\":0,\"ticks\":\"\"}},\"type\":\"scattergeo\"}],\"scattergl\":[{\"marker\":{\"colorbar\":{\"outlinewidth\":0,\"ticks\":\"\"}},\"type\":\"scattergl\"}],\"scattermapbox\":[{\"marker\":{\"colorbar\":{\"outlinewidth\":0,\"ticks\":\"\"}},\"type\":\"scattermapbox\"}],\"scatterpolargl\":[{\"marker\":{\"colorbar\":{\"outlinewidth\":0,\"ticks\":\"\"}},\"type\":\"scatterpolargl\"}],\"scatterpolar\":[{\"marker\":{\"colorbar\":{\"outlinewidth\":0,\"ticks\":\"\"}},\"type\":\"scatterpolar\"}],\"scatter\":[{\"fillpattern\":{\"fillmode\":\"overlay\",\"size\":10,\"solidity\":0.2},\"type\":\"scatter\"}],\"scatterternary\":[{\"marker\":{\"colorbar\":{\"outlinewidth\":0,\"ticks\":\"\"}},\"type\":\"scatterternary\"}],\"surface\":[{\"colorbar\":{\"outlinewidth\":0,\"ticks\":\"\"},\"colorscale\":[[0.0,\"#0d0887\"],[0.1111111111111111,\"#46039f\"],[0.2222222222222222,\"#7201a8\"],[0.3333333333333333,\"#9c179e\"],[0.4444444444444444,\"#bd3786\"],[0.5555555555555556,\"#d8576b\"],[0.6666666666666666,\"#ed7953\"],[0.7777777777777778,\"#fb9f3a\"],[0.8888888888888888,\"#fdca26\"],[1.0,\"#f0f921\"]],\"type\":\"surface\"}],\"table\":[{\"cells\":{\"fill\":{\"color\":\"#EBF0F8\"},\"line\":{\"color\":\"white\"}},\"header\":{\"fill\":{\"color\":\"#C8D4E3\"},\"line\":{\"color\":\"white\"}},\"type\":\"table\"}]},\"layout\":{\"annotationdefaults\":{\"arrowcolor\":\"#2a3f5f\",\"arrowhead\":0,\"arrowwidth\":1},\"autotypenumbers\":\"strict\",\"coloraxis\":{\"colorbar\":{\"outlinewidth\":0,\"ticks\":\"\"}},\"colorscale\":{\"diverging\":[[0,\"#8e0152\"],[0.1,\"#c51b7d\"],[0.2,\"#de77ae\"],[0.3,\"#f1b6da\"],[0.4,\"#fde0ef\"],[0.5,\"#f7f7f7\"],[0.6,\"#e6f5d0\"],[0.7,\"#b8e186\"],[0.8,\"#7fbc41\"],[0.9,\"#4d9221\"],[1,\"#276419\"]],\"sequential\":[[0.0,\"#0d0887\"],[0.1111111111111111,\"#46039f\"],[0.2222222222222222,\"#7201a8\"],[0.3333333333333333,\"#9c179e\"],[0.4444444444444444,\"#bd3786\"],[0.5555555555555556,\"#d8576b\"],[0.6666666666666666,\"#ed7953\"],[0.7777777777777778,\"#fb9f3a\"],[0.8888888888888888,\"#fdca26\"],[1.0,\"#f0f921\"]],\"sequentialminus\":[[0.0,\"#0d0887\"],[0.1111111111111111,\"#46039f\"],[0.2222222222222222,\"#7201a8\"],[0.3333333333333333,\"#9c179e\"],[0.4444444444444444,\"#bd3786\"],[0.5555555555555556,\"#d8576b\"],[0.6666666666666666,\"#ed7953\"],[0.7777777777777778,\"#fb9f3a\"],[0.8888888888888888,\"#fdca26\"],[1.0,\"#f0f921\"]]},\"colorway\":[\"#636efa\",\"#EF553B\",\"#00cc96\",\"#ab63fa\",\"#FFA15A\",\"#19d3f3\",\"#FF6692\",\"#B6E880\",\"#FF97FF\",\"#FECB52\"],\"font\":{\"color\":\"#2a3f5f\"},\"geo\":{\"bgcolor\":\"white\",\"lakecolor\":\"white\",\"landcolor\":\"#E5ECF6\",\"showlakes\":true,\"showland\":true,\"subunitcolor\":\"white\"},\"hoverlabel\":{\"align\":\"left\"},\"hovermode\":\"closest\",\"mapbox\":{\"style\":\"light\"},\"paper_bgcolor\":\"white\",\"plot_bgcolor\":\"#E5ECF6\",\"polar\":{\"angularaxis\":{\"gridcolor\":\"white\",\"linecolor\":\"white\",\"ticks\":\"\"},\"bgcolor\":\"#E5ECF6\",\"radialaxis\":{\"gridcolor\":\"white\",\"linecolor\":\"white\",\"ticks\":\"\"}},\"scene\":{\"xaxis\":{\"backgroundcolor\":\"#E5ECF6\",\"gridcolor\":\"white\",\"gridwidth\":2,\"linecolor\":\"white\",\"showbackground\":true,\"ticks\":\"\",\"zerolinecolor\":\"white\"},\"yaxis\":{\"backgroundcolor\":\"#E5ECF6\",\"gridcolor\":\"white\",\"gridwidth\":2,\"linecolor\":\"white\",\"showbackground\":true,\"ticks\":\"\",\"zerolinecolor\":\"white\"},\"zaxis\":{\"backgroundcolor\":\"#E5ECF6\",\"gridcolor\":\"white\",\"gridwidth\":2,\"linecolor\":\"white\",\"showbackground\":true,\"ticks\":\"\",\"zerolinecolor\":\"white\"}},\"shapedefaults\":{\"line\":{\"color\":\"#2a3f5f\"}},\"ternary\":{\"aaxis\":{\"gridcolor\":\"white\",\"linecolor\":\"white\",\"ticks\":\"\"},\"baxis\":{\"gridcolor\":\"white\",\"linecolor\":\"white\",\"ticks\":\"\"},\"bgcolor\":\"#E5ECF6\",\"caxis\":{\"gridcolor\":\"white\",\"linecolor\":\"white\",\"ticks\":\"\"}},\"title\":{\"x\":0.05},\"xaxis\":{\"automargin\":true,\"gridcolor\":\"white\",\"linecolor\":\"white\",\"ticks\":\"\",\"title\":{\"standoff\":15},\"zerolinecolor\":\"white\",\"zerolinewidth\":2},\"yaxis\":{\"automargin\":true,\"gridcolor\":\"white\",\"linecolor\":\"white\",\"ticks\":\"\",\"title\":{\"standoff\":15},\"zerolinecolor\":\"white\",\"zerolinewidth\":2}}},\"title\":{\"text\":\"P\\u00c9RDIDA / GANANCIA GLOBAL DE LA CUBIERTA ARB\\u00d3REA DEL PLANETA EN EL PERIODO 2001-2021\"},\"width\":1200,\"xaxis\":{\"title\":{\"text\":\"Paises\"}},\"yaxis\":{\"title\":{\"text\":\"Hectareas (en millones)\"}}},                        {\"responsive\": true}                    ).then(function(){\n",
              "                            \n",
              "var gd = document.getElementById('8180666e-ccbd-4c5f-8176-5b3ae7dfc722');\n",
              "var x = new MutationObserver(function (mutations, observer) {{\n",
              "        var display = window.getComputedStyle(gd).display;\n",
              "        if (!display || display === 'none') {{\n",
              "            console.log([gd, 'removed!']);\n",
              "            Plotly.purge(gd);\n",
              "            observer.disconnect();\n",
              "        }}\n",
              "}});\n",
              "\n",
              "// Listen for the removal of the full notebook cells\n",
              "var notebookContainer = gd.closest('#notebook-container');\n",
              "if (notebookContainer) {{\n",
              "    x.observe(notebookContainer, {childList: true});\n",
              "}}\n",
              "\n",
              "// Listen for the clearing of the current output cell\n",
              "var outputEl = gd.closest('.output');\n",
              "if (outputEl) {{\n",
              "    x.observe(outputEl, {childList: true});\n",
              "}}\n",
              "\n",
              "                        })                };                });            </script>        </div>"
            ]
          },
          "metadata": {},
          "output_type": "display_data"
        }
      ],
      "source": [
        "import chart_studio.plotly as py\n",
        "import plotly.graph_objects as go\n",
        "\n",
        "\n",
        "trace_loss = go.Bar(x=df_5.name,\n",
        "                  y=df_5.umd_tree_cover_loss__ha,\n",
        "                  name='Perdida',\n",
        "                  marker=dict(color='#242823'))\n",
        "\n",
        "trace_gain = go.Bar(x=df_5.name,\n",
        "                y=df_5.umd_tree_cover_gain__ha,\n",
        "                name='Ganancia',\n",
        "                marker=dict(color='#248519'))\n",
        "\n",
        "# trace_CO2 = go.Bar(x=df_5.name,\n",
        "#                 y=df_5.gfw_gross_emissions_co2e_all_gases__Mg,\n",
        "#                 name='CO2',\n",
        "#                 marker=dict(color='#59606D'))\n",
        "\n",
        "data = [trace_loss, trace_gain]\n",
        "\n",
        "layout = go.Layout(title=\"PÉRDIDA / GANANCIA GLOBAL DE LA CUBIERTA ARBÓREA DEL PLANETA EN EL PERIODO 2001-2021\",\n",
        "                xaxis=dict(title='Paises'),\n",
        "                yaxis=dict(title='Hectareas (en millones)'))\n",
        "\n",
        "fig = go.Figure(data=data, layout=layout)\n",
        "fig.update_layout(width=1200,height=800)\n",
        "iplot(fig,filename='jupyter-styled_bar')"
      ]
    },
    {
      "cell_type": "code",
      "execution_count": null,
      "metadata": {},
      "outputs": [],
      "source": [
        "plt.plot(x, np.sin(x), '-g', label='sin(x)')\n",
        "plt.plot(x, np.cos(x), ':b', label='cos(x)')\n",
        "plt.plot(x, np.cos(x), ':b', label='cos(x)')\n",
        "plt.axis('equal')\n"
      ]
    },
    {
      "cell_type": "code",
      "execution_count": null,
      "metadata": {},
      "outputs": [],
      "source": [
        "fig, ax = plt.subplots(2, 3)\n",
        "ax[1, 1].plot(x, np.sin(x))\n",
        "print(ax)\n",
        "for axx in ax.reshape(-1):\n",
        "    # print(axx)\n",
        "    axx.set_ylabel(\"Hola\")\n",
        "    axx.set_title(\"Matrix\")\n",
        "    axx.set_xlabel(\"x label\")\n",
        "\n",
        "fig.tight_layout()"
      ]
    },
    {
      "cell_type": "code",
      "execution_count": 109,
      "metadata": {},
      "outputs": [
        {
          "data": {
            "text/html": [
              "<div>\n",
              "<style scoped>\n",
              "    .dataframe tbody tr th:only-of-type {\n",
              "        vertical-align: middle;\n",
              "    }\n",
              "\n",
              "    .dataframe tbody tr th {\n",
              "        vertical-align: top;\n",
              "    }\n",
              "\n",
              "    .dataframe thead th {\n",
              "        text-align: right;\n",
              "    }\n",
              "</style>\n",
              "<table border=\"1\" class=\"dataframe\">\n",
              "  <thead>\n",
              "    <tr style=\"text-align: right;\">\n",
              "      <th></th>\n",
              "      <th>umd_tree_cover_loss__ha</th>\n",
              "      <th>gfw_gross_emissions_co2e_all_gases__Mg</th>\n",
              "    </tr>\n",
              "    <tr>\n",
              "      <th>umd_tree_cover_loss__year</th>\n",
              "      <th></th>\n",
              "      <th></th>\n",
              "    </tr>\n",
              "  </thead>\n",
              "  <tbody>\n",
              "    <tr>\n",
              "      <th>2001</th>\n",
              "      <td>13,353,470.98</td>\n",
              "      <td>4,675,979,303.48</td>\n",
              "    </tr>\n",
              "    <tr>\n",
              "      <th>2002</th>\n",
              "      <td>16,451,699.13</td>\n",
              "      <td>5,548,247,381.46</td>\n",
              "    </tr>\n",
              "    <tr>\n",
              "      <th>2003</th>\n",
              "      <td>14,474,225.19</td>\n",
              "      <td>4,729,094,912.00</td>\n",
              "    </tr>\n",
              "    <tr>\n",
              "      <th>2004</th>\n",
              "      <td>19,906,841.41</td>\n",
              "      <td>7,112,687,798.84</td>\n",
              "    </tr>\n",
              "    <tr>\n",
              "      <th>2005</th>\n",
              "      <td>18,096,758.71</td>\n",
              "      <td>6,925,547,296.93</td>\n",
              "    </tr>\n",
              "    <tr>\n",
              "      <th>2006</th>\n",
              "      <td>17,647,644.49</td>\n",
              "      <td>6,734,466,901.38</td>\n",
              "    </tr>\n",
              "    <tr>\n",
              "      <th>2007</th>\n",
              "      <td>18,386,094.26</td>\n",
              "      <td>7,205,695,319.68</td>\n",
              "    </tr>\n",
              "    <tr>\n",
              "      <th>2008</th>\n",
              "      <td>18,608,818.64</td>\n",
              "      <td>7,147,232,590.92</td>\n",
              "    </tr>\n",
              "    <tr>\n",
              "      <th>2009</th>\n",
              "      <td>16,983,539.11</td>\n",
              "      <td>7,226,128,492.98</td>\n",
              "    </tr>\n",
              "    <tr>\n",
              "      <th>2010</th>\n",
              "      <td>18,550,871.82</td>\n",
              "      <td>7,694,978,852.93</td>\n",
              "    </tr>\n",
              "    <tr>\n",
              "      <th>2011</th>\n",
              "      <td>17,577,549.42</td>\n",
              "      <td>7,073,708,544.63</td>\n",
              "    </tr>\n",
              "    <tr>\n",
              "      <th>2012</th>\n",
              "      <td>23,530,832.11</td>\n",
              "      <td>9,394,183,941.13</td>\n",
              "    </tr>\n",
              "    <tr>\n",
              "      <th>2013</th>\n",
              "      <td>20,642,249.06</td>\n",
              "      <td>7,797,454,617.79</td>\n",
              "    </tr>\n",
              "    <tr>\n",
              "      <th>2014</th>\n",
              "      <td>23,731,655.05</td>\n",
              "      <td>9,706,147,334.08</td>\n",
              "    </tr>\n",
              "    <tr>\n",
              "      <th>2015</th>\n",
              "      <td>19,621,386.99</td>\n",
              "      <td>8,152,711,995.73</td>\n",
              "    </tr>\n",
              "    <tr>\n",
              "      <th>2016</th>\n",
              "      <td>29,671,469.59</td>\n",
              "      <td>13,139,487,238.78</td>\n",
              "    </tr>\n",
              "    <tr>\n",
              "      <th>2017</th>\n",
              "      <td>29,375,436.20</td>\n",
              "      <td>12,645,564,343.59</td>\n",
              "    </tr>\n",
              "    <tr>\n",
              "      <th>2018</th>\n",
              "      <td>24,747,926.74</td>\n",
              "      <td>10,479,341,177.51</td>\n",
              "    </tr>\n",
              "    <tr>\n",
              "      <th>2019</th>\n",
              "      <td>24,172,783.56</td>\n",
              "      <td>10,062,452,862.24</td>\n",
              "    </tr>\n",
              "    <tr>\n",
              "      <th>2020</th>\n",
              "      <td>25,802,875.93</td>\n",
              "      <td>10,733,739,450.07</td>\n",
              "    </tr>\n",
              "    <tr>\n",
              "      <th>2021</th>\n",
              "      <td>25,272,387.33</td>\n",
              "      <td>10,094,571,036.26</td>\n",
              "    </tr>\n",
              "  </tbody>\n",
              "</table>\n",
              "</div>"
            ],
            "text/plain": [
              "                           umd_tree_cover_loss__ha  \\\n",
              "umd_tree_cover_loss__year                            \n",
              "2001                                 13,353,470.98   \n",
              "2002                                 16,451,699.13   \n",
              "2003                                 14,474,225.19   \n",
              "2004                                 19,906,841.41   \n",
              "2005                                 18,096,758.71   \n",
              "2006                                 17,647,644.49   \n",
              "2007                                 18,386,094.26   \n",
              "2008                                 18,608,818.64   \n",
              "2009                                 16,983,539.11   \n",
              "2010                                 18,550,871.82   \n",
              "2011                                 17,577,549.42   \n",
              "2012                                 23,530,832.11   \n",
              "2013                                 20,642,249.06   \n",
              "2014                                 23,731,655.05   \n",
              "2015                                 19,621,386.99   \n",
              "2016                                 29,671,469.59   \n",
              "2017                                 29,375,436.20   \n",
              "2018                                 24,747,926.74   \n",
              "2019                                 24,172,783.56   \n",
              "2020                                 25,802,875.93   \n",
              "2021                                 25,272,387.33   \n",
              "\n",
              "                           gfw_gross_emissions_co2e_all_gases__Mg  \n",
              "umd_tree_cover_loss__year                                          \n",
              "2001                                             4,675,979,303.48  \n",
              "2002                                             5,548,247,381.46  \n",
              "2003                                             4,729,094,912.00  \n",
              "2004                                             7,112,687,798.84  \n",
              "2005                                             6,925,547,296.93  \n",
              "2006                                             6,734,466,901.38  \n",
              "2007                                             7,205,695,319.68  \n",
              "2008                                             7,147,232,590.92  \n",
              "2009                                             7,226,128,492.98  \n",
              "2010                                             7,694,978,852.93  \n",
              "2011                                             7,073,708,544.63  \n",
              "2012                                             9,394,183,941.13  \n",
              "2013                                             7,797,454,617.79  \n",
              "2014                                             9,706,147,334.08  \n",
              "2015                                             8,152,711,995.73  \n",
              "2016                                            13,139,487,238.78  \n",
              "2017                                            12,645,564,343.59  \n",
              "2018                                            10,479,341,177.51  \n",
              "2019                                            10,062,452,862.24  \n",
              "2020                                            10,733,739,450.07  \n",
              "2021                                            10,094,571,036.26  "
            ]
          },
          "execution_count": 109,
          "metadata": {},
          "output_type": "execute_result"
        }
      ],
      "source": [
        "df_3e"
      ]
    },
    {
      "cell_type": "code",
      "execution_count": 49,
      "metadata": {},
      "outputs": [
        {
          "data": {
            "text/html": [
              "<div>\n",
              "<style scoped>\n",
              "    .dataframe tbody tr th:only-of-type {\n",
              "        vertical-align: middle;\n",
              "    }\n",
              "\n",
              "    .dataframe tbody tr th {\n",
              "        vertical-align: top;\n",
              "    }\n",
              "\n",
              "    .dataframe thead th {\n",
              "        text-align: right;\n",
              "    }\n",
              "</style>\n",
              "<table border=\"1\" class=\"dataframe\">\n",
              "  <thead>\n",
              "    <tr style=\"text-align: right;\">\n",
              "      <th></th>\n",
              "      <th>iso</th>\n",
              "      <th>umd_tree_cover_loss__year</th>\n",
              "      <th>umd_tree_cover_loss__ha</th>\n",
              "      <th>gfw_gross_emissions_co2e_all_gases__Mg</th>\n",
              "      <th>name</th>\n",
              "    </tr>\n",
              "  </thead>\n",
              "  <tbody>\n",
              "    <tr>\n",
              "      <th>508</th>\n",
              "      <td>BRA</td>\n",
              "      <td>2001</td>\n",
              "      <td>2,746,361.56</td>\n",
              "      <td>1,182,558,365.31</td>\n",
              "      <td>Brazil</td>\n",
              "    </tr>\n",
              "    <tr>\n",
              "      <th>509</th>\n",
              "      <td>BRA</td>\n",
              "      <td>2002</td>\n",
              "      <td>3,507,049.44</td>\n",
              "      <td>1,616,647,815.92</td>\n",
              "      <td>Brazil</td>\n",
              "    </tr>\n",
              "    <tr>\n",
              "      <th>510</th>\n",
              "      <td>BRA</td>\n",
              "      <td>2003</td>\n",
              "      <td>3,248,526.73</td>\n",
              "      <td>1,483,181,868.32</td>\n",
              "      <td>Brazil</td>\n",
              "    </tr>\n",
              "    <tr>\n",
              "      <th>511</th>\n",
              "      <td>BRA</td>\n",
              "      <td>2004</td>\n",
              "      <td>3,848,770.79</td>\n",
              "      <td>1,890,358,742.87</td>\n",
              "      <td>Brazil</td>\n",
              "    </tr>\n",
              "    <tr>\n",
              "      <th>512</th>\n",
              "      <td>BRA</td>\n",
              "      <td>2005</td>\n",
              "      <td>3,486,562.71</td>\n",
              "      <td>1,821,021,696.04</td>\n",
              "      <td>Brazil</td>\n",
              "    </tr>\n",
              "    <tr>\n",
              "      <th>513</th>\n",
              "      <td>BRA</td>\n",
              "      <td>2006</td>\n",
              "      <td>2,876,804.75</td>\n",
              "      <td>1,463,579,652.78</td>\n",
              "      <td>Brazil</td>\n",
              "    </tr>\n",
              "    <tr>\n",
              "      <th>514</th>\n",
              "      <td>BRA</td>\n",
              "      <td>2007</td>\n",
              "      <td>2,621,820.18</td>\n",
              "      <td>1,281,855,515.47</td>\n",
              "      <td>Brazil</td>\n",
              "    </tr>\n",
              "    <tr>\n",
              "      <th>515</th>\n",
              "      <td>BRA</td>\n",
              "      <td>2008</td>\n",
              "      <td>2,444,308.04</td>\n",
              "      <td>1,244,706,808.84</td>\n",
              "      <td>Brazil</td>\n",
              "    </tr>\n",
              "    <tr>\n",
              "      <th>516</th>\n",
              "      <td>BRA</td>\n",
              "      <td>2009</td>\n",
              "      <td>1,817,901.23</td>\n",
              "      <td>940,965,886.23</td>\n",
              "      <td>Brazil</td>\n",
              "    </tr>\n",
              "    <tr>\n",
              "      <th>517</th>\n",
              "      <td>BRA</td>\n",
              "      <td>2010</td>\n",
              "      <td>2,688,896.18</td>\n",
              "      <td>1,386,980,184.95</td>\n",
              "      <td>Brazil</td>\n",
              "    </tr>\n",
              "    <tr>\n",
              "      <th>518</th>\n",
              "      <td>BRA</td>\n",
              "      <td>2011</td>\n",
              "      <td>1,923,363.69</td>\n",
              "      <td>1,030,131,170.20</td>\n",
              "      <td>Brazil</td>\n",
              "    </tr>\n",
              "    <tr>\n",
              "      <th>519</th>\n",
              "      <td>BRA</td>\n",
              "      <td>2012</td>\n",
              "      <td>2,918,633.14</td>\n",
              "      <td>1,508,323,095.76</td>\n",
              "      <td>Brazil</td>\n",
              "    </tr>\n",
              "    <tr>\n",
              "      <th>520</th>\n",
              "      <td>BRA</td>\n",
              "      <td>2013</td>\n",
              "      <td>1,945,506.25</td>\n",
              "      <td>1,017,187,612.98</td>\n",
              "      <td>Brazil</td>\n",
              "    </tr>\n",
              "    <tr>\n",
              "      <th>521</th>\n",
              "      <td>BRA</td>\n",
              "      <td>2014</td>\n",
              "      <td>2,693,134.30</td>\n",
              "      <td>1,468,039,821.96</td>\n",
              "      <td>Brazil</td>\n",
              "    </tr>\n",
              "    <tr>\n",
              "      <th>522</th>\n",
              "      <td>BRA</td>\n",
              "      <td>2015</td>\n",
              "      <td>2,222,772.42</td>\n",
              "      <td>1,312,104,719.01</td>\n",
              "      <td>Brazil</td>\n",
              "    </tr>\n",
              "    <tr>\n",
              "      <th>523</th>\n",
              "      <td>BRA</td>\n",
              "      <td>2016</td>\n",
              "      <td>5,378,844.03</td>\n",
              "      <td>3,203,364,018.69</td>\n",
              "      <td>Brazil</td>\n",
              "    </tr>\n",
              "    <tr>\n",
              "      <th>524</th>\n",
              "      <td>BRA</td>\n",
              "      <td>2017</td>\n",
              "      <td>4,519,833.17</td>\n",
              "      <td>2,622,777,845.80</td>\n",
              "      <td>Brazil</td>\n",
              "    </tr>\n",
              "    <tr>\n",
              "      <th>525</th>\n",
              "      <td>BRA</td>\n",
              "      <td>2018</td>\n",
              "      <td>2,948,462.08</td>\n",
              "      <td>1,783,794,931.66</td>\n",
              "      <td>Brazil</td>\n",
              "    </tr>\n",
              "    <tr>\n",
              "      <th>526</th>\n",
              "      <td>BRA</td>\n",
              "      <td>2019</td>\n",
              "      <td>2,696,748.80</td>\n",
              "      <td>1,612,075,541.49</td>\n",
              "      <td>Brazil</td>\n",
              "    </tr>\n",
              "    <tr>\n",
              "      <th>527</th>\n",
              "      <td>BRA</td>\n",
              "      <td>2020</td>\n",
              "      <td>3,291,391.79</td>\n",
              "      <td>1,897,473,673.68</td>\n",
              "      <td>Brazil</td>\n",
              "    </tr>\n",
              "    <tr>\n",
              "      <th>528</th>\n",
              "      <td>BRA</td>\n",
              "      <td>2021</td>\n",
              "      <td>2,991,909.31</td>\n",
              "      <td>1,880,308,897.73</td>\n",
              "      <td>Brazil</td>\n",
              "    </tr>\n",
              "  </tbody>\n",
              "</table>\n",
              "</div>"
            ],
            "text/plain": [
              "     iso  umd_tree_cover_loss__year  umd_tree_cover_loss__ha  \\\n",
              "508  BRA                       2001             2,746,361.56   \n",
              "509  BRA                       2002             3,507,049.44   \n",
              "510  BRA                       2003             3,248,526.73   \n",
              "511  BRA                       2004             3,848,770.79   \n",
              "512  BRA                       2005             3,486,562.71   \n",
              "513  BRA                       2006             2,876,804.75   \n",
              "514  BRA                       2007             2,621,820.18   \n",
              "515  BRA                       2008             2,444,308.04   \n",
              "516  BRA                       2009             1,817,901.23   \n",
              "517  BRA                       2010             2,688,896.18   \n",
              "518  BRA                       2011             1,923,363.69   \n",
              "519  BRA                       2012             2,918,633.14   \n",
              "520  BRA                       2013             1,945,506.25   \n",
              "521  BRA                       2014             2,693,134.30   \n",
              "522  BRA                       2015             2,222,772.42   \n",
              "523  BRA                       2016             5,378,844.03   \n",
              "524  BRA                       2017             4,519,833.17   \n",
              "525  BRA                       2018             2,948,462.08   \n",
              "526  BRA                       2019             2,696,748.80   \n",
              "527  BRA                       2020             3,291,391.79   \n",
              "528  BRA                       2021             2,991,909.31   \n",
              "\n",
              "     gfw_gross_emissions_co2e_all_gases__Mg    name  \n",
              "508                        1,182,558,365.31  Brazil  \n",
              "509                        1,616,647,815.92  Brazil  \n",
              "510                        1,483,181,868.32  Brazil  \n",
              "511                        1,890,358,742.87  Brazil  \n",
              "512                        1,821,021,696.04  Brazil  \n",
              "513                        1,463,579,652.78  Brazil  \n",
              "514                        1,281,855,515.47  Brazil  \n",
              "515                        1,244,706,808.84  Brazil  \n",
              "516                          940,965,886.23  Brazil  \n",
              "517                        1,386,980,184.95  Brazil  \n",
              "518                        1,030,131,170.20  Brazil  \n",
              "519                        1,508,323,095.76  Brazil  \n",
              "520                        1,017,187,612.98  Brazil  \n",
              "521                        1,468,039,821.96  Brazil  \n",
              "522                        1,312,104,719.01  Brazil  \n",
              "523                        3,203,364,018.69  Brazil  \n",
              "524                        2,622,777,845.80  Brazil  \n",
              "525                        1,783,794,931.66  Brazil  \n",
              "526                        1,612,075,541.49  Brazil  \n",
              "527                        1,897,473,673.68  Brazil  \n",
              "528                        1,880,308,897.73  Brazil  "
            ]
          },
          "execution_count": 49,
          "metadata": {},
          "output_type": "execute_result"
        }
      ],
      "source": [
        "seleccion1"
      ]
    },
    {
      "cell_type": "code",
      "execution_count": null,
      "metadata": {},
      "outputs": [
        {
          "data": {
            "text/html": [
              "<div>\n",
              "<style scoped>\n",
              "    .dataframe tbody tr th:only-of-type {\n",
              "        vertical-align: middle;\n",
              "    }\n",
              "\n",
              "    .dataframe tbody tr th {\n",
              "        vertical-align: top;\n",
              "    }\n",
              "\n",
              "    .dataframe thead th {\n",
              "        text-align: right;\n",
              "    }\n",
              "</style>\n",
              "<table border=\"1\" class=\"dataframe\">\n",
              "  <thead>\n",
              "    <tr style=\"text-align: right;\">\n",
              "      <th></th>\n",
              "      <th>name</th>\n",
              "      <th>umd_tree_cover_gain__ha</th>\n",
              "      <th>umd_tree_cover_loss__ha</th>\n",
              "      <th>gfw_gross_emissions_co2e_all_gases__Mg</th>\n",
              "    </tr>\n",
              "  </thead>\n",
              "  <tbody>\n",
              "    <tr>\n",
              "      <th>0</th>\n",
              "      <td>Russia</td>\n",
              "      <td>37,220,539.18</td>\n",
              "      <td>76,008,406.22</td>\n",
              "      <td>14,165,283.93</td>\n",
              "    </tr>\n",
              "    <tr>\n",
              "      <th>1</th>\n",
              "      <td>Canada</td>\n",
              "      <td>16,961,758.32</td>\n",
              "      <td>46,611,435.11</td>\n",
              "      <td>8,604,371.23</td>\n",
              "    </tr>\n",
              "    <tr>\n",
              "      <th>2</th>\n",
              "      <td>United States</td>\n",
              "      <td>13,986,699.79</td>\n",
              "      <td>44,279,415.98</td>\n",
              "      <td>17,177,629.27</td>\n",
              "    </tr>\n",
              "    <tr>\n",
              "      <th>3</th>\n",
              "      <td>Brazil</td>\n",
              "      <td>8,062,335.57</td>\n",
              "      <td>62,817,600.58</td>\n",
              "      <td>33,647,437.87</td>\n",
              "    </tr>\n",
              "    <tr>\n",
              "      <th>4</th>\n",
              "      <td>China</td>\n",
              "      <td>6,689,625.94</td>\n",
              "      <td>10,875,223.29</td>\n",
              "      <td>4,626,201.46</td>\n",
              "    </tr>\n",
              "    <tr>\n",
              "      <th>5</th>\n",
              "      <td>Indonesia</td>\n",
              "      <td>4,882,137.56</td>\n",
              "      <td>28,562,386.82</td>\n",
              "      <td>19,556,043.52</td>\n",
              "    </tr>\n",
              "    <tr>\n",
              "      <th>6</th>\n",
              "      <td>India</td>\n",
              "      <td>1,881,688.64</td>\n",
              "      <td>2,066,015.30</td>\n",
              "      <td>1,010,262.42</td>\n",
              "    </tr>\n",
              "    <tr>\n",
              "      <th>7</th>\n",
              "      <td>Thailand</td>\n",
              "      <td>1,842,370.58</td>\n",
              "      <td>2,297,702.71</td>\n",
              "      <td>1,267,686.25</td>\n",
              "    </tr>\n",
              "    <tr>\n",
              "      <th>8</th>\n",
              "      <td>Sweden</td>\n",
              "      <td>1,671,285.36</td>\n",
              "      <td>5,167,696.86</td>\n",
              "      <td>1,261,465.92</td>\n",
              "    </tr>\n",
              "    <tr>\n",
              "      <th>9</th>\n",
              "      <td>Australia</td>\n",
              "      <td>1,600,600.19</td>\n",
              "      <td>8,727,950.16</td>\n",
              "      <td>2,342,022.59</td>\n",
              "    </tr>\n",
              "    <tr>\n",
              "      <th>10</th>\n",
              "      <td>Democratic Republic of the Congo</td>\n",
              "      <td>1,591,178.54</td>\n",
              "      <td>17,145,176.21</td>\n",
              "      <td>10,535,878.14</td>\n",
              "    </tr>\n",
              "    <tr>\n",
              "      <th>11</th>\n",
              "      <td>Mexico</td>\n",
              "      <td>1,423,107.45</td>\n",
              "      <td>4,481,513.78</td>\n",
              "      <td>1,769,894.08</td>\n",
              "    </tr>\n",
              "    <tr>\n",
              "      <th>12</th>\n",
              "      <td>Finland</td>\n",
              "      <td>1,357,021.84</td>\n",
              "      <td>4,123,755.75</td>\n",
              "      <td>868,506.99</td>\n",
              "    </tr>\n",
              "    <tr>\n",
              "      <th>13</th>\n",
              "      <td>Angola</td>\n",
              "      <td>1,224,126.47</td>\n",
              "      <td>3,412,033.14</td>\n",
              "      <td>1,165,006.63</td>\n",
              "    </tr>\n",
              "    <tr>\n",
              "      <th>14</th>\n",
              "      <td>Argentina</td>\n",
              "      <td>1,107,734.58</td>\n",
              "      <td>6,317,526.33</td>\n",
              "      <td>1,484,959.88</td>\n",
              "    </tr>\n",
              "    <tr>\n",
              "      <th>15</th>\n",
              "      <td>Colombia</td>\n",
              "      <td>1,085,199.37</td>\n",
              "      <td>4,928,410.93</td>\n",
              "      <td>2,749,508.26</td>\n",
              "    </tr>\n",
              "    <tr>\n",
              "      <th>16</th>\n",
              "      <td>South Sudan</td>\n",
              "      <td>1,078,584.03</td>\n",
              "      <td>127,877.58</td>\n",
              "      <td>38,457.81</td>\n",
              "    </tr>\n",
              "    <tr>\n",
              "      <th>17</th>\n",
              "      <td>Malaysia</td>\n",
              "      <td>1,004,944.63</td>\n",
              "      <td>8,669,490.89</td>\n",
              "      <td>4,972,405.68</td>\n",
              "    </tr>\n",
              "    <tr>\n",
              "      <th>18</th>\n",
              "      <td>Vietnam</td>\n",
              "      <td>1,004,758.63</td>\n",
              "      <td>3,258,130.25</td>\n",
              "      <td>2,177,642.70</td>\n",
              "    </tr>\n",
              "    <tr>\n",
              "      <th>19</th>\n",
              "      <td>Belarus</td>\n",
              "      <td>963,615.70</td>\n",
              "      <td>977,498.66</td>\n",
              "      <td>347,704.63</td>\n",
              "    </tr>\n",
              "  </tbody>\n",
              "</table>\n",
              "</div>"
            ],
            "text/plain": [
              "                                name  umd_tree_cover_gain__ha  \\\n",
              "0                             Russia            37,220,539.18   \n",
              "1                             Canada            16,961,758.32   \n",
              "2                      United States            13,986,699.79   \n",
              "3                             Brazil             8,062,335.57   \n",
              "4                              China             6,689,625.94   \n",
              "5                          Indonesia             4,882,137.56   \n",
              "6                              India             1,881,688.64   \n",
              "7                           Thailand             1,842,370.58   \n",
              "8                             Sweden             1,671,285.36   \n",
              "9                          Australia             1,600,600.19   \n",
              "10  Democratic Republic of the Congo             1,591,178.54   \n",
              "11                            Mexico             1,423,107.45   \n",
              "12                           Finland             1,357,021.84   \n",
              "13                            Angola             1,224,126.47   \n",
              "14                         Argentina             1,107,734.58   \n",
              "15                          Colombia             1,085,199.37   \n",
              "16                       South Sudan             1,078,584.03   \n",
              "17                          Malaysia             1,004,944.63   \n",
              "18                           Vietnam             1,004,758.63   \n",
              "19                           Belarus               963,615.70   \n",
              "\n",
              "    umd_tree_cover_loss__ha  gfw_gross_emissions_co2e_all_gases__Mg  \n",
              "0             76,008,406.22                           14,165,283.93  \n",
              "1             46,611,435.11                            8,604,371.23  \n",
              "2             44,279,415.98                           17,177,629.27  \n",
              "3             62,817,600.58                           33,647,437.87  \n",
              "4             10,875,223.29                            4,626,201.46  \n",
              "5             28,562,386.82                           19,556,043.52  \n",
              "6              2,066,015.30                            1,010,262.42  \n",
              "7              2,297,702.71                            1,267,686.25  \n",
              "8              5,167,696.86                            1,261,465.92  \n",
              "9              8,727,950.16                            2,342,022.59  \n",
              "10            17,145,176.21                           10,535,878.14  \n",
              "11             4,481,513.78                            1,769,894.08  \n",
              "12             4,123,755.75                              868,506.99  \n",
              "13             3,412,033.14                            1,165,006.63  \n",
              "14             6,317,526.33                            1,484,959.88  \n",
              "15             4,928,410.93                            2,749,508.26  \n",
              "16               127,877.58                               38,457.81  \n",
              "17             8,669,490.89                            4,972,405.68  \n",
              "18             3,258,130.25                            2,177,642.70  \n",
              "19               977,498.66                              347,704.63  "
            ]
          },
          "execution_count": 190,
          "metadata": {},
          "output_type": "execute_result"
        }
      ],
      "source": [
        "df_6"
      ]
    },
    {
      "cell_type": "markdown",
      "metadata": {},
      "source": []
    },
    {
      "cell_type": "code",
      "execution_count": 45,
      "metadata": {},
      "outputs": [
        {
          "data": {
            "image/png": "[encoded data removed]",
            "text/plain": [
              "<Figure size 1000x800 with 1 Axes>"
            ]
          },
          "metadata": {},
          "output_type": "display_data"
        }
      ],
      "source": [
        "df_7=df_6.copy()\n",
        "df_7=df_7.loc[:9]\n",
        "df_7=df_7.set_index('name')\n",
        "plt.figure(figsize=(10,8))\n",
        "plt.pie(df_7.gfw_gross_emissions_co2e_all_gases__Mg,\n",
        "        labels=df_7.index,\n",
        "        autopct='%1.2f%%')\n",
        "plt.title(\"Emisiones de CO2 por paises\\n\" + \"periodo 2001-2021\", bbox={'facecolor':'0.8', 'pad':5})\n",
        "\n",
        "\n",
        "p=plt.gcf();"
      ]
    },
    {
      "cell_type": "code",
      "execution_count": 242,
      "metadata": {},
      "outputs": [
        {
          "data": {
            "text/html": [
              "<div>\n",
              "<style scoped>\n",
              "    .dataframe tbody tr th:only-of-type {\n",
              "        vertical-align: middle;\n",
              "    }\n",
              "\n",
              "    .dataframe tbody tr th {\n",
              "        vertical-align: top;\n",
              "    }\n",
              "\n",
              "    .dataframe thead th {\n",
              "        text-align: right;\n",
              "    }\n",
              "</style>\n",
              "<table border=\"1\" class=\"dataframe\">\n",
              "  <thead>\n",
              "    <tr style=\"text-align: right;\">\n",
              "      <th></th>\n",
              "      <th>name</th>\n",
              "      <th>umd_tree_cover_gain__ha</th>\n",
              "      <th>umd_tree_cover_loss__ha</th>\n",
              "      <th>gfw_gross_emissions_co2e_all_gases__Mg</th>\n",
              "    </tr>\n",
              "  </thead>\n",
              "  <tbody>\n",
              "    <tr>\n",
              "      <th>3</th>\n",
              "      <td>Brazil</td>\n",
              "      <td>8,062,335.57</td>\n",
              "      <td>62,817,600.58</td>\n",
              "      <td>33,647,437.87</td>\n",
              "    </tr>\n",
              "    <tr>\n",
              "      <th>5</th>\n",
              "      <td>Indonesia</td>\n",
              "      <td>4,882,137.56</td>\n",
              "      <td>28,562,386.82</td>\n",
              "      <td>19,556,043.52</td>\n",
              "    </tr>\n",
              "    <tr>\n",
              "      <th>2</th>\n",
              "      <td>United States</td>\n",
              "      <td>13,986,699.79</td>\n",
              "      <td>44,279,415.98</td>\n",
              "      <td>17,177,629.27</td>\n",
              "    </tr>\n",
              "    <tr>\n",
              "      <th>0</th>\n",
              "      <td>Russia</td>\n",
              "      <td>37,220,539.18</td>\n",
              "      <td>76,008,406.22</td>\n",
              "      <td>14,165,283.93</td>\n",
              "    </tr>\n",
              "    <tr>\n",
              "      <th>10</th>\n",
              "      <td>Democratic Republic of the Congo</td>\n",
              "      <td>1,591,178.54</td>\n",
              "      <td>17,145,176.21</td>\n",
              "      <td>10,535,878.14</td>\n",
              "    </tr>\n",
              "    <tr>\n",
              "      <th>1</th>\n",
              "      <td>Canada</td>\n",
              "      <td>16,961,758.32</td>\n",
              "      <td>46,611,435.11</td>\n",
              "      <td>8,604,371.23</td>\n",
              "    </tr>\n",
              "    <tr>\n",
              "      <th>17</th>\n",
              "      <td>Malaysia</td>\n",
              "      <td>1,004,944.63</td>\n",
              "      <td>8,669,490.89</td>\n",
              "      <td>4,972,405.68</td>\n",
              "    </tr>\n",
              "    <tr>\n",
              "      <th>4</th>\n",
              "      <td>China</td>\n",
              "      <td>6,689,625.94</td>\n",
              "      <td>10,875,223.29</td>\n",
              "      <td>4,626,201.46</td>\n",
              "    </tr>\n",
              "    <tr>\n",
              "      <th>15</th>\n",
              "      <td>Colombia</td>\n",
              "      <td>1,085,199.37</td>\n",
              "      <td>4,928,410.93</td>\n",
              "      <td>2,749,508.26</td>\n",
              "    </tr>\n",
              "    <tr>\n",
              "      <th>9</th>\n",
              "      <td>Australia</td>\n",
              "      <td>1,600,600.19</td>\n",
              "      <td>8,727,950.16</td>\n",
              "      <td>2,342,022.59</td>\n",
              "    </tr>\n",
              "    <tr>\n",
              "      <th>18</th>\n",
              "      <td>Vietnam</td>\n",
              "      <td>1,004,758.63</td>\n",
              "      <td>3,258,130.25</td>\n",
              "      <td>2,177,642.70</td>\n",
              "    </tr>\n",
              "    <tr>\n",
              "      <th>11</th>\n",
              "      <td>Mexico</td>\n",
              "      <td>1,423,107.45</td>\n",
              "      <td>4,481,513.78</td>\n",
              "      <td>1,769,894.08</td>\n",
              "    </tr>\n",
              "    <tr>\n",
              "      <th>14</th>\n",
              "      <td>Argentina</td>\n",
              "      <td>1,107,734.58</td>\n",
              "      <td>6,317,526.33</td>\n",
              "      <td>1,484,959.88</td>\n",
              "    </tr>\n",
              "    <tr>\n",
              "      <th>7</th>\n",
              "      <td>Thailand</td>\n",
              "      <td>1,842,370.58</td>\n",
              "      <td>2,297,702.71</td>\n",
              "      <td>1,267,686.25</td>\n",
              "    </tr>\n",
              "    <tr>\n",
              "      <th>8</th>\n",
              "      <td>Sweden</td>\n",
              "      <td>1,671,285.36</td>\n",
              "      <td>5,167,696.86</td>\n",
              "      <td>1,261,465.92</td>\n",
              "    </tr>\n",
              "    <tr>\n",
              "      <th>13</th>\n",
              "      <td>Angola</td>\n",
              "      <td>1,224,126.47</td>\n",
              "      <td>3,412,033.14</td>\n",
              "      <td>1,165,006.63</td>\n",
              "    </tr>\n",
              "    <tr>\n",
              "      <th>6</th>\n",
              "      <td>India</td>\n",
              "      <td>1,881,688.64</td>\n",
              "      <td>2,066,015.30</td>\n",
              "      <td>1,010,262.42</td>\n",
              "    </tr>\n",
              "    <tr>\n",
              "      <th>12</th>\n",
              "      <td>Finland</td>\n",
              "      <td>1,357,021.84</td>\n",
              "      <td>4,123,755.75</td>\n",
              "      <td>868,506.99</td>\n",
              "    </tr>\n",
              "    <tr>\n",
              "      <th>19</th>\n",
              "      <td>Belarus</td>\n",
              "      <td>963,615.70</td>\n",
              "      <td>977,498.66</td>\n",
              "      <td>347,704.63</td>\n",
              "    </tr>\n",
              "    <tr>\n",
              "      <th>16</th>\n",
              "      <td>South Sudan</td>\n",
              "      <td>1,078,584.03</td>\n",
              "      <td>127,877.58</td>\n",
              "      <td>38,457.81</td>\n",
              "    </tr>\n",
              "  </tbody>\n",
              "</table>\n",
              "</div>"
            ],
            "text/plain": [
              "                                name  umd_tree_cover_gain__ha  \\\n",
              "3                             Brazil             8,062,335.57   \n",
              "5                          Indonesia             4,882,137.56   \n",
              "2                      United States            13,986,699.79   \n",
              "0                             Russia            37,220,539.18   \n",
              "10  Democratic Republic of the Congo             1,591,178.54   \n",
              "1                             Canada            16,961,758.32   \n",
              "17                          Malaysia             1,004,944.63   \n",
              "4                              China             6,689,625.94   \n",
              "15                          Colombia             1,085,199.37   \n",
              "9                          Australia             1,600,600.19   \n",
              "18                           Vietnam             1,004,758.63   \n",
              "11                            Mexico             1,423,107.45   \n",
              "14                         Argentina             1,107,734.58   \n",
              "7                           Thailand             1,842,370.58   \n",
              "8                             Sweden             1,671,285.36   \n",
              "13                            Angola             1,224,126.47   \n",
              "6                              India             1,881,688.64   \n",
              "12                           Finland             1,357,021.84   \n",
              "19                           Belarus               963,615.70   \n",
              "16                       South Sudan             1,078,584.03   \n",
              "\n",
              "    umd_tree_cover_loss__ha  gfw_gross_emissions_co2e_all_gases__Mg  \n",
              "3             62,817,600.58                           33,647,437.87  \n",
              "5             28,562,386.82                           19,556,043.52  \n",
              "2             44,279,415.98                           17,177,629.27  \n",
              "0             76,008,406.22                           14,165,283.93  \n",
              "10            17,145,176.21                           10,535,878.14  \n",
              "1             46,611,435.11                            8,604,371.23  \n",
              "17             8,669,490.89                            4,972,405.68  \n",
              "4             10,875,223.29                            4,626,201.46  \n",
              "15             4,928,410.93                            2,749,508.26  \n",
              "9              8,727,950.16                            2,342,022.59  \n",
              "18             3,258,130.25                            2,177,642.70  \n",
              "11             4,481,513.78                            1,769,894.08  \n",
              "14             6,317,526.33                            1,484,959.88  \n",
              "7              2,297,702.71                            1,267,686.25  \n",
              "8              5,167,696.86                            1,261,465.92  \n",
              "13             3,412,033.14                            1,165,006.63  \n",
              "6              2,066,015.30                            1,010,262.42  \n",
              "12             4,123,755.75                              868,506.99  \n",
              "19               977,498.66                              347,704.63  \n",
              "16               127,877.58                               38,457.81  "
            ]
          },
          "execution_count": 242,
          "metadata": {},
          "output_type": "execute_result"
        }
      ],
      "source": [
        "df_7=df_6.sort_values(by='gfw_gross_emissions_co2e_all_gases__Mg', ascending=False)\n",
        "df_7"
      ]
    },
    {
      "cell_type": "code",
      "execution_count": null,
      "metadata": {},
      "outputs": [],
      "source": []
    }
  ],
  "metadata": {
    "colab": {
      "name": "1-Definicion_EDA.ipynb",
      "provenance": []
    },
    "kernelspec": {
      "display_name": "Python 3.7.4 64-bit",
      "language": "python",
      "name": "python3"
    },
    "language_info": {
      "codemirror_mode": {
        "name": "ipython",
        "version": 3
      },
      "file_extension": ".py",
      "mimetype": "text/x-python",
      "name": "python",
      "nbconvert_exporter": "python",
      "pygments_lexer": "ipython3",
      "version": "3.7.4"
    },
    "orig_nbformat": 4,
    "vscode": {
      "interpreter": {
        "hash": "0fb254b22584d4dadf5c129f1fcaee00e0477c453ba46ce68957b1edcd5f7b81"
      }
    }
  },
  "nbformat": 4,
  "nbformat_minor": 0
}
